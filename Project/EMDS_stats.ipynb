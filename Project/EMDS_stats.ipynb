{
  "nbformat": 4,
  "nbformat_minor": 0,
  "metadata": {
    "colab": {
      "name": "EMDS_stats.ipynb",
      "version": "0.3.2",
      "provenance": [],
      "collapsed_sections": []
    },
    "kernelspec": {
      "name": "python3",
      "display_name": "Python 3"
    },
    "accelerator": "GPU"
  },
  "cells": [
    {
      "metadata": {
        "id": "mAsKKY5XsMdl",
        "colab_type": "text"
      },
      "cell_type": "markdown",
      "source": [
        "# Step 1. Import Data"
      ]
    },
    {
      "metadata": {
        "id": "wsWKPuxNsIjn",
        "colab_type": "code",
        "colab": {
          "base_uri": "https://localhost:8080/",
          "height": 122
        },
        "outputId": "d5de9895-323b-4fdf-ef02-62395f0d2bc8"
      },
      "cell_type": "code",
      "source": [
        "import numpy as np\n",
        "import nltk\n",
        "import pandas as pd\n",
        "\n",
        "from google.colab import drive\n",
        "drive.mount('/content/gdrive')"
      ],
      "execution_count": 1,
      "outputs": [
        {
          "output_type": "stream",
          "text": [
            "Go to this URL in a browser: https://accounts.google.com/o/oauth2/auth?client_id=947318989803-6bn6qk8qdgf4n4g3pfee6491hc0brc4i.apps.googleusercontent.com&redirect_uri=urn%3Aietf%3Awg%3Aoauth%3A2.0%3Aoob&scope=email%20https%3A%2F%2Fwww.googleapis.com%2Fauth%2Fdocs.test%20https%3A%2F%2Fwww.googleapis.com%2Fauth%2Fdrive%20https%3A%2F%2Fwww.googleapis.com%2Fauth%2Fdrive.photos.readonly%20https%3A%2F%2Fwww.googleapis.com%2Fauth%2Fpeopleapi.readonly&response_type=code\n",
            "\n",
            "Enter your authorization code:\n",
            "··········\n",
            "Mounted at /content/gdrive\n"
          ],
          "name": "stdout"
        }
      ]
    },
    {
      "metadata": {
        "id": "1UZPqU5lHMjh",
        "colab_type": "text"
      },
      "cell_type": "markdown",
      "source": [
        "### metadata from movie_titles_metadata"
      ]
    },
    {
      "metadata": {
        "id": "Bgbn547G3CQX",
        "colab_type": "code",
        "colab": {
          "base_uri": "https://localhost:8080/",
          "height": 462
        },
        "outputId": "6194d1e7-5a7a-49a4-e4ee-bf7f70772595"
      },
      "cell_type": "code",
      "source": [
        "# import movie_titles_metadata\n",
        "metadata = pd.read_csv('/content/gdrive/My Drive/EMDS/cornell-movie-dialogs-corpus-new-seperator/movie_titles_metadata.txt', sep='|', header=None, names=[\"movie_id\",\"movie_title\",\"release_year\",\"avg_rating\",\"num_votes\",\"genres\"], encoding = \"ISO-8859-1\")\n",
        "metadata.head()"
      ],
      "execution_count": 2,
      "outputs": [
        {
          "output_type": "execute_result",
          "data": {
            "text/html": [
              "<div>\n",
              "<style scoped>\n",
              "    .dataframe tbody tr th:only-of-type {\n",
              "        vertical-align: middle;\n",
              "    }\n",
              "\n",
              "    .dataframe tbody tr th {\n",
              "        vertical-align: top;\n",
              "    }\n",
              "\n",
              "    .dataframe thead th {\n",
              "        text-align: right;\n",
              "    }\n",
              "</style>\n",
              "<table border=\"1\" class=\"dataframe\">\n",
              "  <thead>\n",
              "    <tr style=\"text-align: right;\">\n",
              "      <th></th>\n",
              "      <th>movie_id</th>\n",
              "      <th>movie_title</th>\n",
              "      <th>release_year</th>\n",
              "      <th>avg_rating</th>\n",
              "      <th>num_votes</th>\n",
              "      <th>genres</th>\n",
              "    </tr>\n",
              "  </thead>\n",
              "  <tbody>\n",
              "    <tr>\n",
              "      <th>0</th>\n",
              "      <td>m0</td>\n",
              "      <td>10 things i hate about you</td>\n",
              "      <td>1999</td>\n",
              "      <td>6.9</td>\n",
              "      <td>62847</td>\n",
              "      <td>['comedy', 'romance']</td>\n",
              "    </tr>\n",
              "    <tr>\n",
              "      <th>1</th>\n",
              "      <td>m1</td>\n",
              "      <td>1492: conquest of paradise</td>\n",
              "      <td>1992</td>\n",
              "      <td>6.2</td>\n",
              "      <td>10421</td>\n",
              "      <td>['adventure', 'biography', 'drama', 'history']</td>\n",
              "    </tr>\n",
              "    <tr>\n",
              "      <th>2</th>\n",
              "      <td>m2</td>\n",
              "      <td>15 minutes</td>\n",
              "      <td>2001</td>\n",
              "      <td>6.1</td>\n",
              "      <td>25854</td>\n",
              "      <td>['action', 'crime', 'drama', 'thriller']</td>\n",
              "    </tr>\n",
              "    <tr>\n",
              "      <th>3</th>\n",
              "      <td>m3</td>\n",
              "      <td>2001: a space odyssey</td>\n",
              "      <td>1968</td>\n",
              "      <td>8.4</td>\n",
              "      <td>163227</td>\n",
              "      <td>['adventure', 'mystery', 'sci-fi']</td>\n",
              "    </tr>\n",
              "    <tr>\n",
              "      <th>4</th>\n",
              "      <td>m4</td>\n",
              "      <td>48 hrs.</td>\n",
              "      <td>1982</td>\n",
              "      <td>6.9</td>\n",
              "      <td>22289</td>\n",
              "      <td>['action', 'comedy', 'crime', 'drama', 'thrill...</td>\n",
              "    </tr>\n",
              "  </tbody>\n",
              "</table>\n",
              "</div>"
            ],
            "text/plain": [
              "  movie_id                 movie_title  release_year  avg_rating  num_votes  \\\n",
              "0       m0  10 things i hate about you          1999         6.9      62847   \n",
              "1       m1  1492: conquest of paradise          1992         6.2      10421   \n",
              "2       m2                  15 minutes          2001         6.1      25854   \n",
              "3       m3       2001: a space odyssey          1968         8.4     163227   \n",
              "4       m4                     48 hrs.          1982         6.9      22289   \n",
              "\n",
              "                                              genres  \n",
              "0                              ['comedy', 'romance']  \n",
              "1     ['adventure', 'biography', 'drama', 'history']  \n",
              "2           ['action', 'crime', 'drama', 'thriller']  \n",
              "3                 ['adventure', 'mystery', 'sci-fi']  \n",
              "4  ['action', 'comedy', 'crime', 'drama', 'thrill...  "
            ]
          },
          "metadata": {
            "tags": []
          },
          "execution_count": 2
        }
      ]
    },
    {
      "metadata": {
        "id": "vic8FubRHQmP",
        "colab_type": "text"
      },
      "cell_type": "markdown",
      "source": [
        "### characters from movie_characters_metadata"
      ]
    },
    {
      "metadata": {
        "id": "u0OOuFvm3WDe",
        "colab_type": "code",
        "colab": {
          "base_uri": "https://localhost:8080/",
          "height": 204
        },
        "outputId": "d13362aa-c5cb-40ac-b4ad-2693c5902208"
      },
      "cell_type": "code",
      "source": [
        "# import movie_characters_metadata\n",
        "characters = pd.read_csv('/content/gdrive/My Drive/EMDS/cornell-movie-dialogs-corpus-new-seperator/movie_characters_metadata.txt',sep='|', header=None, names=[\"character_id\",\"character_name\",\"movie_id\",\"movie_title\",\"gender\",\"position_in_credits\"],encoding = \"ISO-8859-1\")\n",
        "characters.head()"
      ],
      "execution_count": 3,
      "outputs": [
        {
          "output_type": "execute_result",
          "data": {
            "text/html": [
              "<div>\n",
              "<style scoped>\n",
              "    .dataframe tbody tr th:only-of-type {\n",
              "        vertical-align: middle;\n",
              "    }\n",
              "\n",
              "    .dataframe tbody tr th {\n",
              "        vertical-align: top;\n",
              "    }\n",
              "\n",
              "    .dataframe thead th {\n",
              "        text-align: right;\n",
              "    }\n",
              "</style>\n",
              "<table border=\"1\" class=\"dataframe\">\n",
              "  <thead>\n",
              "    <tr style=\"text-align: right;\">\n",
              "      <th></th>\n",
              "      <th>character_id</th>\n",
              "      <th>character_name</th>\n",
              "      <th>movie_id</th>\n",
              "      <th>movie_title</th>\n",
              "      <th>gender</th>\n",
              "      <th>position_in_credits</th>\n",
              "    </tr>\n",
              "  </thead>\n",
              "  <tbody>\n",
              "    <tr>\n",
              "      <th>0</th>\n",
              "      <td>u0</td>\n",
              "      <td>BIANCA</td>\n",
              "      <td>m0</td>\n",
              "      <td>10 things i hate about you</td>\n",
              "      <td>f</td>\n",
              "      <td>4</td>\n",
              "    </tr>\n",
              "    <tr>\n",
              "      <th>1</th>\n",
              "      <td>u1</td>\n",
              "      <td>BRUCE</td>\n",
              "      <td>m0</td>\n",
              "      <td>10 things i hate about you</td>\n",
              "      <td>?</td>\n",
              "      <td>?</td>\n",
              "    </tr>\n",
              "    <tr>\n",
              "      <th>2</th>\n",
              "      <td>u2</td>\n",
              "      <td>CAMERON</td>\n",
              "      <td>m0</td>\n",
              "      <td>10 things i hate about you</td>\n",
              "      <td>m</td>\n",
              "      <td>3</td>\n",
              "    </tr>\n",
              "    <tr>\n",
              "      <th>3</th>\n",
              "      <td>u3</td>\n",
              "      <td>CHASTITY</td>\n",
              "      <td>m0</td>\n",
              "      <td>10 things i hate about you</td>\n",
              "      <td>?</td>\n",
              "      <td>?</td>\n",
              "    </tr>\n",
              "    <tr>\n",
              "      <th>4</th>\n",
              "      <td>u4</td>\n",
              "      <td>JOEY</td>\n",
              "      <td>m0</td>\n",
              "      <td>10 things i hate about you</td>\n",
              "      <td>m</td>\n",
              "      <td>6</td>\n",
              "    </tr>\n",
              "  </tbody>\n",
              "</table>\n",
              "</div>"
            ],
            "text/plain": [
              "  character_id character_name movie_id                 movie_title gender  \\\n",
              "0           u0         BIANCA       m0  10 things i hate about you      f   \n",
              "1           u1          BRUCE       m0  10 things i hate about you      ?   \n",
              "2           u2        CAMERON       m0  10 things i hate about you      m   \n",
              "3           u3       CHASTITY       m0  10 things i hate about you      ?   \n",
              "4           u4           JOEY       m0  10 things i hate about you      m   \n",
              "\n",
              "  position_in_credits  \n",
              "0                   4  \n",
              "1                   ?  \n",
              "2                   3  \n",
              "3                   ?  \n",
              "4                   6  "
            ]
          },
          "metadata": {
            "tags": []
          },
          "execution_count": 3
        }
      ]
    },
    {
      "metadata": {
        "id": "whkeMz24HcBM",
        "colab_type": "text"
      },
      "cell_type": "markdown",
      "source": [
        "### lines from movie_lines"
      ]
    },
    {
      "metadata": {
        "id": "ebLq2vy345nE",
        "colab_type": "code",
        "colab": {
          "base_uri": "https://localhost:8080/",
          "height": 525
        },
        "outputId": "84a66f72-3e88-4413-bd48-3d7bd2fe537d"
      },
      "cell_type": "code",
      "source": [
        "#import movie_lines\n",
        "lines = pd.read_excel('/content/gdrive/My Drive/EMDS/cornell-movie-dialogs-corpus-new-seperator/liwc_results_movie_line.xlsx')\n",
        "lines.head()"
      ],
      "execution_count": 4,
      "outputs": [
        {
          "output_type": "execute_result",
          "data": {
            "text/html": [
              "<div>\n",
              "<style scoped>\n",
              "    .dataframe tbody tr th:only-of-type {\n",
              "        vertical-align: middle;\n",
              "    }\n",
              "\n",
              "    .dataframe tbody tr th {\n",
              "        vertical-align: top;\n",
              "    }\n",
              "\n",
              "    .dataframe thead th {\n",
              "        text-align: right;\n",
              "    }\n",
              "</style>\n",
              "<table border=\"1\" class=\"dataframe\">\n",
              "  <thead>\n",
              "    <tr style=\"text-align: right;\">\n",
              "      <th></th>\n",
              "      <th>line_id</th>\n",
              "      <th>user_id</th>\n",
              "      <th>movie_id</th>\n",
              "      <th>characher_name</th>\n",
              "      <th>line_text</th>\n",
              "      <th>WC</th>\n",
              "      <th>Analytic</th>\n",
              "      <th>Clout</th>\n",
              "      <th>Authentic</th>\n",
              "      <th>Tone</th>\n",
              "      <th>...</th>\n",
              "      <th>Comma</th>\n",
              "      <th>Colon</th>\n",
              "      <th>SemiC</th>\n",
              "      <th>QMark</th>\n",
              "      <th>Exclam</th>\n",
              "      <th>Dash</th>\n",
              "      <th>Quote</th>\n",
              "      <th>Apostro</th>\n",
              "      <th>Parenth</th>\n",
              "      <th>OtherP</th>\n",
              "    </tr>\n",
              "  </thead>\n",
              "  <tbody>\n",
              "    <tr>\n",
              "      <th>0</th>\n",
              "      <td>L229891</td>\n",
              "      <td>u1036</td>\n",
              "      <td>m68</td>\n",
              "      <td>ALEXANDER</td>\n",
              "      <td>By Grabthar's Hammer, this is true. 159 NT. L...</td>\n",
              "      <td>13</td>\n",
              "      <td>42.69</td>\n",
              "      <td>50.00</td>\n",
              "      <td>63.54</td>\n",
              "      <td>99.00</td>\n",
              "      <td>...</td>\n",
              "      <td>7.69</td>\n",
              "      <td>0.0</td>\n",
              "      <td>0.0</td>\n",
              "      <td>0.00</td>\n",
              "      <td>0.0</td>\n",
              "      <td>15.38</td>\n",
              "      <td>0.0</td>\n",
              "      <td>7.69</td>\n",
              "      <td>0.0</td>\n",
              "      <td>0.0</td>\n",
              "    </tr>\n",
              "    <tr>\n",
              "      <th>1</th>\n",
              "      <td>L1000</td>\n",
              "      <td>u11</td>\n",
              "      <td>m0</td>\n",
              "      <td>WALTER</td>\n",
              "      <td>Oh, Christ.  Don't tell me you've changed you...</td>\n",
              "      <td>15</td>\n",
              "      <td>3.09</td>\n",
              "      <td>97.69</td>\n",
              "      <td>98.01</td>\n",
              "      <td>25.77</td>\n",
              "      <td>...</td>\n",
              "      <td>6.67</td>\n",
              "      <td>0.0</td>\n",
              "      <td>0.0</td>\n",
              "      <td>0.00</td>\n",
              "      <td>0.0</td>\n",
              "      <td>0.00</td>\n",
              "      <td>0.0</td>\n",
              "      <td>20.00</td>\n",
              "      <td>0.0</td>\n",
              "      <td>0.0</td>\n",
              "    </tr>\n",
              "    <tr>\n",
              "      <th>2</th>\n",
              "      <td>L10000</td>\n",
              "      <td>u3525</td>\n",
              "      <td>m232</td>\n",
              "      <td>LINDSEY</td>\n",
              "      <td>Oh... chamber runs.  Uh huh, that's good.  We...</td>\n",
              "      <td>14</td>\n",
              "      <td>28.22</td>\n",
              "      <td>99.00</td>\n",
              "      <td>13.15</td>\n",
              "      <td>99.00</td>\n",
              "      <td>...</td>\n",
              "      <td>14.29</td>\n",
              "      <td>0.0</td>\n",
              "      <td>0.0</td>\n",
              "      <td>7.14</td>\n",
              "      <td>0.0</td>\n",
              "      <td>0.00</td>\n",
              "      <td>0.0</td>\n",
              "      <td>7.14</td>\n",
              "      <td>0.0</td>\n",
              "      <td>0.0</td>\n",
              "    </tr>\n",
              "    <tr>\n",
              "      <th>3</th>\n",
              "      <td>L100000</td>\n",
              "      <td>u4168</td>\n",
              "      <td>m278</td>\n",
              "      <td>JOANNE</td>\n",
              "      <td>No.</td>\n",
              "      <td>1</td>\n",
              "      <td>1.00</td>\n",
              "      <td>1.00</td>\n",
              "      <td>1.00</td>\n",
              "      <td>25.77</td>\n",
              "      <td>...</td>\n",
              "      <td>0.00</td>\n",
              "      <td>0.0</td>\n",
              "      <td>0.0</td>\n",
              "      <td>0.00</td>\n",
              "      <td>0.0</td>\n",
              "      <td>0.00</td>\n",
              "      <td>0.0</td>\n",
              "      <td>0.00</td>\n",
              "      <td>0.0</td>\n",
              "      <td>0.0</td>\n",
              "    </tr>\n",
              "    <tr>\n",
              "      <th>4</th>\n",
              "      <td>L100001</td>\n",
              "      <td>u4166</td>\n",
              "      <td>m278</td>\n",
              "      <td>DULANEY</td>\n",
              "      <td>Then why did you go see Mr. Koehler in the fi...</td>\n",
              "      <td>12</td>\n",
              "      <td>60.80</td>\n",
              "      <td>95.20</td>\n",
              "      <td>99.00</td>\n",
              "      <td>25.77</td>\n",
              "      <td>...</td>\n",
              "      <td>0.00</td>\n",
              "      <td>0.0</td>\n",
              "      <td>0.0</td>\n",
              "      <td>8.33</td>\n",
              "      <td>0.0</td>\n",
              "      <td>0.00</td>\n",
              "      <td>0.0</td>\n",
              "      <td>0.00</td>\n",
              "      <td>0.0</td>\n",
              "      <td>0.0</td>\n",
              "    </tr>\n",
              "  </tbody>\n",
              "</table>\n",
              "<p>5 rows × 98 columns</p>\n",
              "</div>"
            ],
            "text/plain": [
              "     line_id   user_id movie_id characher_name  \\\n",
              "0  L229891     u1036      m68      ALEXANDER     \n",
              "1    L1000       u11       m0         WALTER     \n",
              "2   L10000     u3525     m232        LINDSEY     \n",
              "3  L100000     u4168     m278         JOANNE     \n",
              "4  L100001     u4166     m278        DULANEY     \n",
              "\n",
              "                                           line_text  WC  Analytic  Clout  \\\n",
              "0   By Grabthar's Hammer, this is true. 159 NT. L...  13     42.69  50.00   \n",
              "1   Oh, Christ.  Don't tell me you've changed you...  15      3.09  97.69   \n",
              "2   Oh... chamber runs.  Uh huh, that's good.  We...  14     28.22  99.00   \n",
              "3                                                No.   1      1.00   1.00   \n",
              "4   Then why did you go see Mr. Koehler in the fi...  12     60.80  95.20   \n",
              "\n",
              "   Authentic   Tone  ...  Comma  Colon  SemiC  QMark  Exclam   Dash  Quote  \\\n",
              "0      63.54  99.00  ...   7.69    0.0    0.0   0.00     0.0  15.38    0.0   \n",
              "1      98.01  25.77  ...   6.67    0.0    0.0   0.00     0.0   0.00    0.0   \n",
              "2      13.15  99.00  ...  14.29    0.0    0.0   7.14     0.0   0.00    0.0   \n",
              "3       1.00  25.77  ...   0.00    0.0    0.0   0.00     0.0   0.00    0.0   \n",
              "4      99.00  25.77  ...   0.00    0.0    0.0   8.33     0.0   0.00    0.0   \n",
              "\n",
              "   Apostro  Parenth  OtherP  \n",
              "0     7.69      0.0     0.0  \n",
              "1    20.00      0.0     0.0  \n",
              "2     7.14      0.0     0.0  \n",
              "3     0.00      0.0     0.0  \n",
              "4     0.00      0.0     0.0  \n",
              "\n",
              "[5 rows x 98 columns]"
            ]
          },
          "metadata": {
            "tags": []
          },
          "execution_count": 4
        }
      ]
    },
    {
      "metadata": {
        "id": "4EzRF47alRYI",
        "colab_type": "code",
        "colab": {
          "base_uri": "https://localhost:8080/",
          "height": 204
        },
        "outputId": "0849269c-235f-4ceb-a90b-46ddd591037b"
      },
      "cell_type": "code",
      "source": [
        "lines = lines.loc[:,:'line_text']\n",
        "lines = lines.rename(columns={\"user_id\":\"character_id\"})\n",
        "lines.head()"
      ],
      "execution_count": 5,
      "outputs": [
        {
          "output_type": "execute_result",
          "data": {
            "text/html": [
              "<div>\n",
              "<style scoped>\n",
              "    .dataframe tbody tr th:only-of-type {\n",
              "        vertical-align: middle;\n",
              "    }\n",
              "\n",
              "    .dataframe tbody tr th {\n",
              "        vertical-align: top;\n",
              "    }\n",
              "\n",
              "    .dataframe thead th {\n",
              "        text-align: right;\n",
              "    }\n",
              "</style>\n",
              "<table border=\"1\" class=\"dataframe\">\n",
              "  <thead>\n",
              "    <tr style=\"text-align: right;\">\n",
              "      <th></th>\n",
              "      <th>line_id</th>\n",
              "      <th>character_id</th>\n",
              "      <th>movie_id</th>\n",
              "      <th>characher_name</th>\n",
              "      <th>line_text</th>\n",
              "    </tr>\n",
              "  </thead>\n",
              "  <tbody>\n",
              "    <tr>\n",
              "      <th>0</th>\n",
              "      <td>L229891</td>\n",
              "      <td>u1036</td>\n",
              "      <td>m68</td>\n",
              "      <td>ALEXANDER</td>\n",
              "      <td>By Grabthar's Hammer, this is true. 159 NT. L...</td>\n",
              "    </tr>\n",
              "    <tr>\n",
              "      <th>1</th>\n",
              "      <td>L1000</td>\n",
              "      <td>u11</td>\n",
              "      <td>m0</td>\n",
              "      <td>WALTER</td>\n",
              "      <td>Oh, Christ.  Don't tell me you've changed you...</td>\n",
              "    </tr>\n",
              "    <tr>\n",
              "      <th>2</th>\n",
              "      <td>L10000</td>\n",
              "      <td>u3525</td>\n",
              "      <td>m232</td>\n",
              "      <td>LINDSEY</td>\n",
              "      <td>Oh... chamber runs.  Uh huh, that's good.  We...</td>\n",
              "    </tr>\n",
              "    <tr>\n",
              "      <th>3</th>\n",
              "      <td>L100000</td>\n",
              "      <td>u4168</td>\n",
              "      <td>m278</td>\n",
              "      <td>JOANNE</td>\n",
              "      <td>No.</td>\n",
              "    </tr>\n",
              "    <tr>\n",
              "      <th>4</th>\n",
              "      <td>L100001</td>\n",
              "      <td>u4166</td>\n",
              "      <td>m278</td>\n",
              "      <td>DULANEY</td>\n",
              "      <td>Then why did you go see Mr. Koehler in the fi...</td>\n",
              "    </tr>\n",
              "  </tbody>\n",
              "</table>\n",
              "</div>"
            ],
            "text/plain": [
              "     line_id character_id movie_id characher_name  \\\n",
              "0  L229891        u1036      m68      ALEXANDER     \n",
              "1    L1000          u11       m0         WALTER     \n",
              "2   L10000        u3525     m232        LINDSEY     \n",
              "3  L100000        u4168     m278         JOANNE     \n",
              "4  L100001        u4166     m278        DULANEY     \n",
              "\n",
              "                                           line_text  \n",
              "0   By Grabthar's Hammer, this is true. 159 NT. L...  \n",
              "1   Oh, Christ.  Don't tell me you've changed you...  \n",
              "2   Oh... chamber runs.  Uh huh, that's good.  We...  \n",
              "3                                                No.  \n",
              "4   Then why did you go see Mr. Koehler in the fi...  "
            ]
          },
          "metadata": {
            "tags": []
          },
          "execution_count": 5
        }
      ]
    },
    {
      "metadata": {
        "id": "Pn2ksx63mm2E",
        "colab_type": "code",
        "colab": {
          "base_uri": "https://localhost:8080/",
          "height": 204
        },
        "outputId": "87394175-e708-449a-ed8c-311af6265e55"
      },
      "cell_type": "code",
      "source": [
        "lines['line_id'] = lines['line_id'].str.strip()\n",
        "lines['character_id'] = lines['character_id'].str.strip()\n",
        "lines['movie_id'] = lines['movie_id'].str.strip()\n",
        "lines.head()"
      ],
      "execution_count": 6,
      "outputs": [
        {
          "output_type": "execute_result",
          "data": {
            "text/html": [
              "<div>\n",
              "<style scoped>\n",
              "    .dataframe tbody tr th:only-of-type {\n",
              "        vertical-align: middle;\n",
              "    }\n",
              "\n",
              "    .dataframe tbody tr th {\n",
              "        vertical-align: top;\n",
              "    }\n",
              "\n",
              "    .dataframe thead th {\n",
              "        text-align: right;\n",
              "    }\n",
              "</style>\n",
              "<table border=\"1\" class=\"dataframe\">\n",
              "  <thead>\n",
              "    <tr style=\"text-align: right;\">\n",
              "      <th></th>\n",
              "      <th>line_id</th>\n",
              "      <th>character_id</th>\n",
              "      <th>movie_id</th>\n",
              "      <th>characher_name</th>\n",
              "      <th>line_text</th>\n",
              "    </tr>\n",
              "  </thead>\n",
              "  <tbody>\n",
              "    <tr>\n",
              "      <th>0</th>\n",
              "      <td>L229891</td>\n",
              "      <td>u1036</td>\n",
              "      <td>m68</td>\n",
              "      <td>ALEXANDER</td>\n",
              "      <td>By Grabthar's Hammer, this is true. 159 NT. L...</td>\n",
              "    </tr>\n",
              "    <tr>\n",
              "      <th>1</th>\n",
              "      <td>L1000</td>\n",
              "      <td>u11</td>\n",
              "      <td>m0</td>\n",
              "      <td>WALTER</td>\n",
              "      <td>Oh, Christ.  Don't tell me you've changed you...</td>\n",
              "    </tr>\n",
              "    <tr>\n",
              "      <th>2</th>\n",
              "      <td>L10000</td>\n",
              "      <td>u3525</td>\n",
              "      <td>m232</td>\n",
              "      <td>LINDSEY</td>\n",
              "      <td>Oh... chamber runs.  Uh huh, that's good.  We...</td>\n",
              "    </tr>\n",
              "    <tr>\n",
              "      <th>3</th>\n",
              "      <td>L100000</td>\n",
              "      <td>u4168</td>\n",
              "      <td>m278</td>\n",
              "      <td>JOANNE</td>\n",
              "      <td>No.</td>\n",
              "    </tr>\n",
              "    <tr>\n",
              "      <th>4</th>\n",
              "      <td>L100001</td>\n",
              "      <td>u4166</td>\n",
              "      <td>m278</td>\n",
              "      <td>DULANEY</td>\n",
              "      <td>Then why did you go see Mr. Koehler in the fi...</td>\n",
              "    </tr>\n",
              "  </tbody>\n",
              "</table>\n",
              "</div>"
            ],
            "text/plain": [
              "   line_id character_id movie_id characher_name  \\\n",
              "0  L229891        u1036      m68    ALEXANDER     \n",
              "1    L1000          u11       m0       WALTER     \n",
              "2   L10000        u3525     m232      LINDSEY     \n",
              "3  L100000        u4168     m278       JOANNE     \n",
              "4  L100001        u4166     m278      DULANEY     \n",
              "\n",
              "                                           line_text  \n",
              "0   By Grabthar's Hammer, this is true. 159 NT. L...  \n",
              "1   Oh, Christ.  Don't tell me you've changed you...  \n",
              "2   Oh... chamber runs.  Uh huh, that's good.  We...  \n",
              "3                                                No.  \n",
              "4   Then why did you go see Mr. Koehler in the fi...  "
            ]
          },
          "metadata": {
            "tags": []
          },
          "execution_count": 6
        }
      ]
    },
    {
      "metadata": {
        "id": "ybRkp221HeTW",
        "colab_type": "text"
      },
      "cell_type": "markdown",
      "source": [
        "### conversations from movie_conversations"
      ]
    },
    {
      "metadata": {
        "id": "jerZOTZuh6hY",
        "colab_type": "code",
        "colab": {
          "base_uri": "https://localhost:8080/",
          "height": 204
        },
        "outputId": "4c80a8ef-4b15-4960-bc0a-1d53860f0a5e"
      },
      "cell_type": "code",
      "source": [
        "# import movie_conversations\n",
        "conversations = pd.read_csv('/content/gdrive/My Drive/EMDS/cornell-movie-dialogs-corpus-new-seperator/movie_conversations.txt',sep='|', header=None,names=[\"character_id_first\",\"character_id_second\", \"movie_id\",\"list_of_text\"],encoding = \"ISO-8859-1\")\n",
        "conversations.head()"
      ],
      "execution_count": 7,
      "outputs": [
        {
          "output_type": "execute_result",
          "data": {
            "text/html": [
              "<div>\n",
              "<style scoped>\n",
              "    .dataframe tbody tr th:only-of-type {\n",
              "        vertical-align: middle;\n",
              "    }\n",
              "\n",
              "    .dataframe tbody tr th {\n",
              "        vertical-align: top;\n",
              "    }\n",
              "\n",
              "    .dataframe thead th {\n",
              "        text-align: right;\n",
              "    }\n",
              "</style>\n",
              "<table border=\"1\" class=\"dataframe\">\n",
              "  <thead>\n",
              "    <tr style=\"text-align: right;\">\n",
              "      <th></th>\n",
              "      <th>character_id_first</th>\n",
              "      <th>character_id_second</th>\n",
              "      <th>movie_id</th>\n",
              "      <th>list_of_text</th>\n",
              "    </tr>\n",
              "  </thead>\n",
              "  <tbody>\n",
              "    <tr>\n",
              "      <th>0</th>\n",
              "      <td>u0</td>\n",
              "      <td>u2</td>\n",
              "      <td>m0</td>\n",
              "      <td>['L194', 'L195', 'L196', 'L197']</td>\n",
              "    </tr>\n",
              "    <tr>\n",
              "      <th>1</th>\n",
              "      <td>u0</td>\n",
              "      <td>u2</td>\n",
              "      <td>m0</td>\n",
              "      <td>['L198', 'L199']</td>\n",
              "    </tr>\n",
              "    <tr>\n",
              "      <th>2</th>\n",
              "      <td>u0</td>\n",
              "      <td>u2</td>\n",
              "      <td>m0</td>\n",
              "      <td>['L200', 'L201', 'L202', 'L203']</td>\n",
              "    </tr>\n",
              "    <tr>\n",
              "      <th>3</th>\n",
              "      <td>u0</td>\n",
              "      <td>u2</td>\n",
              "      <td>m0</td>\n",
              "      <td>['L204', 'L205', 'L206']</td>\n",
              "    </tr>\n",
              "    <tr>\n",
              "      <th>4</th>\n",
              "      <td>u0</td>\n",
              "      <td>u2</td>\n",
              "      <td>m0</td>\n",
              "      <td>['L207', 'L208']</td>\n",
              "    </tr>\n",
              "  </tbody>\n",
              "</table>\n",
              "</div>"
            ],
            "text/plain": [
              "  character_id_first character_id_second movie_id  \\\n",
              "0                 u0                  u2       m0   \n",
              "1                 u0                  u2       m0   \n",
              "2                 u0                  u2       m0   \n",
              "3                 u0                  u2       m0   \n",
              "4                 u0                  u2       m0   \n",
              "\n",
              "                       list_of_text  \n",
              "0  ['L194', 'L195', 'L196', 'L197']  \n",
              "1                  ['L198', 'L199']  \n",
              "2  ['L200', 'L201', 'L202', 'L203']  \n",
              "3          ['L204', 'L205', 'L206']  \n",
              "4                  ['L207', 'L208']  "
            ]
          },
          "metadata": {
            "tags": []
          },
          "execution_count": 7
        }
      ]
    },
    {
      "metadata": {
        "id": "oWPtdvZKxwty",
        "colab_type": "text"
      },
      "cell_type": "markdown",
      "source": [
        "# Hypo 2\n",
        "考虑性别差异，genre差异 \n",
        "* 女性在dramatic/romantic里台词更多\n",
        "* 女性在dramatic/romantic里角色更重要\n",
        "\n",
        "方法：\n",
        "* 统计男女性台词(#words, #lines)\n",
        "* 对话中starter vs. respond性别 <br>\n",
        "lead: 台词长度。mentions in other dialogues."
      ]
    },
    {
      "metadata": {
        "id": "jb0-q3xe58Vz",
        "colab_type": "text"
      },
      "cell_type": "markdown",
      "source": [
        "## 2.1. Gender gap in #lines/words"
      ]
    },
    {
      "metadata": {
        "id": "eD1i-SVen9oi",
        "colab_type": "code",
        "colab": {
          "base_uri": "https://localhost:8080/",
          "height": 428
        },
        "outputId": "accbb487-ffa4-4fab-da91-0ad72d5500d9"
      },
      "cell_type": "code",
      "source": [
        "character_line = pd.merge(characters, lines, on='character_id')\n",
        "character_line.head()"
      ],
      "execution_count": 8,
      "outputs": [
        {
          "output_type": "execute_result",
          "data": {
            "text/html": [
              "<div>\n",
              "<style scoped>\n",
              "    .dataframe tbody tr th:only-of-type {\n",
              "        vertical-align: middle;\n",
              "    }\n",
              "\n",
              "    .dataframe tbody tr th {\n",
              "        vertical-align: top;\n",
              "    }\n",
              "\n",
              "    .dataframe thead th {\n",
              "        text-align: right;\n",
              "    }\n",
              "</style>\n",
              "<table border=\"1\" class=\"dataframe\">\n",
              "  <thead>\n",
              "    <tr style=\"text-align: right;\">\n",
              "      <th></th>\n",
              "      <th>character_id</th>\n",
              "      <th>character_name</th>\n",
              "      <th>movie_id_x</th>\n",
              "      <th>movie_title</th>\n",
              "      <th>gender</th>\n",
              "      <th>position_in_credits</th>\n",
              "      <th>line_id</th>\n",
              "      <th>movie_id_y</th>\n",
              "      <th>characher_name</th>\n",
              "      <th>line_text</th>\n",
              "    </tr>\n",
              "  </thead>\n",
              "  <tbody>\n",
              "    <tr>\n",
              "      <th>0</th>\n",
              "      <td>u0</td>\n",
              "      <td>BIANCA</td>\n",
              "      <td>m0</td>\n",
              "      <td>10 things i hate about you</td>\n",
              "      <td>f</td>\n",
              "      <td>4</td>\n",
              "      <td>L1007</td>\n",
              "      <td>m0</td>\n",
              "      <td>BIANCA</td>\n",
              "      <td>Let go!</td>\n",
              "    </tr>\n",
              "    <tr>\n",
              "      <th>1</th>\n",
              "      <td>u0</td>\n",
              "      <td>BIANCA</td>\n",
              "      <td>m0</td>\n",
              "      <td>10 things i hate about you</td>\n",
              "      <td>f</td>\n",
              "      <td>4</td>\n",
              "      <td>L1009</td>\n",
              "      <td>m0</td>\n",
              "      <td>BIANCA</td>\n",
              "      <td>I just wanted --</td>\n",
              "    </tr>\n",
              "    <tr>\n",
              "      <th>2</th>\n",
              "      <td>u0</td>\n",
              "      <td>BIANCA</td>\n",
              "      <td>m0</td>\n",
              "      <td>10 things i hate about you</td>\n",
              "      <td>f</td>\n",
              "      <td>4</td>\n",
              "      <td>L1011</td>\n",
              "      <td>m0</td>\n",
              "      <td>BIANCA</td>\n",
              "      <td>No! I just wanted</td>\n",
              "    </tr>\n",
              "    <tr>\n",
              "      <th>3</th>\n",
              "      <td>u0</td>\n",
              "      <td>BIANCA</td>\n",
              "      <td>m0</td>\n",
              "      <td>10 things i hate about you</td>\n",
              "      <td>f</td>\n",
              "      <td>4</td>\n",
              "      <td>L1021</td>\n",
              "      <td>m0</td>\n",
              "      <td>BIANCA</td>\n",
              "      <td>Is that woman a complete fruit-loop or is it ...</td>\n",
              "    </tr>\n",
              "    <tr>\n",
              "      <th>4</th>\n",
              "      <td>u0</td>\n",
              "      <td>BIANCA</td>\n",
              "      <td>m0</td>\n",
              "      <td>10 things i hate about you</td>\n",
              "      <td>f</td>\n",
              "      <td>4</td>\n",
              "      <td>L1045</td>\n",
              "      <td>m0</td>\n",
              "      <td>BIANCA</td>\n",
              "      <td>They do not!</td>\n",
              "    </tr>\n",
              "  </tbody>\n",
              "</table>\n",
              "</div>"
            ],
            "text/plain": [
              "  character_id character_name movie_id_x                 movie_title gender  \\\n",
              "0           u0         BIANCA         m0  10 things i hate about you      f   \n",
              "1           u0         BIANCA         m0  10 things i hate about you      f   \n",
              "2           u0         BIANCA         m0  10 things i hate about you      f   \n",
              "3           u0         BIANCA         m0  10 things i hate about you      f   \n",
              "4           u0         BIANCA         m0  10 things i hate about you      f   \n",
              "\n",
              "  position_in_credits line_id movie_id_y characher_name  \\\n",
              "0                   4   L1007         m0       BIANCA     \n",
              "1                   4   L1009         m0       BIANCA     \n",
              "2                   4   L1011         m0       BIANCA     \n",
              "3                   4   L1021         m0       BIANCA     \n",
              "4                   4   L1045         m0       BIANCA     \n",
              "\n",
              "                                           line_text  \n",
              "0                                            Let go!  \n",
              "1                                   I just wanted --  \n",
              "2                                  No! I just wanted  \n",
              "3   Is that woman a complete fruit-loop or is it ...  \n",
              "4                                       They do not!  "
            ]
          },
          "metadata": {
            "tags": []
          },
          "execution_count": 8
        }
      ]
    },
    {
      "metadata": {
        "id": "B1yj8odVoeMx",
        "colab_type": "code",
        "colab": {
          "base_uri": "https://localhost:8080/",
          "height": 34
        },
        "outputId": "e4bece3b-4d52-4bf8-fee9-f056e8cccc4c"
      },
      "cell_type": "code",
      "source": [
        "set(character_line.gender)"
      ],
      "execution_count": 9,
      "outputs": [
        {
          "output_type": "execute_result",
          "data": {
            "text/plain": [
              "{'?', 'F', 'M', 'f', 'm'}"
            ]
          },
          "metadata": {
            "tags": []
          },
          "execution_count": 9
        }
      ]
    },
    {
      "metadata": {
        "id": "-cTs22FUoX8r",
        "colab_type": "code",
        "colab": {}
      },
      "cell_type": "code",
      "source": [
        "character_line = character_line[character_line.gender != '?']"
      ],
      "execution_count": 0,
      "outputs": []
    },
    {
      "metadata": {
        "id": "Mwr3Rjb9oiuz",
        "colab_type": "code",
        "colab": {
          "base_uri": "https://localhost:8080/",
          "height": 34
        },
        "outputId": "61768cc8-ed97-4e84-9050-f59f860900b6"
      },
      "cell_type": "code",
      "source": [
        "set(character_line.gender)"
      ],
      "execution_count": 11,
      "outputs": [
        {
          "output_type": "execute_result",
          "data": {
            "text/plain": [
              "{'F', 'M', 'f', 'm'}"
            ]
          },
          "metadata": {
            "tags": []
          },
          "execution_count": 11
        }
      ]
    },
    {
      "metadata": {
        "id": "8TUfPM7SrFTA",
        "colab_type": "code",
        "colab": {
          "base_uri": "https://localhost:8080/",
          "height": 428
        },
        "outputId": "cea7303a-ec25-4389-b76f-8921d6d4f2f0"
      },
      "cell_type": "code",
      "source": [
        "no_words = character_line.line_text.str.split().str.len()\n",
        "character_line['no_words'] = pd.Series(no_words, index = character_line.index)\n",
        "character_line.head()"
      ],
      "execution_count": 12,
      "outputs": [
        {
          "output_type": "execute_result",
          "data": {
            "text/html": [
              "<div>\n",
              "<style scoped>\n",
              "    .dataframe tbody tr th:only-of-type {\n",
              "        vertical-align: middle;\n",
              "    }\n",
              "\n",
              "    .dataframe tbody tr th {\n",
              "        vertical-align: top;\n",
              "    }\n",
              "\n",
              "    .dataframe thead th {\n",
              "        text-align: right;\n",
              "    }\n",
              "</style>\n",
              "<table border=\"1\" class=\"dataframe\">\n",
              "  <thead>\n",
              "    <tr style=\"text-align: right;\">\n",
              "      <th></th>\n",
              "      <th>character_id</th>\n",
              "      <th>character_name</th>\n",
              "      <th>movie_id_x</th>\n",
              "      <th>movie_title</th>\n",
              "      <th>gender</th>\n",
              "      <th>position_in_credits</th>\n",
              "      <th>line_id</th>\n",
              "      <th>movie_id_y</th>\n",
              "      <th>characher_name</th>\n",
              "      <th>line_text</th>\n",
              "      <th>no_words</th>\n",
              "    </tr>\n",
              "  </thead>\n",
              "  <tbody>\n",
              "    <tr>\n",
              "      <th>0</th>\n",
              "      <td>u0</td>\n",
              "      <td>BIANCA</td>\n",
              "      <td>m0</td>\n",
              "      <td>10 things i hate about you</td>\n",
              "      <td>f</td>\n",
              "      <td>4</td>\n",
              "      <td>L1007</td>\n",
              "      <td>m0</td>\n",
              "      <td>BIANCA</td>\n",
              "      <td>Let go!</td>\n",
              "      <td>2</td>\n",
              "    </tr>\n",
              "    <tr>\n",
              "      <th>1</th>\n",
              "      <td>u0</td>\n",
              "      <td>BIANCA</td>\n",
              "      <td>m0</td>\n",
              "      <td>10 things i hate about you</td>\n",
              "      <td>f</td>\n",
              "      <td>4</td>\n",
              "      <td>L1009</td>\n",
              "      <td>m0</td>\n",
              "      <td>BIANCA</td>\n",
              "      <td>I just wanted --</td>\n",
              "      <td>4</td>\n",
              "    </tr>\n",
              "    <tr>\n",
              "      <th>2</th>\n",
              "      <td>u0</td>\n",
              "      <td>BIANCA</td>\n",
              "      <td>m0</td>\n",
              "      <td>10 things i hate about you</td>\n",
              "      <td>f</td>\n",
              "      <td>4</td>\n",
              "      <td>L1011</td>\n",
              "      <td>m0</td>\n",
              "      <td>BIANCA</td>\n",
              "      <td>No! I just wanted</td>\n",
              "      <td>4</td>\n",
              "    </tr>\n",
              "    <tr>\n",
              "      <th>3</th>\n",
              "      <td>u0</td>\n",
              "      <td>BIANCA</td>\n",
              "      <td>m0</td>\n",
              "      <td>10 things i hate about you</td>\n",
              "      <td>f</td>\n",
              "      <td>4</td>\n",
              "      <td>L1021</td>\n",
              "      <td>m0</td>\n",
              "      <td>BIANCA</td>\n",
              "      <td>Is that woman a complete fruit-loop or is it ...</td>\n",
              "      <td>11</td>\n",
              "    </tr>\n",
              "    <tr>\n",
              "      <th>4</th>\n",
              "      <td>u0</td>\n",
              "      <td>BIANCA</td>\n",
              "      <td>m0</td>\n",
              "      <td>10 things i hate about you</td>\n",
              "      <td>f</td>\n",
              "      <td>4</td>\n",
              "      <td>L1045</td>\n",
              "      <td>m0</td>\n",
              "      <td>BIANCA</td>\n",
              "      <td>They do not!</td>\n",
              "      <td>3</td>\n",
              "    </tr>\n",
              "  </tbody>\n",
              "</table>\n",
              "</div>"
            ],
            "text/plain": [
              "  character_id character_name movie_id_x                 movie_title gender  \\\n",
              "0           u0         BIANCA         m0  10 things i hate about you      f   \n",
              "1           u0         BIANCA         m0  10 things i hate about you      f   \n",
              "2           u0         BIANCA         m0  10 things i hate about you      f   \n",
              "3           u0         BIANCA         m0  10 things i hate about you      f   \n",
              "4           u0         BIANCA         m0  10 things i hate about you      f   \n",
              "\n",
              "  position_in_credits line_id movie_id_y characher_name  \\\n",
              "0                   4   L1007         m0       BIANCA     \n",
              "1                   4   L1009         m0       BIANCA     \n",
              "2                   4   L1011         m0       BIANCA     \n",
              "3                   4   L1021         m0       BIANCA     \n",
              "4                   4   L1045         m0       BIANCA     \n",
              "\n",
              "                                           line_text  no_words  \n",
              "0                                            Let go!         2  \n",
              "1                                   I just wanted --         4  \n",
              "2                                  No! I just wanted         4  \n",
              "3   Is that woman a complete fruit-loop or is it ...        11  \n",
              "4                                       They do not!         3  "
            ]
          },
          "metadata": {
            "tags": []
          },
          "execution_count": 12
        }
      ]
    },
    {
      "metadata": {
        "id": "rlfNRDfSoxlp",
        "colab_type": "code",
        "colab": {
          "base_uri": "https://localhost:8080/",
          "height": 357
        },
        "outputId": "cdeecab7-da2d-4833-af44-41dba94e9e5a"
      },
      "cell_type": "code",
      "source": [
        "if character_line.movie_id_x.equals(character_line.movie_id_y):\n",
        "  character_line.drop(columns=['movie_id_x'])\n",
        "  character_line = character_line.rename(columns={\"movie_id_y\":\"movie_id\"})\n",
        "  print(character_line.head())"
      ],
      "execution_count": 13,
      "outputs": [
        {
          "output_type": "stream",
          "text": [
            "  character_id character_name movie_id_x                 movie_title gender  \\\n",
            "0           u0         BIANCA         m0  10 things i hate about you      f   \n",
            "1           u0         BIANCA         m0  10 things i hate about you      f   \n",
            "2           u0         BIANCA         m0  10 things i hate about you      f   \n",
            "3           u0         BIANCA         m0  10 things i hate about you      f   \n",
            "4           u0         BIANCA         m0  10 things i hate about you      f   \n",
            "\n",
            "  position_in_credits line_id movie_id characher_name  \\\n",
            "0                   4   L1007       m0       BIANCA     \n",
            "1                   4   L1009       m0       BIANCA     \n",
            "2                   4   L1011       m0       BIANCA     \n",
            "3                   4   L1021       m0       BIANCA     \n",
            "4                   4   L1045       m0       BIANCA     \n",
            "\n",
            "                                           line_text  no_words  \n",
            "0                                            Let go!         2  \n",
            "1                                   I just wanted --         4  \n",
            "2                                  No! I just wanted         4  \n",
            "3   Is that woman a complete fruit-loop or is it ...        11  \n",
            "4                                       They do not!         3  \n"
          ],
          "name": "stdout"
        }
      ]
    },
    {
      "metadata": {
        "id": "1koIlXWgqVCO",
        "colab_type": "code",
        "colab": {
          "base_uri": "https://localhost:8080/",
          "height": 428
        },
        "outputId": "d9431ce2-a698-45bd-c2dc-b98db95abdaf"
      },
      "cell_type": "code",
      "source": [
        "character_line = character_line.drop(columns='movie_id_x')\n",
        "character_line.head()"
      ],
      "execution_count": 14,
      "outputs": [
        {
          "output_type": "execute_result",
          "data": {
            "text/html": [
              "<div>\n",
              "<style scoped>\n",
              "    .dataframe tbody tr th:only-of-type {\n",
              "        vertical-align: middle;\n",
              "    }\n",
              "\n",
              "    .dataframe tbody tr th {\n",
              "        vertical-align: top;\n",
              "    }\n",
              "\n",
              "    .dataframe thead th {\n",
              "        text-align: right;\n",
              "    }\n",
              "</style>\n",
              "<table border=\"1\" class=\"dataframe\">\n",
              "  <thead>\n",
              "    <tr style=\"text-align: right;\">\n",
              "      <th></th>\n",
              "      <th>character_id</th>\n",
              "      <th>character_name</th>\n",
              "      <th>movie_title</th>\n",
              "      <th>gender</th>\n",
              "      <th>position_in_credits</th>\n",
              "      <th>line_id</th>\n",
              "      <th>movie_id</th>\n",
              "      <th>characher_name</th>\n",
              "      <th>line_text</th>\n",
              "      <th>no_words</th>\n",
              "    </tr>\n",
              "  </thead>\n",
              "  <tbody>\n",
              "    <tr>\n",
              "      <th>0</th>\n",
              "      <td>u0</td>\n",
              "      <td>BIANCA</td>\n",
              "      <td>10 things i hate about you</td>\n",
              "      <td>f</td>\n",
              "      <td>4</td>\n",
              "      <td>L1007</td>\n",
              "      <td>m0</td>\n",
              "      <td>BIANCA</td>\n",
              "      <td>Let go!</td>\n",
              "      <td>2</td>\n",
              "    </tr>\n",
              "    <tr>\n",
              "      <th>1</th>\n",
              "      <td>u0</td>\n",
              "      <td>BIANCA</td>\n",
              "      <td>10 things i hate about you</td>\n",
              "      <td>f</td>\n",
              "      <td>4</td>\n",
              "      <td>L1009</td>\n",
              "      <td>m0</td>\n",
              "      <td>BIANCA</td>\n",
              "      <td>I just wanted --</td>\n",
              "      <td>4</td>\n",
              "    </tr>\n",
              "    <tr>\n",
              "      <th>2</th>\n",
              "      <td>u0</td>\n",
              "      <td>BIANCA</td>\n",
              "      <td>10 things i hate about you</td>\n",
              "      <td>f</td>\n",
              "      <td>4</td>\n",
              "      <td>L1011</td>\n",
              "      <td>m0</td>\n",
              "      <td>BIANCA</td>\n",
              "      <td>No! I just wanted</td>\n",
              "      <td>4</td>\n",
              "    </tr>\n",
              "    <tr>\n",
              "      <th>3</th>\n",
              "      <td>u0</td>\n",
              "      <td>BIANCA</td>\n",
              "      <td>10 things i hate about you</td>\n",
              "      <td>f</td>\n",
              "      <td>4</td>\n",
              "      <td>L1021</td>\n",
              "      <td>m0</td>\n",
              "      <td>BIANCA</td>\n",
              "      <td>Is that woman a complete fruit-loop or is it ...</td>\n",
              "      <td>11</td>\n",
              "    </tr>\n",
              "    <tr>\n",
              "      <th>4</th>\n",
              "      <td>u0</td>\n",
              "      <td>BIANCA</td>\n",
              "      <td>10 things i hate about you</td>\n",
              "      <td>f</td>\n",
              "      <td>4</td>\n",
              "      <td>L1045</td>\n",
              "      <td>m0</td>\n",
              "      <td>BIANCA</td>\n",
              "      <td>They do not!</td>\n",
              "      <td>3</td>\n",
              "    </tr>\n",
              "  </tbody>\n",
              "</table>\n",
              "</div>"
            ],
            "text/plain": [
              "  character_id character_name                 movie_title gender  \\\n",
              "0           u0         BIANCA  10 things i hate about you      f   \n",
              "1           u0         BIANCA  10 things i hate about you      f   \n",
              "2           u0         BIANCA  10 things i hate about you      f   \n",
              "3           u0         BIANCA  10 things i hate about you      f   \n",
              "4           u0         BIANCA  10 things i hate about you      f   \n",
              "\n",
              "  position_in_credits line_id movie_id characher_name  \\\n",
              "0                   4   L1007       m0       BIANCA     \n",
              "1                   4   L1009       m0       BIANCA     \n",
              "2                   4   L1011       m0       BIANCA     \n",
              "3                   4   L1021       m0       BIANCA     \n",
              "4                   4   L1045       m0       BIANCA     \n",
              "\n",
              "                                           line_text  no_words  \n",
              "0                                            Let go!         2  \n",
              "1                                   I just wanted --         4  \n",
              "2                                  No! I just wanted         4  \n",
              "3   Is that woman a complete fruit-loop or is it ...        11  \n",
              "4                                       They do not!         3  "
            ]
          },
          "metadata": {
            "tags": []
          },
          "execution_count": 14
        }
      ]
    },
    {
      "metadata": {
        "id": "dlKh0Z2htDDI",
        "colab_type": "code",
        "colab": {
          "base_uri": "https://localhost:8080/",
          "height": 428
        },
        "outputId": "134d1b45-93cb-4646-e642-fd85594fb7ea"
      },
      "cell_type": "code",
      "source": [
        "movie_character_line = pd.merge(metadata, character_line, on=[\"movie_id\", \"movie_title\"])\n",
        "movie_character_line.head()"
      ],
      "execution_count": 15,
      "outputs": [
        {
          "output_type": "execute_result",
          "data": {
            "text/html": [
              "<div>\n",
              "<style scoped>\n",
              "    .dataframe tbody tr th:only-of-type {\n",
              "        vertical-align: middle;\n",
              "    }\n",
              "\n",
              "    .dataframe tbody tr th {\n",
              "        vertical-align: top;\n",
              "    }\n",
              "\n",
              "    .dataframe thead th {\n",
              "        text-align: right;\n",
              "    }\n",
              "</style>\n",
              "<table border=\"1\" class=\"dataframe\">\n",
              "  <thead>\n",
              "    <tr style=\"text-align: right;\">\n",
              "      <th></th>\n",
              "      <th>movie_id</th>\n",
              "      <th>movie_title</th>\n",
              "      <th>release_year</th>\n",
              "      <th>avg_rating</th>\n",
              "      <th>num_votes</th>\n",
              "      <th>genres</th>\n",
              "      <th>character_id</th>\n",
              "      <th>character_name</th>\n",
              "      <th>gender</th>\n",
              "      <th>position_in_credits</th>\n",
              "      <th>line_id</th>\n",
              "      <th>characher_name</th>\n",
              "      <th>line_text</th>\n",
              "      <th>no_words</th>\n",
              "    </tr>\n",
              "  </thead>\n",
              "  <tbody>\n",
              "    <tr>\n",
              "      <th>0</th>\n",
              "      <td>m0</td>\n",
              "      <td>10 things i hate about you</td>\n",
              "      <td>1999</td>\n",
              "      <td>6.9</td>\n",
              "      <td>62847</td>\n",
              "      <td>['comedy', 'romance']</td>\n",
              "      <td>u0</td>\n",
              "      <td>BIANCA</td>\n",
              "      <td>f</td>\n",
              "      <td>4</td>\n",
              "      <td>L1007</td>\n",
              "      <td>BIANCA</td>\n",
              "      <td>Let go!</td>\n",
              "      <td>2</td>\n",
              "    </tr>\n",
              "    <tr>\n",
              "      <th>1</th>\n",
              "      <td>m0</td>\n",
              "      <td>10 things i hate about you</td>\n",
              "      <td>1999</td>\n",
              "      <td>6.9</td>\n",
              "      <td>62847</td>\n",
              "      <td>['comedy', 'romance']</td>\n",
              "      <td>u0</td>\n",
              "      <td>BIANCA</td>\n",
              "      <td>f</td>\n",
              "      <td>4</td>\n",
              "      <td>L1009</td>\n",
              "      <td>BIANCA</td>\n",
              "      <td>I just wanted --</td>\n",
              "      <td>4</td>\n",
              "    </tr>\n",
              "    <tr>\n",
              "      <th>2</th>\n",
              "      <td>m0</td>\n",
              "      <td>10 things i hate about you</td>\n",
              "      <td>1999</td>\n",
              "      <td>6.9</td>\n",
              "      <td>62847</td>\n",
              "      <td>['comedy', 'romance']</td>\n",
              "      <td>u0</td>\n",
              "      <td>BIANCA</td>\n",
              "      <td>f</td>\n",
              "      <td>4</td>\n",
              "      <td>L1011</td>\n",
              "      <td>BIANCA</td>\n",
              "      <td>No! I just wanted</td>\n",
              "      <td>4</td>\n",
              "    </tr>\n",
              "    <tr>\n",
              "      <th>3</th>\n",
              "      <td>m0</td>\n",
              "      <td>10 things i hate about you</td>\n",
              "      <td>1999</td>\n",
              "      <td>6.9</td>\n",
              "      <td>62847</td>\n",
              "      <td>['comedy', 'romance']</td>\n",
              "      <td>u0</td>\n",
              "      <td>BIANCA</td>\n",
              "      <td>f</td>\n",
              "      <td>4</td>\n",
              "      <td>L1021</td>\n",
              "      <td>BIANCA</td>\n",
              "      <td>Is that woman a complete fruit-loop or is it ...</td>\n",
              "      <td>11</td>\n",
              "    </tr>\n",
              "    <tr>\n",
              "      <th>4</th>\n",
              "      <td>m0</td>\n",
              "      <td>10 things i hate about you</td>\n",
              "      <td>1999</td>\n",
              "      <td>6.9</td>\n",
              "      <td>62847</td>\n",
              "      <td>['comedy', 'romance']</td>\n",
              "      <td>u0</td>\n",
              "      <td>BIANCA</td>\n",
              "      <td>f</td>\n",
              "      <td>4</td>\n",
              "      <td>L1045</td>\n",
              "      <td>BIANCA</td>\n",
              "      <td>They do not!</td>\n",
              "      <td>3</td>\n",
              "    </tr>\n",
              "  </tbody>\n",
              "</table>\n",
              "</div>"
            ],
            "text/plain": [
              "  movie_id                 movie_title  release_year  avg_rating  num_votes  \\\n",
              "0       m0  10 things i hate about you          1999         6.9      62847   \n",
              "1       m0  10 things i hate about you          1999         6.9      62847   \n",
              "2       m0  10 things i hate about you          1999         6.9      62847   \n",
              "3       m0  10 things i hate about you          1999         6.9      62847   \n",
              "4       m0  10 things i hate about you          1999         6.9      62847   \n",
              "\n",
              "                  genres character_id character_name gender  \\\n",
              "0  ['comedy', 'romance']           u0         BIANCA      f   \n",
              "1  ['comedy', 'romance']           u0         BIANCA      f   \n",
              "2  ['comedy', 'romance']           u0         BIANCA      f   \n",
              "3  ['comedy', 'romance']           u0         BIANCA      f   \n",
              "4  ['comedy', 'romance']           u0         BIANCA      f   \n",
              "\n",
              "  position_in_credits line_id characher_name  \\\n",
              "0                   4   L1007       BIANCA     \n",
              "1                   4   L1009       BIANCA     \n",
              "2                   4   L1011       BIANCA     \n",
              "3                   4   L1021       BIANCA     \n",
              "4                   4   L1045       BIANCA     \n",
              "\n",
              "                                           line_text  no_words  \n",
              "0                                            Let go!         2  \n",
              "1                                   I just wanted --         4  \n",
              "2                                  No! I just wanted         4  \n",
              "3   Is that woman a complete fruit-loop or is it ...        11  \n",
              "4                                       They do not!         3  "
            ]
          },
          "metadata": {
            "tags": []
          },
          "execution_count": 15
        }
      ]
    },
    {
      "metadata": {
        "id": "3ojARR_Mv5kb",
        "colab_type": "code",
        "colab": {
          "base_uri": "https://localhost:8080/",
          "height": 54
        },
        "outputId": "54d9e9c9-8027-457b-8cb5-456a0e962cfe"
      },
      "cell_type": "code",
      "source": [
        "import string\n",
        "genres = set()\n",
        "table = str.maketrans({key: None for key in string.punctuation})\n",
        "for i in movie_character_line.genres:\n",
        "  i = i.translate(table)\n",
        "  genres.update(i.split())\n",
        "print(genres)"
      ],
      "execution_count": 16,
      "outputs": [
        {
          "output_type": "stream",
          "text": [
            "{'mystery', 'western', 'comedy', 'fantasy', 'horror', 'musical', 'adult', 'short', 'animation', 'adventure', 'sport', 'drama', 'family', 'history', 'filmnoir', 'biography', 'documentary', 'crime', 'thriller', 'music', 'scifi', 'war', 'romance', 'action'}\n"
          ],
          "name": "stdout"
        }
      ]
    },
    {
      "metadata": {
        "id": "5yxuDGi9uUmW",
        "colab_type": "code",
        "colab": {}
      },
      "cell_type": "code",
      "source": [
        "import re\n",
        "gender_comp_lines = {}\n",
        "gender_comp_words = {}\n",
        "#test = movie_character_line[:100]\n",
        "# In groupby, sort=True by default, so 0 is female, 1 is male.\n",
        "for i in genres:\n",
        "  tmp = movie_character_line.genres.str.contains(i, re.IGNORECASE).groupby(movie_character_line.gender.str.lower()).sum()\n",
        "  if tmp[0] or tmp[1]:\n",
        "    gender_comp_lines[i] = tmp\n",
        "    tmp2 = movie_character_line[movie_character_line.genres.str.contains(i, re.IGNORECASE)].groupby(movie_character_line.gender.str.lower()).sum().no_words\n",
        "    gender_comp_words[i] = tmp2"
      ],
      "execution_count": 0,
      "outputs": []
    },
    {
      "metadata": {
        "id": "PNRLL0Bo1nEQ",
        "colab_type": "code",
        "colab": {
          "base_uri": "https://localhost:8080/",
          "height": 1156
        },
        "outputId": "1fe501a8-123a-4775-d364-bd0055fc68f1"
      },
      "cell_type": "code",
      "source": [
        "gender_comp_lines"
      ],
      "execution_count": 18,
      "outputs": [
        {
          "output_type": "execute_result",
          "data": {
            "text/plain": [
              "{'action': gender\n",
              " f    11406.0\n",
              " m    37521.0\n",
              " Name: genres, dtype: float64, 'adult': gender\n",
              " f    155.0\n",
              " m      0.0\n",
              " Name: genres, dtype: float64, 'adventure': gender\n",
              " f     6643.0\n",
              " m    25589.0\n",
              " Name: genres, dtype: float64, 'animation': gender\n",
              " f     819.0\n",
              " m    3598.0\n",
              " Name: genres, dtype: float64, 'biography': gender\n",
              " f    2211.0\n",
              " m    8858.0\n",
              " Name: genres, dtype: float64, 'comedy': gender\n",
              " f    23816.0\n",
              " m    53695.0\n",
              " Name: genres, dtype: float64, 'crime': gender\n",
              " f    15064.0\n",
              " m    44941.0\n",
              " Name: genres, dtype: float64, 'documentary': gender\n",
              " f    391.0\n",
              " m    608.0\n",
              " Name: genres, dtype: float64, 'drama': gender\n",
              " f     41037.0\n",
              " m    100031.0\n",
              " Name: genres, dtype: float64, 'family': gender\n",
              " f    1607.0\n",
              " m    3181.0\n",
              " Name: genres, dtype: float64, 'fantasy': gender\n",
              " f     6697.0\n",
              " m    16536.0\n",
              " Name: genres, dtype: float64, 'history': gender\n",
              " f     767.0\n",
              " m    4699.0\n",
              " Name: genres, dtype: float64, 'horror': gender\n",
              " f    10838.0\n",
              " m    16197.0\n",
              " Name: genres, dtype: float64, 'music': gender\n",
              " f    1960.0\n",
              " m    6480.0\n",
              " Name: genres, dtype: float64, 'musical': gender\n",
              " f     556.0\n",
              " m    1657.0\n",
              " Name: genres, dtype: float64, 'mystery': gender\n",
              " f    12536.0\n",
              " m    28812.0\n",
              " Name: genres, dtype: float64, 'romance': gender\n",
              " f    23848.0\n",
              " m    41444.0\n",
              " Name: genres, dtype: float64, 'short': gender\n",
              " f    285.0\n",
              " m    672.0\n",
              " Name: genres, dtype: float64, 'sport': gender\n",
              " f    1159.0\n",
              " m    2785.0\n",
              " Name: genres, dtype: float64, 'thriller': gender\n",
              " f    27044.0\n",
              " m    68163.0\n",
              " Name: genres, dtype: float64, 'war': gender\n",
              " f    1232.0\n",
              " m    6109.0\n",
              " Name: genres, dtype: float64, 'western': gender\n",
              " f    1162.0\n",
              " m    3801.0\n",
              " Name: genres, dtype: float64}"
            ]
          },
          "metadata": {
            "tags": []
          },
          "execution_count": 18
        }
      ]
    },
    {
      "metadata": {
        "id": "da2-WSgf2Exf",
        "colab_type": "code",
        "colab": {
          "base_uri": "https://localhost:8080/",
          "height": 1139
        },
        "outputId": "31e6bd53-8f70-49df-9b44-78b3b0f434c8"
      },
      "cell_type": "code",
      "source": [
        "gender_comp_words"
      ],
      "execution_count": 19,
      "outputs": [
        {
          "output_type": "execute_result",
          "data": {
            "text/plain": [
              "{'action': gender\n",
              " f    108417\n",
              " m    378815\n",
              " Name: no_words, dtype: int64, 'adult': gender\n",
              " f    1499\n",
              " Name: no_words, dtype: int64, 'adventure': gender\n",
              " f     62694\n",
              " m    255575\n",
              " Name: no_words, dtype: int64, 'animation': gender\n",
              " f     7691\n",
              " m    36851\n",
              " Name: no_words, dtype: int64, 'biography': gender\n",
              " f     24838\n",
              " m    107818\n",
              " Name: no_words, dtype: int64, 'comedy': gender\n",
              " f    236040\n",
              " m    554958\n",
              " Name: no_words, dtype: int64, 'crime': gender\n",
              " f    150776\n",
              " m    486957\n",
              " Name: no_words, dtype: int64, 'documentary': gender\n",
              " f    3013\n",
              " m    5705\n",
              " Name: no_words, dtype: int64, 'drama': gender\n",
              " f     421341\n",
              " m    1101200\n",
              " Name: no_words, dtype: int64, 'family': gender\n",
              " f    14858\n",
              " m    35409\n",
              " Name: no_words, dtype: int64, 'fantasy': gender\n",
              " f     64193\n",
              " m    173984\n",
              " Name: no_words, dtype: int64, 'history': gender\n",
              " f     9876\n",
              " m    57213\n",
              " Name: no_words, dtype: int64, 'horror': gender\n",
              " f     97795\n",
              " m    162366\n",
              " Name: no_words, dtype: int64, 'music': gender\n",
              " f    19277\n",
              " m    69549\n",
              " Name: no_words, dtype: int64, 'musical': gender\n",
              " f     5163\n",
              " m    16057\n",
              " Name: no_words, dtype: int64, 'mystery': gender\n",
              " f    124860\n",
              " m    303702\n",
              " Name: no_words, dtype: int64, 'romance': gender\n",
              " f    240930\n",
              " m    439787\n",
              " Name: no_words, dtype: int64, 'short': gender\n",
              " f    3144\n",
              " m    6669\n",
              " Name: no_words, dtype: int64, 'sport': gender\n",
              " f    10881\n",
              " m    29614\n",
              " Name: no_words, dtype: int64, 'thriller': gender\n",
              " f    262091\n",
              " m    708355\n",
              " Name: no_words, dtype: int64, 'war': gender\n",
              " f    13603\n",
              " m    69334\n",
              " Name: no_words, dtype: int64, 'western': gender\n",
              " f    13776\n",
              " m    41196\n",
              " Name: no_words, dtype: int64}"
            ]
          },
          "metadata": {
            "tags": []
          },
          "execution_count": 19
        }
      ]
    },
    {
      "metadata": {
        "id": "RXt-PIJAGAk-",
        "colab_type": "text"
      },
      "cell_type": "markdown",
      "source": [
        "### Plots"
      ]
    },
    {
      "metadata": {
        "id": "nFzqCaUR1KKB",
        "colab_type": "code",
        "colab": {
          "base_uri": "https://localhost:8080/",
          "height": 295
        },
        "outputId": "a5601921-6dbc-4b72-da59-68366174a652"
      },
      "cell_type": "code",
      "source": [
        "# plot #line gap\n",
        "import matplotlib.pyplot as plt\n",
        "female_lines = []\n",
        "male_lines = []\n",
        "total_flines, total_mlines = 0, 0\n",
        "for i in gender_comp_lines.keys():\n",
        "  tmp = gender_comp_lines[i]\n",
        "  total_flines += tmp[0]\n",
        "  if len(tmp)>1:\n",
        "    total_mlines += tmp[1]\n",
        "    tmp2 = tmp[0]/(tmp[0]+tmp[1])\n",
        "  else:\n",
        "    tmp2 = 1\n",
        "  tmp2 = tmp[0]/(tmp[0]+tmp[1])\n",
        "  female_lines.append(tmp2)\n",
        "  male_lines.append(1-tmp2)\n",
        "\n",
        "total = total_mlines/(total_mlines+total_flines)\n",
        "\n",
        "ax = plt.subplots\n",
        "plt.subplots_adjust(left=0.1, right=0.75, bottom=0.3, top=0.95)\n",
        "x = range(len(gender_comp_lines))\n",
        "plt.bar(x, male_lines, label='male lines', color='#a3acff', edgecolor='white', width=0.85)\n",
        "plt.bar(x, female_lines, label='female lines', bottom=male_lines, color='#f9bc86', edgecolor='white', width=0.85)\n",
        "plt.xlim(-1,22)\n",
        "plt.hlines(total, -1,22,colors='k', linestyles='--', label='Total ratio')\n",
        "plt.legend(loc='center left', bbox_to_anchor=(1, 0.5))\n",
        "plt.xticks(x, gender_comp_lines.keys(),rotation=90)\n",
        "#plt.title('Gender gap ')\n",
        "plt.ylabel('Gender gap in no. of lines')\n",
        "plt.savefig('/content/gdrive/My Drive/EMDS/Hypo1_lines.png')\n",
        "plt.show()"
      ],
      "execution_count": 280,
      "outputs": [
        {
          "output_type": "display_data",
          "data": {
            "image/png": "[encoded data removed]",
            "text/plain": [
              "<Figure size 432x288 with 1 Axes>"
            ]
          },
          "metadata": {
            "tags": []
          }
        }
      ]
    },
    {
      "metadata": {
        "id": "F5VTPZQb_mQ0",
        "colab_type": "code",
        "colab": {
          "base_uri": "https://localhost:8080/",
          "height": 295
        },
        "outputId": "45037ca7-4273-4f7a-8369-11f35fcf614e"
      },
      "cell_type": "code",
      "source": [
        "# plot #word gap\n",
        "female_words = []\n",
        "male_words = []\n",
        "total_fwords, total_mwords = 0, 0\n",
        "for i in gender_comp_words.keys():\n",
        "  tmp = gender_comp_words[i]\n",
        "  total_fwords += tmp[0]\n",
        "  if len(tmp)>1:\n",
        "    total_mwords += tmp[1]\n",
        "    tmp2 = tmp[0]/(tmp[0]+tmp[1])\n",
        "  else:\n",
        "    tmp2 = 1\n",
        "  female_words.append(tmp2)\n",
        "  male_words.append(1-tmp2)\n",
        "\n",
        "total = total_mwords/(total_fwords+total_mwords)\n",
        "\n",
        "ax = plt.subplots\n",
        "plt.subplots_adjust(left=0.1, right=0.75, bottom=0.3, top=0.95)\n",
        "x = range(len(gender_comp_words))\n",
        "plt.bar(x, male_words, label='male words', color='#a3acff', edgecolor='white', width=0.85)\n",
        "plt.bar(x, female_words, label='female words', bottom=male_words, color='#f9bc86', edgecolor='white', width=0.85)\n",
        "plt.xlim(-1,22)\n",
        "plt.hlines(total, -1,22,colors='k', linestyles='--', label='Total ratio')\n",
        "plt.legend(loc='center left', bbox_to_anchor=(1, 0.5))\n",
        "plt.xticks(x, gender_comp_words.keys(),rotation=90)\n",
        "plt.ylabel('Gender gap in no. of words')\n",
        "plt.savefig('/content/gdrive/My Drive/EMDS/Hypo1_words.png')\n",
        "plt.show()"
      ],
      "execution_count": 281,
      "outputs": [
        {
          "output_type": "display_data",
          "data": {
            "image/png": "[encoded data removed]",
            "text/plain": [
              "<Figure size 432x288 with 1 Axes>"
            ]
          },
          "metadata": {
            "tags": []
          }
        }
      ]
    },
    {
      "metadata": {
        "id": "zmSLZRi9Eml_",
        "colab_type": "text"
      },
      "cell_type": "markdown",
      "source": [
        "### Discussion\n",
        "* 用words 和lines no给出的分布一致，只有细小差别。（需要检查#words与#lines correlation吗？）\n",
        "* scifi 和filmnoir没有结果，给的gender不全\n",
        "* adult全是女性台词\n",
        "* 需要对film进行统计么？\n",
        "\n",
        "\n",
        "1. average->male dominant\n",
        "2. some above average, history the highest\n",
        "3. adult->single gender(check outlier)\n",
        "4. hypothesis: romance(yes), drama(no)\n",
        "5. higher female->horror, documentary (not expected)"
      ]
    },
    {
      "metadata": {
        "id": "uN5djMaU6LCb",
        "colab_type": "text"
      },
      "cell_type": "markdown",
      "source": [
        "## 2.2. Gender gap in conversation initiator vs. respondent\n",
        "\n",
        "方法：\n",
        "* 对话中starter vs. respond性别 <br>\n",
        "lead: 台词长度。\n",
        "mentions in other dialogues.\n",
        "\n",
        "paper discuss leading role"
      ]
    },
    {
      "metadata": {
        "id": "-2gRFtL5JvFS",
        "colab_type": "code",
        "colab": {
          "base_uri": "https://localhost:8080/",
          "height": 204
        },
        "outputId": "7e6396d6-f7c8-47f6-99e2-f01047913a97"
      },
      "cell_type": "code",
      "source": [
        "char_shorten = characters.loc[:, ['character_id', 'gender']]\n",
        "char_shorten.head()"
      ],
      "execution_count": 22,
      "outputs": [
        {
          "output_type": "execute_result",
          "data": {
            "text/html": [
              "<div>\n",
              "<style scoped>\n",
              "    .dataframe tbody tr th:only-of-type {\n",
              "        vertical-align: middle;\n",
              "    }\n",
              "\n",
              "    .dataframe tbody tr th {\n",
              "        vertical-align: top;\n",
              "    }\n",
              "\n",
              "    .dataframe thead th {\n",
              "        text-align: right;\n",
              "    }\n",
              "</style>\n",
              "<table border=\"1\" class=\"dataframe\">\n",
              "  <thead>\n",
              "    <tr style=\"text-align: right;\">\n",
              "      <th></th>\n",
              "      <th>character_id</th>\n",
              "      <th>gender</th>\n",
              "    </tr>\n",
              "  </thead>\n",
              "  <tbody>\n",
              "    <tr>\n",
              "      <th>0</th>\n",
              "      <td>u0</td>\n",
              "      <td>f</td>\n",
              "    </tr>\n",
              "    <tr>\n",
              "      <th>1</th>\n",
              "      <td>u1</td>\n",
              "      <td>?</td>\n",
              "    </tr>\n",
              "    <tr>\n",
              "      <th>2</th>\n",
              "      <td>u2</td>\n",
              "      <td>m</td>\n",
              "    </tr>\n",
              "    <tr>\n",
              "      <th>3</th>\n",
              "      <td>u3</td>\n",
              "      <td>?</td>\n",
              "    </tr>\n",
              "    <tr>\n",
              "      <th>4</th>\n",
              "      <td>u4</td>\n",
              "      <td>m</td>\n",
              "    </tr>\n",
              "  </tbody>\n",
              "</table>\n",
              "</div>"
            ],
            "text/plain": [
              "  character_id gender\n",
              "0           u0      f\n",
              "1           u1      ?\n",
              "2           u2      m\n",
              "3           u3      ?\n",
              "4           u4      m"
            ]
          },
          "metadata": {
            "tags": []
          },
          "execution_count": 22
        }
      ]
    },
    {
      "metadata": {
        "id": "f2nJOMgLGEtK",
        "colab_type": "code",
        "colab": {
          "base_uri": "https://localhost:8080/",
          "height": 204
        },
        "outputId": "2eabd5d9-6375-431a-9a97-bc393b5d8020"
      },
      "cell_type": "code",
      "source": [
        "first_char = pd.merge(conversations, char_shorten, left_on='character_id_first',right_on='character_id')\n",
        "if first_char.character_id_first.equals(first_char.character_id):\n",
        "  first_char = first_char.drop(columns=['character_id'])\n",
        "  first_char = first_char.rename(columns={\"gender\":\"gender_first\"})\n",
        "first_char.head()"
      ],
      "execution_count": 23,
      "outputs": [
        {
          "output_type": "execute_result",
          "data": {
            "text/html": [
              "<div>\n",
              "<style scoped>\n",
              "    .dataframe tbody tr th:only-of-type {\n",
              "        vertical-align: middle;\n",
              "    }\n",
              "\n",
              "    .dataframe tbody tr th {\n",
              "        vertical-align: top;\n",
              "    }\n",
              "\n",
              "    .dataframe thead th {\n",
              "        text-align: right;\n",
              "    }\n",
              "</style>\n",
              "<table border=\"1\" class=\"dataframe\">\n",
              "  <thead>\n",
              "    <tr style=\"text-align: right;\">\n",
              "      <th></th>\n",
              "      <th>character_id_first</th>\n",
              "      <th>character_id_second</th>\n",
              "      <th>movie_id</th>\n",
              "      <th>list_of_text</th>\n",
              "      <th>gender_first</th>\n",
              "    </tr>\n",
              "  </thead>\n",
              "  <tbody>\n",
              "    <tr>\n",
              "      <th>0</th>\n",
              "      <td>u0</td>\n",
              "      <td>u2</td>\n",
              "      <td>m0</td>\n",
              "      <td>['L194', 'L195', 'L196', 'L197']</td>\n",
              "      <td>f</td>\n",
              "    </tr>\n",
              "    <tr>\n",
              "      <th>1</th>\n",
              "      <td>u0</td>\n",
              "      <td>u2</td>\n",
              "      <td>m0</td>\n",
              "      <td>['L198', 'L199']</td>\n",
              "      <td>f</td>\n",
              "    </tr>\n",
              "    <tr>\n",
              "      <th>2</th>\n",
              "      <td>u0</td>\n",
              "      <td>u2</td>\n",
              "      <td>m0</td>\n",
              "      <td>['L200', 'L201', 'L202', 'L203']</td>\n",
              "      <td>f</td>\n",
              "    </tr>\n",
              "    <tr>\n",
              "      <th>3</th>\n",
              "      <td>u0</td>\n",
              "      <td>u2</td>\n",
              "      <td>m0</td>\n",
              "      <td>['L204', 'L205', 'L206']</td>\n",
              "      <td>f</td>\n",
              "    </tr>\n",
              "    <tr>\n",
              "      <th>4</th>\n",
              "      <td>u0</td>\n",
              "      <td>u2</td>\n",
              "      <td>m0</td>\n",
              "      <td>['L207', 'L208']</td>\n",
              "      <td>f</td>\n",
              "    </tr>\n",
              "  </tbody>\n",
              "</table>\n",
              "</div>"
            ],
            "text/plain": [
              "  character_id_first character_id_second movie_id  \\\n",
              "0                 u0                  u2       m0   \n",
              "1                 u0                  u2       m0   \n",
              "2                 u0                  u2       m0   \n",
              "3                 u0                  u2       m0   \n",
              "4                 u0                  u2       m0   \n",
              "\n",
              "                       list_of_text gender_first  \n",
              "0  ['L194', 'L195', 'L196', 'L197']            f  \n",
              "1                  ['L198', 'L199']            f  \n",
              "2  ['L200', 'L201', 'L202', 'L203']            f  \n",
              "3          ['L204', 'L205', 'L206']            f  \n",
              "4                  ['L207', 'L208']            f  "
            ]
          },
          "metadata": {
            "tags": []
          },
          "execution_count": 23
        }
      ]
    },
    {
      "metadata": {
        "id": "NuzdXWA9H4I9",
        "colab_type": "code",
        "colab": {
          "base_uri": "https://localhost:8080/",
          "height": 204
        },
        "outputId": "abc92099-1318-45d6-9004-381b9c389404"
      },
      "cell_type": "code",
      "source": [
        "first_second = pd.merge(first_char, char_shorten, left_on='character_id_second',right_on='character_id')\n",
        "if first_second.character_id_second.equals(first_second.character_id):\n",
        "  first_second = first_second.drop(columns=['character_id'])\n",
        "  first_second = first_second.rename(columns={\"gender\":\"gender_second\"})\n",
        "first_second.head()"
      ],
      "execution_count": 24,
      "outputs": [
        {
          "output_type": "execute_result",
          "data": {
            "text/html": [
              "<div>\n",
              "<style scoped>\n",
              "    .dataframe tbody tr th:only-of-type {\n",
              "        vertical-align: middle;\n",
              "    }\n",
              "\n",
              "    .dataframe tbody tr th {\n",
              "        vertical-align: top;\n",
              "    }\n",
              "\n",
              "    .dataframe thead th {\n",
              "        text-align: right;\n",
              "    }\n",
              "</style>\n",
              "<table border=\"1\" class=\"dataframe\">\n",
              "  <thead>\n",
              "    <tr style=\"text-align: right;\">\n",
              "      <th></th>\n",
              "      <th>character_id_first</th>\n",
              "      <th>character_id_second</th>\n",
              "      <th>movie_id</th>\n",
              "      <th>list_of_text</th>\n",
              "      <th>gender_first</th>\n",
              "      <th>gender_second</th>\n",
              "    </tr>\n",
              "  </thead>\n",
              "  <tbody>\n",
              "    <tr>\n",
              "      <th>0</th>\n",
              "      <td>u0</td>\n",
              "      <td>u2</td>\n",
              "      <td>m0</td>\n",
              "      <td>['L194', 'L195', 'L196', 'L197']</td>\n",
              "      <td>f</td>\n",
              "      <td>m</td>\n",
              "    </tr>\n",
              "    <tr>\n",
              "      <th>1</th>\n",
              "      <td>u0</td>\n",
              "      <td>u2</td>\n",
              "      <td>m0</td>\n",
              "      <td>['L198', 'L199']</td>\n",
              "      <td>f</td>\n",
              "      <td>m</td>\n",
              "    </tr>\n",
              "    <tr>\n",
              "      <th>2</th>\n",
              "      <td>u0</td>\n",
              "      <td>u2</td>\n",
              "      <td>m0</td>\n",
              "      <td>['L200', 'L201', 'L202', 'L203']</td>\n",
              "      <td>f</td>\n",
              "      <td>m</td>\n",
              "    </tr>\n",
              "    <tr>\n",
              "      <th>3</th>\n",
              "      <td>u0</td>\n",
              "      <td>u2</td>\n",
              "      <td>m0</td>\n",
              "      <td>['L204', 'L205', 'L206']</td>\n",
              "      <td>f</td>\n",
              "      <td>m</td>\n",
              "    </tr>\n",
              "    <tr>\n",
              "      <th>4</th>\n",
              "      <td>u0</td>\n",
              "      <td>u2</td>\n",
              "      <td>m0</td>\n",
              "      <td>['L207', 'L208']</td>\n",
              "      <td>f</td>\n",
              "      <td>m</td>\n",
              "    </tr>\n",
              "  </tbody>\n",
              "</table>\n",
              "</div>"
            ],
            "text/plain": [
              "  character_id_first character_id_second movie_id  \\\n",
              "0                 u0                  u2       m0   \n",
              "1                 u0                  u2       m0   \n",
              "2                 u0                  u2       m0   \n",
              "3                 u0                  u2       m0   \n",
              "4                 u0                  u2       m0   \n",
              "\n",
              "                       list_of_text gender_first gender_second  \n",
              "0  ['L194', 'L195', 'L196', 'L197']            f             m  \n",
              "1                  ['L198', 'L199']            f             m  \n",
              "2  ['L200', 'L201', 'L202', 'L203']            f             m  \n",
              "3          ['L204', 'L205', 'L206']            f             m  \n",
              "4                  ['L207', 'L208']            f             m  "
            ]
          },
          "metadata": {
            "tags": []
          },
          "execution_count": 24
        }
      ]
    },
    {
      "metadata": {
        "id": "JlswZs15ICSO",
        "colab_type": "code",
        "colab": {
          "base_uri": "https://localhost:8080/",
          "height": 51
        },
        "outputId": "b4ea9366-2477-47fb-d3ca-7ff8463df491"
      },
      "cell_type": "code",
      "source": [
        "print(len(first_second))\n",
        "first_second = first_second[(first_second.gender_first != '?') &(first_second.gender_second != '?')]\n",
        "print(len(first_second))"
      ],
      "execution_count": 25,
      "outputs": [
        {
          "output_type": "stream",
          "text": [
            "83097\n",
            "52038\n"
          ],
          "name": "stdout"
        }
      ]
    },
    {
      "metadata": {
        "id": "eRE6-um7ITTx",
        "colab_type": "code",
        "colab": {
          "base_uri": "https://localhost:8080/",
          "height": 275
        },
        "outputId": "ddf63c5a-ccdb-4bff-ad95-a36fab543433"
      },
      "cell_type": "code",
      "source": [
        "first_second.head()"
      ],
      "execution_count": 26,
      "outputs": [
        {
          "output_type": "execute_result",
          "data": {
            "text/html": [
              "<div>\n",
              "<style scoped>\n",
              "    .dataframe tbody tr th:only-of-type {\n",
              "        vertical-align: middle;\n",
              "    }\n",
              "\n",
              "    .dataframe tbody tr th {\n",
              "        vertical-align: top;\n",
              "    }\n",
              "\n",
              "    .dataframe thead th {\n",
              "        text-align: right;\n",
              "    }\n",
              "</style>\n",
              "<table border=\"1\" class=\"dataframe\">\n",
              "  <thead>\n",
              "    <tr style=\"text-align: right;\">\n",
              "      <th></th>\n",
              "      <th>character_id_first</th>\n",
              "      <th>character_id_second</th>\n",
              "      <th>movie_id</th>\n",
              "      <th>list_of_text</th>\n",
              "      <th>gender_first</th>\n",
              "      <th>gender_second</th>\n",
              "    </tr>\n",
              "  </thead>\n",
              "  <tbody>\n",
              "    <tr>\n",
              "      <th>0</th>\n",
              "      <td>u0</td>\n",
              "      <td>u2</td>\n",
              "      <td>m0</td>\n",
              "      <td>['L194', 'L195', 'L196', 'L197']</td>\n",
              "      <td>f</td>\n",
              "      <td>m</td>\n",
              "    </tr>\n",
              "    <tr>\n",
              "      <th>1</th>\n",
              "      <td>u0</td>\n",
              "      <td>u2</td>\n",
              "      <td>m0</td>\n",
              "      <td>['L198', 'L199']</td>\n",
              "      <td>f</td>\n",
              "      <td>m</td>\n",
              "    </tr>\n",
              "    <tr>\n",
              "      <th>2</th>\n",
              "      <td>u0</td>\n",
              "      <td>u2</td>\n",
              "      <td>m0</td>\n",
              "      <td>['L200', 'L201', 'L202', 'L203']</td>\n",
              "      <td>f</td>\n",
              "      <td>m</td>\n",
              "    </tr>\n",
              "    <tr>\n",
              "      <th>3</th>\n",
              "      <td>u0</td>\n",
              "      <td>u2</td>\n",
              "      <td>m0</td>\n",
              "      <td>['L204', 'L205', 'L206']</td>\n",
              "      <td>f</td>\n",
              "      <td>m</td>\n",
              "    </tr>\n",
              "    <tr>\n",
              "      <th>4</th>\n",
              "      <td>u0</td>\n",
              "      <td>u2</td>\n",
              "      <td>m0</td>\n",
              "      <td>['L207', 'L208']</td>\n",
              "      <td>f</td>\n",
              "      <td>m</td>\n",
              "    </tr>\n",
              "  </tbody>\n",
              "</table>\n",
              "</div>"
            ],
            "text/plain": [
              "  character_id_first character_id_second movie_id  \\\n",
              "0                 u0                  u2       m0   \n",
              "1                 u0                  u2       m0   \n",
              "2                 u0                  u2       m0   \n",
              "3                 u0                  u2       m0   \n",
              "4                 u0                  u2       m0   \n",
              "\n",
              "                       list_of_text gender_first gender_second  \n",
              "0  ['L194', 'L195', 'L196', 'L197']            f             m  \n",
              "1                  ['L198', 'L199']            f             m  \n",
              "2  ['L200', 'L201', 'L202', 'L203']            f             m  \n",
              "3          ['L204', 'L205', 'L206']            f             m  \n",
              "4                  ['L207', 'L208']            f             m  "
            ]
          },
          "metadata": {
            "tags": []
          },
          "execution_count": 26
        }
      ]
    },
    {
      "metadata": {
        "id": "ilSQbElfLqHm",
        "colab_type": "code",
        "colab": {
          "base_uri": "https://localhost:8080/",
          "height": 394
        },
        "outputId": "b7c1a24b-121a-4c6f-8710-d71d8be70d1c"
      },
      "cell_type": "code",
      "source": [
        "fs_movie = pd.merge(first_second, metadata, on='movie_id')\n",
        "fs_movie.head()"
      ],
      "execution_count": 27,
      "outputs": [
        {
          "output_type": "execute_result",
          "data": {
            "text/html": [
              "<div>\n",
              "<style scoped>\n",
              "    .dataframe tbody tr th:only-of-type {\n",
              "        vertical-align: middle;\n",
              "    }\n",
              "\n",
              "    .dataframe tbody tr th {\n",
              "        vertical-align: top;\n",
              "    }\n",
              "\n",
              "    .dataframe thead th {\n",
              "        text-align: right;\n",
              "    }\n",
              "</style>\n",
              "<table border=\"1\" class=\"dataframe\">\n",
              "  <thead>\n",
              "    <tr style=\"text-align: right;\">\n",
              "      <th></th>\n",
              "      <th>character_id_first</th>\n",
              "      <th>character_id_second</th>\n",
              "      <th>movie_id</th>\n",
              "      <th>list_of_text</th>\n",
              "      <th>gender_first</th>\n",
              "      <th>gender_second</th>\n",
              "      <th>movie_title</th>\n",
              "      <th>release_year</th>\n",
              "      <th>avg_rating</th>\n",
              "      <th>num_votes</th>\n",
              "      <th>genres</th>\n",
              "    </tr>\n",
              "  </thead>\n",
              "  <tbody>\n",
              "    <tr>\n",
              "      <th>0</th>\n",
              "      <td>u0</td>\n",
              "      <td>u2</td>\n",
              "      <td>m0</td>\n",
              "      <td>['L194', 'L195', 'L196', 'L197']</td>\n",
              "      <td>f</td>\n",
              "      <td>m</td>\n",
              "      <td>10 things i hate about you</td>\n",
              "      <td>1999</td>\n",
              "      <td>6.9</td>\n",
              "      <td>62847</td>\n",
              "      <td>['comedy', 'romance']</td>\n",
              "    </tr>\n",
              "    <tr>\n",
              "      <th>1</th>\n",
              "      <td>u0</td>\n",
              "      <td>u2</td>\n",
              "      <td>m0</td>\n",
              "      <td>['L198', 'L199']</td>\n",
              "      <td>f</td>\n",
              "      <td>m</td>\n",
              "      <td>10 things i hate about you</td>\n",
              "      <td>1999</td>\n",
              "      <td>6.9</td>\n",
              "      <td>62847</td>\n",
              "      <td>['comedy', 'romance']</td>\n",
              "    </tr>\n",
              "    <tr>\n",
              "      <th>2</th>\n",
              "      <td>u0</td>\n",
              "      <td>u2</td>\n",
              "      <td>m0</td>\n",
              "      <td>['L200', 'L201', 'L202', 'L203']</td>\n",
              "      <td>f</td>\n",
              "      <td>m</td>\n",
              "      <td>10 things i hate about you</td>\n",
              "      <td>1999</td>\n",
              "      <td>6.9</td>\n",
              "      <td>62847</td>\n",
              "      <td>['comedy', 'romance']</td>\n",
              "    </tr>\n",
              "    <tr>\n",
              "      <th>3</th>\n",
              "      <td>u0</td>\n",
              "      <td>u2</td>\n",
              "      <td>m0</td>\n",
              "      <td>['L204', 'L205', 'L206']</td>\n",
              "      <td>f</td>\n",
              "      <td>m</td>\n",
              "      <td>10 things i hate about you</td>\n",
              "      <td>1999</td>\n",
              "      <td>6.9</td>\n",
              "      <td>62847</td>\n",
              "      <td>['comedy', 'romance']</td>\n",
              "    </tr>\n",
              "    <tr>\n",
              "      <th>4</th>\n",
              "      <td>u0</td>\n",
              "      <td>u2</td>\n",
              "      <td>m0</td>\n",
              "      <td>['L207', 'L208']</td>\n",
              "      <td>f</td>\n",
              "      <td>m</td>\n",
              "      <td>10 things i hate about you</td>\n",
              "      <td>1999</td>\n",
              "      <td>6.9</td>\n",
              "      <td>62847</td>\n",
              "      <td>['comedy', 'romance']</td>\n",
              "    </tr>\n",
              "  </tbody>\n",
              "</table>\n",
              "</div>"
            ],
            "text/plain": [
              "  character_id_first character_id_second movie_id  \\\n",
              "0                 u0                  u2       m0   \n",
              "1                 u0                  u2       m0   \n",
              "2                 u0                  u2       m0   \n",
              "3                 u0                  u2       m0   \n",
              "4                 u0                  u2       m0   \n",
              "\n",
              "                       list_of_text gender_first gender_second  \\\n",
              "0  ['L194', 'L195', 'L196', 'L197']            f             m   \n",
              "1                  ['L198', 'L199']            f             m   \n",
              "2  ['L200', 'L201', 'L202', 'L203']            f             m   \n",
              "3          ['L204', 'L205', 'L206']            f             m   \n",
              "4                  ['L207', 'L208']            f             m   \n",
              "\n",
              "                  movie_title  release_year  avg_rating  num_votes  \\\n",
              "0  10 things i hate about you          1999         6.9      62847   \n",
              "1  10 things i hate about you          1999         6.9      62847   \n",
              "2  10 things i hate about you          1999         6.9      62847   \n",
              "3  10 things i hate about you          1999         6.9      62847   \n",
              "4  10 things i hate about you          1999         6.9      62847   \n",
              "\n",
              "                  genres  \n",
              "0  ['comedy', 'romance']  \n",
              "1  ['comedy', 'romance']  \n",
              "2  ['comedy', 'romance']  \n",
              "3  ['comedy', 'romance']  \n",
              "4  ['comedy', 'romance']  "
            ]
          },
          "metadata": {
            "tags": []
          },
          "execution_count": 27
        }
      ]
    },
    {
      "metadata": {
        "id": "BUtJ-IS9lEcL",
        "colab_type": "code",
        "colab": {
          "base_uri": "https://localhost:8080/",
          "height": 34
        },
        "outputId": "5557ed9e-6ee4-48af-9230-4ac3fc0d1756"
      },
      "cell_type": "code",
      "source": [
        "t = 0\n",
        "for i in range(len(fs_movie)):\n",
        "  tmp = fs_movie.genres[i]\n",
        "  if 'war' in tmp: t+= 1\n",
        "print(t)"
      ],
      "execution_count": 270,
      "outputs": [
        {
          "output_type": "stream",
          "text": [
            "1618\n"
          ],
          "name": "stdout"
        }
      ]
    },
    {
      "metadata": {
        "id": "RyzFmpjglUZ9",
        "colab_type": "code",
        "colab": {
          "base_uri": "https://localhost:8080/",
          "height": 34
        },
        "outputId": "33f0df61-7112-4e0f-ae44-2c8b51f5b4a1"
      },
      "cell_type": "code",
      "source": [
        "len(set(fs_movie.movie_id))"
      ],
      "execution_count": 256,
      "outputs": [
        {
          "output_type": "execute_result",
          "data": {
            "text/plain": [
              "591"
            ]
          },
          "metadata": {
            "tags": []
          },
          "execution_count": 256
        }
      ]
    },
    {
      "metadata": {
        "id": "GdA9iufplbGP",
        "colab_type": "code",
        "colab": {
          "base_uri": "https://localhost:8080/",
          "height": 34
        },
        "outputId": "b6d4a132-b87d-4c07-e264-791790c20a1b"
      },
      "cell_type": "code",
      "source": [
        "len(fs_movie.genres)"
      ],
      "execution_count": 258,
      "outputs": [
        {
          "output_type": "execute_result",
          "data": {
            "text/plain": [
              "52038"
            ]
          },
          "metadata": {
            "tags": []
          },
          "execution_count": 258
        }
      ]
    },
    {
      "metadata": {
        "id": "a2T46bGtk-T4",
        "colab_type": "code",
        "colab": {
          "base_uri": "https://localhost:8080/",
          "height": 119
        },
        "outputId": "db833da5-853a-4ed7-8b8f-6ebca97ab044"
      },
      "cell_type": "code",
      "source": [
        "fs_movie.genres.str.contains('war', re.IGNORECASE).groupby([fs_movie.gender_first.str.lower(),fs_movie.gender_second.str.lower()]).sum()"
      ],
      "execution_count": 254,
      "outputs": [
        {
          "output_type": "execute_result",
          "data": {
            "text/plain": [
              "gender_first  gender_second\n",
              "f             f                  14.0\n",
              "              m                 251.0\n",
              "m             f                 293.0\n",
              "              m                1060.0\n",
              "Name: genres, dtype: float64"
            ]
          },
          "metadata": {
            "tags": []
          },
          "execution_count": 254
        }
      ]
    },
    {
      "metadata": {
        "id": "ohFbJ7siMoar",
        "colab_type": "code",
        "colab": {}
      },
      "cell_type": "code",
      "source": [
        "ff, fm, mf, mm = [],[],[],[]\n",
        "for i in genres:\n",
        "  # add all the Trues, so count the ones contain genre\n",
        "  tmp = fs_movie.genres.str.contains(i, re.IGNORECASE).groupby([fs_movie.gender_first.str.lower(),fs_movie.gender_second.str.lower()]).sum()\n",
        "  if tmp[0]:\n",
        "    ff.append(tmp[0])\n",
        "  else:\n",
        "    ff.append(0)\n",
        "  if tmp[1]:\n",
        "    fm.append(tmp[1])\n",
        "  else:\n",
        "    fm.append(0)\n",
        "  if tmp[2]:\n",
        "    mf.append(tmp[2])\n",
        "  else:\n",
        "    mf.append(0)\n",
        "  if tmp[3]:\n",
        "    mm.append(tmp[3])\n",
        "  else:\n",
        "    mm.append(0)"
      ],
      "execution_count": 0,
      "outputs": []
    },
    {
      "metadata": {
        "id": "NfJ5mmSaxi1F",
        "colab_type": "text"
      },
      "cell_type": "markdown",
      "source": [
        "### Plots"
      ]
    },
    {
      "metadata": {
        "id": "j2ZFm7r5L7kq",
        "colab_type": "code",
        "colab": {
          "base_uri": "https://localhost:8080/",
          "height": 528
        },
        "outputId": "544bade1-893b-42f2-a790-ac9e9a7f3607"
      },
      "cell_type": "code",
      "source": [
        "ff_ratio, fm_ratio, mf_ratio, mm_ratio = [],[],[],[]\n",
        "total_ff, total_fm, total_mf, total_mm = 0, 0, 0, 0\n",
        "x = []\n",
        "for i, name in enumerate(genres):\n",
        "  tmp = ff[i]+fm[i]+mf[i]+mm[i]\n",
        "  #print(tmp)\n",
        "  if tmp == 0: continue\n",
        "  x.append(name)\n",
        "  ff_ratio.append(ff[i]/tmp)\n",
        "  fm_ratio.append(fm[i]/tmp)\n",
        "  mf_ratio.append(mf[i]/tmp)\n",
        "  mm_ratio.append(mm[i]/tmp)\n",
        "  total_ff += ff[i]\n",
        "  total_fm += fm[i]\n",
        "  total_mf += mf[i]\n",
        "  total_mm += mm[i]\n",
        "  \n",
        "bottom_fm = np.add(mm_ratio, mf_ratio)\n",
        "bottom_ff = np.add(bottom_fm, fm_ratio)\n",
        "ax = plt.subplots(figsize=(10,7))\n",
        "plt.subplots_adjust(left=0.06, right=0.8, bottom=0.18, top=0.95)\n",
        "plt.bar(range(len(x)), mm_ratio, label='male-male', color = '#a3acff', edgecolor='white', width=0.85)\n",
        "plt.bar(range(len(x)), mf_ratio, label='male-female', bottom=mm_ratio, color=\"#D8BFD8\", edgecolor='white', width=0.85)\n",
        "plt.bar(range(len(x)), fm_ratio, label='female-male', bottom=bottom_fm, color=\"#FFD8CB\", edgecolor='white', width=0.85)\n",
        "plt.bar(range(len(x)), ff_ratio, label='female-female', bottom=bottom_ff, color=\"#f9bc86\", edgecolor='white', width=0.85)\n",
        "plt.xlim(-1,22)\n",
        "plt.hlines((total_mm + total_mf)/(total_mm + total_mf+total_fm+total_ff), -1,22,colors='k', \n",
        "           linestyles='--', label='Averaged male lead')\n",
        "plt.legend(loc='center left', bbox_to_anchor=(1, 0.5))\n",
        "plt.xticks(range(len(x)), x,rotation=90)\n",
        "plt.ylabel('Proportion of conversation types')\n",
        "plt.title('Conversation initiator and responder (#=52038)')\n",
        "plt.savefig('/content/gdrive/My Drive/EMDS/Hypo2.png')\n",
        "plt.show()"
      ],
      "execution_count": 282,
      "outputs": [
        {
          "output_type": "display_data",
          "data": {
            "image/png": "[encoded data removed]",
            "text/plain": [
              "<Figure size 720x504 with 1 Axes>"
            ]
          },
          "metadata": {
            "tags": []
          }
        }
      ]
    },
    {
      "metadata": {
        "id": "PxA-dM57JPPk",
        "colab_type": "text"
      },
      "cell_type": "markdown",
      "source": [
        "1. result similar to previous plots, general male starter\n",
        "2. some have no female-female conversation: history, adventure, war, animation.\n",
        "3. not expected: documentary, female initiators.\n",
        "4. short: female lead, no male-female\n",
        "\n",
        "举个🌰！"
      ]
    },
    {
      "metadata": {
        "id": "s1l-02dpM2hC",
        "colab_type": "code",
        "colab": {
          "base_uri": "https://localhost:8080/",
          "height": 325
        },
        "outputId": "67df9af7-8f99-41f3-cc3f-b1bcbd402e75"
      },
      "cell_type": "code",
      "source": [
        "ax = plt.subplot(111)\n",
        "w = 0.2\n",
        "ax.bar(np.subtract(range(len(x)),1.5*w), ff_ratio, label='female-female',width=w,color='#f9bc86', edgecolor='white',align='center')\n",
        "ax.bar(np.subtract(range(len(x)),0.5*w), fm_ratio, label='female-male',width=w,color=\"#FFD8CB\", edgecolor='white',align='center')\n",
        "ax.bar(np.add(range(len(x)),0.5*w), mf_ratio, label='male-female',width=w,color=\"#D8BFD8\", edgecolor='white',align='center')\n",
        "ax.bar(np.add(range(len(x)),1.5*w), mm_ratio,label='male-male',width=w,color='#a3acff', edgecolor='white',align='center')\n",
        "#ax.autoscale(tight=True)\n",
        "plt.legend(loc='center left', bbox_to_anchor=(1, 0.5))\n",
        "plt.xticks(range(len(x)), x,rotation=90)\n",
        "plt.ylabel('Conversation distribution(%)')\n",
        "plt.show()"
      ],
      "execution_count": 30,
      "outputs": [
        {
          "output_type": "display_data",
          "data": {
            "image/png": "[encoded data removed]",
            "text/plain": [
              "<Figure size 432x288 with 1 Axes>"
            ]
          },
          "metadata": {
            "tags": []
          }
        }
      ]
    },
    {
      "metadata": {
        "id": "f7Jn4MzNwxiZ",
        "colab_type": "text"
      },
      "cell_type": "markdown",
      "source": [
        "### Discussion\n",
        "history is really his story...."
      ]
    },
    {
      "metadata": {
        "id": "4ce19RaiMbgy",
        "colab_type": "code",
        "colab": {
          "base_uri": "https://localhost:8080/",
          "height": 68
        },
        "outputId": "d1a34959-c0bc-4140-e599-90c655491992"
      },
      "cell_type": "code",
      "source": [
        "np.greater(mf, ff)"
      ],
      "execution_count": 31,
      "outputs": [
        {
          "output_type": "execute_result",
          "data": {
            "text/plain": [
              "array([ True,  True,  True,  True,  True,  True, False, False,  True,\n",
              "        True,  True,  True,  True,  True, False,  True, False,  True,\n",
              "        True,  True, False,  True,  True,  True])"
            ]
          },
          "metadata": {
            "tags": []
          },
          "execution_count": 31
        }
      ]
    },
    {
      "metadata": {
        "id": "7v4QwOgev3bO",
        "colab_type": "code",
        "colab": {
          "base_uri": "https://localhost:8080/",
          "height": 187
        },
        "outputId": "6422c077-3cd9-42cf-b7c3-60f17d752721"
      },
      "cell_type": "code",
      "source": [
        "for i in range(10):\n",
        "  print(mm[i], mf[i], fm[i], ff[i])"
      ],
      "execution_count": 32,
      "outputs": [
        {
          "output_type": "stream",
          "text": [
            "4099.0 2378.0 2076.0 549.0\n",
            "678.0 126.0 241.0 87.0\n",
            "7473.0 4524.0 3542.0 1271.0\n",
            "2571.0 1598.0 1262.0 283.0\n",
            "2002.0 1636.0 1903.0 743.0\n",
            "312.0 80.0 153.0 12.0\n",
            "0 0 0 32.0\n",
            "79.0 0 77.0 12.0\n",
            "645.0 215.0 184.0 0\n",
            "4177.0 1885.0 1496.0 83.0\n"
          ],
          "name": "stdout"
        }
      ]
    },
    {
      "metadata": {
        "id": "ocfTDiv3yAZT",
        "colab_type": "text"
      },
      "cell_type": "markdown",
      "source": [
        "# Hypo 3\n",
        "#女/#男 ~ rating; 女性台词长度/男性台词长度 ~ rating\n",
        "\n",
        "男性主导电影评分更高"
      ]
    },
    {
      "metadata": {
        "id": "GqC_qzW8cC65",
        "colab_type": "code",
        "colab": {
          "base_uri": "https://localhost:8080/",
          "height": 428
        },
        "outputId": "bfccd439-361a-4d48-afbc-8c728984c259"
      },
      "cell_type": "code",
      "source": [
        "movie_character_line.head()"
      ],
      "execution_count": 41,
      "outputs": [
        {
          "output_type": "execute_result",
          "data": {
            "text/html": [
              "<div>\n",
              "<style scoped>\n",
              "    .dataframe tbody tr th:only-of-type {\n",
              "        vertical-align: middle;\n",
              "    }\n",
              "\n",
              "    .dataframe tbody tr th {\n",
              "        vertical-align: top;\n",
              "    }\n",
              "\n",
              "    .dataframe thead th {\n",
              "        text-align: right;\n",
              "    }\n",
              "</style>\n",
              "<table border=\"1\" class=\"dataframe\">\n",
              "  <thead>\n",
              "    <tr style=\"text-align: right;\">\n",
              "      <th></th>\n",
              "      <th>movie_id</th>\n",
              "      <th>movie_title</th>\n",
              "      <th>release_year</th>\n",
              "      <th>avg_rating</th>\n",
              "      <th>num_votes</th>\n",
              "      <th>genres</th>\n",
              "      <th>character_id</th>\n",
              "      <th>character_name</th>\n",
              "      <th>gender</th>\n",
              "      <th>position_in_credits</th>\n",
              "      <th>line_id</th>\n",
              "      <th>characher_name</th>\n",
              "      <th>line_text</th>\n",
              "      <th>no_words</th>\n",
              "    </tr>\n",
              "  </thead>\n",
              "  <tbody>\n",
              "    <tr>\n",
              "      <th>0</th>\n",
              "      <td>m0</td>\n",
              "      <td>10 things i hate about you</td>\n",
              "      <td>1999</td>\n",
              "      <td>6.9</td>\n",
              "      <td>62847</td>\n",
              "      <td>['comedy', 'romance']</td>\n",
              "      <td>u0</td>\n",
              "      <td>BIANCA</td>\n",
              "      <td>f</td>\n",
              "      <td>4</td>\n",
              "      <td>L1007</td>\n",
              "      <td>BIANCA</td>\n",
              "      <td>Let go!</td>\n",
              "      <td>2</td>\n",
              "    </tr>\n",
              "    <tr>\n",
              "      <th>1</th>\n",
              "      <td>m0</td>\n",
              "      <td>10 things i hate about you</td>\n",
              "      <td>1999</td>\n",
              "      <td>6.9</td>\n",
              "      <td>62847</td>\n",
              "      <td>['comedy', 'romance']</td>\n",
              "      <td>u0</td>\n",
              "      <td>BIANCA</td>\n",
              "      <td>f</td>\n",
              "      <td>4</td>\n",
              "      <td>L1009</td>\n",
              "      <td>BIANCA</td>\n",
              "      <td>I just wanted --</td>\n",
              "      <td>4</td>\n",
              "    </tr>\n",
              "    <tr>\n",
              "      <th>2</th>\n",
              "      <td>m0</td>\n",
              "      <td>10 things i hate about you</td>\n",
              "      <td>1999</td>\n",
              "      <td>6.9</td>\n",
              "      <td>62847</td>\n",
              "      <td>['comedy', 'romance']</td>\n",
              "      <td>u0</td>\n",
              "      <td>BIANCA</td>\n",
              "      <td>f</td>\n",
              "      <td>4</td>\n",
              "      <td>L1011</td>\n",
              "      <td>BIANCA</td>\n",
              "      <td>No! I just wanted</td>\n",
              "      <td>4</td>\n",
              "    </tr>\n",
              "    <tr>\n",
              "      <th>3</th>\n",
              "      <td>m0</td>\n",
              "      <td>10 things i hate about you</td>\n",
              "      <td>1999</td>\n",
              "      <td>6.9</td>\n",
              "      <td>62847</td>\n",
              "      <td>['comedy', 'romance']</td>\n",
              "      <td>u0</td>\n",
              "      <td>BIANCA</td>\n",
              "      <td>f</td>\n",
              "      <td>4</td>\n",
              "      <td>L1021</td>\n",
              "      <td>BIANCA</td>\n",
              "      <td>Is that woman a complete fruit-loop or is it ...</td>\n",
              "      <td>11</td>\n",
              "    </tr>\n",
              "    <tr>\n",
              "      <th>4</th>\n",
              "      <td>m0</td>\n",
              "      <td>10 things i hate about you</td>\n",
              "      <td>1999</td>\n",
              "      <td>6.9</td>\n",
              "      <td>62847</td>\n",
              "      <td>['comedy', 'romance']</td>\n",
              "      <td>u0</td>\n",
              "      <td>BIANCA</td>\n",
              "      <td>f</td>\n",
              "      <td>4</td>\n",
              "      <td>L1045</td>\n",
              "      <td>BIANCA</td>\n",
              "      <td>They do not!</td>\n",
              "      <td>3</td>\n",
              "    </tr>\n",
              "  </tbody>\n",
              "</table>\n",
              "</div>"
            ],
            "text/plain": [
              "  movie_id                 movie_title  release_year  avg_rating  num_votes  \\\n",
              "0       m0  10 things i hate about you          1999         6.9      62847   \n",
              "1       m0  10 things i hate about you          1999         6.9      62847   \n",
              "2       m0  10 things i hate about you          1999         6.9      62847   \n",
              "3       m0  10 things i hate about you          1999         6.9      62847   \n",
              "4       m0  10 things i hate about you          1999         6.9      62847   \n",
              "\n",
              "                  genres character_id character_name gender  \\\n",
              "0  ['comedy', 'romance']           u0         BIANCA      f   \n",
              "1  ['comedy', 'romance']           u0         BIANCA      f   \n",
              "2  ['comedy', 'romance']           u0         BIANCA      f   \n",
              "3  ['comedy', 'romance']           u0         BIANCA      f   \n",
              "4  ['comedy', 'romance']           u0         BIANCA      f   \n",
              "\n",
              "  position_in_credits line_id characher_name  \\\n",
              "0                   4   L1007       BIANCA     \n",
              "1                   4   L1009       BIANCA     \n",
              "2                   4   L1011       BIANCA     \n",
              "3                   4   L1021       BIANCA     \n",
              "4                   4   L1045       BIANCA     \n",
              "\n",
              "                                           line_text  no_words  \n",
              "0                                            Let go!         2  \n",
              "1                                   I just wanted --         4  \n",
              "2                                  No! I just wanted         4  \n",
              "3   Is that woman a complete fruit-loop or is it ...        11  \n",
              "4                                       They do not!         3  "
            ]
          },
          "metadata": {
            "tags": []
          },
          "execution_count": 41
        }
      ]
    },
    {
      "metadata": {
        "id": "Q95bFh-k0p-a",
        "colab_type": "code",
        "colab": {
          "base_uri": "https://localhost:8080/",
          "height": 136
        },
        "outputId": "ea78406e-b9ab-472f-f643-98b238896436"
      },
      "cell_type": "code",
      "source": [
        "test = movie_character_line.groupby([movie_character_line.movie_id,movie_character_line.gender.str.lower()]).size()\n",
        "test.head()"
      ],
      "execution_count": 190,
      "outputs": [
        {
          "output_type": "execute_result",
          "data": {
            "text/plain": [
              "movie_id  gender\n",
              "m0        f         278\n",
              "          m         359\n",
              "m1        m         143\n",
              "m10       f         104\n",
              "          m         441\n",
              "dtype: int64"
            ]
          },
          "metadata": {
            "tags": []
          },
          "execution_count": 190
        }
      ]
    },
    {
      "metadata": {
        "id": "qzO-o6XDCwzq",
        "colab_type": "code",
        "colab": {
          "base_uri": "https://localhost:8080/",
          "height": 34
        },
        "outputId": "6083e33b-1989-4f5f-f5d5-b19dd64a0f9f"
      },
      "cell_type": "code",
      "source": [
        "np.shape(test)"
      ],
      "execution_count": 138,
      "outputs": [
        {
          "output_type": "execute_result",
          "data": {
            "text/plain": [
              "(1119,)"
            ]
          },
          "metadata": {
            "tags": []
          },
          "execution_count": 138
        }
      ]
    },
    {
      "metadata": {
        "id": "9-K-5rYw_wOz",
        "colab_type": "code",
        "colab": {
          "base_uri": "https://localhost:8080/",
          "height": 235
        },
        "outputId": "eb9a90fe-b56a-43e4-ed00-2d2a0ee313b3"
      },
      "cell_type": "code",
      "source": [
        "test2=test.unstack(level=1)\n",
        "test2.head()"
      ],
      "execution_count": 191,
      "outputs": [
        {
          "output_type": "execute_result",
          "data": {
            "text/html": [
              "<div>\n",
              "<style scoped>\n",
              "    .dataframe tbody tr th:only-of-type {\n",
              "        vertical-align: middle;\n",
              "    }\n",
              "\n",
              "    .dataframe tbody tr th {\n",
              "        vertical-align: top;\n",
              "    }\n",
              "\n",
              "    .dataframe thead th {\n",
              "        text-align: right;\n",
              "    }\n",
              "</style>\n",
              "<table border=\"1\" class=\"dataframe\">\n",
              "  <thead>\n",
              "    <tr style=\"text-align: right;\">\n",
              "      <th>gender</th>\n",
              "      <th>f</th>\n",
              "      <th>m</th>\n",
              "    </tr>\n",
              "    <tr>\n",
              "      <th>movie_id</th>\n",
              "      <th></th>\n",
              "      <th></th>\n",
              "    </tr>\n",
              "  </thead>\n",
              "  <tbody>\n",
              "    <tr>\n",
              "      <th>m0</th>\n",
              "      <td>278.0</td>\n",
              "      <td>359.0</td>\n",
              "    </tr>\n",
              "    <tr>\n",
              "      <th>m1</th>\n",
              "      <td>NaN</td>\n",
              "      <td>143.0</td>\n",
              "    </tr>\n",
              "    <tr>\n",
              "      <th>m10</th>\n",
              "      <td>104.0</td>\n",
              "      <td>441.0</td>\n",
              "    </tr>\n",
              "    <tr>\n",
              "      <th>m100</th>\n",
              "      <td>149.0</td>\n",
              "      <td>776.0</td>\n",
              "    </tr>\n",
              "    <tr>\n",
              "      <th>m101</th>\n",
              "      <td>42.0</td>\n",
              "      <td>452.0</td>\n",
              "    </tr>\n",
              "  </tbody>\n",
              "</table>\n",
              "</div>"
            ],
            "text/plain": [
              "gender        f      m\n",
              "movie_id              \n",
              "m0        278.0  359.0\n",
              "m1          NaN  143.0\n",
              "m10       104.0  441.0\n",
              "m100      149.0  776.0\n",
              "m101       42.0  452.0"
            ]
          },
          "metadata": {
            "tags": []
          },
          "execution_count": 191
        }
      ]
    },
    {
      "metadata": {
        "id": "LdN2gbT4-Dvy",
        "colab_type": "code",
        "colab": {
          "base_uri": "https://localhost:8080/",
          "height": 122
        },
        "outputId": "cd99f110-fe15-48e4-a3d1-a00dbf28bed3"
      },
      "cell_type": "code",
      "source": [
        "#test2.index"
      ],
      "execution_count": 137,
      "outputs": [
        {
          "output_type": "execute_result",
          "data": {
            "text/plain": [
              "Index(['m0', 'm1', 'm10', 'm100', 'm101', 'm102', 'm103', 'm104', 'm105',\n",
              "       'm106',\n",
              "       ...\n",
              "       'm90', 'm91', 'm92', 'm93', 'm94', 'm95', 'm96', 'm97', 'm98', 'm99'],\n",
              "      dtype='object', name='movie_id', length=600)"
            ]
          },
          "metadata": {
            "tags": []
          },
          "execution_count": 137
        }
      ]
    },
    {
      "metadata": {
        "id": "LtJsUVQCDDZJ",
        "colab_type": "code",
        "colab": {
          "base_uri": "https://localhost:8080/",
          "height": 34
        },
        "outputId": "b92814ec-8074-439d-f120-2263453efe88"
      },
      "cell_type": "code",
      "source": [
        "# test2.f['m0']\n",
        "# 'm0' in test2.index\n",
        "# test2.loc['m0'].sum()"
      ],
      "execution_count": 153,
      "outputs": [
        {
          "output_type": "execute_result",
          "data": {
            "text/plain": [
              "637.0"
            ]
          },
          "metadata": {
            "tags": []
          },
          "execution_count": 153
        }
      ]
    },
    {
      "metadata": {
        "id": "fV8aSigjch04",
        "colab_type": "code",
        "colab": {
          "base_uri": "https://localhost:8080/",
          "height": 235
        },
        "outputId": "12d0fd2f-2188-4de2-8231-d7f9cde3f3f7"
      },
      "cell_type": "code",
      "source": [
        "test2 = test2.fillna(0)\n",
        "ratio = []\n",
        "for i in test2.index:\n",
        "#   if test2.f[i]<1:\n",
        "#     print('no')\n",
        "#     ratio.append(0.0)\n",
        "#   elif not test2.m[i]:\n",
        "#     ratio.append(1.0)\n",
        "#   else:\n",
        "  ratio.append(test2.f[i]/test2.loc[i].sum())\n",
        "#print(ratio)\n",
        "test2['line_ratio'] = ratio\n",
        "test2.head()"
      ],
      "execution_count": 197,
      "outputs": [
        {
          "output_type": "execute_result",
          "data": {
            "text/html": [
              "<div>\n",
              "<style scoped>\n",
              "    .dataframe tbody tr th:only-of-type {\n",
              "        vertical-align: middle;\n",
              "    }\n",
              "\n",
              "    .dataframe tbody tr th {\n",
              "        vertical-align: top;\n",
              "    }\n",
              "\n",
              "    .dataframe thead th {\n",
              "        text-align: right;\n",
              "    }\n",
              "</style>\n",
              "<table border=\"1\" class=\"dataframe\">\n",
              "  <thead>\n",
              "    <tr style=\"text-align: right;\">\n",
              "      <th>gender</th>\n",
              "      <th>f</th>\n",
              "      <th>m</th>\n",
              "      <th>line_ratio</th>\n",
              "    </tr>\n",
              "    <tr>\n",
              "      <th>movie_id</th>\n",
              "      <th></th>\n",
              "      <th></th>\n",
              "      <th></th>\n",
              "    </tr>\n",
              "  </thead>\n",
              "  <tbody>\n",
              "    <tr>\n",
              "      <th>m0</th>\n",
              "      <td>278.0</td>\n",
              "      <td>359.0</td>\n",
              "      <td>0.436122</td>\n",
              "    </tr>\n",
              "    <tr>\n",
              "      <th>m1</th>\n",
              "      <td>0.0</td>\n",
              "      <td>143.0</td>\n",
              "      <td>0.000000</td>\n",
              "    </tr>\n",
              "    <tr>\n",
              "      <th>m10</th>\n",
              "      <td>104.0</td>\n",
              "      <td>441.0</td>\n",
              "      <td>0.190759</td>\n",
              "    </tr>\n",
              "    <tr>\n",
              "      <th>m100</th>\n",
              "      <td>149.0</td>\n",
              "      <td>776.0</td>\n",
              "      <td>0.161053</td>\n",
              "    </tr>\n",
              "    <tr>\n",
              "      <th>m101</th>\n",
              "      <td>42.0</td>\n",
              "      <td>452.0</td>\n",
              "      <td>0.085006</td>\n",
              "    </tr>\n",
              "  </tbody>\n",
              "</table>\n",
              "</div>"
            ],
            "text/plain": [
              "gender        f      m  line_ratio\n",
              "movie_id                          \n",
              "m0        278.0  359.0    0.436122\n",
              "m1          0.0  143.0    0.000000\n",
              "m10       104.0  441.0    0.190759\n",
              "m100      149.0  776.0    0.161053\n",
              "m101       42.0  452.0    0.085006"
            ]
          },
          "metadata": {
            "tags": []
          },
          "execution_count": 197
        }
      ]
    },
    {
      "metadata": {
        "id": "yt7fiI0eh920",
        "colab_type": "code",
        "colab": {
          "base_uri": "https://localhost:8080/",
          "height": 34
        },
        "outputId": "e00dcb28-eef3-475e-8147-71e10c03dee5"
      },
      "cell_type": "code",
      "source": [
        "#len(ratio)"
      ],
      "execution_count": 198,
      "outputs": [
        {
          "output_type": "execute_result",
          "data": {
            "text/plain": [
              "600"
            ]
          },
          "metadata": {
            "tags": []
          },
          "execution_count": 198
        }
      ]
    },
    {
      "metadata": {
        "id": "SigDoqulFs9S",
        "colab_type": "code",
        "colab": {}
      },
      "cell_type": "code",
      "source": [
        "test2 = test2.join(metadata.set_index('movie_id'), how='left', on='movie_id')"
      ],
      "execution_count": 0,
      "outputs": []
    },
    {
      "metadata": {
        "id": "xTglmhQeGMS5",
        "colab_type": "code",
        "colab": {
          "base_uri": "https://localhost:8080/",
          "height": 476
        },
        "outputId": "f0342e39-c518-4e99-9dbe-9b8dc3910e5c"
      },
      "cell_type": "code",
      "source": [
        "test2.head()"
      ],
      "execution_count": 200,
      "outputs": [
        {
          "output_type": "execute_result",
          "data": {
            "text/html": [
              "<div>\n",
              "<style scoped>\n",
              "    .dataframe tbody tr th:only-of-type {\n",
              "        vertical-align: middle;\n",
              "    }\n",
              "\n",
              "    .dataframe tbody tr th {\n",
              "        vertical-align: top;\n",
              "    }\n",
              "\n",
              "    .dataframe thead th {\n",
              "        text-align: right;\n",
              "    }\n",
              "</style>\n",
              "<table border=\"1\" class=\"dataframe\">\n",
              "  <thead>\n",
              "    <tr style=\"text-align: right;\">\n",
              "      <th></th>\n",
              "      <th>f</th>\n",
              "      <th>m</th>\n",
              "      <th>line_ratio</th>\n",
              "      <th>movie_title</th>\n",
              "      <th>release_year</th>\n",
              "      <th>avg_rating</th>\n",
              "      <th>num_votes</th>\n",
              "      <th>genres</th>\n",
              "    </tr>\n",
              "    <tr>\n",
              "      <th>movie_id</th>\n",
              "      <th></th>\n",
              "      <th></th>\n",
              "      <th></th>\n",
              "      <th></th>\n",
              "      <th></th>\n",
              "      <th></th>\n",
              "      <th></th>\n",
              "      <th></th>\n",
              "    </tr>\n",
              "  </thead>\n",
              "  <tbody>\n",
              "    <tr>\n",
              "      <th>m0</th>\n",
              "      <td>278.0</td>\n",
              "      <td>359.0</td>\n",
              "      <td>0.436122</td>\n",
              "      <td>10 things i hate about you</td>\n",
              "      <td>1999</td>\n",
              "      <td>6.9</td>\n",
              "      <td>62847</td>\n",
              "      <td>['comedy', 'romance']</td>\n",
              "    </tr>\n",
              "    <tr>\n",
              "      <th>m1</th>\n",
              "      <td>0.0</td>\n",
              "      <td>143.0</td>\n",
              "      <td>0.000000</td>\n",
              "      <td>1492: conquest of paradise</td>\n",
              "      <td>1992</td>\n",
              "      <td>6.2</td>\n",
              "      <td>10421</td>\n",
              "      <td>['adventure', 'biography', 'drama', 'history']</td>\n",
              "    </tr>\n",
              "    <tr>\n",
              "      <th>m10</th>\n",
              "      <td>104.0</td>\n",
              "      <td>441.0</td>\n",
              "      <td>0.190759</td>\n",
              "      <td>affliction</td>\n",
              "      <td>1997</td>\n",
              "      <td>6.9</td>\n",
              "      <td>7252</td>\n",
              "      <td>['drama', 'mystery', 'thriller']</td>\n",
              "    </tr>\n",
              "    <tr>\n",
              "      <th>m100</th>\n",
              "      <td>149.0</td>\n",
              "      <td>776.0</td>\n",
              "      <td>0.161053</td>\n",
              "      <td>innerspace</td>\n",
              "      <td>1987</td>\n",
              "      <td>6.5</td>\n",
              "      <td>16854</td>\n",
              "      <td>['action', 'adventure', 'comedy', 'crime', 'sc...</td>\n",
              "    </tr>\n",
              "    <tr>\n",
              "      <th>m101</th>\n",
              "      <td>42.0</td>\n",
              "      <td>452.0</td>\n",
              "      <td>0.085006</td>\n",
              "      <td>the insider</td>\n",
              "      <td>1999</td>\n",
              "      <td>8.0</td>\n",
              "      <td>69660</td>\n",
              "      <td>['biography', 'drama', 'thriller']</td>\n",
              "    </tr>\n",
              "  </tbody>\n",
              "</table>\n",
              "</div>"
            ],
            "text/plain": [
              "              f      m  line_ratio                 movie_title  release_year  \\\n",
              "movie_id                                                                       \n",
              "m0        278.0  359.0    0.436122  10 things i hate about you          1999   \n",
              "m1          0.0  143.0    0.000000  1492: conquest of paradise          1992   \n",
              "m10       104.0  441.0    0.190759                  affliction          1997   \n",
              "m100      149.0  776.0    0.161053                  innerspace          1987   \n",
              "m101       42.0  452.0    0.085006                 the insider          1999   \n",
              "\n",
              "          avg_rating  num_votes  \\\n",
              "movie_id                          \n",
              "m0               6.9      62847   \n",
              "m1               6.2      10421   \n",
              "m10              6.9       7252   \n",
              "m100             6.5      16854   \n",
              "m101             8.0      69660   \n",
              "\n",
              "                                                     genres  \n",
              "movie_id                                                     \n",
              "m0                                    ['comedy', 'romance']  \n",
              "m1           ['adventure', 'biography', 'drama', 'history']  \n",
              "m10                        ['drama', 'mystery', 'thriller']  \n",
              "m100      ['action', 'adventure', 'comedy', 'crime', 'sc...  \n",
              "m101                     ['biography', 'drama', 'thriller']  "
            ]
          },
          "metadata": {
            "tags": []
          },
          "execution_count": 200
        }
      ]
    },
    {
      "metadata": {
        "id": "YFq6_ErBf0Gr",
        "colab_type": "text"
      },
      "cell_type": "markdown",
      "source": [
        "## 3.1. female presence vs. movie rating"
      ]
    },
    {
      "metadata": {
        "id": "EkCso4CuGUnF",
        "colab_type": "code",
        "colab": {
          "base_uri": "https://localhost:8080/",
          "height": 68
        },
        "outputId": "a0ca6e4c-4a7a-4e4c-ad40-784296471e43"
      },
      "cell_type": "code",
      "source": [
        "test2 = test2.dropna(how='any')\n",
        "print(np.shape(test2))\n",
        "np.corrcoef(test2.line_ratio, test2.avg_rating)"
      ],
      "execution_count": 201,
      "outputs": [
        {
          "output_type": "stream",
          "text": [
            "(600, 8)\n"
          ],
          "name": "stdout"
        },
        {
          "output_type": "execute_result",
          "data": {
            "text/plain": [
              "array([[ 1.        , -0.15924609],\n",
              "       [-0.15924609,  1.        ]])"
            ]
          },
          "metadata": {
            "tags": []
          },
          "execution_count": 201
        }
      ]
    },
    {
      "metadata": {
        "id": "Lcf-GSJ9HRZA",
        "colab_type": "code",
        "colab": {
          "base_uri": "https://localhost:8080/",
          "height": 51
        },
        "outputId": "682832ba-c8bc-4d22-9f66-9b0429dbd501"
      },
      "cell_type": "code",
      "source": [
        "np.corrcoef(test2.m, test2.avg_rating)"
      ],
      "execution_count": 202,
      "outputs": [
        {
          "output_type": "execute_result",
          "data": {
            "text/plain": [
              "array([[1.       , 0.2260272],\n",
              "       [0.2260272, 1.       ]])"
            ]
          },
          "metadata": {
            "tags": []
          },
          "execution_count": 202
        }
      ]
    },
    {
      "metadata": {
        "id": "0Tt4ufOmHXhZ",
        "colab_type": "code",
        "colab": {
          "base_uri": "https://localhost:8080/",
          "height": 51
        },
        "outputId": "979a8125-033f-4136-fd5a-570d36c6166c"
      },
      "cell_type": "code",
      "source": [
        "np.corrcoef(test2.f, test2.avg_rating)"
      ],
      "execution_count": 177,
      "outputs": [
        {
          "output_type": "execute_result",
          "data": {
            "text/plain": [
              "array([[1.        , 0.05324891],\n",
              "       [0.05324891, 1.        ]])"
            ]
          },
          "metadata": {
            "tags": []
          },
          "execution_count": 177
        }
      ]
    },
    {
      "metadata": {
        "id": "D5knWL1SfqPk",
        "colab_type": "text"
      },
      "cell_type": "markdown",
      "source": [
        "### Plots"
      ]
    },
    {
      "metadata": {
        "id": "iUqzxFj5G-Hz",
        "colab_type": "code",
        "colab": {
          "base_uri": "https://localhost:8080/",
          "height": 283
        },
        "outputId": "2a5d5a84-ad0a-442f-ffaa-c7a83f5b365f"
      },
      "cell_type": "code",
      "source": [
        "plt.scatter(test2.line_ratio, test2.avg_rating)\n",
        "plt.xlabel('Female presence')\n",
        "plt.ylabel('Movie rating')\n",
        "plt.show()"
      ],
      "execution_count": 239,
      "outputs": [
        {
          "output_type": "display_data",
          "data": {
            "image/png": "[encoded data removed]",
            "text/plain": [
              "<Figure size 432x288 with 1 Axes>"
            ]
          },
          "metadata": {
            "tags": []
          }
        }
      ]
    },
    {
      "metadata": {
        "id": "YuOnbtyAH6ZH",
        "colab_type": "code",
        "colab": {
          "base_uri": "https://localhost:8080/",
          "height": 317
        },
        "outputId": "cfc74437-2a32-4880-8e97-121a359e264b"
      },
      "cell_type": "code",
      "source": [
        "print(np.corrcoef(test2.line_ratio, test2.num_votes))\n",
        "plt.scatter(test2.line_ratio, test2.num_votes)\n",
        "plt.xlabel('Female presence')\n",
        "plt.ylabel('Number of votes')\n",
        "plt.show()"
      ],
      "execution_count": 240,
      "outputs": [
        {
          "output_type": "stream",
          "text": [
            "[[ 1.         -0.16824728]\n",
            " [-0.16824728  1.        ]]\n"
          ],
          "name": "stdout"
        },
        {
          "output_type": "display_data",
          "data": {
            "image/png": "[encoded data removed]",
            "text/plain": [
              "<Figure size 432x288 with 1 Axes>"
            ]
          },
          "metadata": {
            "tags": []
          }
        }
      ]
    },
    {
      "metadata": {
        "id": "9utpHw1UIKK4",
        "colab_type": "code",
        "colab": {
          "base_uri": "https://localhost:8080/",
          "height": 283
        },
        "outputId": "5dd3c76d-9e08-49b0-b41f-da88b753ac5f"
      },
      "cell_type": "code",
      "source": [
        "plt.scatter(test2.avg_rating, test2.num_votes)\n",
        "plt.xlabel('Movie rating')\n",
        "plt.ylabel('Number of votes')\n",
        "plt.show()"
      ],
      "execution_count": 241,
      "outputs": [
        {
          "output_type": "display_data",
          "data": {
            "image/png": "[encoded data removed]",
            "text/plain": [
              "<Figure size 432x288 with 1 Axes>"
            ]
          },
          "metadata": {
            "tags": []
          }
        }
      ]
    },
    {
      "metadata": {
        "id": "WBY_aS_EcK5A",
        "colab_type": "code",
        "colab": {
          "base_uri": "https://localhost:8080/",
          "height": 295
        },
        "outputId": "aec9f467-9778-43d0-96ab-1c8d9955bdec"
      },
      "cell_type": "code",
      "source": [
        "plt.hist(test2.line_ratio,bins=10,facecolor='#4682B4',edgecolor='white')\n",
        "plt.xlabel('Female presence')\n",
        "plt.ylabel('Count of movies')\n",
        "plt.title('Distribution of female presence (600 movies)')\n",
        "plt.savefig('/content/gdrive/My Drive/EMDS/Hypo3_dist.png')\n",
        "plt.show()"
      ],
      "execution_count": 283,
      "outputs": [
        {
          "output_type": "display_data",
          "data": {
            "image/png": "[encoded data removed]",
            "text/plain": [
              "<Figure size 432x288 with 1 Axes>"
            ]
          },
          "metadata": {
            "tags": []
          }
        }
      ]
    },
    {
      "metadata": {
        "id": "Qsa7Egs0HiS9",
        "colab_type": "code",
        "colab": {
          "base_uri": "https://localhost:8080/",
          "height": 283
        },
        "outputId": "6e5ac1b9-430e-4a9f-b832-ba2777e0c72c"
      },
      "cell_type": "code",
      "source": [
        "ratio_mean = test2.line_ratio.groupby(test2.avg_rating.apply(int)).mean()\n",
        "ratio_count = test2.line_ratio.groupby(test2.avg_rating.apply(int)).count()\n",
        "ratio_std = test2.line_ratio.groupby(test2.avg_rating.apply(int)).std()\n",
        "#plt.plot(range(2,10),ratio_mean)\n",
        "total_mean = test2.line_ratio.mean()\n",
        "total_error = test2.line_ratio.std()/np.sqrt(len(test2))\n",
        "plt.hlines(total_mean, 1, 10, color='k', linestyle='--')\n",
        "plt.fill_between(range(1,11), total_mean-total_error, total_mean+total_error, \n",
        "                 edgecolor = 'grey', facecolor = 'grey', alpha = 0.4)\n",
        "plt.errorbar(range(2,10),ratio_mean, yerr=ratio_std/np.sqrt(ratio_count),marker='.',capsize=3)\n",
        "plt.xlim(1.5,9.5)\n",
        "plt.text(2, 0.24,'Averaged female presence')\n",
        "#plt.legend()\n",
        "plt.ylabel('Female presence')\n",
        "plt.xlabel('Movie ratings')\n",
        "plt.savefig('/content/gdrive/My Drive/EMDS/Hypo3.png')\n",
        "plt.show()"
      ],
      "execution_count": 284,
      "outputs": [
        {
          "output_type": "display_data",
          "data": {
            "image/png": "[encoded data removed]",
            "text/plain": [
              "<Figure size 432x288 with 1 Axes>"
            ]
          },
          "metadata": {
            "tags": []
          }
        }
      ]
    },
    {
      "metadata": {
        "id": "umeN7EtAiRtE",
        "colab_type": "text"
      },
      "cell_type": "markdown",
      "source": [
        "## 3.2. genre or year dependence?"
      ]
    },
    {
      "metadata": {
        "id": "krs5GnbgH1jo",
        "colab_type": "code",
        "colab": {
          "base_uri": "https://localhost:8080/",
          "height": 153
        },
        "outputId": "d1bce219-d9c6-4395-fcb0-ce4e511eb097"
      },
      "cell_type": "code",
      "source": [
        "for i in range(2,10):print(i)"
      ],
      "execution_count": 184,
      "outputs": [
        {
          "output_type": "stream",
          "text": [
            "2\n",
            "3\n",
            "4\n",
            "5\n",
            "6\n",
            "7\n",
            "8\n",
            "9\n"
          ],
          "name": "stdout"
        }
      ]
    },
    {
      "metadata": {
        "id": "8g6iyqUkH1gQ",
        "colab_type": "code",
        "colab": {}
      },
      "cell_type": "code",
      "source": [
        ""
      ],
      "execution_count": 0,
      "outputs": []
    },
    {
      "metadata": {
        "id": "KsGb_wjsH1c7",
        "colab_type": "code",
        "colab": {}
      },
      "cell_type": "code",
      "source": [
        ""
      ],
      "execution_count": 0,
      "outputs": []
    }
  ]
}