{
  "nbformat": 4,
  "nbformat_minor": 0,
  "metadata": {
    "colab": {
      "name": "EMDS_stats.ipynb",
      "version": "0.3.2",
      "provenance": [],
      "collapsed_sections": [],
      "toc_visible": true
    },
    "kernelspec": {
      "name": "python3",
      "display_name": "Python 3"
    },
    "accelerator": "GPU"
  },
  "cells": [
    {
      "metadata": {
        "id": "mAsKKY5XsMdl",
        "colab_type": "text"
      },
      "cell_type": "markdown",
      "source": [
        "# Step 1. Import Data"
      ]
    },
    {
      "metadata": {
        "id": "wsWKPuxNsIjn",
        "colab_type": "code",
        "colab": {
          "base_uri": "https://localhost:8080/",
          "height": 122
        },
        "outputId": "7f0f0ded-7799-4e0b-dfcd-dbfc1f343da1"
      },
      "cell_type": "code",
      "source": [
        "import numpy as np\n",
        "import nltk\n",
        "import pandas as pd\n",
        "\n",
        "from google.colab import drive\n",
        "drive.mount('/content/gdrive')"
      ],
      "execution_count": 2,
      "outputs": [
        {
          "output_type": "stream",
          "text": [
            "Go to this URL in a browser: https://accounts.google.com/o/oauth2/auth?client_id=947318989803-6bn6qk8qdgf4n4g3pfee6491hc0brc4i.apps.googleusercontent.com&redirect_uri=urn%3Aietf%3Awg%3Aoauth%3A2.0%3Aoob&scope=email%20https%3A%2F%2Fwww.googleapis.com%2Fauth%2Fdocs.test%20https%3A%2F%2Fwww.googleapis.com%2Fauth%2Fdrive%20https%3A%2F%2Fwww.googleapis.com%2Fauth%2Fdrive.photos.readonly%20https%3A%2F%2Fwww.googleapis.com%2Fauth%2Fpeopleapi.readonly&response_type=code\n",
            "\n",
            "Enter your authorization code:\n",
            "··········\n",
            "Mounted at /content/gdrive\n"
          ],
          "name": "stdout"
        }
      ]
    },
    {
      "metadata": {
        "id": "1UZPqU5lHMjh",
        "colab_type": "text"
      },
      "cell_type": "markdown",
      "source": [
        "### metadata from movie_titles_metadata"
      ]
    },
    {
      "metadata": {
        "id": "Bgbn547G3CQX",
        "colab_type": "code",
        "colab": {
          "base_uri": "https://localhost:8080/",
          "height": 391
        },
        "outputId": "124e8907-4824-432c-8933-6079a7fd7912"
      },
      "cell_type": "code",
      "source": [
        "# import movie_titles_metadata\n",
        "metadata = pd.read_csv('/content/gdrive/My Drive/EMDS/cornell-movie-dialogs-corpus-new-seperator/movie_titles_metadata.txt', sep='|', header=None, names=[\"movie_id\",\"movie_title\",\"release_year\",\"avg_rating\",\"num_votes\",\"genres\"], encoding = \"ISO-8859-1\")\n",
        "metadata.head()"
      ],
      "execution_count": 3,
      "outputs": [
        {
          "output_type": "execute_result",
          "data": {
            "text/html": [
              "<div>\n",
              "<style scoped>\n",
              "    .dataframe tbody tr th:only-of-type {\n",
              "        vertical-align: middle;\n",
              "    }\n",
              "\n",
              "    .dataframe tbody tr th {\n",
              "        vertical-align: top;\n",
              "    }\n",
              "\n",
              "    .dataframe thead th {\n",
              "        text-align: right;\n",
              "    }\n",
              "</style>\n",
              "<table border=\"1\" class=\"dataframe\">\n",
              "  <thead>\n",
              "    <tr style=\"text-align: right;\">\n",
              "      <th></th>\n",
              "      <th>movie_id</th>\n",
              "      <th>movie_title</th>\n",
              "      <th>release_year</th>\n",
              "      <th>avg_rating</th>\n",
              "      <th>num_votes</th>\n",
              "      <th>genres</th>\n",
              "    </tr>\n",
              "  </thead>\n",
              "  <tbody>\n",
              "    <tr>\n",
              "      <th>0</th>\n",
              "      <td>m0</td>\n",
              "      <td>10 things i hate about you</td>\n",
              "      <td>1999</td>\n",
              "      <td>6.9</td>\n",
              "      <td>62847</td>\n",
              "      <td>['comedy', 'romance']</td>\n",
              "    </tr>\n",
              "    <tr>\n",
              "      <th>1</th>\n",
              "      <td>m1</td>\n",
              "      <td>1492: conquest of paradise</td>\n",
              "      <td>1992</td>\n",
              "      <td>6.2</td>\n",
              "      <td>10421</td>\n",
              "      <td>['adventure', 'biography', 'drama', 'history']</td>\n",
              "    </tr>\n",
              "    <tr>\n",
              "      <th>2</th>\n",
              "      <td>m2</td>\n",
              "      <td>15 minutes</td>\n",
              "      <td>2001</td>\n",
              "      <td>6.1</td>\n",
              "      <td>25854</td>\n",
              "      <td>['action', 'crime', 'drama', 'thriller']</td>\n",
              "    </tr>\n",
              "    <tr>\n",
              "      <th>3</th>\n",
              "      <td>m3</td>\n",
              "      <td>2001: a space odyssey</td>\n",
              "      <td>1968</td>\n",
              "      <td>8.4</td>\n",
              "      <td>163227</td>\n",
              "      <td>['adventure', 'mystery', 'sci-fi']</td>\n",
              "    </tr>\n",
              "    <tr>\n",
              "      <th>4</th>\n",
              "      <td>m4</td>\n",
              "      <td>48 hrs.</td>\n",
              "      <td>1982</td>\n",
              "      <td>6.9</td>\n",
              "      <td>22289</td>\n",
              "      <td>['action', 'comedy', 'crime', 'drama', 'thrill...</td>\n",
              "    </tr>\n",
              "  </tbody>\n",
              "</table>\n",
              "</div>"
            ],
            "text/plain": [
              "  movie_id                 movie_title  release_year  avg_rating  num_votes  \\\n",
              "0       m0  10 things i hate about you          1999         6.9      62847   \n",
              "1       m1  1492: conquest of paradise          1992         6.2      10421   \n",
              "2       m2                  15 minutes          2001         6.1      25854   \n",
              "3       m3       2001: a space odyssey          1968         8.4     163227   \n",
              "4       m4                     48 hrs.          1982         6.9      22289   \n",
              "\n",
              "                                              genres  \n",
              "0                              ['comedy', 'romance']  \n",
              "1     ['adventure', 'biography', 'drama', 'history']  \n",
              "2           ['action', 'crime', 'drama', 'thriller']  \n",
              "3                 ['adventure', 'mystery', 'sci-fi']  \n",
              "4  ['action', 'comedy', 'crime', 'drama', 'thrill...  "
            ]
          },
          "metadata": {
            "tags": []
          },
          "execution_count": 3
        }
      ]
    },
    {
      "metadata": {
        "id": "vic8FubRHQmP",
        "colab_type": "text"
      },
      "cell_type": "markdown",
      "source": [
        "### characters from movie_characters_metadata"
      ]
    },
    {
      "metadata": {
        "id": "u0OOuFvm3WDe",
        "colab_type": "code",
        "colab": {
          "base_uri": "https://localhost:8080/",
          "height": 394
        },
        "outputId": "0da8000c-1b65-4d11-be3d-fd6052a932e1"
      },
      "cell_type": "code",
      "source": [
        "# import movie_characters_metadata\n",
        "characters = pd.read_csv('/content/gdrive/My Drive/EMDS/cornell-movie-dialogs-corpus-new-seperator/movie_characters_metadata.txt',sep='|', header=None, names=[\"character_id\",\"character_name\",\"movie_id\",\"movie_title\",\"gender\",\"position_in_credits\"],encoding = \"ISO-8859-1\")\n",
        "characters.head()"
      ],
      "execution_count": 4,
      "outputs": [
        {
          "output_type": "execute_result",
          "data": {
            "text/html": [
              "<div>\n",
              "<style scoped>\n",
              "    .dataframe tbody tr th:only-of-type {\n",
              "        vertical-align: middle;\n",
              "    }\n",
              "\n",
              "    .dataframe tbody tr th {\n",
              "        vertical-align: top;\n",
              "    }\n",
              "\n",
              "    .dataframe thead th {\n",
              "        text-align: right;\n",
              "    }\n",
              "</style>\n",
              "<table border=\"1\" class=\"dataframe\">\n",
              "  <thead>\n",
              "    <tr style=\"text-align: right;\">\n",
              "      <th></th>\n",
              "      <th>character_id</th>\n",
              "      <th>character_name</th>\n",
              "      <th>movie_id</th>\n",
              "      <th>movie_title</th>\n",
              "      <th>gender</th>\n",
              "      <th>position_in_credits</th>\n",
              "    </tr>\n",
              "  </thead>\n",
              "  <tbody>\n",
              "    <tr>\n",
              "      <th>0</th>\n",
              "      <td>u0</td>\n",
              "      <td>BIANCA</td>\n",
              "      <td>m0</td>\n",
              "      <td>10 things i hate about you</td>\n",
              "      <td>f</td>\n",
              "      <td>4</td>\n",
              "    </tr>\n",
              "    <tr>\n",
              "      <th>1</th>\n",
              "      <td>u1</td>\n",
              "      <td>BRUCE</td>\n",
              "      <td>m0</td>\n",
              "      <td>10 things i hate about you</td>\n",
              "      <td>?</td>\n",
              "      <td>?</td>\n",
              "    </tr>\n",
              "    <tr>\n",
              "      <th>2</th>\n",
              "      <td>u2</td>\n",
              "      <td>CAMERON</td>\n",
              "      <td>m0</td>\n",
              "      <td>10 things i hate about you</td>\n",
              "      <td>m</td>\n",
              "      <td>3</td>\n",
              "    </tr>\n",
              "    <tr>\n",
              "      <th>3</th>\n",
              "      <td>u3</td>\n",
              "      <td>CHASTITY</td>\n",
              "      <td>m0</td>\n",
              "      <td>10 things i hate about you</td>\n",
              "      <td>?</td>\n",
              "      <td>?</td>\n",
              "    </tr>\n",
              "    <tr>\n",
              "      <th>4</th>\n",
              "      <td>u4</td>\n",
              "      <td>JOEY</td>\n",
              "      <td>m0</td>\n",
              "      <td>10 things i hate about you</td>\n",
              "      <td>m</td>\n",
              "      <td>6</td>\n",
              "    </tr>\n",
              "  </tbody>\n",
              "</table>\n",
              "</div>"
            ],
            "text/plain": [
              "  character_id character_name movie_id                 movie_title gender  \\\n",
              "0           u0         BIANCA       m0  10 things i hate about you      f   \n",
              "1           u1          BRUCE       m0  10 things i hate about you      ?   \n",
              "2           u2        CAMERON       m0  10 things i hate about you      m   \n",
              "3           u3       CHASTITY       m0  10 things i hate about you      ?   \n",
              "4           u4           JOEY       m0  10 things i hate about you      m   \n",
              "\n",
              "  position_in_credits  \n",
              "0                   4  \n",
              "1                   ?  \n",
              "2                   3  \n",
              "3                   ?  \n",
              "4                   6  "
            ]
          },
          "metadata": {
            "tags": []
          },
          "execution_count": 4
        }
      ]
    },
    {
      "metadata": {
        "id": "whkeMz24HcBM",
        "colab_type": "text"
      },
      "cell_type": "markdown",
      "source": [
        "### lines from movie_lines"
      ]
    },
    {
      "metadata": {
        "id": "ebLq2vy345nE",
        "colab_type": "code",
        "colab": {
          "base_uri": "https://localhost:8080/",
          "height": 525
        },
        "outputId": "f298d839-d819-43f0-da93-cd5f320bec5c"
      },
      "cell_type": "code",
      "source": [
        "#import movie_lines\n",
        "lines = pd.read_excel('/content/gdrive/My Drive/EMDS/cornell-movie-dialogs-corpus-new-seperator/liwc_results_movie_line.xlsx')\n",
        "lines.head()"
      ],
      "execution_count": 5,
      "outputs": [
        {
          "output_type": "execute_result",
          "data": {
            "text/html": [
              "<div>\n",
              "<style scoped>\n",
              "    .dataframe tbody tr th:only-of-type {\n",
              "        vertical-align: middle;\n",
              "    }\n",
              "\n",
              "    .dataframe tbody tr th {\n",
              "        vertical-align: top;\n",
              "    }\n",
              "\n",
              "    .dataframe thead th {\n",
              "        text-align: right;\n",
              "    }\n",
              "</style>\n",
              "<table border=\"1\" class=\"dataframe\">\n",
              "  <thead>\n",
              "    <tr style=\"text-align: right;\">\n",
              "      <th></th>\n",
              "      <th>line_id</th>\n",
              "      <th>user_id</th>\n",
              "      <th>movie_id</th>\n",
              "      <th>characher_name</th>\n",
              "      <th>line_text</th>\n",
              "      <th>WC</th>\n",
              "      <th>Analytic</th>\n",
              "      <th>Clout</th>\n",
              "      <th>Authentic</th>\n",
              "      <th>Tone</th>\n",
              "      <th>...</th>\n",
              "      <th>Comma</th>\n",
              "      <th>Colon</th>\n",
              "      <th>SemiC</th>\n",
              "      <th>QMark</th>\n",
              "      <th>Exclam</th>\n",
              "      <th>Dash</th>\n",
              "      <th>Quote</th>\n",
              "      <th>Apostro</th>\n",
              "      <th>Parenth</th>\n",
              "      <th>OtherP</th>\n",
              "    </tr>\n",
              "  </thead>\n",
              "  <tbody>\n",
              "    <tr>\n",
              "      <th>0</th>\n",
              "      <td>L229891</td>\n",
              "      <td>u1036</td>\n",
              "      <td>m68</td>\n",
              "      <td>ALEXANDER</td>\n",
              "      <td>By Grabthar's Hammer, this is true. 159 NT. L...</td>\n",
              "      <td>13</td>\n",
              "      <td>42.69</td>\n",
              "      <td>50.00</td>\n",
              "      <td>63.54</td>\n",
              "      <td>99.00</td>\n",
              "      <td>...</td>\n",
              "      <td>7.69</td>\n",
              "      <td>0.0</td>\n",
              "      <td>0.0</td>\n",
              "      <td>0.00</td>\n",
              "      <td>0.0</td>\n",
              "      <td>15.38</td>\n",
              "      <td>0.0</td>\n",
              "      <td>7.69</td>\n",
              "      <td>0.0</td>\n",
              "      <td>0.0</td>\n",
              "    </tr>\n",
              "    <tr>\n",
              "      <th>1</th>\n",
              "      <td>L1000</td>\n",
              "      <td>u11</td>\n",
              "      <td>m0</td>\n",
              "      <td>WALTER</td>\n",
              "      <td>Oh, Christ.  Don't tell me you've changed you...</td>\n",
              "      <td>15</td>\n",
              "      <td>3.09</td>\n",
              "      <td>97.69</td>\n",
              "      <td>98.01</td>\n",
              "      <td>25.77</td>\n",
              "      <td>...</td>\n",
              "      <td>6.67</td>\n",
              "      <td>0.0</td>\n",
              "      <td>0.0</td>\n",
              "      <td>0.00</td>\n",
              "      <td>0.0</td>\n",
              "      <td>0.00</td>\n",
              "      <td>0.0</td>\n",
              "      <td>20.00</td>\n",
              "      <td>0.0</td>\n",
              "      <td>0.0</td>\n",
              "    </tr>\n",
              "    <tr>\n",
              "      <th>2</th>\n",
              "      <td>L10000</td>\n",
              "      <td>u3525</td>\n",
              "      <td>m232</td>\n",
              "      <td>LINDSEY</td>\n",
              "      <td>Oh... chamber runs.  Uh huh, that's good.  We...</td>\n",
              "      <td>14</td>\n",
              "      <td>28.22</td>\n",
              "      <td>99.00</td>\n",
              "      <td>13.15</td>\n",
              "      <td>99.00</td>\n",
              "      <td>...</td>\n",
              "      <td>14.29</td>\n",
              "      <td>0.0</td>\n",
              "      <td>0.0</td>\n",
              "      <td>7.14</td>\n",
              "      <td>0.0</td>\n",
              "      <td>0.00</td>\n",
              "      <td>0.0</td>\n",
              "      <td>7.14</td>\n",
              "      <td>0.0</td>\n",
              "      <td>0.0</td>\n",
              "    </tr>\n",
              "    <tr>\n",
              "      <th>3</th>\n",
              "      <td>L100000</td>\n",
              "      <td>u4168</td>\n",
              "      <td>m278</td>\n",
              "      <td>JOANNE</td>\n",
              "      <td>No.</td>\n",
              "      <td>1</td>\n",
              "      <td>1.00</td>\n",
              "      <td>1.00</td>\n",
              "      <td>1.00</td>\n",
              "      <td>25.77</td>\n",
              "      <td>...</td>\n",
              "      <td>0.00</td>\n",
              "      <td>0.0</td>\n",
              "      <td>0.0</td>\n",
              "      <td>0.00</td>\n",
              "      <td>0.0</td>\n",
              "      <td>0.00</td>\n",
              "      <td>0.0</td>\n",
              "      <td>0.00</td>\n",
              "      <td>0.0</td>\n",
              "      <td>0.0</td>\n",
              "    </tr>\n",
              "    <tr>\n",
              "      <th>4</th>\n",
              "      <td>L100001</td>\n",
              "      <td>u4166</td>\n",
              "      <td>m278</td>\n",
              "      <td>DULANEY</td>\n",
              "      <td>Then why did you go see Mr. Koehler in the fi...</td>\n",
              "      <td>12</td>\n",
              "      <td>60.80</td>\n",
              "      <td>95.20</td>\n",
              "      <td>99.00</td>\n",
              "      <td>25.77</td>\n",
              "      <td>...</td>\n",
              "      <td>0.00</td>\n",
              "      <td>0.0</td>\n",
              "      <td>0.0</td>\n",
              "      <td>8.33</td>\n",
              "      <td>0.0</td>\n",
              "      <td>0.00</td>\n",
              "      <td>0.0</td>\n",
              "      <td>0.00</td>\n",
              "      <td>0.0</td>\n",
              "      <td>0.0</td>\n",
              "    </tr>\n",
              "  </tbody>\n",
              "</table>\n",
              "<p>5 rows × 98 columns</p>\n",
              "</div>"
            ],
            "text/plain": [
              "     line_id   user_id movie_id characher_name  \\\n",
              "0  L229891     u1036      m68      ALEXANDER     \n",
              "1    L1000       u11       m0         WALTER     \n",
              "2   L10000     u3525     m232        LINDSEY     \n",
              "3  L100000     u4168     m278         JOANNE     \n",
              "4  L100001     u4166     m278        DULANEY     \n",
              "\n",
              "                                           line_text  WC  Analytic  Clout  \\\n",
              "0   By Grabthar's Hammer, this is true. 159 NT. L...  13     42.69  50.00   \n",
              "1   Oh, Christ.  Don't tell me you've changed you...  15      3.09  97.69   \n",
              "2   Oh... chamber runs.  Uh huh, that's good.  We...  14     28.22  99.00   \n",
              "3                                                No.   1      1.00   1.00   \n",
              "4   Then why did you go see Mr. Koehler in the fi...  12     60.80  95.20   \n",
              "\n",
              "   Authentic   Tone  ...  Comma  Colon  SemiC  QMark  Exclam   Dash  Quote  \\\n",
              "0      63.54  99.00  ...   7.69    0.0    0.0   0.00     0.0  15.38    0.0   \n",
              "1      98.01  25.77  ...   6.67    0.0    0.0   0.00     0.0   0.00    0.0   \n",
              "2      13.15  99.00  ...  14.29    0.0    0.0   7.14     0.0   0.00    0.0   \n",
              "3       1.00  25.77  ...   0.00    0.0    0.0   0.00     0.0   0.00    0.0   \n",
              "4      99.00  25.77  ...   0.00    0.0    0.0   8.33     0.0   0.00    0.0   \n",
              "\n",
              "   Apostro  Parenth  OtherP  \n",
              "0     7.69      0.0     0.0  \n",
              "1    20.00      0.0     0.0  \n",
              "2     7.14      0.0     0.0  \n",
              "3     0.00      0.0     0.0  \n",
              "4     0.00      0.0     0.0  \n",
              "\n",
              "[5 rows x 98 columns]"
            ]
          },
          "metadata": {
            "tags": []
          },
          "execution_count": 5
        }
      ]
    },
    {
      "metadata": {
        "id": "4EzRF47alRYI",
        "colab_type": "code",
        "colab": {
          "base_uri": "https://localhost:8080/",
          "height": 289
        },
        "outputId": "bef47b4e-3bd9-44fb-afbd-dd4f4cc709fe"
      },
      "cell_type": "code",
      "source": [
        "lines = lines.loc[:,:'line_text']\n",
        "lines = lines.rename(columns={\"user_id\":\"character_id\"})\n",
        "lines.head()"
      ],
      "execution_count": 6,
      "outputs": [
        {
          "output_type": "execute_result",
          "data": {
            "text/html": [
              "<div>\n",
              "<style scoped>\n",
              "    .dataframe tbody tr th:only-of-type {\n",
              "        vertical-align: middle;\n",
              "    }\n",
              "\n",
              "    .dataframe tbody tr th {\n",
              "        vertical-align: top;\n",
              "    }\n",
              "\n",
              "    .dataframe thead th {\n",
              "        text-align: right;\n",
              "    }\n",
              "</style>\n",
              "<table border=\"1\" class=\"dataframe\">\n",
              "  <thead>\n",
              "    <tr style=\"text-align: right;\">\n",
              "      <th></th>\n",
              "      <th>line_id</th>\n",
              "      <th>character_id</th>\n",
              "      <th>movie_id</th>\n",
              "      <th>characher_name</th>\n",
              "      <th>line_text</th>\n",
              "    </tr>\n",
              "  </thead>\n",
              "  <tbody>\n",
              "    <tr>\n",
              "      <th>0</th>\n",
              "      <td>L229891</td>\n",
              "      <td>u1036</td>\n",
              "      <td>m68</td>\n",
              "      <td>ALEXANDER</td>\n",
              "      <td>By Grabthar's Hammer, this is true. 159 NT. L...</td>\n",
              "    </tr>\n",
              "    <tr>\n",
              "      <th>1</th>\n",
              "      <td>L1000</td>\n",
              "      <td>u11</td>\n",
              "      <td>m0</td>\n",
              "      <td>WALTER</td>\n",
              "      <td>Oh, Christ.  Don't tell me you've changed you...</td>\n",
              "    </tr>\n",
              "    <tr>\n",
              "      <th>2</th>\n",
              "      <td>L10000</td>\n",
              "      <td>u3525</td>\n",
              "      <td>m232</td>\n",
              "      <td>LINDSEY</td>\n",
              "      <td>Oh... chamber runs.  Uh huh, that's good.  We...</td>\n",
              "    </tr>\n",
              "    <tr>\n",
              "      <th>3</th>\n",
              "      <td>L100000</td>\n",
              "      <td>u4168</td>\n",
              "      <td>m278</td>\n",
              "      <td>JOANNE</td>\n",
              "      <td>No.</td>\n",
              "    </tr>\n",
              "    <tr>\n",
              "      <th>4</th>\n",
              "      <td>L100001</td>\n",
              "      <td>u4166</td>\n",
              "      <td>m278</td>\n",
              "      <td>DULANEY</td>\n",
              "      <td>Then why did you go see Mr. Koehler in the fi...</td>\n",
              "    </tr>\n",
              "  </tbody>\n",
              "</table>\n",
              "</div>"
            ],
            "text/plain": [
              "     line_id character_id movie_id characher_name  \\\n",
              "0  L229891        u1036      m68      ALEXANDER     \n",
              "1    L1000          u11       m0         WALTER     \n",
              "2   L10000        u3525     m232        LINDSEY     \n",
              "3  L100000        u4168     m278         JOANNE     \n",
              "4  L100001        u4166     m278        DULANEY     \n",
              "\n",
              "                                           line_text  \n",
              "0   By Grabthar's Hammer, this is true. 159 NT. L...  \n",
              "1   Oh, Christ.  Don't tell me you've changed you...  \n",
              "2   Oh... chamber runs.  Uh huh, that's good.  We...  \n",
              "3                                                No.  \n",
              "4   Then why did you go see Mr. Koehler in the fi...  "
            ]
          },
          "metadata": {
            "tags": []
          },
          "execution_count": 6
        }
      ]
    },
    {
      "metadata": {
        "id": "Pn2ksx63mm2E",
        "colab_type": "code",
        "colab": {
          "base_uri": "https://localhost:8080/",
          "height": 289
        },
        "outputId": "838bc00e-238d-4de3-c43f-92b9a3f1372a"
      },
      "cell_type": "code",
      "source": [
        "lines['line_id'] = lines['line_id'].str.strip()\n",
        "lines['character_id'] = lines['character_id'].str.strip()\n",
        "lines['movie_id'] = lines['movie_id'].str.strip()\n",
        "lines.head()"
      ],
      "execution_count": 7,
      "outputs": [
        {
          "output_type": "execute_result",
          "data": {
            "text/html": [
              "<div>\n",
              "<style scoped>\n",
              "    .dataframe tbody tr th:only-of-type {\n",
              "        vertical-align: middle;\n",
              "    }\n",
              "\n",
              "    .dataframe tbody tr th {\n",
              "        vertical-align: top;\n",
              "    }\n",
              "\n",
              "    .dataframe thead th {\n",
              "        text-align: right;\n",
              "    }\n",
              "</style>\n",
              "<table border=\"1\" class=\"dataframe\">\n",
              "  <thead>\n",
              "    <tr style=\"text-align: right;\">\n",
              "      <th></th>\n",
              "      <th>line_id</th>\n",
              "      <th>character_id</th>\n",
              "      <th>movie_id</th>\n",
              "      <th>characher_name</th>\n",
              "      <th>line_text</th>\n",
              "    </tr>\n",
              "  </thead>\n",
              "  <tbody>\n",
              "    <tr>\n",
              "      <th>0</th>\n",
              "      <td>L229891</td>\n",
              "      <td>u1036</td>\n",
              "      <td>m68</td>\n",
              "      <td>ALEXANDER</td>\n",
              "      <td>By Grabthar's Hammer, this is true. 159 NT. L...</td>\n",
              "    </tr>\n",
              "    <tr>\n",
              "      <th>1</th>\n",
              "      <td>L1000</td>\n",
              "      <td>u11</td>\n",
              "      <td>m0</td>\n",
              "      <td>WALTER</td>\n",
              "      <td>Oh, Christ.  Don't tell me you've changed you...</td>\n",
              "    </tr>\n",
              "    <tr>\n",
              "      <th>2</th>\n",
              "      <td>L10000</td>\n",
              "      <td>u3525</td>\n",
              "      <td>m232</td>\n",
              "      <td>LINDSEY</td>\n",
              "      <td>Oh... chamber runs.  Uh huh, that's good.  We...</td>\n",
              "    </tr>\n",
              "    <tr>\n",
              "      <th>3</th>\n",
              "      <td>L100000</td>\n",
              "      <td>u4168</td>\n",
              "      <td>m278</td>\n",
              "      <td>JOANNE</td>\n",
              "      <td>No.</td>\n",
              "    </tr>\n",
              "    <tr>\n",
              "      <th>4</th>\n",
              "      <td>L100001</td>\n",
              "      <td>u4166</td>\n",
              "      <td>m278</td>\n",
              "      <td>DULANEY</td>\n",
              "      <td>Then why did you go see Mr. Koehler in the fi...</td>\n",
              "    </tr>\n",
              "  </tbody>\n",
              "</table>\n",
              "</div>"
            ],
            "text/plain": [
              "   line_id character_id movie_id characher_name  \\\n",
              "0  L229891        u1036      m68    ALEXANDER     \n",
              "1    L1000          u11       m0       WALTER     \n",
              "2   L10000        u3525     m232      LINDSEY     \n",
              "3  L100000        u4168     m278       JOANNE     \n",
              "4  L100001        u4166     m278      DULANEY     \n",
              "\n",
              "                                           line_text  \n",
              "0   By Grabthar's Hammer, this is true. 159 NT. L...  \n",
              "1   Oh, Christ.  Don't tell me you've changed you...  \n",
              "2   Oh... chamber runs.  Uh huh, that's good.  We...  \n",
              "3                                                No.  \n",
              "4   Then why did you go see Mr. Koehler in the fi...  "
            ]
          },
          "metadata": {
            "tags": []
          },
          "execution_count": 7
        }
      ]
    },
    {
      "metadata": {
        "id": "ybRkp221HeTW",
        "colab_type": "text"
      },
      "cell_type": "markdown",
      "source": [
        "### conversations from movie_conversations"
      ]
    },
    {
      "metadata": {
        "id": "jerZOTZuh6hY",
        "colab_type": "code",
        "colab": {
          "base_uri": "https://localhost:8080/",
          "height": 255
        },
        "outputId": "0d5b7268-7c97-4c2a-c700-99b6832c8b14"
      },
      "cell_type": "code",
      "source": [
        "# import movie_conversations\n",
        "conversations = pd.read_csv('/content/gdrive/My Drive/EMDS/cornell-movie-dialogs-corpus-new-seperator/movie_conversations.txt',sep='|', header=None,names=[\"character_id_first\",\"character_id_second\", \"movie_id\",\"list_of_text\"],encoding = \"ISO-8859-1\")\n",
        "conversations.head()"
      ],
      "execution_count": 8,
      "outputs": [
        {
          "output_type": "execute_result",
          "data": {
            "text/html": [
              "<div>\n",
              "<style scoped>\n",
              "    .dataframe tbody tr th:only-of-type {\n",
              "        vertical-align: middle;\n",
              "    }\n",
              "\n",
              "    .dataframe tbody tr th {\n",
              "        vertical-align: top;\n",
              "    }\n",
              "\n",
              "    .dataframe thead th {\n",
              "        text-align: right;\n",
              "    }\n",
              "</style>\n",
              "<table border=\"1\" class=\"dataframe\">\n",
              "  <thead>\n",
              "    <tr style=\"text-align: right;\">\n",
              "      <th></th>\n",
              "      <th>character_id_first</th>\n",
              "      <th>character_id_second</th>\n",
              "      <th>movie_id</th>\n",
              "      <th>list_of_text</th>\n",
              "    </tr>\n",
              "  </thead>\n",
              "  <tbody>\n",
              "    <tr>\n",
              "      <th>0</th>\n",
              "      <td>u0</td>\n",
              "      <td>u2</td>\n",
              "      <td>m0</td>\n",
              "      <td>['L194', 'L195', 'L196', 'L197']</td>\n",
              "    </tr>\n",
              "    <tr>\n",
              "      <th>1</th>\n",
              "      <td>u0</td>\n",
              "      <td>u2</td>\n",
              "      <td>m0</td>\n",
              "      <td>['L198', 'L199']</td>\n",
              "    </tr>\n",
              "    <tr>\n",
              "      <th>2</th>\n",
              "      <td>u0</td>\n",
              "      <td>u2</td>\n",
              "      <td>m0</td>\n",
              "      <td>['L200', 'L201', 'L202', 'L203']</td>\n",
              "    </tr>\n",
              "    <tr>\n",
              "      <th>3</th>\n",
              "      <td>u0</td>\n",
              "      <td>u2</td>\n",
              "      <td>m0</td>\n",
              "      <td>['L204', 'L205', 'L206']</td>\n",
              "    </tr>\n",
              "    <tr>\n",
              "      <th>4</th>\n",
              "      <td>u0</td>\n",
              "      <td>u2</td>\n",
              "      <td>m0</td>\n",
              "      <td>['L207', 'L208']</td>\n",
              "    </tr>\n",
              "  </tbody>\n",
              "</table>\n",
              "</div>"
            ],
            "text/plain": [
              "  character_id_first character_id_second movie_id  \\\n",
              "0                 u0                  u2       m0   \n",
              "1                 u0                  u2       m0   \n",
              "2                 u0                  u2       m0   \n",
              "3                 u0                  u2       m0   \n",
              "4                 u0                  u2       m0   \n",
              "\n",
              "                       list_of_text  \n",
              "0  ['L194', 'L195', 'L196', 'L197']  \n",
              "1                  ['L198', 'L199']  \n",
              "2  ['L200', 'L201', 'L202', 'L203']  \n",
              "3          ['L204', 'L205', 'L206']  \n",
              "4                  ['L207', 'L208']  "
            ]
          },
          "metadata": {
            "tags": []
          },
          "execution_count": 8
        }
      ]
    },
    {
      "metadata": {
        "id": "oWPtdvZKxwty",
        "colab_type": "text"
      },
      "cell_type": "markdown",
      "source": [
        "# Hypo 2\n",
        "考虑性别差异，genre差异 \n",
        "* 女性在dramatic/romantic里台词更多\n",
        "* 女性在dramatic/romantic里角色更重要\n",
        "\n",
        "方法：\n",
        "* 统计男女性台词(#words, #lines)\n",
        "* 对话中starter vs. respond性别 <br>\n",
        "lead: 台词长度。mentions in other dialogues."
      ]
    },
    {
      "metadata": {
        "id": "jb0-q3xe58Vz",
        "colab_type": "text"
      },
      "cell_type": "markdown",
      "source": [
        "## 2.1. Gender gap in #lines/words"
      ]
    },
    {
      "metadata": {
        "id": "eD1i-SVen9oi",
        "colab_type": "code",
        "colab": {
          "base_uri": "https://localhost:8080/",
          "height": 428
        },
        "outputId": "e7a9d8dd-6bcf-424b-c192-99f6dae244c3"
      },
      "cell_type": "code",
      "source": [
        "character_line = pd.merge(characters, lines, on='character_id')\n",
        "character_line.head()"
      ],
      "execution_count": 9,
      "outputs": [
        {
          "output_type": "execute_result",
          "data": {
            "text/html": [
              "<div>\n",
              "<style scoped>\n",
              "    .dataframe tbody tr th:only-of-type {\n",
              "        vertical-align: middle;\n",
              "    }\n",
              "\n",
              "    .dataframe tbody tr th {\n",
              "        vertical-align: top;\n",
              "    }\n",
              "\n",
              "    .dataframe thead th {\n",
              "        text-align: right;\n",
              "    }\n",
              "</style>\n",
              "<table border=\"1\" class=\"dataframe\">\n",
              "  <thead>\n",
              "    <tr style=\"text-align: right;\">\n",
              "      <th></th>\n",
              "      <th>character_id</th>\n",
              "      <th>character_name</th>\n",
              "      <th>movie_id_x</th>\n",
              "      <th>movie_title</th>\n",
              "      <th>gender</th>\n",
              "      <th>position_in_credits</th>\n",
              "      <th>line_id</th>\n",
              "      <th>movie_id_y</th>\n",
              "      <th>characher_name</th>\n",
              "      <th>line_text</th>\n",
              "    </tr>\n",
              "  </thead>\n",
              "  <tbody>\n",
              "    <tr>\n",
              "      <th>0</th>\n",
              "      <td>u0</td>\n",
              "      <td>BIANCA</td>\n",
              "      <td>m0</td>\n",
              "      <td>10 things i hate about you</td>\n",
              "      <td>f</td>\n",
              "      <td>4</td>\n",
              "      <td>L1007</td>\n",
              "      <td>m0</td>\n",
              "      <td>BIANCA</td>\n",
              "      <td>Let go!</td>\n",
              "    </tr>\n",
              "    <tr>\n",
              "      <th>1</th>\n",
              "      <td>u0</td>\n",
              "      <td>BIANCA</td>\n",
              "      <td>m0</td>\n",
              "      <td>10 things i hate about you</td>\n",
              "      <td>f</td>\n",
              "      <td>4</td>\n",
              "      <td>L1009</td>\n",
              "      <td>m0</td>\n",
              "      <td>BIANCA</td>\n",
              "      <td>I just wanted --</td>\n",
              "    </tr>\n",
              "    <tr>\n",
              "      <th>2</th>\n",
              "      <td>u0</td>\n",
              "      <td>BIANCA</td>\n",
              "      <td>m0</td>\n",
              "      <td>10 things i hate about you</td>\n",
              "      <td>f</td>\n",
              "      <td>4</td>\n",
              "      <td>L1011</td>\n",
              "      <td>m0</td>\n",
              "      <td>BIANCA</td>\n",
              "      <td>No! I just wanted</td>\n",
              "    </tr>\n",
              "    <tr>\n",
              "      <th>3</th>\n",
              "      <td>u0</td>\n",
              "      <td>BIANCA</td>\n",
              "      <td>m0</td>\n",
              "      <td>10 things i hate about you</td>\n",
              "      <td>f</td>\n",
              "      <td>4</td>\n",
              "      <td>L1021</td>\n",
              "      <td>m0</td>\n",
              "      <td>BIANCA</td>\n",
              "      <td>Is that woman a complete fruit-loop or is it ...</td>\n",
              "    </tr>\n",
              "    <tr>\n",
              "      <th>4</th>\n",
              "      <td>u0</td>\n",
              "      <td>BIANCA</td>\n",
              "      <td>m0</td>\n",
              "      <td>10 things i hate about you</td>\n",
              "      <td>f</td>\n",
              "      <td>4</td>\n",
              "      <td>L1045</td>\n",
              "      <td>m0</td>\n",
              "      <td>BIANCA</td>\n",
              "      <td>They do not!</td>\n",
              "    </tr>\n",
              "  </tbody>\n",
              "</table>\n",
              "</div>"
            ],
            "text/plain": [
              "  character_id character_name movie_id_x                 movie_title gender  \\\n",
              "0           u0         BIANCA         m0  10 things i hate about you      f   \n",
              "1           u0         BIANCA         m0  10 things i hate about you      f   \n",
              "2           u0         BIANCA         m0  10 things i hate about you      f   \n",
              "3           u0         BIANCA         m0  10 things i hate about you      f   \n",
              "4           u0         BIANCA         m0  10 things i hate about you      f   \n",
              "\n",
              "  position_in_credits line_id movie_id_y characher_name  \\\n",
              "0                   4   L1007         m0       BIANCA     \n",
              "1                   4   L1009         m0       BIANCA     \n",
              "2                   4   L1011         m0       BIANCA     \n",
              "3                   4   L1021         m0       BIANCA     \n",
              "4                   4   L1045         m0       BIANCA     \n",
              "\n",
              "                                           line_text  \n",
              "0                                            Let go!  \n",
              "1                                   I just wanted --  \n",
              "2                                  No! I just wanted  \n",
              "3   Is that woman a complete fruit-loop or is it ...  \n",
              "4                                       They do not!  "
            ]
          },
          "metadata": {
            "tags": []
          },
          "execution_count": 9
        }
      ]
    },
    {
      "metadata": {
        "id": "B1yj8odVoeMx",
        "colab_type": "code",
        "colab": {
          "base_uri": "https://localhost:8080/",
          "height": 34
        },
        "outputId": "cec135a1-c7f1-4095-86ab-bbad6daead3d"
      },
      "cell_type": "code",
      "source": [
        "set(character_line.gender)"
      ],
      "execution_count": 10,
      "outputs": [
        {
          "output_type": "execute_result",
          "data": {
            "text/plain": [
              "{'?', 'F', 'M', 'f', 'm'}"
            ]
          },
          "metadata": {
            "tags": []
          },
          "execution_count": 10
        }
      ]
    },
    {
      "metadata": {
        "id": "-cTs22FUoX8r",
        "colab_type": "code",
        "colab": {}
      },
      "cell_type": "code",
      "source": [
        "character_line = character_line[character_line.gender != '?']"
      ],
      "execution_count": 0,
      "outputs": []
    },
    {
      "metadata": {
        "id": "Mwr3Rjb9oiuz",
        "colab_type": "code",
        "colab": {
          "base_uri": "https://localhost:8080/",
          "height": 34
        },
        "outputId": "ef2d2a64-43f1-4fb1-e854-be3c14534a32"
      },
      "cell_type": "code",
      "source": [
        "set(character_line.gender)"
      ],
      "execution_count": 12,
      "outputs": [
        {
          "output_type": "execute_result",
          "data": {
            "text/plain": [
              "{'F', 'M', 'f', 'm'}"
            ]
          },
          "metadata": {
            "tags": []
          },
          "execution_count": 12
        }
      ]
    },
    {
      "metadata": {
        "id": "8TUfPM7SrFTA",
        "colab_type": "code",
        "colab": {
          "base_uri": "https://localhost:8080/",
          "height": 428
        },
        "outputId": "d133e212-297f-4e4a-f5ae-67d3a561c5e1"
      },
      "cell_type": "code",
      "source": [
        "no_words = character_line.line_text.str.split().str.len()\n",
        "character_line['no_words'] = pd.Series(no_words, index = character_line.index)\n",
        "character_line.head()"
      ],
      "execution_count": 13,
      "outputs": [
        {
          "output_type": "execute_result",
          "data": {
            "text/html": [
              "<div>\n",
              "<style scoped>\n",
              "    .dataframe tbody tr th:only-of-type {\n",
              "        vertical-align: middle;\n",
              "    }\n",
              "\n",
              "    .dataframe tbody tr th {\n",
              "        vertical-align: top;\n",
              "    }\n",
              "\n",
              "    .dataframe thead th {\n",
              "        text-align: right;\n",
              "    }\n",
              "</style>\n",
              "<table border=\"1\" class=\"dataframe\">\n",
              "  <thead>\n",
              "    <tr style=\"text-align: right;\">\n",
              "      <th></th>\n",
              "      <th>character_id</th>\n",
              "      <th>character_name</th>\n",
              "      <th>movie_id_x</th>\n",
              "      <th>movie_title</th>\n",
              "      <th>gender</th>\n",
              "      <th>position_in_credits</th>\n",
              "      <th>line_id</th>\n",
              "      <th>movie_id_y</th>\n",
              "      <th>characher_name</th>\n",
              "      <th>line_text</th>\n",
              "      <th>no_words</th>\n",
              "    </tr>\n",
              "  </thead>\n",
              "  <tbody>\n",
              "    <tr>\n",
              "      <th>0</th>\n",
              "      <td>u0</td>\n",
              "      <td>BIANCA</td>\n",
              "      <td>m0</td>\n",
              "      <td>10 things i hate about you</td>\n",
              "      <td>f</td>\n",
              "      <td>4</td>\n",
              "      <td>L1007</td>\n",
              "      <td>m0</td>\n",
              "      <td>BIANCA</td>\n",
              "      <td>Let go!</td>\n",
              "      <td>2</td>\n",
              "    </tr>\n",
              "    <tr>\n",
              "      <th>1</th>\n",
              "      <td>u0</td>\n",
              "      <td>BIANCA</td>\n",
              "      <td>m0</td>\n",
              "      <td>10 things i hate about you</td>\n",
              "      <td>f</td>\n",
              "      <td>4</td>\n",
              "      <td>L1009</td>\n",
              "      <td>m0</td>\n",
              "      <td>BIANCA</td>\n",
              "      <td>I just wanted --</td>\n",
              "      <td>4</td>\n",
              "    </tr>\n",
              "    <tr>\n",
              "      <th>2</th>\n",
              "      <td>u0</td>\n",
              "      <td>BIANCA</td>\n",
              "      <td>m0</td>\n",
              "      <td>10 things i hate about you</td>\n",
              "      <td>f</td>\n",
              "      <td>4</td>\n",
              "      <td>L1011</td>\n",
              "      <td>m0</td>\n",
              "      <td>BIANCA</td>\n",
              "      <td>No! I just wanted</td>\n",
              "      <td>4</td>\n",
              "    </tr>\n",
              "    <tr>\n",
              "      <th>3</th>\n",
              "      <td>u0</td>\n",
              "      <td>BIANCA</td>\n",
              "      <td>m0</td>\n",
              "      <td>10 things i hate about you</td>\n",
              "      <td>f</td>\n",
              "      <td>4</td>\n",
              "      <td>L1021</td>\n",
              "      <td>m0</td>\n",
              "      <td>BIANCA</td>\n",
              "      <td>Is that woman a complete fruit-loop or is it ...</td>\n",
              "      <td>11</td>\n",
              "    </tr>\n",
              "    <tr>\n",
              "      <th>4</th>\n",
              "      <td>u0</td>\n",
              "      <td>BIANCA</td>\n",
              "      <td>m0</td>\n",
              "      <td>10 things i hate about you</td>\n",
              "      <td>f</td>\n",
              "      <td>4</td>\n",
              "      <td>L1045</td>\n",
              "      <td>m0</td>\n",
              "      <td>BIANCA</td>\n",
              "      <td>They do not!</td>\n",
              "      <td>3</td>\n",
              "    </tr>\n",
              "  </tbody>\n",
              "</table>\n",
              "</div>"
            ],
            "text/plain": [
              "  character_id character_name movie_id_x                 movie_title gender  \\\n",
              "0           u0         BIANCA         m0  10 things i hate about you      f   \n",
              "1           u0         BIANCA         m0  10 things i hate about you      f   \n",
              "2           u0         BIANCA         m0  10 things i hate about you      f   \n",
              "3           u0         BIANCA         m0  10 things i hate about you      f   \n",
              "4           u0         BIANCA         m0  10 things i hate about you      f   \n",
              "\n",
              "  position_in_credits line_id movie_id_y characher_name  \\\n",
              "0                   4   L1007         m0       BIANCA     \n",
              "1                   4   L1009         m0       BIANCA     \n",
              "2                   4   L1011         m0       BIANCA     \n",
              "3                   4   L1021         m0       BIANCA     \n",
              "4                   4   L1045         m0       BIANCA     \n",
              "\n",
              "                                           line_text  no_words  \n",
              "0                                            Let go!         2  \n",
              "1                                   I just wanted --         4  \n",
              "2                                  No! I just wanted         4  \n",
              "3   Is that woman a complete fruit-loop or is it ...        11  \n",
              "4                                       They do not!         3  "
            ]
          },
          "metadata": {
            "tags": []
          },
          "execution_count": 13
        }
      ]
    },
    {
      "metadata": {
        "id": "rlfNRDfSoxlp",
        "colab_type": "code",
        "colab": {
          "base_uri": "https://localhost:8080/",
          "height": 377
        },
        "outputId": "f1062a34-89cc-4ba7-d98a-d8ac80e0979a"
      },
      "cell_type": "code",
      "source": [
        "if character_line.movie_id_x.equals(character_line.movie_id_y):\n",
        "  character_line.drop(columns=['movie_id_x'])\n",
        "  character_line = character_line.rename(columns={\"movie_id_y\":\"movie_id\"})\n",
        "  print(character_line.head())"
      ],
      "execution_count": 14,
      "outputs": [
        {
          "output_type": "stream",
          "text": [
            "  character_id character_name movie_id_x                 movie_title gender  \\\n",
            "0           u0         BIANCA         m0  10 things i hate about you      f   \n",
            "1           u0         BIANCA         m0  10 things i hate about you      f   \n",
            "2           u0         BIANCA         m0  10 things i hate about you      f   \n",
            "3           u0         BIANCA         m0  10 things i hate about you      f   \n",
            "4           u0         BIANCA         m0  10 things i hate about you      f   \n",
            "\n",
            "  position_in_credits line_id movie_id characher_name  \\\n",
            "0                   4   L1007       m0       BIANCA     \n",
            "1                   4   L1009       m0       BIANCA     \n",
            "2                   4   L1011       m0       BIANCA     \n",
            "3                   4   L1021       m0       BIANCA     \n",
            "4                   4   L1045       m0       BIANCA     \n",
            "\n",
            "                                           line_text  no_words  \n",
            "0                                            Let go!         2  \n",
            "1                                   I just wanted --         4  \n",
            "2                                  No! I just wanted         4  \n",
            "3   Is that woman a complete fruit-loop or is it ...        11  \n",
            "4                                       They do not!         3  \n"
          ],
          "name": "stdout"
        }
      ]
    },
    {
      "metadata": {
        "id": "1koIlXWgqVCO",
        "colab_type": "code",
        "colab": {
          "base_uri": "https://localhost:8080/",
          "height": 428
        },
        "outputId": "d575c857-b23c-42ef-df91-d2a72ea39ada"
      },
      "cell_type": "code",
      "source": [
        "character_line = character_line.drop(columns='movie_id_x')\n",
        "character_line.head()"
      ],
      "execution_count": 15,
      "outputs": [
        {
          "output_type": "execute_result",
          "data": {
            "text/html": [
              "<div>\n",
              "<style scoped>\n",
              "    .dataframe tbody tr th:only-of-type {\n",
              "        vertical-align: middle;\n",
              "    }\n",
              "\n",
              "    .dataframe tbody tr th {\n",
              "        vertical-align: top;\n",
              "    }\n",
              "\n",
              "    .dataframe thead th {\n",
              "        text-align: right;\n",
              "    }\n",
              "</style>\n",
              "<table border=\"1\" class=\"dataframe\">\n",
              "  <thead>\n",
              "    <tr style=\"text-align: right;\">\n",
              "      <th></th>\n",
              "      <th>character_id</th>\n",
              "      <th>character_name</th>\n",
              "      <th>movie_title</th>\n",
              "      <th>gender</th>\n",
              "      <th>position_in_credits</th>\n",
              "      <th>line_id</th>\n",
              "      <th>movie_id</th>\n",
              "      <th>characher_name</th>\n",
              "      <th>line_text</th>\n",
              "      <th>no_words</th>\n",
              "    </tr>\n",
              "  </thead>\n",
              "  <tbody>\n",
              "    <tr>\n",
              "      <th>0</th>\n",
              "      <td>u0</td>\n",
              "      <td>BIANCA</td>\n",
              "      <td>10 things i hate about you</td>\n",
              "      <td>f</td>\n",
              "      <td>4</td>\n",
              "      <td>L1007</td>\n",
              "      <td>m0</td>\n",
              "      <td>BIANCA</td>\n",
              "      <td>Let go!</td>\n",
              "      <td>2</td>\n",
              "    </tr>\n",
              "    <tr>\n",
              "      <th>1</th>\n",
              "      <td>u0</td>\n",
              "      <td>BIANCA</td>\n",
              "      <td>10 things i hate about you</td>\n",
              "      <td>f</td>\n",
              "      <td>4</td>\n",
              "      <td>L1009</td>\n",
              "      <td>m0</td>\n",
              "      <td>BIANCA</td>\n",
              "      <td>I just wanted --</td>\n",
              "      <td>4</td>\n",
              "    </tr>\n",
              "    <tr>\n",
              "      <th>2</th>\n",
              "      <td>u0</td>\n",
              "      <td>BIANCA</td>\n",
              "      <td>10 things i hate about you</td>\n",
              "      <td>f</td>\n",
              "      <td>4</td>\n",
              "      <td>L1011</td>\n",
              "      <td>m0</td>\n",
              "      <td>BIANCA</td>\n",
              "      <td>No! I just wanted</td>\n",
              "      <td>4</td>\n",
              "    </tr>\n",
              "    <tr>\n",
              "      <th>3</th>\n",
              "      <td>u0</td>\n",
              "      <td>BIANCA</td>\n",
              "      <td>10 things i hate about you</td>\n",
              "      <td>f</td>\n",
              "      <td>4</td>\n",
              "      <td>L1021</td>\n",
              "      <td>m0</td>\n",
              "      <td>BIANCA</td>\n",
              "      <td>Is that woman a complete fruit-loop or is it ...</td>\n",
              "      <td>11</td>\n",
              "    </tr>\n",
              "    <tr>\n",
              "      <th>4</th>\n",
              "      <td>u0</td>\n",
              "      <td>BIANCA</td>\n",
              "      <td>10 things i hate about you</td>\n",
              "      <td>f</td>\n",
              "      <td>4</td>\n",
              "      <td>L1045</td>\n",
              "      <td>m0</td>\n",
              "      <td>BIANCA</td>\n",
              "      <td>They do not!</td>\n",
              "      <td>3</td>\n",
              "    </tr>\n",
              "  </tbody>\n",
              "</table>\n",
              "</div>"
            ],
            "text/plain": [
              "  character_id character_name                 movie_title gender  \\\n",
              "0           u0         BIANCA  10 things i hate about you      f   \n",
              "1           u0         BIANCA  10 things i hate about you      f   \n",
              "2           u0         BIANCA  10 things i hate about you      f   \n",
              "3           u0         BIANCA  10 things i hate about you      f   \n",
              "4           u0         BIANCA  10 things i hate about you      f   \n",
              "\n",
              "  position_in_credits line_id movie_id characher_name  \\\n",
              "0                   4   L1007       m0       BIANCA     \n",
              "1                   4   L1009       m0       BIANCA     \n",
              "2                   4   L1011       m0       BIANCA     \n",
              "3                   4   L1021       m0       BIANCA     \n",
              "4                   4   L1045       m0       BIANCA     \n",
              "\n",
              "                                           line_text  no_words  \n",
              "0                                            Let go!         2  \n",
              "1                                   I just wanted --         4  \n",
              "2                                  No! I just wanted         4  \n",
              "3   Is that woman a complete fruit-loop or is it ...        11  \n",
              "4                                       They do not!         3  "
            ]
          },
          "metadata": {
            "tags": []
          },
          "execution_count": 15
        }
      ]
    },
    {
      "metadata": {
        "id": "dlKh0Z2htDDI",
        "colab_type": "code",
        "colab": {
          "base_uri": "https://localhost:8080/",
          "height": 428
        },
        "outputId": "101b2c1a-91c2-4602-d76b-c9149a974c1b"
      },
      "cell_type": "code",
      "source": [
        "movie_character_line = pd.merge(metadata, character_line, on=[\"movie_id\", \"movie_title\"])\n",
        "movie_character_line.head()"
      ],
      "execution_count": 16,
      "outputs": [
        {
          "output_type": "execute_result",
          "data": {
            "text/html": [
              "<div>\n",
              "<style scoped>\n",
              "    .dataframe tbody tr th:only-of-type {\n",
              "        vertical-align: middle;\n",
              "    }\n",
              "\n",
              "    .dataframe tbody tr th {\n",
              "        vertical-align: top;\n",
              "    }\n",
              "\n",
              "    .dataframe thead th {\n",
              "        text-align: right;\n",
              "    }\n",
              "</style>\n",
              "<table border=\"1\" class=\"dataframe\">\n",
              "  <thead>\n",
              "    <tr style=\"text-align: right;\">\n",
              "      <th></th>\n",
              "      <th>movie_id</th>\n",
              "      <th>movie_title</th>\n",
              "      <th>release_year</th>\n",
              "      <th>avg_rating</th>\n",
              "      <th>num_votes</th>\n",
              "      <th>genres</th>\n",
              "      <th>character_id</th>\n",
              "      <th>character_name</th>\n",
              "      <th>gender</th>\n",
              "      <th>position_in_credits</th>\n",
              "      <th>line_id</th>\n",
              "      <th>characher_name</th>\n",
              "      <th>line_text</th>\n",
              "      <th>no_words</th>\n",
              "    </tr>\n",
              "  </thead>\n",
              "  <tbody>\n",
              "    <tr>\n",
              "      <th>0</th>\n",
              "      <td>m0</td>\n",
              "      <td>10 things i hate about you</td>\n",
              "      <td>1999</td>\n",
              "      <td>6.9</td>\n",
              "      <td>62847</td>\n",
              "      <td>['comedy', 'romance']</td>\n",
              "      <td>u0</td>\n",
              "      <td>BIANCA</td>\n",
              "      <td>f</td>\n",
              "      <td>4</td>\n",
              "      <td>L1007</td>\n",
              "      <td>BIANCA</td>\n",
              "      <td>Let go!</td>\n",
              "      <td>2</td>\n",
              "    </tr>\n",
              "    <tr>\n",
              "      <th>1</th>\n",
              "      <td>m0</td>\n",
              "      <td>10 things i hate about you</td>\n",
              "      <td>1999</td>\n",
              "      <td>6.9</td>\n",
              "      <td>62847</td>\n",
              "      <td>['comedy', 'romance']</td>\n",
              "      <td>u0</td>\n",
              "      <td>BIANCA</td>\n",
              "      <td>f</td>\n",
              "      <td>4</td>\n",
              "      <td>L1009</td>\n",
              "      <td>BIANCA</td>\n",
              "      <td>I just wanted --</td>\n",
              "      <td>4</td>\n",
              "    </tr>\n",
              "    <tr>\n",
              "      <th>2</th>\n",
              "      <td>m0</td>\n",
              "      <td>10 things i hate about you</td>\n",
              "      <td>1999</td>\n",
              "      <td>6.9</td>\n",
              "      <td>62847</td>\n",
              "      <td>['comedy', 'romance']</td>\n",
              "      <td>u0</td>\n",
              "      <td>BIANCA</td>\n",
              "      <td>f</td>\n",
              "      <td>4</td>\n",
              "      <td>L1011</td>\n",
              "      <td>BIANCA</td>\n",
              "      <td>No! I just wanted</td>\n",
              "      <td>4</td>\n",
              "    </tr>\n",
              "    <tr>\n",
              "      <th>3</th>\n",
              "      <td>m0</td>\n",
              "      <td>10 things i hate about you</td>\n",
              "      <td>1999</td>\n",
              "      <td>6.9</td>\n",
              "      <td>62847</td>\n",
              "      <td>['comedy', 'romance']</td>\n",
              "      <td>u0</td>\n",
              "      <td>BIANCA</td>\n",
              "      <td>f</td>\n",
              "      <td>4</td>\n",
              "      <td>L1021</td>\n",
              "      <td>BIANCA</td>\n",
              "      <td>Is that woman a complete fruit-loop or is it ...</td>\n",
              "      <td>11</td>\n",
              "    </tr>\n",
              "    <tr>\n",
              "      <th>4</th>\n",
              "      <td>m0</td>\n",
              "      <td>10 things i hate about you</td>\n",
              "      <td>1999</td>\n",
              "      <td>6.9</td>\n",
              "      <td>62847</td>\n",
              "      <td>['comedy', 'romance']</td>\n",
              "      <td>u0</td>\n",
              "      <td>BIANCA</td>\n",
              "      <td>f</td>\n",
              "      <td>4</td>\n",
              "      <td>L1045</td>\n",
              "      <td>BIANCA</td>\n",
              "      <td>They do not!</td>\n",
              "      <td>3</td>\n",
              "    </tr>\n",
              "  </tbody>\n",
              "</table>\n",
              "</div>"
            ],
            "text/plain": [
              "  movie_id                 movie_title  release_year  avg_rating  num_votes  \\\n",
              "0       m0  10 things i hate about you          1999         6.9      62847   \n",
              "1       m0  10 things i hate about you          1999         6.9      62847   \n",
              "2       m0  10 things i hate about you          1999         6.9      62847   \n",
              "3       m0  10 things i hate about you          1999         6.9      62847   \n",
              "4       m0  10 things i hate about you          1999         6.9      62847   \n",
              "\n",
              "                  genres character_id character_name gender  \\\n",
              "0  ['comedy', 'romance']           u0         BIANCA      f   \n",
              "1  ['comedy', 'romance']           u0         BIANCA      f   \n",
              "2  ['comedy', 'romance']           u0         BIANCA      f   \n",
              "3  ['comedy', 'romance']           u0         BIANCA      f   \n",
              "4  ['comedy', 'romance']           u0         BIANCA      f   \n",
              "\n",
              "  position_in_credits line_id characher_name  \\\n",
              "0                   4   L1007       BIANCA     \n",
              "1                   4   L1009       BIANCA     \n",
              "2                   4   L1011       BIANCA     \n",
              "3                   4   L1021       BIANCA     \n",
              "4                   4   L1045       BIANCA     \n",
              "\n",
              "                                           line_text  no_words  \n",
              "0                                            Let go!         2  \n",
              "1                                   I just wanted --         4  \n",
              "2                                  No! I just wanted         4  \n",
              "3   Is that woman a complete fruit-loop or is it ...        11  \n",
              "4                                       They do not!         3  "
            ]
          },
          "metadata": {
            "tags": []
          },
          "execution_count": 16
        }
      ]
    },
    {
      "metadata": {
        "id": "3ojARR_Mv5kb",
        "colab_type": "code",
        "colab": {
          "base_uri": "https://localhost:8080/",
          "height": 54
        },
        "outputId": "ca0257a8-e6dc-4990-fd44-a6a853842991"
      },
      "cell_type": "code",
      "source": [
        "import string\n",
        "genres = set()\n",
        "table = str.maketrans({key: None for key in string.punctuation})\n",
        "for i in movie_character_line.genres:\n",
        "  i = i.translate(table)\n",
        "  genres.update(i.split())\n",
        "print(genres)"
      ],
      "execution_count": 17,
      "outputs": [
        {
          "output_type": "stream",
          "text": [
            "{'comedy', 'short', 'history', 'scifi', 'filmnoir', 'fantasy', 'sport', 'adult', 'drama', 'crime', 'romance', 'adventure', 'horror', 'animation', 'documentary', 'musical', 'thriller', 'action', 'mystery', 'war', 'western', 'biography', 'music', 'family'}\n"
          ],
          "name": "stdout"
        }
      ]
    },
    {
      "metadata": {
        "id": "5yxuDGi9uUmW",
        "colab_type": "code",
        "colab": {}
      },
      "cell_type": "code",
      "source": [
        "import re\n",
        "gender_comp_lines = {}\n",
        "gender_comp_words = {}\n",
        "#test = movie_character_line[:100]\n",
        "# In groupby, sort=True by default, so 0 is female, 1 is male.\n",
        "for i in genres:\n",
        "  tmp = movie_character_line.genres.str.contains(i, re.IGNORECASE).groupby(movie_character_line.gender.str.lower()).sum()\n",
        "  if tmp[0] or tmp[1]:\n",
        "    gender_comp_lines[i] = tmp\n",
        "    tmp2 = movie_character_line[movie_character_line.genres.str.contains(i, re.IGNORECASE)].groupby(movie_character_line.gender.str.lower()).sum().no_words\n",
        "    gender_comp_words[i] = tmp2"
      ],
      "execution_count": 0,
      "outputs": []
    },
    {
      "metadata": {
        "id": "da2-WSgf2Exf",
        "colab_type": "code",
        "colab": {
          "base_uri": "https://localhost:8080/",
          "height": 1139
        },
        "outputId": "a4850889-b682-48bd-b971-af1897d20498"
      },
      "cell_type": "code",
      "source": [
        "gender_comp_words"
      ],
      "execution_count": 19,
      "outputs": [
        {
          "output_type": "execute_result",
          "data": {
            "text/plain": [
              "{'action': gender\n",
              " f    108417\n",
              " m    378815\n",
              " Name: no_words, dtype: int64, 'adult': gender\n",
              " f    1499\n",
              " Name: no_words, dtype: int64, 'adventure': gender\n",
              " f     62694\n",
              " m    255575\n",
              " Name: no_words, dtype: int64, 'animation': gender\n",
              " f     7691\n",
              " m    36851\n",
              " Name: no_words, dtype: int64, 'biography': gender\n",
              " f     24838\n",
              " m    107818\n",
              " Name: no_words, dtype: int64, 'comedy': gender\n",
              " f    236040\n",
              " m    554958\n",
              " Name: no_words, dtype: int64, 'crime': gender\n",
              " f    150776\n",
              " m    486957\n",
              " Name: no_words, dtype: int64, 'documentary': gender\n",
              " f    3013\n",
              " m    5705\n",
              " Name: no_words, dtype: int64, 'drama': gender\n",
              " f     421341\n",
              " m    1101200\n",
              " Name: no_words, dtype: int64, 'family': gender\n",
              " f    14858\n",
              " m    35409\n",
              " Name: no_words, dtype: int64, 'fantasy': gender\n",
              " f     64193\n",
              " m    173984\n",
              " Name: no_words, dtype: int64, 'history': gender\n",
              " f     9876\n",
              " m    57213\n",
              " Name: no_words, dtype: int64, 'horror': gender\n",
              " f     97795\n",
              " m    162366\n",
              " Name: no_words, dtype: int64, 'music': gender\n",
              " f    19277\n",
              " m    69549\n",
              " Name: no_words, dtype: int64, 'musical': gender\n",
              " f     5163\n",
              " m    16057\n",
              " Name: no_words, dtype: int64, 'mystery': gender\n",
              " f    124860\n",
              " m    303702\n",
              " Name: no_words, dtype: int64, 'romance': gender\n",
              " f    240930\n",
              " m    439787\n",
              " Name: no_words, dtype: int64, 'short': gender\n",
              " f    3144\n",
              " m    6669\n",
              " Name: no_words, dtype: int64, 'sport': gender\n",
              " f    10881\n",
              " m    29614\n",
              " Name: no_words, dtype: int64, 'thriller': gender\n",
              " f    262091\n",
              " m    708355\n",
              " Name: no_words, dtype: int64, 'war': gender\n",
              " f    13603\n",
              " m    69334\n",
              " Name: no_words, dtype: int64, 'western': gender\n",
              " f    13776\n",
              " m    41196\n",
              " Name: no_words, dtype: int64}"
            ]
          },
          "metadata": {
            "tags": []
          },
          "execution_count": 19
        }
      ]
    },
    {
      "metadata": {
        "id": "RXt-PIJAGAk-",
        "colab_type": "text"
      },
      "cell_type": "markdown",
      "source": [
        "### Plots"
      ]
    },
    {
      "metadata": {
        "id": "nFzqCaUR1KKB",
        "colab_type": "code",
        "colab": {
          "base_uri": "https://localhost:8080/",
          "height": 325
        },
        "outputId": "a148a4f5-72e6-4a51-9d8b-d6282e29ab1c"
      },
      "cell_type": "code",
      "source": [
        "# plot #line gap\n",
        "import matplotlib.pyplot as plt\n",
        "female_lines = []\n",
        "male_lines = []\n",
        "total_flines, total_mlines = 0, 0\n",
        "for i in gender_comp_lines.keys():\n",
        "  tmp = gender_comp_lines[i]\n",
        "  total_flines += tmp[0]\n",
        "  if len(tmp)>1:\n",
        "    total_mlines += tmp[1]\n",
        "    tmp2 = tmp[0]/(tmp[0]+tmp[1])\n",
        "  else:\n",
        "    tmp2 = 1\n",
        "  tmp2 = tmp[0]/(tmp[0]+tmp[1])\n",
        "  female_lines.append(tmp2)\n",
        "  male_lines.append(1-tmp2)\n",
        "\n",
        "total = total_mlines/(total_mlines+total_flines)\n",
        "\n",
        "x = range(len(gender_comp_lines))\n",
        "plt.bar(x, male_lines, label='male lines', color='#a3acff', edgecolor='white', width=0.85)\n",
        "plt.bar(x, female_lines, label='female lines', bottom=male_lines, color='#f9bc86', edgecolor='white', width=0.85)\n",
        "plt.xlim(-1,22)\n",
        "plt.hlines(total, -1,22,colors='k', linestyles='--', label='Total ratio')\n",
        "plt.legend(loc='center left', bbox_to_anchor=(1, 0.5))\n",
        "plt.xticks(x, gender_comp_lines.keys(),rotation=90)\n",
        "plt.ylabel('Gender gap in no. of lines(%)')\n",
        "plt.show()"
      ],
      "execution_count": 20,
      "outputs": [
        {
          "output_type": "display_data",
          "data": {
            "image/png": "[encoded data removed]",
            "text/plain": [
              "<Figure size 432x288 with 1 Axes>"
            ]
          },
          "metadata": {
            "tags": []
          }
        }
      ]
    },
    {
      "metadata": {
        "id": "F5VTPZQb_mQ0",
        "colab_type": "code",
        "colab": {
          "base_uri": "https://localhost:8080/",
          "height": 325
        },
        "outputId": "9d41ba7c-780a-457e-ba51-5e52e28f8eae"
      },
      "cell_type": "code",
      "source": [
        "# plot #word gap\n",
        "female_words = []\n",
        "male_words = []\n",
        "total_fwords, total_mwords = 0, 0\n",
        "for i in gender_comp_words.keys():\n",
        "  tmp = gender_comp_words[i]\n",
        "  total_fwords += tmp[0]\n",
        "  if len(tmp)>1:\n",
        "    total_mwords += tmp[1]\n",
        "    tmp2 = tmp[0]/(tmp[0]+tmp[1])\n",
        "  else:\n",
        "    tmp2 = 1\n",
        "  female_words.append(tmp2)\n",
        "  male_words.append(1-tmp2)\n",
        "\n",
        "total = total_mwords/(total_fwords+total_mwords)\n",
        "\n",
        "x = range(len(gender_comp_words))\n",
        "plt.bar(x, male_words, label='male words', color='#a3acff', edgecolor='white', width=0.85)\n",
        "plt.bar(x, female_words, label='female words', bottom=male_words, color='#f9bc86', edgecolor='white', width=0.85)\n",
        "plt.xlim(-1,22)\n",
        "plt.hlines(total, -1,22,colors='k', linestyles='--', label='Total ratio')\n",
        "plt.legend(loc='center left', bbox_to_anchor=(1, 0.5))\n",
        "plt.xticks(x, gender_comp_words.keys(),rotation=90)\n",
        "plt.ylabel('Gender gap in no. of words(%)')\n",
        "plt.show()"
      ],
      "execution_count": 21,
      "outputs": [
        {
          "output_type": "display_data",
          "data": {
            "image/png": "[encoded data removed]",
            "text/plain": [
              "<Figure size 432x288 with 1 Axes>"
            ]
          },
          "metadata": {
            "tags": []
          }
        }
      ]
    },
    {
      "metadata": {
        "id": "zmSLZRi9Eml_",
        "colab_type": "text"
      },
      "cell_type": "markdown",
      "source": [
        "### Discussion\n",
        "* 用words 和lines no给出的分布一致，只有细小差别。（需要检查#words与#lines correlation吗？）\n",
        "* scifi 和filmnoir没有结果，给的gender不全\n",
        "* adult全是女性台词\n",
        "* 需要对film进行统计么？"
      ]
    },
    {
      "metadata": {
        "id": "uN5djMaU6LCb",
        "colab_type": "text"
      },
      "cell_type": "markdown",
      "source": [
        "## 2.2. Gender gap in leading role\n",
        "\n",
        "方法：\n",
        "* 对话中starter vs. respond性别 <br>\n",
        "lead: 台词长度。mentions in other dialogues."
      ]
    },
    {
      "metadata": {
        "id": "-2gRFtL5JvFS",
        "colab_type": "code",
        "colab": {
          "base_uri": "https://localhost:8080/",
          "height": 204
        },
        "outputId": "eded0649-2efb-4ff3-d83a-0603b9d42ead"
      },
      "cell_type": "code",
      "source": [
        "char_shorten = characters.loc[:, ['character_id', 'gender']]\n",
        "char_shorten.head()"
      ],
      "execution_count": 22,
      "outputs": [
        {
          "output_type": "execute_result",
          "data": {
            "text/html": [
              "<div>\n",
              "<style scoped>\n",
              "    .dataframe tbody tr th:only-of-type {\n",
              "        vertical-align: middle;\n",
              "    }\n",
              "\n",
              "    .dataframe tbody tr th {\n",
              "        vertical-align: top;\n",
              "    }\n",
              "\n",
              "    .dataframe thead th {\n",
              "        text-align: right;\n",
              "    }\n",
              "</style>\n",
              "<table border=\"1\" class=\"dataframe\">\n",
              "  <thead>\n",
              "    <tr style=\"text-align: right;\">\n",
              "      <th></th>\n",
              "      <th>character_id</th>\n",
              "      <th>gender</th>\n",
              "    </tr>\n",
              "  </thead>\n",
              "  <tbody>\n",
              "    <tr>\n",
              "      <th>0</th>\n",
              "      <td>u0</td>\n",
              "      <td>f</td>\n",
              "    </tr>\n",
              "    <tr>\n",
              "      <th>1</th>\n",
              "      <td>u1</td>\n",
              "      <td>?</td>\n",
              "    </tr>\n",
              "    <tr>\n",
              "      <th>2</th>\n",
              "      <td>u2</td>\n",
              "      <td>m</td>\n",
              "    </tr>\n",
              "    <tr>\n",
              "      <th>3</th>\n",
              "      <td>u3</td>\n",
              "      <td>?</td>\n",
              "    </tr>\n",
              "    <tr>\n",
              "      <th>4</th>\n",
              "      <td>u4</td>\n",
              "      <td>m</td>\n",
              "    </tr>\n",
              "  </tbody>\n",
              "</table>\n",
              "</div>"
            ],
            "text/plain": [
              "  character_id gender\n",
              "0           u0      f\n",
              "1           u1      ?\n",
              "2           u2      m\n",
              "3           u3      ?\n",
              "4           u4      m"
            ]
          },
          "metadata": {
            "tags": []
          },
          "execution_count": 22
        }
      ]
    },
    {
      "metadata": {
        "id": "f2nJOMgLGEtK",
        "colab_type": "code",
        "colab": {
          "base_uri": "https://localhost:8080/",
          "height": 275
        },
        "outputId": "b4ba0c06-9d4a-4b13-d28e-d583afc2e2a4"
      },
      "cell_type": "code",
      "source": [
        "first_char = pd.merge(conversations, char_shorten, left_on='character_id_first',right_on='character_id')\n",
        "if first_char.character_id_first.equals(first_char.character_id):\n",
        "  first_char = first_char.drop(columns=['character_id'])\n",
        "  first_char = first_char.rename(columns={\"gender\":\"gender_first\"})\n",
        "first_char.head()"
      ],
      "execution_count": 23,
      "outputs": [
        {
          "output_type": "execute_result",
          "data": {
            "text/html": [
              "<div>\n",
              "<style scoped>\n",
              "    .dataframe tbody tr th:only-of-type {\n",
              "        vertical-align: middle;\n",
              "    }\n",
              "\n",
              "    .dataframe tbody tr th {\n",
              "        vertical-align: top;\n",
              "    }\n",
              "\n",
              "    .dataframe thead th {\n",
              "        text-align: right;\n",
              "    }\n",
              "</style>\n",
              "<table border=\"1\" class=\"dataframe\">\n",
              "  <thead>\n",
              "    <tr style=\"text-align: right;\">\n",
              "      <th></th>\n",
              "      <th>character_id_first</th>\n",
              "      <th>character_id_second</th>\n",
              "      <th>movie_id</th>\n",
              "      <th>list_of_text</th>\n",
              "      <th>gender_first</th>\n",
              "    </tr>\n",
              "  </thead>\n",
              "  <tbody>\n",
              "    <tr>\n",
              "      <th>0</th>\n",
              "      <td>u0</td>\n",
              "      <td>u2</td>\n",
              "      <td>m0</td>\n",
              "      <td>['L194', 'L195', 'L196', 'L197']</td>\n",
              "      <td>f</td>\n",
              "    </tr>\n",
              "    <tr>\n",
              "      <th>1</th>\n",
              "      <td>u0</td>\n",
              "      <td>u2</td>\n",
              "      <td>m0</td>\n",
              "      <td>['L198', 'L199']</td>\n",
              "      <td>f</td>\n",
              "    </tr>\n",
              "    <tr>\n",
              "      <th>2</th>\n",
              "      <td>u0</td>\n",
              "      <td>u2</td>\n",
              "      <td>m0</td>\n",
              "      <td>['L200', 'L201', 'L202', 'L203']</td>\n",
              "      <td>f</td>\n",
              "    </tr>\n",
              "    <tr>\n",
              "      <th>3</th>\n",
              "      <td>u0</td>\n",
              "      <td>u2</td>\n",
              "      <td>m0</td>\n",
              "      <td>['L204', 'L205', 'L206']</td>\n",
              "      <td>f</td>\n",
              "    </tr>\n",
              "    <tr>\n",
              "      <th>4</th>\n",
              "      <td>u0</td>\n",
              "      <td>u2</td>\n",
              "      <td>m0</td>\n",
              "      <td>['L207', 'L208']</td>\n",
              "      <td>f</td>\n",
              "    </tr>\n",
              "  </tbody>\n",
              "</table>\n",
              "</div>"
            ],
            "text/plain": [
              "  character_id_first character_id_second movie_id  \\\n",
              "0                 u0                  u2       m0   \n",
              "1                 u0                  u2       m0   \n",
              "2                 u0                  u2       m0   \n",
              "3                 u0                  u2       m0   \n",
              "4                 u0                  u2       m0   \n",
              "\n",
              "                       list_of_text gender_first  \n",
              "0  ['L194', 'L195', 'L196', 'L197']            f  \n",
              "1                  ['L198', 'L199']            f  \n",
              "2  ['L200', 'L201', 'L202', 'L203']            f  \n",
              "3          ['L204', 'L205', 'L206']            f  \n",
              "4                  ['L207', 'L208']            f  "
            ]
          },
          "metadata": {
            "tags": []
          },
          "execution_count": 23
        }
      ]
    },
    {
      "metadata": {
        "id": "NuzdXWA9H4I9",
        "colab_type": "code",
        "colab": {
          "base_uri": "https://localhost:8080/",
          "height": 275
        },
        "outputId": "8a234576-4b69-4263-e360-719a14892b4e"
      },
      "cell_type": "code",
      "source": [
        "first_second = pd.merge(first_char, char_shorten, left_on='character_id_second',right_on='character_id')\n",
        "if first_second.character_id_second.equals(first_second.character_id):\n",
        "  first_second = first_second.drop(columns=['character_id'])\n",
        "  first_second = first_second.rename(columns={\"gender\":\"gender_second\"})\n",
        "first_second.head()"
      ],
      "execution_count": 24,
      "outputs": [
        {
          "output_type": "execute_result",
          "data": {
            "text/html": [
              "<div>\n",
              "<style scoped>\n",
              "    .dataframe tbody tr th:only-of-type {\n",
              "        vertical-align: middle;\n",
              "    }\n",
              "\n",
              "    .dataframe tbody tr th {\n",
              "        vertical-align: top;\n",
              "    }\n",
              "\n",
              "    .dataframe thead th {\n",
              "        text-align: right;\n",
              "    }\n",
              "</style>\n",
              "<table border=\"1\" class=\"dataframe\">\n",
              "  <thead>\n",
              "    <tr style=\"text-align: right;\">\n",
              "      <th></th>\n",
              "      <th>character_id_first</th>\n",
              "      <th>character_id_second</th>\n",
              "      <th>movie_id</th>\n",
              "      <th>list_of_text</th>\n",
              "      <th>gender_first</th>\n",
              "      <th>gender_second</th>\n",
              "    </tr>\n",
              "  </thead>\n",
              "  <tbody>\n",
              "    <tr>\n",
              "      <th>0</th>\n",
              "      <td>u0</td>\n",
              "      <td>u2</td>\n",
              "      <td>m0</td>\n",
              "      <td>['L194', 'L195', 'L196', 'L197']</td>\n",
              "      <td>f</td>\n",
              "      <td>m</td>\n",
              "    </tr>\n",
              "    <tr>\n",
              "      <th>1</th>\n",
              "      <td>u0</td>\n",
              "      <td>u2</td>\n",
              "      <td>m0</td>\n",
              "      <td>['L198', 'L199']</td>\n",
              "      <td>f</td>\n",
              "      <td>m</td>\n",
              "    </tr>\n",
              "    <tr>\n",
              "      <th>2</th>\n",
              "      <td>u0</td>\n",
              "      <td>u2</td>\n",
              "      <td>m0</td>\n",
              "      <td>['L200', 'L201', 'L202', 'L203']</td>\n",
              "      <td>f</td>\n",
              "      <td>m</td>\n",
              "    </tr>\n",
              "    <tr>\n",
              "      <th>3</th>\n",
              "      <td>u0</td>\n",
              "      <td>u2</td>\n",
              "      <td>m0</td>\n",
              "      <td>['L204', 'L205', 'L206']</td>\n",
              "      <td>f</td>\n",
              "      <td>m</td>\n",
              "    </tr>\n",
              "    <tr>\n",
              "      <th>4</th>\n",
              "      <td>u0</td>\n",
              "      <td>u2</td>\n",
              "      <td>m0</td>\n",
              "      <td>['L207', 'L208']</td>\n",
              "      <td>f</td>\n",
              "      <td>m</td>\n",
              "    </tr>\n",
              "  </tbody>\n",
              "</table>\n",
              "</div>"
            ],
            "text/plain": [
              "  character_id_first character_id_second movie_id  \\\n",
              "0                 u0                  u2       m0   \n",
              "1                 u0                  u2       m0   \n",
              "2                 u0                  u2       m0   \n",
              "3                 u0                  u2       m0   \n",
              "4                 u0                  u2       m0   \n",
              "\n",
              "                       list_of_text gender_first gender_second  \n",
              "0  ['L194', 'L195', 'L196', 'L197']            f             m  \n",
              "1                  ['L198', 'L199']            f             m  \n",
              "2  ['L200', 'L201', 'L202', 'L203']            f             m  \n",
              "3          ['L204', 'L205', 'L206']            f             m  \n",
              "4                  ['L207', 'L208']            f             m  "
            ]
          },
          "metadata": {
            "tags": []
          },
          "execution_count": 24
        }
      ]
    },
    {
      "metadata": {
        "id": "JlswZs15ICSO",
        "colab_type": "code",
        "colab": {
          "base_uri": "https://localhost:8080/",
          "height": 51
        },
        "outputId": "8f39039d-0486-4781-e181-4290530e38ee"
      },
      "cell_type": "code",
      "source": [
        "print(len(first_second))\n",
        "first_second = first_second[(first_second.gender_first != '?') &(first_second.gender_second != '?')]\n",
        "print(len(first_second))"
      ],
      "execution_count": 25,
      "outputs": [
        {
          "output_type": "stream",
          "text": [
            "83097\n",
            "52038\n"
          ],
          "name": "stdout"
        }
      ]
    },
    {
      "metadata": {
        "id": "eRE6-um7ITTx",
        "colab_type": "code",
        "colab": {
          "base_uri": "https://localhost:8080/",
          "height": 275
        },
        "outputId": "d641197e-915a-493c-9217-a59d40d85d3b"
      },
      "cell_type": "code",
      "source": [
        "first_second.head()"
      ],
      "execution_count": 26,
      "outputs": [
        {
          "output_type": "execute_result",
          "data": {
            "text/html": [
              "<div>\n",
              "<style scoped>\n",
              "    .dataframe tbody tr th:only-of-type {\n",
              "        vertical-align: middle;\n",
              "    }\n",
              "\n",
              "    .dataframe tbody tr th {\n",
              "        vertical-align: top;\n",
              "    }\n",
              "\n",
              "    .dataframe thead th {\n",
              "        text-align: right;\n",
              "    }\n",
              "</style>\n",
              "<table border=\"1\" class=\"dataframe\">\n",
              "  <thead>\n",
              "    <tr style=\"text-align: right;\">\n",
              "      <th></th>\n",
              "      <th>character_id_first</th>\n",
              "      <th>character_id_second</th>\n",
              "      <th>movie_id</th>\n",
              "      <th>list_of_text</th>\n",
              "      <th>gender_first</th>\n",
              "      <th>gender_second</th>\n",
              "    </tr>\n",
              "  </thead>\n",
              "  <tbody>\n",
              "    <tr>\n",
              "      <th>0</th>\n",
              "      <td>u0</td>\n",
              "      <td>u2</td>\n",
              "      <td>m0</td>\n",
              "      <td>['L194', 'L195', 'L196', 'L197']</td>\n",
              "      <td>f</td>\n",
              "      <td>m</td>\n",
              "    </tr>\n",
              "    <tr>\n",
              "      <th>1</th>\n",
              "      <td>u0</td>\n",
              "      <td>u2</td>\n",
              "      <td>m0</td>\n",
              "      <td>['L198', 'L199']</td>\n",
              "      <td>f</td>\n",
              "      <td>m</td>\n",
              "    </tr>\n",
              "    <tr>\n",
              "      <th>2</th>\n",
              "      <td>u0</td>\n",
              "      <td>u2</td>\n",
              "      <td>m0</td>\n",
              "      <td>['L200', 'L201', 'L202', 'L203']</td>\n",
              "      <td>f</td>\n",
              "      <td>m</td>\n",
              "    </tr>\n",
              "    <tr>\n",
              "      <th>3</th>\n",
              "      <td>u0</td>\n",
              "      <td>u2</td>\n",
              "      <td>m0</td>\n",
              "      <td>['L204', 'L205', 'L206']</td>\n",
              "      <td>f</td>\n",
              "      <td>m</td>\n",
              "    </tr>\n",
              "    <tr>\n",
              "      <th>4</th>\n",
              "      <td>u0</td>\n",
              "      <td>u2</td>\n",
              "      <td>m0</td>\n",
              "      <td>['L207', 'L208']</td>\n",
              "      <td>f</td>\n",
              "      <td>m</td>\n",
              "    </tr>\n",
              "  </tbody>\n",
              "</table>\n",
              "</div>"
            ],
            "text/plain": [
              "  character_id_first character_id_second movie_id  \\\n",
              "0                 u0                  u2       m0   \n",
              "1                 u0                  u2       m0   \n",
              "2                 u0                  u2       m0   \n",
              "3                 u0                  u2       m0   \n",
              "4                 u0                  u2       m0   \n",
              "\n",
              "                       list_of_text gender_first gender_second  \n",
              "0  ['L194', 'L195', 'L196', 'L197']            f             m  \n",
              "1                  ['L198', 'L199']            f             m  \n",
              "2  ['L200', 'L201', 'L202', 'L203']            f             m  \n",
              "3          ['L204', 'L205', 'L206']            f             m  \n",
              "4                  ['L207', 'L208']            f             m  "
            ]
          },
          "metadata": {
            "tags": []
          },
          "execution_count": 26
        }
      ]
    },
    {
      "metadata": {
        "id": "ilSQbElfLqHm",
        "colab_type": "code",
        "colab": {
          "base_uri": "https://localhost:8080/",
          "height": 394
        },
        "outputId": "b72e8aaa-af44-4e93-c479-38edfb4fde9a"
      },
      "cell_type": "code",
      "source": [
        "fs_movie = pd.merge(first_second, metadata, on='movie_id')\n",
        "fs_movie.head()"
      ],
      "execution_count": 27,
      "outputs": [
        {
          "output_type": "execute_result",
          "data": {
            "text/html": [
              "<div>\n",
              "<style scoped>\n",
              "    .dataframe tbody tr th:only-of-type {\n",
              "        vertical-align: middle;\n",
              "    }\n",
              "\n",
              "    .dataframe tbody tr th {\n",
              "        vertical-align: top;\n",
              "    }\n",
              "\n",
              "    .dataframe thead th {\n",
              "        text-align: right;\n",
              "    }\n",
              "</style>\n",
              "<table border=\"1\" class=\"dataframe\">\n",
              "  <thead>\n",
              "    <tr style=\"text-align: right;\">\n",
              "      <th></th>\n",
              "      <th>character_id_first</th>\n",
              "      <th>character_id_second</th>\n",
              "      <th>movie_id</th>\n",
              "      <th>list_of_text</th>\n",
              "      <th>gender_first</th>\n",
              "      <th>gender_second</th>\n",
              "      <th>movie_title</th>\n",
              "      <th>release_year</th>\n",
              "      <th>avg_rating</th>\n",
              "      <th>num_votes</th>\n",
              "      <th>genres</th>\n",
              "    </tr>\n",
              "  </thead>\n",
              "  <tbody>\n",
              "    <tr>\n",
              "      <th>0</th>\n",
              "      <td>u0</td>\n",
              "      <td>u2</td>\n",
              "      <td>m0</td>\n",
              "      <td>['L194', 'L195', 'L196', 'L197']</td>\n",
              "      <td>f</td>\n",
              "      <td>m</td>\n",
              "      <td>10 things i hate about you</td>\n",
              "      <td>1999</td>\n",
              "      <td>6.9</td>\n",
              "      <td>62847</td>\n",
              "      <td>['comedy', 'romance']</td>\n",
              "    </tr>\n",
              "    <tr>\n",
              "      <th>1</th>\n",
              "      <td>u0</td>\n",
              "      <td>u2</td>\n",
              "      <td>m0</td>\n",
              "      <td>['L198', 'L199']</td>\n",
              "      <td>f</td>\n",
              "      <td>m</td>\n",
              "      <td>10 things i hate about you</td>\n",
              "      <td>1999</td>\n",
              "      <td>6.9</td>\n",
              "      <td>62847</td>\n",
              "      <td>['comedy', 'romance']</td>\n",
              "    </tr>\n",
              "    <tr>\n",
              "      <th>2</th>\n",
              "      <td>u0</td>\n",
              "      <td>u2</td>\n",
              "      <td>m0</td>\n",
              "      <td>['L200', 'L201', 'L202', 'L203']</td>\n",
              "      <td>f</td>\n",
              "      <td>m</td>\n",
              "      <td>10 things i hate about you</td>\n",
              "      <td>1999</td>\n",
              "      <td>6.9</td>\n",
              "      <td>62847</td>\n",
              "      <td>['comedy', 'romance']</td>\n",
              "    </tr>\n",
              "    <tr>\n",
              "      <th>3</th>\n",
              "      <td>u0</td>\n",
              "      <td>u2</td>\n",
              "      <td>m0</td>\n",
              "      <td>['L204', 'L205', 'L206']</td>\n",
              "      <td>f</td>\n",
              "      <td>m</td>\n",
              "      <td>10 things i hate about you</td>\n",
              "      <td>1999</td>\n",
              "      <td>6.9</td>\n",
              "      <td>62847</td>\n",
              "      <td>['comedy', 'romance']</td>\n",
              "    </tr>\n",
              "    <tr>\n",
              "      <th>4</th>\n",
              "      <td>u0</td>\n",
              "      <td>u2</td>\n",
              "      <td>m0</td>\n",
              "      <td>['L207', 'L208']</td>\n",
              "      <td>f</td>\n",
              "      <td>m</td>\n",
              "      <td>10 things i hate about you</td>\n",
              "      <td>1999</td>\n",
              "      <td>6.9</td>\n",
              "      <td>62847</td>\n",
              "      <td>['comedy', 'romance']</td>\n",
              "    </tr>\n",
              "  </tbody>\n",
              "</table>\n",
              "</div>"
            ],
            "text/plain": [
              "  character_id_first character_id_second movie_id  \\\n",
              "0                 u0                  u2       m0   \n",
              "1                 u0                  u2       m0   \n",
              "2                 u0                  u2       m0   \n",
              "3                 u0                  u2       m0   \n",
              "4                 u0                  u2       m0   \n",
              "\n",
              "                       list_of_text gender_first gender_second  \\\n",
              "0  ['L194', 'L195', 'L196', 'L197']            f             m   \n",
              "1                  ['L198', 'L199']            f             m   \n",
              "2  ['L200', 'L201', 'L202', 'L203']            f             m   \n",
              "3          ['L204', 'L205', 'L206']            f             m   \n",
              "4                  ['L207', 'L208']            f             m   \n",
              "\n",
              "                  movie_title  release_year  avg_rating  num_votes  \\\n",
              "0  10 things i hate about you          1999         6.9      62847   \n",
              "1  10 things i hate about you          1999         6.9      62847   \n",
              "2  10 things i hate about you          1999         6.9      62847   \n",
              "3  10 things i hate about you          1999         6.9      62847   \n",
              "4  10 things i hate about you          1999         6.9      62847   \n",
              "\n",
              "                  genres  \n",
              "0  ['comedy', 'romance']  \n",
              "1  ['comedy', 'romance']  \n",
              "2  ['comedy', 'romance']  \n",
              "3  ['comedy', 'romance']  \n",
              "4  ['comedy', 'romance']  "
            ]
          },
          "metadata": {
            "tags": []
          },
          "execution_count": 27
        }
      ]
    },
    {
      "metadata": {
        "id": "ohFbJ7siMoar",
        "colab_type": "code",
        "colab": {}
      },
      "cell_type": "code",
      "source": [
        "ff, fm, mf, mm = [],[],[],[]\n",
        "for i in genres:\n",
        "  tmp = fs_movie.genres.str.contains(i, re.IGNORECASE).groupby([fs_movie.gender_first.str.lower(),fs_movie.gender_second.str.lower()]).sum()\n",
        "  if tmp[0]:\n",
        "    ff.append(tmp[0])\n",
        "  else:\n",
        "    ff.append(0)\n",
        "  if tmp[1]:\n",
        "    fm.append(tmp[1])\n",
        "  else:\n",
        "    fm.append(0)\n",
        "  if tmp[2]:\n",
        "    mf.append(tmp[2])\n",
        "  else:\n",
        "    mf.append(0)\n",
        "  if tmp[3]:\n",
        "    mm.append(tmp[3])\n",
        "  else:\n",
        "    mm.append(0)"
      ],
      "execution_count": 0,
      "outputs": []
    },
    {
      "metadata": {
        "id": "NfJ5mmSaxi1F",
        "colab_type": "text"
      },
      "cell_type": "markdown",
      "source": [
        "### Plots"
      ]
    },
    {
      "metadata": {
        "id": "j2ZFm7r5L7kq",
        "colab_type": "code",
        "colab": {
          "base_uri": "https://localhost:8080/",
          "height": 326
        },
        "outputId": "a6855916-e1e3-4386-feed-dc2e3c16eeb3"
      },
      "cell_type": "code",
      "source": [
        "ff_ratio, fm_ratio, mf_ratio, mm_ratio = [],[],[],[]\n",
        "total_ff, total_fm, total_mf, total_mm = 0, 0, 0, 0\n",
        "x = []\n",
        "for i, name in enumerate(genres):\n",
        "  tmp = ff[i]+fm[i]+mf[i]+mm[i]\n",
        "  #print(tmp)\n",
        "  if tmp == 0: continue\n",
        "  x.append(name)\n",
        "  ff_ratio.append(ff[i]/tmp)\n",
        "  fm_ratio.append(fm[i]/tmp)\n",
        "  mf_ratio.append(mf[i]/tmp)\n",
        "  mm_ratio.append(mm[i]/tmp)\n",
        "  total_ff += ff[i]\n",
        "  total_fm += fm[i]\n",
        "  total_mf += mf[i]\n",
        "  total_mm += mm[i]\n",
        "  \n",
        "bottom_fm = np.add(mm_ratio, mf_ratio)\n",
        "bottom_ff = np.add(bottom_fm, fm_ratio)\n",
        "plt.bar(range(len(x)), mm_ratio, label='male-male', color = '#a3acff', edgecolor='white', width=0.85)\n",
        "plt.bar(range(len(x)), mf_ratio, label='male-female', bottom=mm_ratio, color=\"#D8BFD8\", edgecolor='white', width=0.85)\n",
        "plt.bar(range(len(x)), fm_ratio, label='female_male', bottom=bottom_fm, color=\"#FFD8CB\", edgecolor='white', width=0.85)\n",
        "plt.bar(range(len(x)), ff_ratio, label='female_female', bottom=bottom_ff, color=\"#f9bc86\", edgecolor='white', width=0.85)\n",
        "plt.xlim(-1,22)\n",
        "plt.hlines((total_mm + total_mf)/(total_mm + total_mf+total_fm+total_ff), -1,22,colors='k', linestyles='--', label='Male lead conversation ratio')\n",
        "plt.legend(loc='center left', bbox_to_anchor=(1, 0.5))\n",
        "plt.xticks(range(len(x)), x,rotation=90)\n",
        "plt.ylabel('Conversation distribution(%)')\n",
        "plt.show()"
      ],
      "execution_count": 72,
      "outputs": [
        {
          "output_type": "display_data",
          "data": {
            "image/png": "[encoded data removed]",
            "text/plain": [
              "<Figure size 432x288 with 1 Axes>"
            ]
          },
          "metadata": {
            "tags": []
          }
        }
      ]
    },
    {
      "metadata": {
        "id": "s1l-02dpM2hC",
        "colab_type": "code",
        "colab": {
          "base_uri": "https://localhost:8080/",
          "height": 325
        },
        "outputId": "bb57d139-d845-4f4d-ea16-3283e35bf704"
      },
      "cell_type": "code",
      "source": [
        "ax = plt.subplot(111)\n",
        "w = 0.2\n",
        "ax.bar(np.subtract(range(len(x)),1.5*w), ff_ratio, label='female-female',width=w,color='#f9bc86', edgecolor='white',align='center')\n",
        "ax.bar(np.subtract(range(len(x)),0.5*w), fm_ratio, label='female-male',width=w,color=\"#FFD8CB\", edgecolor='white',align='center')\n",
        "ax.bar(np.add(range(len(x)),0.5*w), mf_ratio, label='male-female',width=w,color=\"#D8BFD8\", edgecolor='white',align='center')\n",
        "ax.bar(np.add(range(len(x)),1.5*w), mm_ratio,label='male-male',width=w,color='#a3acff', edgecolor='white',align='center')\n",
        "#ax.autoscale(tight=True)\n",
        "plt.legend(loc='center left', bbox_to_anchor=(1, 0.5))\n",
        "plt.xticks(range(len(x)), x,rotation=90)\n",
        "plt.ylabel('Conversation distribution(%)')\n",
        "plt.show()"
      ],
      "execution_count": 73,
      "outputs": [
        {
          "output_type": "display_data",
          "data": {
            "image/png": "[encoded data removed]",
            "text/plain": [
              "<Figure size 432x288 with 1 Axes>"
            ]
          },
          "metadata": {
            "tags": []
          }
        }
      ]
    },
    {
      "metadata": {
        "id": "f7Jn4MzNwxiZ",
        "colab_type": "text"
      },
      "cell_type": "markdown",
      "source": [
        "### Discussion\n",
        "history is really his story...."
      ]
    },
    {
      "metadata": {
        "id": "4ce19RaiMbgy",
        "colab_type": "code",
        "colab": {
          "base_uri": "https://localhost:8080/",
          "height": 68
        },
        "outputId": "0e2c5148-c85f-4a14-e596-4115233e241c"
      },
      "cell_type": "code",
      "source": [
        "np.greater(mf, ff)"
      ],
      "execution_count": 68,
      "outputs": [
        {
          "output_type": "execute_result",
          "data": {
            "text/plain": [
              "array([False, False, False, False, False, False, False, False, False,\n",
              "       False, False, False, False, False, False, False, False, False,\n",
              "       False, False, False, False, False, False])"
            ]
          },
          "metadata": {
            "tags": []
          },
          "execution_count": 68
        }
      ]
    },
    {
      "metadata": {
        "id": "7v4QwOgev3bO",
        "colab_type": "code",
        "colab": {
          "base_uri": "https://localhost:8080/",
          "height": 187
        },
        "outputId": "9d1908b4-e134-4719-c113-99c89f0580ba"
      },
      "cell_type": "code",
      "source": [
        "for i in range(10):\n",
        "  print(mm[i], mf[i], fm[i], ff[i])"
      ],
      "execution_count": 69,
      "outputs": [
        {
          "output_type": "stream",
          "text": [
            "1271.0 1271.0 3542.0 1271.0\n",
            "12.0 0 77.0 12.0\n",
            "0.0 0.0 123.0 0\n",
            "0 0 0 0\n",
            "0 0 0 0\n",
            "283.0 283.0 1262.0 283.0\n",
            "56.0 56.0 295.0 56.0\n",
            "0 0 0 32.0\n",
            "1784.0 1784.0 7012.0 1784.0\n",
            "569.0 569.0 2681.0 569.0\n"
          ],
          "name": "stdout"
        }
      ]
    },
    {
      "metadata": {
        "id": "1_4CWLvNOJ61",
        "colab_type": "code",
        "colab": {
          "base_uri": "https://localhost:8080/",
          "height": 34
        },
        "outputId": "e7269853-ebf3-4741-f75f-5bd1b025a043"
      },
      "cell_type": "code",
      "source": [
        "np.subtract(fm[:5],1)"
      ],
      "execution_count": 60,
      "outputs": [
        {
          "output_type": "execute_result",
          "data": {
            "text/plain": [
              "array([ 3.541e+03,  7.600e+01,  1.220e+02, -1.000e+00, -1.000e+00])"
            ]
          },
          "metadata": {
            "tags": []
          },
          "execution_count": 60
        }
      ]
    },
    {
      "metadata": {
        "id": "kPtjUXjyOLj7",
        "colab_type": "code",
        "colab": {
          "base_uri": "https://localhost:8080/",
          "height": 168
        },
        "outputId": "537d1774-7f66-455b-d045-cd087e912815"
      },
      "cell_type": "code",
      "source": [
        "m"
      ],
      "execution_count": 33,
      "outputs": [
        {
          "output_type": "error",
          "ename": "NameError",
          "evalue": "ignored",
          "traceback": [
            "\u001b[0;31m---------------------------------------------------------------------------\u001b[0m",
            "\u001b[0;31mNameError\u001b[0m                                 Traceback (most recent call last)",
            "\u001b[0;32m<ipython-input-33-9a40b379906c>\u001b[0m in \u001b[0;36m<module>\u001b[0;34m()\u001b[0m\n\u001b[0;32m----> 1\u001b[0;31m \u001b[0mm\u001b[0m\u001b[0;34m\u001b[0m\u001b[0;34m\u001b[0m\u001b[0m\n\u001b[0m",
            "\u001b[0;31mNameError\u001b[0m: name 'm' is not defined"
          ]
        }
      ]
    },
    {
      "metadata": {
        "id": "ocfTDiv3yAZT",
        "colab_type": "text"
      },
      "cell_type": "markdown",
      "source": [
        "# Hypo 3\n",
        "#女/#男 ~ rating; 女性台词长度/男性台词长度 ~ rating\n",
        "\n",
        "男性主导电影评分更高"
      ]
    }
  ]
}