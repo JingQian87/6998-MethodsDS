{
  "nbformat": 4,
  "nbformat_minor": 0,
  "metadata": {
    "colab": {
      "name": "EMDS_stats.ipynb",
      "version": "0.3.2",
      "provenance": [],
      "collapsed_sections": []
    },
    "kernelspec": {
      "name": "python3",
      "display_name": "Python 3"
    },
    "accelerator": "GPU"
  },
  "cells": [
    {
      "cell_type": "markdown",
      "metadata": {
        "id": "mAsKKY5XsMdl",
        "colab_type": "text"
      },
      "source": [
        "# Step 1. Import Data"
      ]
    },
    {
      "cell_type": "markdown",
      "metadata": {
        "id": "1UZPqU5lHMjh",
        "colab_type": "text"
      },
      "source": [
        "### metadata from movie_titles_metadata"
      ]
    },
    {
      "cell_type": "code",
      "metadata": {
        "id": "wsWKPuxNsIjn",
        "colab_type": "code",
        "outputId": "9b497adb-3b4f-40f8-8d13-382d2280aadb",
        "colab": {
          "base_uri": "https://localhost:8080/",
          "height": 122
        }
      },
      "source": [
        "import numpy as np\n",
        "import nltk\n",
        "import pandas as pd\n",
        "\n",
        "from google.colab import drive\n",
        "drive.mount('/content/gdrive')"
      ],
      "execution_count": 3,
      "outputs": [
        {
          "output_type": "stream",
          "text": [
            "Go to this URL in a browser: https://accounts.google.com/o/oauth2/auth?client_id=947318989803-6bn6qk8qdgf4n4g3pfee6491hc0brc4i.apps.googleusercontent.com&redirect_uri=urn%3Aietf%3Awg%3Aoauth%3A2.0%3Aoob&scope=email%20https%3A%2F%2Fwww.googleapis.com%2Fauth%2Fdocs.test%20https%3A%2F%2Fwww.googleapis.com%2Fauth%2Fdrive%20https%3A%2F%2Fwww.googleapis.com%2Fauth%2Fdrive.photos.readonly%20https%3A%2F%2Fwww.googleapis.com%2Fauth%2Fpeopleapi.readonly&response_type=code\n",
            "\n",
            "Enter your authorization code:\n",
            "··········\n",
            "Mounted at /content/gdrive\n"
          ],
          "name": "stdout"
        }
      ]
    },
    {
      "cell_type": "code",
      "metadata": {
        "id": "Bgbn547G3CQX",
        "colab_type": "code",
        "outputId": "d8dea81a-62e2-4a7e-e03f-140c6a64ffbf",
        "colab": {
          "base_uri": "https://localhost:8080/",
          "height": 238
        }
      },
      "source": [
        "# import movie_titles_metadata\n",
        "metadata = pd.read_csv('/content/gdrive/My Drive/EMDS/cornell-movie-dialogs-corpus-new-seperator/movie_titles_metadata.txt', sep='|', header=None, names=[\"movie_id\",\"movie_title\",\"release_year\",\"avg_rating\",\"num_votes\",\"genres\"], encoding = \"ISO-8859-1\")\n",
        "metadata.head()"
      ],
      "execution_count": 4,
      "outputs": [
        {
          "output_type": "execute_result",
          "data": {
            "text/html": [
              "<div>\n",
              "<style scoped>\n",
              "    .dataframe tbody tr th:only-of-type {\n",
              "        vertical-align: middle;\n",
              "    }\n",
              "\n",
              "    .dataframe tbody tr th {\n",
              "        vertical-align: top;\n",
              "    }\n",
              "\n",
              "    .dataframe thead th {\n",
              "        text-align: right;\n",
              "    }\n",
              "</style>\n",
              "<table border=\"1\" class=\"dataframe\">\n",
              "  <thead>\n",
              "    <tr style=\"text-align: right;\">\n",
              "      <th></th>\n",
              "      <th>movie_id</th>\n",
              "      <th>movie_title</th>\n",
              "      <th>release_year</th>\n",
              "      <th>avg_rating</th>\n",
              "      <th>num_votes</th>\n",
              "      <th>genres</th>\n",
              "    </tr>\n",
              "  </thead>\n",
              "  <tbody>\n",
              "    <tr>\n",
              "      <th>0</th>\n",
              "      <td>m0</td>\n",
              "      <td>10 things i hate about you</td>\n",
              "      <td>1999</td>\n",
              "      <td>6.9</td>\n",
              "      <td>62847</td>\n",
              "      <td>['comedy', 'romance']</td>\n",
              "    </tr>\n",
              "    <tr>\n",
              "      <th>1</th>\n",
              "      <td>m1</td>\n",
              "      <td>1492: conquest of paradise</td>\n",
              "      <td>1992</td>\n",
              "      <td>6.2</td>\n",
              "      <td>10421</td>\n",
              "      <td>['adventure', 'biography', 'drama', 'history']</td>\n",
              "    </tr>\n",
              "    <tr>\n",
              "      <th>2</th>\n",
              "      <td>m2</td>\n",
              "      <td>15 minutes</td>\n",
              "      <td>2001</td>\n",
              "      <td>6.1</td>\n",
              "      <td>25854</td>\n",
              "      <td>['action', 'crime', 'drama', 'thriller']</td>\n",
              "    </tr>\n",
              "    <tr>\n",
              "      <th>3</th>\n",
              "      <td>m3</td>\n",
              "      <td>2001: a space odyssey</td>\n",
              "      <td>1968</td>\n",
              "      <td>8.4</td>\n",
              "      <td>163227</td>\n",
              "      <td>['adventure', 'mystery', 'sci-fi']</td>\n",
              "    </tr>\n",
              "    <tr>\n",
              "      <th>4</th>\n",
              "      <td>m4</td>\n",
              "      <td>48 hrs.</td>\n",
              "      <td>1982</td>\n",
              "      <td>6.9</td>\n",
              "      <td>22289</td>\n",
              "      <td>['action', 'comedy', 'crime', 'drama', 'thrill...</td>\n",
              "    </tr>\n",
              "  </tbody>\n",
              "</table>\n",
              "</div>"
            ],
            "text/plain": [
              "  movie_id                 movie_title  release_year  avg_rating  num_votes  \\\n",
              "0       m0  10 things i hate about you          1999         6.9      62847   \n",
              "1       m1  1492: conquest of paradise          1992         6.2      10421   \n",
              "2       m2                  15 minutes          2001         6.1      25854   \n",
              "3       m3       2001: a space odyssey          1968         8.4     163227   \n",
              "4       m4                     48 hrs.          1982         6.9      22289   \n",
              "\n",
              "                                              genres  \n",
              "0                              ['comedy', 'romance']  \n",
              "1     ['adventure', 'biography', 'drama', 'history']  \n",
              "2           ['action', 'crime', 'drama', 'thriller']  \n",
              "3                 ['adventure', 'mystery', 'sci-fi']  \n",
              "4  ['action', 'comedy', 'crime', 'drama', 'thrill...  "
            ]
          },
          "metadata": {
            "tags": []
          },
          "execution_count": 4
        }
      ]
    },
    {
      "cell_type": "markdown",
      "metadata": {
        "id": "vic8FubRHQmP",
        "colab_type": "text"
      },
      "source": [
        "### characters from movie_characters_metadata"
      ]
    },
    {
      "cell_type": "code",
      "metadata": {
        "id": "u0OOuFvm3WDe",
        "colab_type": "code",
        "outputId": "59531b8b-23cc-40e3-f0f8-060f058bf912",
        "colab": {
          "base_uri": "https://localhost:8080/",
          "height": 204
        }
      },
      "source": [
        "# import movie_characters_metadata\n",
        "characters = pd.read_csv('/content/gdrive/My Drive/EMDS/cornell-movie-dialogs-corpus-new-seperator/movie_characters_metadata.txt',sep='|', header=None, names=[\"character_id\",\"character_name\",\"movie_id\",\"movie_title\",\"gender\",\"position_in_credits\"],encoding = \"ISO-8859-1\")\n",
        "characters.head()"
      ],
      "execution_count": 5,
      "outputs": [
        {
          "output_type": "execute_result",
          "data": {
            "text/html": [
              "<div>\n",
              "<style scoped>\n",
              "    .dataframe tbody tr th:only-of-type {\n",
              "        vertical-align: middle;\n",
              "    }\n",
              "\n",
              "    .dataframe tbody tr th {\n",
              "        vertical-align: top;\n",
              "    }\n",
              "\n",
              "    .dataframe thead th {\n",
              "        text-align: right;\n",
              "    }\n",
              "</style>\n",
              "<table border=\"1\" class=\"dataframe\">\n",
              "  <thead>\n",
              "    <tr style=\"text-align: right;\">\n",
              "      <th></th>\n",
              "      <th>character_id</th>\n",
              "      <th>character_name</th>\n",
              "      <th>movie_id</th>\n",
              "      <th>movie_title</th>\n",
              "      <th>gender</th>\n",
              "      <th>position_in_credits</th>\n",
              "    </tr>\n",
              "  </thead>\n",
              "  <tbody>\n",
              "    <tr>\n",
              "      <th>0</th>\n",
              "      <td>u0</td>\n",
              "      <td>BIANCA</td>\n",
              "      <td>m0</td>\n",
              "      <td>10 things i hate about you</td>\n",
              "      <td>f</td>\n",
              "      <td>4</td>\n",
              "    </tr>\n",
              "    <tr>\n",
              "      <th>1</th>\n",
              "      <td>u1</td>\n",
              "      <td>BRUCE</td>\n",
              "      <td>m0</td>\n",
              "      <td>10 things i hate about you</td>\n",
              "      <td>?</td>\n",
              "      <td>?</td>\n",
              "    </tr>\n",
              "    <tr>\n",
              "      <th>2</th>\n",
              "      <td>u2</td>\n",
              "      <td>CAMERON</td>\n",
              "      <td>m0</td>\n",
              "      <td>10 things i hate about you</td>\n",
              "      <td>m</td>\n",
              "      <td>3</td>\n",
              "    </tr>\n",
              "    <tr>\n",
              "      <th>3</th>\n",
              "      <td>u3</td>\n",
              "      <td>CHASTITY</td>\n",
              "      <td>m0</td>\n",
              "      <td>10 things i hate about you</td>\n",
              "      <td>?</td>\n",
              "      <td>?</td>\n",
              "    </tr>\n",
              "    <tr>\n",
              "      <th>4</th>\n",
              "      <td>u4</td>\n",
              "      <td>JOEY</td>\n",
              "      <td>m0</td>\n",
              "      <td>10 things i hate about you</td>\n",
              "      <td>m</td>\n",
              "      <td>6</td>\n",
              "    </tr>\n",
              "  </tbody>\n",
              "</table>\n",
              "</div>"
            ],
            "text/plain": [
              "  character_id character_name movie_id                 movie_title gender  \\\n",
              "0           u0         BIANCA       m0  10 things i hate about you      f   \n",
              "1           u1          BRUCE       m0  10 things i hate about you      ?   \n",
              "2           u2        CAMERON       m0  10 things i hate about you      m   \n",
              "3           u3       CHASTITY       m0  10 things i hate about you      ?   \n",
              "4           u4           JOEY       m0  10 things i hate about you      m   \n",
              "\n",
              "  position_in_credits  \n",
              "0                   4  \n",
              "1                   ?  \n",
              "2                   3  \n",
              "3                   ?  \n",
              "4                   6  "
            ]
          },
          "metadata": {
            "tags": []
          },
          "execution_count": 5
        }
      ]
    },
    {
      "cell_type": "markdown",
      "metadata": {
        "id": "whkeMz24HcBM",
        "colab_type": "text"
      },
      "source": [
        "### lines from movie_lines"
      ]
    },
    {
      "cell_type": "code",
      "metadata": {
        "id": "ebLq2vy345nE",
        "colab_type": "code",
        "colab": {
          "base_uri": "https://localhost:8080/",
          "height": 525
        },
        "outputId": "d4193ece-561e-4552-d031-abcb2454a936"
      },
      "source": [
        "#import movie_lines\n",
        "lines = pd.read_excel('/content/gdrive/My Drive/EMDS/cornell-movie-dialogs-corpus-new-seperator/liwc_results_movie_line.xlsx')\n",
        "lines.head()"
      ],
      "execution_count": 6,
      "outputs": [
        {
          "output_type": "execute_result",
          "data": {
            "text/html": [
              "<div>\n",
              "<style scoped>\n",
              "    .dataframe tbody tr th:only-of-type {\n",
              "        vertical-align: middle;\n",
              "    }\n",
              "\n",
              "    .dataframe tbody tr th {\n",
              "        vertical-align: top;\n",
              "    }\n",
              "\n",
              "    .dataframe thead th {\n",
              "        text-align: right;\n",
              "    }\n",
              "</style>\n",
              "<table border=\"1\" class=\"dataframe\">\n",
              "  <thead>\n",
              "    <tr style=\"text-align: right;\">\n",
              "      <th></th>\n",
              "      <th>line_id</th>\n",
              "      <th>user_id</th>\n",
              "      <th>movie_id</th>\n",
              "      <th>characher_name</th>\n",
              "      <th>line_text</th>\n",
              "      <th>WC</th>\n",
              "      <th>Analytic</th>\n",
              "      <th>Clout</th>\n",
              "      <th>Authentic</th>\n",
              "      <th>Tone</th>\n",
              "      <th>...</th>\n",
              "      <th>Comma</th>\n",
              "      <th>Colon</th>\n",
              "      <th>SemiC</th>\n",
              "      <th>QMark</th>\n",
              "      <th>Exclam</th>\n",
              "      <th>Dash</th>\n",
              "      <th>Quote</th>\n",
              "      <th>Apostro</th>\n",
              "      <th>Parenth</th>\n",
              "      <th>OtherP</th>\n",
              "    </tr>\n",
              "  </thead>\n",
              "  <tbody>\n",
              "    <tr>\n",
              "      <th>0</th>\n",
              "      <td>L229891</td>\n",
              "      <td>u1036</td>\n",
              "      <td>m68</td>\n",
              "      <td>ALEXANDER</td>\n",
              "      <td>By Grabthar's Hammer, this is true. 159 NT. L...</td>\n",
              "      <td>13</td>\n",
              "      <td>42.69</td>\n",
              "      <td>50.00</td>\n",
              "      <td>63.54</td>\n",
              "      <td>99.00</td>\n",
              "      <td>...</td>\n",
              "      <td>7.69</td>\n",
              "      <td>0.0</td>\n",
              "      <td>0.0</td>\n",
              "      <td>0.00</td>\n",
              "      <td>0.0</td>\n",
              "      <td>15.38</td>\n",
              "      <td>0.0</td>\n",
              "      <td>7.69</td>\n",
              "      <td>0.0</td>\n",
              "      <td>0.0</td>\n",
              "    </tr>\n",
              "    <tr>\n",
              "      <th>1</th>\n",
              "      <td>L1000</td>\n",
              "      <td>u11</td>\n",
              "      <td>m0</td>\n",
              "      <td>WALTER</td>\n",
              "      <td>Oh, Christ.  Don't tell me you've changed you...</td>\n",
              "      <td>15</td>\n",
              "      <td>3.09</td>\n",
              "      <td>97.69</td>\n",
              "      <td>98.01</td>\n",
              "      <td>25.77</td>\n",
              "      <td>...</td>\n",
              "      <td>6.67</td>\n",
              "      <td>0.0</td>\n",
              "      <td>0.0</td>\n",
              "      <td>0.00</td>\n",
              "      <td>0.0</td>\n",
              "      <td>0.00</td>\n",
              "      <td>0.0</td>\n",
              "      <td>20.00</td>\n",
              "      <td>0.0</td>\n",
              "      <td>0.0</td>\n",
              "    </tr>\n",
              "    <tr>\n",
              "      <th>2</th>\n",
              "      <td>L10000</td>\n",
              "      <td>u3525</td>\n",
              "      <td>m232</td>\n",
              "      <td>LINDSEY</td>\n",
              "      <td>Oh... chamber runs.  Uh huh, that's good.  We...</td>\n",
              "      <td>14</td>\n",
              "      <td>28.22</td>\n",
              "      <td>99.00</td>\n",
              "      <td>13.15</td>\n",
              "      <td>99.00</td>\n",
              "      <td>...</td>\n",
              "      <td>14.29</td>\n",
              "      <td>0.0</td>\n",
              "      <td>0.0</td>\n",
              "      <td>7.14</td>\n",
              "      <td>0.0</td>\n",
              "      <td>0.00</td>\n",
              "      <td>0.0</td>\n",
              "      <td>7.14</td>\n",
              "      <td>0.0</td>\n",
              "      <td>0.0</td>\n",
              "    </tr>\n",
              "    <tr>\n",
              "      <th>3</th>\n",
              "      <td>L100000</td>\n",
              "      <td>u4168</td>\n",
              "      <td>m278</td>\n",
              "      <td>JOANNE</td>\n",
              "      <td>No.</td>\n",
              "      <td>1</td>\n",
              "      <td>1.00</td>\n",
              "      <td>1.00</td>\n",
              "      <td>1.00</td>\n",
              "      <td>25.77</td>\n",
              "      <td>...</td>\n",
              "      <td>0.00</td>\n",
              "      <td>0.0</td>\n",
              "      <td>0.0</td>\n",
              "      <td>0.00</td>\n",
              "      <td>0.0</td>\n",
              "      <td>0.00</td>\n",
              "      <td>0.0</td>\n",
              "      <td>0.00</td>\n",
              "      <td>0.0</td>\n",
              "      <td>0.0</td>\n",
              "    </tr>\n",
              "    <tr>\n",
              "      <th>4</th>\n",
              "      <td>L100001</td>\n",
              "      <td>u4166</td>\n",
              "      <td>m278</td>\n",
              "      <td>DULANEY</td>\n",
              "      <td>Then why did you go see Mr. Koehler in the fi...</td>\n",
              "      <td>12</td>\n",
              "      <td>60.80</td>\n",
              "      <td>95.20</td>\n",
              "      <td>99.00</td>\n",
              "      <td>25.77</td>\n",
              "      <td>...</td>\n",
              "      <td>0.00</td>\n",
              "      <td>0.0</td>\n",
              "      <td>0.0</td>\n",
              "      <td>8.33</td>\n",
              "      <td>0.0</td>\n",
              "      <td>0.00</td>\n",
              "      <td>0.0</td>\n",
              "      <td>0.00</td>\n",
              "      <td>0.0</td>\n",
              "      <td>0.0</td>\n",
              "    </tr>\n",
              "  </tbody>\n",
              "</table>\n",
              "<p>5 rows × 98 columns</p>\n",
              "</div>"
            ],
            "text/plain": [
              "     line_id   user_id movie_id characher_name  \\\n",
              "0  L229891     u1036      m68      ALEXANDER     \n",
              "1    L1000       u11       m0         WALTER     \n",
              "2   L10000     u3525     m232        LINDSEY     \n",
              "3  L100000     u4168     m278         JOANNE     \n",
              "4  L100001     u4166     m278        DULANEY     \n",
              "\n",
              "                                           line_text  WC  Analytic  Clout  \\\n",
              "0   By Grabthar's Hammer, this is true. 159 NT. L...  13     42.69  50.00   \n",
              "1   Oh, Christ.  Don't tell me you've changed you...  15      3.09  97.69   \n",
              "2   Oh... chamber runs.  Uh huh, that's good.  We...  14     28.22  99.00   \n",
              "3                                                No.   1      1.00   1.00   \n",
              "4   Then why did you go see Mr. Koehler in the fi...  12     60.80  95.20   \n",
              "\n",
              "   Authentic   Tone  ...  Comma  Colon  SemiC  QMark  Exclam   Dash  Quote  \\\n",
              "0      63.54  99.00  ...   7.69    0.0    0.0   0.00     0.0  15.38    0.0   \n",
              "1      98.01  25.77  ...   6.67    0.0    0.0   0.00     0.0   0.00    0.0   \n",
              "2      13.15  99.00  ...  14.29    0.0    0.0   7.14     0.0   0.00    0.0   \n",
              "3       1.00  25.77  ...   0.00    0.0    0.0   0.00     0.0   0.00    0.0   \n",
              "4      99.00  25.77  ...   0.00    0.0    0.0   8.33     0.0   0.00    0.0   \n",
              "\n",
              "   Apostro  Parenth  OtherP  \n",
              "0     7.69      0.0     0.0  \n",
              "1    20.00      0.0     0.0  \n",
              "2     7.14      0.0     0.0  \n",
              "3     0.00      0.0     0.0  \n",
              "4     0.00      0.0     0.0  \n",
              "\n",
              "[5 rows x 98 columns]"
            ]
          },
          "metadata": {
            "tags": []
          },
          "execution_count": 6
        }
      ]
    },
    {
      "cell_type": "code",
      "metadata": {
        "id": "4EzRF47alRYI",
        "colab_type": "code",
        "colab": {
          "base_uri": "https://localhost:8080/",
          "height": 204
        },
        "outputId": "05fd7e7e-2c1a-4223-dd8a-1d7728b63df9"
      },
      "source": [
        "lines = lines.loc[:,:'line_text']\n",
        "lines = lines.rename(columns={\"user_id\":\"character_id\"})\n",
        "lines.head()"
      ],
      "execution_count": 7,
      "outputs": [
        {
          "output_type": "execute_result",
          "data": {
            "text/html": [
              "<div>\n",
              "<style scoped>\n",
              "    .dataframe tbody tr th:only-of-type {\n",
              "        vertical-align: middle;\n",
              "    }\n",
              "\n",
              "    .dataframe tbody tr th {\n",
              "        vertical-align: top;\n",
              "    }\n",
              "\n",
              "    .dataframe thead th {\n",
              "        text-align: right;\n",
              "    }\n",
              "</style>\n",
              "<table border=\"1\" class=\"dataframe\">\n",
              "  <thead>\n",
              "    <tr style=\"text-align: right;\">\n",
              "      <th></th>\n",
              "      <th>line_id</th>\n",
              "      <th>character_id</th>\n",
              "      <th>movie_id</th>\n",
              "      <th>characher_name</th>\n",
              "      <th>line_text</th>\n",
              "    </tr>\n",
              "  </thead>\n",
              "  <tbody>\n",
              "    <tr>\n",
              "      <th>0</th>\n",
              "      <td>L229891</td>\n",
              "      <td>u1036</td>\n",
              "      <td>m68</td>\n",
              "      <td>ALEXANDER</td>\n",
              "      <td>By Grabthar's Hammer, this is true. 159 NT. L...</td>\n",
              "    </tr>\n",
              "    <tr>\n",
              "      <th>1</th>\n",
              "      <td>L1000</td>\n",
              "      <td>u11</td>\n",
              "      <td>m0</td>\n",
              "      <td>WALTER</td>\n",
              "      <td>Oh, Christ.  Don't tell me you've changed you...</td>\n",
              "    </tr>\n",
              "    <tr>\n",
              "      <th>2</th>\n",
              "      <td>L10000</td>\n",
              "      <td>u3525</td>\n",
              "      <td>m232</td>\n",
              "      <td>LINDSEY</td>\n",
              "      <td>Oh... chamber runs.  Uh huh, that's good.  We...</td>\n",
              "    </tr>\n",
              "    <tr>\n",
              "      <th>3</th>\n",
              "      <td>L100000</td>\n",
              "      <td>u4168</td>\n",
              "      <td>m278</td>\n",
              "      <td>JOANNE</td>\n",
              "      <td>No.</td>\n",
              "    </tr>\n",
              "    <tr>\n",
              "      <th>4</th>\n",
              "      <td>L100001</td>\n",
              "      <td>u4166</td>\n",
              "      <td>m278</td>\n",
              "      <td>DULANEY</td>\n",
              "      <td>Then why did you go see Mr. Koehler in the fi...</td>\n",
              "    </tr>\n",
              "  </tbody>\n",
              "</table>\n",
              "</div>"
            ],
            "text/plain": [
              "     line_id character_id movie_id characher_name  \\\n",
              "0  L229891        u1036      m68      ALEXANDER     \n",
              "1    L1000          u11       m0         WALTER     \n",
              "2   L10000        u3525     m232        LINDSEY     \n",
              "3  L100000        u4168     m278         JOANNE     \n",
              "4  L100001        u4166     m278        DULANEY     \n",
              "\n",
              "                                           line_text  \n",
              "0   By Grabthar's Hammer, this is true. 159 NT. L...  \n",
              "1   Oh, Christ.  Don't tell me you've changed you...  \n",
              "2   Oh... chamber runs.  Uh huh, that's good.  We...  \n",
              "3                                                No.  \n",
              "4   Then why did you go see Mr. Koehler in the fi...  "
            ]
          },
          "metadata": {
            "tags": []
          },
          "execution_count": 7
        }
      ]
    },
    {
      "cell_type": "code",
      "metadata": {
        "id": "Pn2ksx63mm2E",
        "colab_type": "code",
        "colab": {
          "base_uri": "https://localhost:8080/",
          "height": 204
        },
        "outputId": "f7fef9b0-38a8-4262-e8e5-f73a690fc75d"
      },
      "source": [
        "lines['line_id'] = lines['line_id'].str.strip()\n",
        "lines['character_id'] = lines['character_id'].str.strip()\n",
        "lines['movie_id'] = lines['movie_id'].str.strip()\n",
        "lines.head()"
      ],
      "execution_count": 8,
      "outputs": [
        {
          "output_type": "execute_result",
          "data": {
            "text/html": [
              "<div>\n",
              "<style scoped>\n",
              "    .dataframe tbody tr th:only-of-type {\n",
              "        vertical-align: middle;\n",
              "    }\n",
              "\n",
              "    .dataframe tbody tr th {\n",
              "        vertical-align: top;\n",
              "    }\n",
              "\n",
              "    .dataframe thead th {\n",
              "        text-align: right;\n",
              "    }\n",
              "</style>\n",
              "<table border=\"1\" class=\"dataframe\">\n",
              "  <thead>\n",
              "    <tr style=\"text-align: right;\">\n",
              "      <th></th>\n",
              "      <th>line_id</th>\n",
              "      <th>character_id</th>\n",
              "      <th>movie_id</th>\n",
              "      <th>characher_name</th>\n",
              "      <th>line_text</th>\n",
              "    </tr>\n",
              "  </thead>\n",
              "  <tbody>\n",
              "    <tr>\n",
              "      <th>0</th>\n",
              "      <td>L229891</td>\n",
              "      <td>u1036</td>\n",
              "      <td>m68</td>\n",
              "      <td>ALEXANDER</td>\n",
              "      <td>By Grabthar's Hammer, this is true. 159 NT. L...</td>\n",
              "    </tr>\n",
              "    <tr>\n",
              "      <th>1</th>\n",
              "      <td>L1000</td>\n",
              "      <td>u11</td>\n",
              "      <td>m0</td>\n",
              "      <td>WALTER</td>\n",
              "      <td>Oh, Christ.  Don't tell me you've changed you...</td>\n",
              "    </tr>\n",
              "    <tr>\n",
              "      <th>2</th>\n",
              "      <td>L10000</td>\n",
              "      <td>u3525</td>\n",
              "      <td>m232</td>\n",
              "      <td>LINDSEY</td>\n",
              "      <td>Oh... chamber runs.  Uh huh, that's good.  We...</td>\n",
              "    </tr>\n",
              "    <tr>\n",
              "      <th>3</th>\n",
              "      <td>L100000</td>\n",
              "      <td>u4168</td>\n",
              "      <td>m278</td>\n",
              "      <td>JOANNE</td>\n",
              "      <td>No.</td>\n",
              "    </tr>\n",
              "    <tr>\n",
              "      <th>4</th>\n",
              "      <td>L100001</td>\n",
              "      <td>u4166</td>\n",
              "      <td>m278</td>\n",
              "      <td>DULANEY</td>\n",
              "      <td>Then why did you go see Mr. Koehler in the fi...</td>\n",
              "    </tr>\n",
              "  </tbody>\n",
              "</table>\n",
              "</div>"
            ],
            "text/plain": [
              "   line_id character_id movie_id characher_name  \\\n",
              "0  L229891        u1036      m68    ALEXANDER     \n",
              "1    L1000          u11       m0       WALTER     \n",
              "2   L10000        u3525     m232      LINDSEY     \n",
              "3  L100000        u4168     m278       JOANNE     \n",
              "4  L100001        u4166     m278      DULANEY     \n",
              "\n",
              "                                           line_text  \n",
              "0   By Grabthar's Hammer, this is true. 159 NT. L...  \n",
              "1   Oh, Christ.  Don't tell me you've changed you...  \n",
              "2   Oh... chamber runs.  Uh huh, that's good.  We...  \n",
              "3                                                No.  \n",
              "4   Then why did you go see Mr. Koehler in the fi...  "
            ]
          },
          "metadata": {
            "tags": []
          },
          "execution_count": 8
        }
      ]
    },
    {
      "cell_type": "markdown",
      "metadata": {
        "id": "ybRkp221HeTW",
        "colab_type": "text"
      },
      "source": [
        "### conversations from movie_conversations"
      ]
    },
    {
      "cell_type": "code",
      "metadata": {
        "id": "jerZOTZuh6hY",
        "colab_type": "code",
        "colab": {
          "base_uri": "https://localhost:8080/",
          "height": 204
        },
        "outputId": "8e9e2ba6-3746-4282-ceaa-88d7e26f5d57"
      },
      "source": [
        "# import movie_conversations\n",
        "conversations = pd.read_csv('/content/gdrive/My Drive/EMDS/cornell-movie-dialogs-corpus-new-seperator/movie_conversations.txt',sep='|', header=None,names=[\"character_id_first\",\"character_id_second\", \"movie_id\",\"list_of_text\"],encoding = \"ISO-8859-1\")\n",
        "conversations.head()"
      ],
      "execution_count": 9,
      "outputs": [
        {
          "output_type": "execute_result",
          "data": {
            "text/html": [
              "<div>\n",
              "<style scoped>\n",
              "    .dataframe tbody tr th:only-of-type {\n",
              "        vertical-align: middle;\n",
              "    }\n",
              "\n",
              "    .dataframe tbody tr th {\n",
              "        vertical-align: top;\n",
              "    }\n",
              "\n",
              "    .dataframe thead th {\n",
              "        text-align: right;\n",
              "    }\n",
              "</style>\n",
              "<table border=\"1\" class=\"dataframe\">\n",
              "  <thead>\n",
              "    <tr style=\"text-align: right;\">\n",
              "      <th></th>\n",
              "      <th>character_id_first</th>\n",
              "      <th>character_id_second</th>\n",
              "      <th>movie_id</th>\n",
              "      <th>list_of_text</th>\n",
              "    </tr>\n",
              "  </thead>\n",
              "  <tbody>\n",
              "    <tr>\n",
              "      <th>0</th>\n",
              "      <td>u0</td>\n",
              "      <td>u2</td>\n",
              "      <td>m0</td>\n",
              "      <td>['L194', 'L195', 'L196', 'L197']</td>\n",
              "    </tr>\n",
              "    <tr>\n",
              "      <th>1</th>\n",
              "      <td>u0</td>\n",
              "      <td>u2</td>\n",
              "      <td>m0</td>\n",
              "      <td>['L198', 'L199']</td>\n",
              "    </tr>\n",
              "    <tr>\n",
              "      <th>2</th>\n",
              "      <td>u0</td>\n",
              "      <td>u2</td>\n",
              "      <td>m0</td>\n",
              "      <td>['L200', 'L201', 'L202', 'L203']</td>\n",
              "    </tr>\n",
              "    <tr>\n",
              "      <th>3</th>\n",
              "      <td>u0</td>\n",
              "      <td>u2</td>\n",
              "      <td>m0</td>\n",
              "      <td>['L204', 'L205', 'L206']</td>\n",
              "    </tr>\n",
              "    <tr>\n",
              "      <th>4</th>\n",
              "      <td>u0</td>\n",
              "      <td>u2</td>\n",
              "      <td>m0</td>\n",
              "      <td>['L207', 'L208']</td>\n",
              "    </tr>\n",
              "  </tbody>\n",
              "</table>\n",
              "</div>"
            ],
            "text/plain": [
              "  character_id_first character_id_second movie_id  \\\n",
              "0                 u0                  u2       m0   \n",
              "1                 u0                  u2       m0   \n",
              "2                 u0                  u2       m0   \n",
              "3                 u0                  u2       m0   \n",
              "4                 u0                  u2       m0   \n",
              "\n",
              "                       list_of_text  \n",
              "0  ['L194', 'L195', 'L196', 'L197']  \n",
              "1                  ['L198', 'L199']  \n",
              "2  ['L200', 'L201', 'L202', 'L203']  \n",
              "3          ['L204', 'L205', 'L206']  \n",
              "4                  ['L207', 'L208']  "
            ]
          },
          "metadata": {
            "tags": []
          },
          "execution_count": 9
        }
      ]
    },
    {
      "cell_type": "markdown",
      "metadata": {
        "id": "oWPtdvZKxwty",
        "colab_type": "text"
      },
      "source": [
        "# Hypo 2\n",
        "考虑性别差异，genre差异 \n",
        "* 女性在dramatic/romantic里台词更多\n",
        "* 女性在dramatic/romantic里角色更重要\n",
        "\n",
        "方法：\n",
        "* 统计男女性台词(#words, #lines)\n",
        "* 对话中starter vs. respond性别 <br>\n",
        "lead: 台词长度。mentions in other dialogues."
      ]
    },
    {
      "cell_type": "markdown",
      "metadata": {
        "id": "jb0-q3xe58Vz",
        "colab_type": "text"
      },
      "source": [
        "## 2.1. Gender gap in #lines/words"
      ]
    },
    {
      "cell_type": "code",
      "metadata": {
        "id": "eD1i-SVen9oi",
        "colab_type": "code",
        "colab": {
          "base_uri": "https://localhost:8080/",
          "height": 428
        },
        "outputId": "8d7ae5a3-3b10-4352-f8e6-8fd0879dd726"
      },
      "source": [
        "character_line = pd.merge(characters, lines, on='character_id')\n",
        "character_line.head()"
      ],
      "execution_count": 10,
      "outputs": [
        {
          "output_type": "execute_result",
          "data": {
            "text/html": [
              "<div>\n",
              "<style scoped>\n",
              "    .dataframe tbody tr th:only-of-type {\n",
              "        vertical-align: middle;\n",
              "    }\n",
              "\n",
              "    .dataframe tbody tr th {\n",
              "        vertical-align: top;\n",
              "    }\n",
              "\n",
              "    .dataframe thead th {\n",
              "        text-align: right;\n",
              "    }\n",
              "</style>\n",
              "<table border=\"1\" class=\"dataframe\">\n",
              "  <thead>\n",
              "    <tr style=\"text-align: right;\">\n",
              "      <th></th>\n",
              "      <th>character_id</th>\n",
              "      <th>character_name</th>\n",
              "      <th>movie_id_x</th>\n",
              "      <th>movie_title</th>\n",
              "      <th>gender</th>\n",
              "      <th>position_in_credits</th>\n",
              "      <th>line_id</th>\n",
              "      <th>movie_id_y</th>\n",
              "      <th>characher_name</th>\n",
              "      <th>line_text</th>\n",
              "    </tr>\n",
              "  </thead>\n",
              "  <tbody>\n",
              "    <tr>\n",
              "      <th>0</th>\n",
              "      <td>u0</td>\n",
              "      <td>BIANCA</td>\n",
              "      <td>m0</td>\n",
              "      <td>10 things i hate about you</td>\n",
              "      <td>f</td>\n",
              "      <td>4</td>\n",
              "      <td>L1007</td>\n",
              "      <td>m0</td>\n",
              "      <td>BIANCA</td>\n",
              "      <td>Let go!</td>\n",
              "    </tr>\n",
              "    <tr>\n",
              "      <th>1</th>\n",
              "      <td>u0</td>\n",
              "      <td>BIANCA</td>\n",
              "      <td>m0</td>\n",
              "      <td>10 things i hate about you</td>\n",
              "      <td>f</td>\n",
              "      <td>4</td>\n",
              "      <td>L1009</td>\n",
              "      <td>m0</td>\n",
              "      <td>BIANCA</td>\n",
              "      <td>I just wanted --</td>\n",
              "    </tr>\n",
              "    <tr>\n",
              "      <th>2</th>\n",
              "      <td>u0</td>\n",
              "      <td>BIANCA</td>\n",
              "      <td>m0</td>\n",
              "      <td>10 things i hate about you</td>\n",
              "      <td>f</td>\n",
              "      <td>4</td>\n",
              "      <td>L1011</td>\n",
              "      <td>m0</td>\n",
              "      <td>BIANCA</td>\n",
              "      <td>No! I just wanted</td>\n",
              "    </tr>\n",
              "    <tr>\n",
              "      <th>3</th>\n",
              "      <td>u0</td>\n",
              "      <td>BIANCA</td>\n",
              "      <td>m0</td>\n",
              "      <td>10 things i hate about you</td>\n",
              "      <td>f</td>\n",
              "      <td>4</td>\n",
              "      <td>L1021</td>\n",
              "      <td>m0</td>\n",
              "      <td>BIANCA</td>\n",
              "      <td>Is that woman a complete fruit-loop or is it ...</td>\n",
              "    </tr>\n",
              "    <tr>\n",
              "      <th>4</th>\n",
              "      <td>u0</td>\n",
              "      <td>BIANCA</td>\n",
              "      <td>m0</td>\n",
              "      <td>10 things i hate about you</td>\n",
              "      <td>f</td>\n",
              "      <td>4</td>\n",
              "      <td>L1045</td>\n",
              "      <td>m0</td>\n",
              "      <td>BIANCA</td>\n",
              "      <td>They do not!</td>\n",
              "    </tr>\n",
              "  </tbody>\n",
              "</table>\n",
              "</div>"
            ],
            "text/plain": [
              "  character_id character_name movie_id_x                 movie_title gender  \\\n",
              "0           u0         BIANCA         m0  10 things i hate about you      f   \n",
              "1           u0         BIANCA         m0  10 things i hate about you      f   \n",
              "2           u0         BIANCA         m0  10 things i hate about you      f   \n",
              "3           u0         BIANCA         m0  10 things i hate about you      f   \n",
              "4           u0         BIANCA         m0  10 things i hate about you      f   \n",
              "\n",
              "  position_in_credits line_id movie_id_y characher_name  \\\n",
              "0                   4   L1007         m0       BIANCA     \n",
              "1                   4   L1009         m0       BIANCA     \n",
              "2                   4   L1011         m0       BIANCA     \n",
              "3                   4   L1021         m0       BIANCA     \n",
              "4                   4   L1045         m0       BIANCA     \n",
              "\n",
              "                                           line_text  \n",
              "0                                            Let go!  \n",
              "1                                   I just wanted --  \n",
              "2                                  No! I just wanted  \n",
              "3   Is that woman a complete fruit-loop or is it ...  \n",
              "4                                       They do not!  "
            ]
          },
          "metadata": {
            "tags": []
          },
          "execution_count": 10
        }
      ]
    },
    {
      "cell_type": "code",
      "metadata": {
        "id": "B1yj8odVoeMx",
        "colab_type": "code",
        "colab": {
          "base_uri": "https://localhost:8080/",
          "height": 34
        },
        "outputId": "993b2c12-2f59-411d-c7bd-16b0a0d26a67"
      },
      "source": [
        "set(character_line.gender)"
      ],
      "execution_count": 11,
      "outputs": [
        {
          "output_type": "execute_result",
          "data": {
            "text/plain": [
              "{'?', 'F', 'M', 'f', 'm'}"
            ]
          },
          "metadata": {
            "tags": []
          },
          "execution_count": 11
        }
      ]
    },
    {
      "cell_type": "code",
      "metadata": {
        "id": "-cTs22FUoX8r",
        "colab_type": "code",
        "colab": {}
      },
      "source": [
        "character_line = character_line[character_line.gender != '?']"
      ],
      "execution_count": 0,
      "outputs": []
    },
    {
      "cell_type": "code",
      "metadata": {
        "id": "Mwr3Rjb9oiuz",
        "colab_type": "code",
        "colab": {
          "base_uri": "https://localhost:8080/",
          "height": 34
        },
        "outputId": "4c653fe4-6c35-4d29-a6db-4061bd72fb25"
      },
      "source": [
        "set(character_line.gender)"
      ],
      "execution_count": 13,
      "outputs": [
        {
          "output_type": "execute_result",
          "data": {
            "text/plain": [
              "{'F', 'M', 'f', 'm'}"
            ]
          },
          "metadata": {
            "tags": []
          },
          "execution_count": 13
        }
      ]
    },
    {
      "cell_type": "code",
      "metadata": {
        "id": "8TUfPM7SrFTA",
        "colab_type": "code",
        "colab": {
          "base_uri": "https://localhost:8080/",
          "height": 428
        },
        "outputId": "e130ef40-65da-4f21-8fb4-5fce99c82626"
      },
      "source": [
        "no_words = character_line.line_text.str.split().str.len()\n",
        "character_line['no_words'] = pd.Series(no_words, index = character_line.index)\n",
        "character_line.head()"
      ],
      "execution_count": 14,
      "outputs": [
        {
          "output_type": "execute_result",
          "data": {
            "text/html": [
              "<div>\n",
              "<style scoped>\n",
              "    .dataframe tbody tr th:only-of-type {\n",
              "        vertical-align: middle;\n",
              "    }\n",
              "\n",
              "    .dataframe tbody tr th {\n",
              "        vertical-align: top;\n",
              "    }\n",
              "\n",
              "    .dataframe thead th {\n",
              "        text-align: right;\n",
              "    }\n",
              "</style>\n",
              "<table border=\"1\" class=\"dataframe\">\n",
              "  <thead>\n",
              "    <tr style=\"text-align: right;\">\n",
              "      <th></th>\n",
              "      <th>character_id</th>\n",
              "      <th>character_name</th>\n",
              "      <th>movie_id_x</th>\n",
              "      <th>movie_title</th>\n",
              "      <th>gender</th>\n",
              "      <th>position_in_credits</th>\n",
              "      <th>line_id</th>\n",
              "      <th>movie_id_y</th>\n",
              "      <th>characher_name</th>\n",
              "      <th>line_text</th>\n",
              "      <th>no_words</th>\n",
              "    </tr>\n",
              "  </thead>\n",
              "  <tbody>\n",
              "    <tr>\n",
              "      <th>0</th>\n",
              "      <td>u0</td>\n",
              "      <td>BIANCA</td>\n",
              "      <td>m0</td>\n",
              "      <td>10 things i hate about you</td>\n",
              "      <td>f</td>\n",
              "      <td>4</td>\n",
              "      <td>L1007</td>\n",
              "      <td>m0</td>\n",
              "      <td>BIANCA</td>\n",
              "      <td>Let go!</td>\n",
              "      <td>2</td>\n",
              "    </tr>\n",
              "    <tr>\n",
              "      <th>1</th>\n",
              "      <td>u0</td>\n",
              "      <td>BIANCA</td>\n",
              "      <td>m0</td>\n",
              "      <td>10 things i hate about you</td>\n",
              "      <td>f</td>\n",
              "      <td>4</td>\n",
              "      <td>L1009</td>\n",
              "      <td>m0</td>\n",
              "      <td>BIANCA</td>\n",
              "      <td>I just wanted --</td>\n",
              "      <td>4</td>\n",
              "    </tr>\n",
              "    <tr>\n",
              "      <th>2</th>\n",
              "      <td>u0</td>\n",
              "      <td>BIANCA</td>\n",
              "      <td>m0</td>\n",
              "      <td>10 things i hate about you</td>\n",
              "      <td>f</td>\n",
              "      <td>4</td>\n",
              "      <td>L1011</td>\n",
              "      <td>m0</td>\n",
              "      <td>BIANCA</td>\n",
              "      <td>No! I just wanted</td>\n",
              "      <td>4</td>\n",
              "    </tr>\n",
              "    <tr>\n",
              "      <th>3</th>\n",
              "      <td>u0</td>\n",
              "      <td>BIANCA</td>\n",
              "      <td>m0</td>\n",
              "      <td>10 things i hate about you</td>\n",
              "      <td>f</td>\n",
              "      <td>4</td>\n",
              "      <td>L1021</td>\n",
              "      <td>m0</td>\n",
              "      <td>BIANCA</td>\n",
              "      <td>Is that woman a complete fruit-loop or is it ...</td>\n",
              "      <td>11</td>\n",
              "    </tr>\n",
              "    <tr>\n",
              "      <th>4</th>\n",
              "      <td>u0</td>\n",
              "      <td>BIANCA</td>\n",
              "      <td>m0</td>\n",
              "      <td>10 things i hate about you</td>\n",
              "      <td>f</td>\n",
              "      <td>4</td>\n",
              "      <td>L1045</td>\n",
              "      <td>m0</td>\n",
              "      <td>BIANCA</td>\n",
              "      <td>They do not!</td>\n",
              "      <td>3</td>\n",
              "    </tr>\n",
              "  </tbody>\n",
              "</table>\n",
              "</div>"
            ],
            "text/plain": [
              "  character_id character_name movie_id_x                 movie_title gender  \\\n",
              "0           u0         BIANCA         m0  10 things i hate about you      f   \n",
              "1           u0         BIANCA         m0  10 things i hate about you      f   \n",
              "2           u0         BIANCA         m0  10 things i hate about you      f   \n",
              "3           u0         BIANCA         m0  10 things i hate about you      f   \n",
              "4           u0         BIANCA         m0  10 things i hate about you      f   \n",
              "\n",
              "  position_in_credits line_id movie_id_y characher_name  \\\n",
              "0                   4   L1007         m0       BIANCA     \n",
              "1                   4   L1009         m0       BIANCA     \n",
              "2                   4   L1011         m0       BIANCA     \n",
              "3                   4   L1021         m0       BIANCA     \n",
              "4                   4   L1045         m0       BIANCA     \n",
              "\n",
              "                                           line_text  no_words  \n",
              "0                                            Let go!         2  \n",
              "1                                   I just wanted --         4  \n",
              "2                                  No! I just wanted         4  \n",
              "3   Is that woman a complete fruit-loop or is it ...        11  \n",
              "4                                       They do not!         3  "
            ]
          },
          "metadata": {
            "tags": []
          },
          "execution_count": 14
        }
      ]
    },
    {
      "cell_type": "code",
      "metadata": {
        "id": "rlfNRDfSoxlp",
        "colab_type": "code",
        "colab": {
          "base_uri": "https://localhost:8080/",
          "height": 357
        },
        "outputId": "54d60907-40cf-453a-9a3a-5b653b17ea66"
      },
      "source": [
        "if character_line.movie_id_x.equals(character_line.movie_id_y):\n",
        "  character_line.drop(columns=['movie_id_x'])\n",
        "  character_line = character_line.rename(columns={\"movie_id_y\":\"movie_id\"})\n",
        "  print(character_line.head())"
      ],
      "execution_count": 15,
      "outputs": [
        {
          "output_type": "stream",
          "text": [
            "  character_id character_name movie_id_x                 movie_title gender  \\\n",
            "0           u0         BIANCA         m0  10 things i hate about you      f   \n",
            "1           u0         BIANCA         m0  10 things i hate about you      f   \n",
            "2           u0         BIANCA         m0  10 things i hate about you      f   \n",
            "3           u0         BIANCA         m0  10 things i hate about you      f   \n",
            "4           u0         BIANCA         m0  10 things i hate about you      f   \n",
            "\n",
            "  position_in_credits line_id movie_id characher_name  \\\n",
            "0                   4   L1007       m0       BIANCA     \n",
            "1                   4   L1009       m0       BIANCA     \n",
            "2                   4   L1011       m0       BIANCA     \n",
            "3                   4   L1021       m0       BIANCA     \n",
            "4                   4   L1045       m0       BIANCA     \n",
            "\n",
            "                                           line_text  no_words  \n",
            "0                                            Let go!         2  \n",
            "1                                   I just wanted --         4  \n",
            "2                                  No! I just wanted         4  \n",
            "3   Is that woman a complete fruit-loop or is it ...        11  \n",
            "4                                       They do not!         3  \n"
          ],
          "name": "stdout"
        }
      ]
    },
    {
      "cell_type": "code",
      "metadata": {
        "id": "1koIlXWgqVCO",
        "colab_type": "code",
        "colab": {
          "base_uri": "https://localhost:8080/",
          "height": 428
        },
        "outputId": "3e8dd80e-df38-4826-d81e-137386008d2c"
      },
      "source": [
        "character_line = character_line.drop(columns='movie_id_x')\n",
        "character_line.head()"
      ],
      "execution_count": 16,
      "outputs": [
        {
          "output_type": "execute_result",
          "data": {
            "text/html": [
              "<div>\n",
              "<style scoped>\n",
              "    .dataframe tbody tr th:only-of-type {\n",
              "        vertical-align: middle;\n",
              "    }\n",
              "\n",
              "    .dataframe tbody tr th {\n",
              "        vertical-align: top;\n",
              "    }\n",
              "\n",
              "    .dataframe thead th {\n",
              "        text-align: right;\n",
              "    }\n",
              "</style>\n",
              "<table border=\"1\" class=\"dataframe\">\n",
              "  <thead>\n",
              "    <tr style=\"text-align: right;\">\n",
              "      <th></th>\n",
              "      <th>character_id</th>\n",
              "      <th>character_name</th>\n",
              "      <th>movie_title</th>\n",
              "      <th>gender</th>\n",
              "      <th>position_in_credits</th>\n",
              "      <th>line_id</th>\n",
              "      <th>movie_id</th>\n",
              "      <th>characher_name</th>\n",
              "      <th>line_text</th>\n",
              "      <th>no_words</th>\n",
              "    </tr>\n",
              "  </thead>\n",
              "  <tbody>\n",
              "    <tr>\n",
              "      <th>0</th>\n",
              "      <td>u0</td>\n",
              "      <td>BIANCA</td>\n",
              "      <td>10 things i hate about you</td>\n",
              "      <td>f</td>\n",
              "      <td>4</td>\n",
              "      <td>L1007</td>\n",
              "      <td>m0</td>\n",
              "      <td>BIANCA</td>\n",
              "      <td>Let go!</td>\n",
              "      <td>2</td>\n",
              "    </tr>\n",
              "    <tr>\n",
              "      <th>1</th>\n",
              "      <td>u0</td>\n",
              "      <td>BIANCA</td>\n",
              "      <td>10 things i hate about you</td>\n",
              "      <td>f</td>\n",
              "      <td>4</td>\n",
              "      <td>L1009</td>\n",
              "      <td>m0</td>\n",
              "      <td>BIANCA</td>\n",
              "      <td>I just wanted --</td>\n",
              "      <td>4</td>\n",
              "    </tr>\n",
              "    <tr>\n",
              "      <th>2</th>\n",
              "      <td>u0</td>\n",
              "      <td>BIANCA</td>\n",
              "      <td>10 things i hate about you</td>\n",
              "      <td>f</td>\n",
              "      <td>4</td>\n",
              "      <td>L1011</td>\n",
              "      <td>m0</td>\n",
              "      <td>BIANCA</td>\n",
              "      <td>No! I just wanted</td>\n",
              "      <td>4</td>\n",
              "    </tr>\n",
              "    <tr>\n",
              "      <th>3</th>\n",
              "      <td>u0</td>\n",
              "      <td>BIANCA</td>\n",
              "      <td>10 things i hate about you</td>\n",
              "      <td>f</td>\n",
              "      <td>4</td>\n",
              "      <td>L1021</td>\n",
              "      <td>m0</td>\n",
              "      <td>BIANCA</td>\n",
              "      <td>Is that woman a complete fruit-loop or is it ...</td>\n",
              "      <td>11</td>\n",
              "    </tr>\n",
              "    <tr>\n",
              "      <th>4</th>\n",
              "      <td>u0</td>\n",
              "      <td>BIANCA</td>\n",
              "      <td>10 things i hate about you</td>\n",
              "      <td>f</td>\n",
              "      <td>4</td>\n",
              "      <td>L1045</td>\n",
              "      <td>m0</td>\n",
              "      <td>BIANCA</td>\n",
              "      <td>They do not!</td>\n",
              "      <td>3</td>\n",
              "    </tr>\n",
              "  </tbody>\n",
              "</table>\n",
              "</div>"
            ],
            "text/plain": [
              "  character_id character_name                 movie_title gender  \\\n",
              "0           u0         BIANCA  10 things i hate about you      f   \n",
              "1           u0         BIANCA  10 things i hate about you      f   \n",
              "2           u0         BIANCA  10 things i hate about you      f   \n",
              "3           u0         BIANCA  10 things i hate about you      f   \n",
              "4           u0         BIANCA  10 things i hate about you      f   \n",
              "\n",
              "  position_in_credits line_id movie_id characher_name  \\\n",
              "0                   4   L1007       m0       BIANCA     \n",
              "1                   4   L1009       m0       BIANCA     \n",
              "2                   4   L1011       m0       BIANCA     \n",
              "3                   4   L1021       m0       BIANCA     \n",
              "4                   4   L1045       m0       BIANCA     \n",
              "\n",
              "                                           line_text  no_words  \n",
              "0                                            Let go!         2  \n",
              "1                                   I just wanted --         4  \n",
              "2                                  No! I just wanted         4  \n",
              "3   Is that woman a complete fruit-loop or is it ...        11  \n",
              "4                                       They do not!         3  "
            ]
          },
          "metadata": {
            "tags": []
          },
          "execution_count": 16
        }
      ]
    },
    {
      "cell_type": "code",
      "metadata": {
        "id": "dlKh0Z2htDDI",
        "colab_type": "code",
        "colab": {
          "base_uri": "https://localhost:8080/",
          "height": 428
        },
        "outputId": "f7ae332b-066b-4eb0-ed9d-07762017185e"
      },
      "source": [
        "movie_character_line = pd.merge(metadata, character_line, on=[\"movie_id\", \"movie_title\"])\n",
        "movie_character_line.head()"
      ],
      "execution_count": 17,
      "outputs": [
        {
          "output_type": "execute_result",
          "data": {
            "text/html": [
              "<div>\n",
              "<style scoped>\n",
              "    .dataframe tbody tr th:only-of-type {\n",
              "        vertical-align: middle;\n",
              "    }\n",
              "\n",
              "    .dataframe tbody tr th {\n",
              "        vertical-align: top;\n",
              "    }\n",
              "\n",
              "    .dataframe thead th {\n",
              "        text-align: right;\n",
              "    }\n",
              "</style>\n",
              "<table border=\"1\" class=\"dataframe\">\n",
              "  <thead>\n",
              "    <tr style=\"text-align: right;\">\n",
              "      <th></th>\n",
              "      <th>movie_id</th>\n",
              "      <th>movie_title</th>\n",
              "      <th>release_year</th>\n",
              "      <th>avg_rating</th>\n",
              "      <th>num_votes</th>\n",
              "      <th>genres</th>\n",
              "      <th>character_id</th>\n",
              "      <th>character_name</th>\n",
              "      <th>gender</th>\n",
              "      <th>position_in_credits</th>\n",
              "      <th>line_id</th>\n",
              "      <th>characher_name</th>\n",
              "      <th>line_text</th>\n",
              "      <th>no_words</th>\n",
              "    </tr>\n",
              "  </thead>\n",
              "  <tbody>\n",
              "    <tr>\n",
              "      <th>0</th>\n",
              "      <td>m0</td>\n",
              "      <td>10 things i hate about you</td>\n",
              "      <td>1999</td>\n",
              "      <td>6.9</td>\n",
              "      <td>62847</td>\n",
              "      <td>['comedy', 'romance']</td>\n",
              "      <td>u0</td>\n",
              "      <td>BIANCA</td>\n",
              "      <td>f</td>\n",
              "      <td>4</td>\n",
              "      <td>L1007</td>\n",
              "      <td>BIANCA</td>\n",
              "      <td>Let go!</td>\n",
              "      <td>2</td>\n",
              "    </tr>\n",
              "    <tr>\n",
              "      <th>1</th>\n",
              "      <td>m0</td>\n",
              "      <td>10 things i hate about you</td>\n",
              "      <td>1999</td>\n",
              "      <td>6.9</td>\n",
              "      <td>62847</td>\n",
              "      <td>['comedy', 'romance']</td>\n",
              "      <td>u0</td>\n",
              "      <td>BIANCA</td>\n",
              "      <td>f</td>\n",
              "      <td>4</td>\n",
              "      <td>L1009</td>\n",
              "      <td>BIANCA</td>\n",
              "      <td>I just wanted --</td>\n",
              "      <td>4</td>\n",
              "    </tr>\n",
              "    <tr>\n",
              "      <th>2</th>\n",
              "      <td>m0</td>\n",
              "      <td>10 things i hate about you</td>\n",
              "      <td>1999</td>\n",
              "      <td>6.9</td>\n",
              "      <td>62847</td>\n",
              "      <td>['comedy', 'romance']</td>\n",
              "      <td>u0</td>\n",
              "      <td>BIANCA</td>\n",
              "      <td>f</td>\n",
              "      <td>4</td>\n",
              "      <td>L1011</td>\n",
              "      <td>BIANCA</td>\n",
              "      <td>No! I just wanted</td>\n",
              "      <td>4</td>\n",
              "    </tr>\n",
              "    <tr>\n",
              "      <th>3</th>\n",
              "      <td>m0</td>\n",
              "      <td>10 things i hate about you</td>\n",
              "      <td>1999</td>\n",
              "      <td>6.9</td>\n",
              "      <td>62847</td>\n",
              "      <td>['comedy', 'romance']</td>\n",
              "      <td>u0</td>\n",
              "      <td>BIANCA</td>\n",
              "      <td>f</td>\n",
              "      <td>4</td>\n",
              "      <td>L1021</td>\n",
              "      <td>BIANCA</td>\n",
              "      <td>Is that woman a complete fruit-loop or is it ...</td>\n",
              "      <td>11</td>\n",
              "    </tr>\n",
              "    <tr>\n",
              "      <th>4</th>\n",
              "      <td>m0</td>\n",
              "      <td>10 things i hate about you</td>\n",
              "      <td>1999</td>\n",
              "      <td>6.9</td>\n",
              "      <td>62847</td>\n",
              "      <td>['comedy', 'romance']</td>\n",
              "      <td>u0</td>\n",
              "      <td>BIANCA</td>\n",
              "      <td>f</td>\n",
              "      <td>4</td>\n",
              "      <td>L1045</td>\n",
              "      <td>BIANCA</td>\n",
              "      <td>They do not!</td>\n",
              "      <td>3</td>\n",
              "    </tr>\n",
              "  </tbody>\n",
              "</table>\n",
              "</div>"
            ],
            "text/plain": [
              "  movie_id                 movie_title  release_year  avg_rating  num_votes  \\\n",
              "0       m0  10 things i hate about you          1999         6.9      62847   \n",
              "1       m0  10 things i hate about you          1999         6.9      62847   \n",
              "2       m0  10 things i hate about you          1999         6.9      62847   \n",
              "3       m0  10 things i hate about you          1999         6.9      62847   \n",
              "4       m0  10 things i hate about you          1999         6.9      62847   \n",
              "\n",
              "                  genres character_id character_name gender  \\\n",
              "0  ['comedy', 'romance']           u0         BIANCA      f   \n",
              "1  ['comedy', 'romance']           u0         BIANCA      f   \n",
              "2  ['comedy', 'romance']           u0         BIANCA      f   \n",
              "3  ['comedy', 'romance']           u0         BIANCA      f   \n",
              "4  ['comedy', 'romance']           u0         BIANCA      f   \n",
              "\n",
              "  position_in_credits line_id characher_name  \\\n",
              "0                   4   L1007       BIANCA     \n",
              "1                   4   L1009       BIANCA     \n",
              "2                   4   L1011       BIANCA     \n",
              "3                   4   L1021       BIANCA     \n",
              "4                   4   L1045       BIANCA     \n",
              "\n",
              "                                           line_text  no_words  \n",
              "0                                            Let go!         2  \n",
              "1                                   I just wanted --         4  \n",
              "2                                  No! I just wanted         4  \n",
              "3   Is that woman a complete fruit-loop or is it ...        11  \n",
              "4                                       They do not!         3  "
            ]
          },
          "metadata": {
            "tags": []
          },
          "execution_count": 17
        }
      ]
    },
    {
      "cell_type": "code",
      "metadata": {
        "id": "3ojARR_Mv5kb",
        "colab_type": "code",
        "colab": {
          "base_uri": "https://localhost:8080/",
          "height": 54
        },
        "outputId": "455450a6-7b7d-4764-f44c-f7b2a78da564"
      },
      "source": [
        "import string\n",
        "genres = set()\n",
        "table = str.maketrans({key: None for key in string.punctuation})\n",
        "for i in movie_character_line.genres:\n",
        "  i = i.translate(table)\n",
        "  genres.update(i.split())\n",
        "print(genres)"
      ],
      "execution_count": 18,
      "outputs": [
        {
          "output_type": "stream",
          "text": [
            "{'action', 'romance', 'filmnoir', 'western', 'scifi', 'history', 'horror', 'sport', 'short', 'war', 'fantasy', 'musical', 'biography', 'adult', 'comedy', 'drama', 'family', 'adventure', 'thriller', 'animation', 'crime', 'music', 'documentary', 'mystery'}\n"
          ],
          "name": "stdout"
        }
      ]
    },
    {
      "cell_type": "code",
      "metadata": {
        "id": "5yxuDGi9uUmW",
        "colab_type": "code",
        "colab": {}
      },
      "source": [
        "import re\n",
        "gender_comp_lines = {}\n",
        "gender_comp_words = {}\n",
        "#test = movie_character_line[:100]\n",
        "# In groupby, sort=True by default, so 0 is female, 1 is male.\n",
        "for i in genres:\n",
        "  tmp = movie_character_line.genres.str.contains(i, re.IGNORECASE).groupby(movie_character_line.gender.str.lower()).sum()\n",
        "  if tmp[0] or tmp[1]:\n",
        "    gender_comp_lines[i] = tmp\n",
        "    tmp2 = movie_character_line[movie_character_line.genres.str.contains(i, re.IGNORECASE)].groupby(movie_character_line.gender.str.lower()).sum().no_words\n",
        "    gender_comp_words[i] = tmp2"
      ],
      "execution_count": 0,
      "outputs": []
    },
    {
      "cell_type": "code",
      "metadata": {
        "id": "PNRLL0Bo1nEQ",
        "colab_type": "code",
        "colab": {}
      },
      "source": [
        "gender_comp_lines"
      ],
      "execution_count": 0,
      "outputs": []
    },
    {
      "cell_type": "code",
      "metadata": {
        "id": "da2-WSgf2Exf",
        "colab_type": "code",
        "colab": {}
      },
      "source": [
        "gender_comp_words"
      ],
      "execution_count": 0,
      "outputs": []
    },
    {
      "cell_type": "markdown",
      "metadata": {
        "id": "RXt-PIJAGAk-",
        "colab_type": "text"
      },
      "source": [
        "### Plots"
      ]
    },
    {
      "cell_type": "code",
      "metadata": {
        "id": "nFzqCaUR1KKB",
        "colab_type": "code",
        "colab": {
          "base_uri": "https://localhost:8080/",
          "height": 295
        },
        "outputId": "76364480-8476-40d6-a7d2-3891294a50c7"
      },
      "source": [
        "# plot #line gap\n",
        "import matplotlib.pyplot as plt\n",
        "female_lines = []\n",
        "male_lines = []\n",
        "total_flines, total_mlines = 0, 0\n",
        "for i in gender_comp_lines.keys():\n",
        "  tmp = gender_comp_lines[i]\n",
        "  total_flines += tmp[0]\n",
        "  if len(tmp)>1:\n",
        "    total_mlines += tmp[1]\n",
        "    tmp2 = tmp[0]/(tmp[0]+tmp[1])\n",
        "  else:\n",
        "    tmp2 = 1\n",
        "  tmp2 = tmp[0]/(tmp[0]+tmp[1])\n",
        "  female_lines.append(tmp2)\n",
        "  male_lines.append(1-tmp2)\n",
        "\n",
        "total = total_mlines/(total_mlines+total_flines)\n",
        "\n",
        "ax = plt.subplots\n",
        "plt.subplots_adjust(left=0.1, right=0.75, bottom=0.3, top=0.95)\n",
        "x = range(len(gender_comp_lines))\n",
        "plt.bar(x, male_lines, label='male lines', color='#a3acff', edgecolor='white', width=0.85)\n",
        "plt.bar(x, female_lines, label='female lines', bottom=male_lines, color='#f9bc86', edgecolor='white', width=0.85)\n",
        "plt.xlim(-1,22)\n",
        "plt.hlines(total, -1,22,colors='k', linestyles='--', label='Total ratio')\n",
        "plt.legend(loc='center left', bbox_to_anchor=(1, 0.5))\n",
        "plt.xticks(x, gender_comp_lines.keys(),rotation=90)\n",
        "#plt.title('Gender gap ')\n",
        "plt.ylabel('Gender gap in no. of lines')\n",
        "plt.savefig('/content/gdrive/My Drive/EMDS/Hypo1_lines.png')\n",
        "plt.show()"
      ],
      "execution_count": 22,
      "outputs": [
        {
          "output_type": "display_data",
          "data": {
            "image/png": "[encoded data removed]",
            "text/plain": [
              "<Figure size 432x288 with 1 Axes>"
            ]
          },
          "metadata": {
            "tags": []
          }
        }
      ]
    },
    {
      "cell_type": "code",
      "metadata": {
        "id": "F5VTPZQb_mQ0",
        "colab_type": "code",
        "colab": {
          "base_uri": "https://localhost:8080/",
          "height": 295
        },
        "outputId": "57cce0af-1063-40c2-dad1-f73c17e88cc4"
      },
      "source": [
        "# plot #word gap\n",
        "female_words = []\n",
        "male_words = []\n",
        "total_fwords, total_mwords = 0, 0\n",
        "for i in gender_comp_words.keys():\n",
        "  tmp = gender_comp_words[i]\n",
        "  total_fwords += tmp[0]\n",
        "  if len(tmp)>1:\n",
        "    total_mwords += tmp[1]\n",
        "    tmp2 = tmp[0]/(tmp[0]+tmp[1])\n",
        "  else:\n",
        "    tmp2 = 1\n",
        "  female_words.append(tmp2)\n",
        "  male_words.append(1-tmp2)\n",
        "\n",
        "total = total_mwords/(total_fwords+total_mwords)\n",
        "\n",
        "ax = plt.subplots\n",
        "plt.subplots_adjust(left=0.1, right=0.75, bottom=0.3, top=0.95)\n",
        "x = range(len(gender_comp_words))\n",
        "plt.bar(x, male_words, label='male words', color='#a3acff', edgecolor='white', width=0.85)\n",
        "plt.bar(x, female_words, label='female words', bottom=male_words, color='#f9bc86', edgecolor='white', width=0.85)\n",
        "plt.xlim(-1,22)\n",
        "plt.hlines(total, -1,22,colors='k', linestyles='--', label='Total ratio')\n",
        "plt.legend(loc='center left', bbox_to_anchor=(1, 0.5))\n",
        "plt.xticks(x, gender_comp_words.keys(),rotation=90)\n",
        "plt.ylabel('Gender gap in no. of words')\n",
        "plt.savefig('/content/gdrive/My Drive/EMDS/Hypo1_words.png')\n",
        "plt.show()"
      ],
      "execution_count": 23,
      "outputs": [
        {
          "output_type": "display_data",
          "data": {
            "image/png": "[encoded data removed]",
            "text/plain": [
              "<Figure size 432x288 with 1 Axes>"
            ]
          },
          "metadata": {
            "tags": []
          }
        }
      ]
    },
    {
      "cell_type": "markdown",
      "metadata": {
        "id": "zmSLZRi9Eml_",
        "colab_type": "text"
      },
      "source": [
        "### Discussion\n",
        "* 用words 和lines no给出的分布一致，只有细小差别。（需要检查#words与#lines correlation吗？）\n",
        "* scifi 和filmnoir没有结果，给的gender不全\n",
        "* adult全是女性台词\n",
        "* 需要对film进行统计么？\n",
        "\n",
        "\n",
        "1. average->male dominant\n",
        "2. some above average, history the highest\n",
        "3. adult->single gender(check outlier)\n",
        "4. hypothesis: romance(yes), drama(no)\n",
        "5. higher female->horror, documentary (not expected)"
      ]
    },
    {
      "cell_type": "markdown",
      "metadata": {
        "id": "uN5djMaU6LCb",
        "colab_type": "text"
      },
      "source": [
        "## 2.2. Gender gap in conversation initiator vs. respondent\n",
        "\n",
        "方法：\n",
        "* 对话中starter vs. respond性别 <br>\n",
        "lead: 台词长度。\n",
        "mentions in other dialogues.\n",
        "\n",
        "paper discuss leading role"
      ]
    },
    {
      "cell_type": "code",
      "metadata": {
        "id": "-2gRFtL5JvFS",
        "colab_type": "code",
        "colab": {
          "base_uri": "https://localhost:8080/",
          "height": 204
        },
        "outputId": "a2aa647e-fd17-4c6b-8af7-e87abe69b67b"
      },
      "source": [
        "char_shorten = characters.loc[:, ['character_id', 'gender']]\n",
        "char_shorten.head()"
      ],
      "execution_count": 24,
      "outputs": [
        {
          "output_type": "execute_result",
          "data": {
            "text/html": [
              "<div>\n",
              "<style scoped>\n",
              "    .dataframe tbody tr th:only-of-type {\n",
              "        vertical-align: middle;\n",
              "    }\n",
              "\n",
              "    .dataframe tbody tr th {\n",
              "        vertical-align: top;\n",
              "    }\n",
              "\n",
              "    .dataframe thead th {\n",
              "        text-align: right;\n",
              "    }\n",
              "</style>\n",
              "<table border=\"1\" class=\"dataframe\">\n",
              "  <thead>\n",
              "    <tr style=\"text-align: right;\">\n",
              "      <th></th>\n",
              "      <th>character_id</th>\n",
              "      <th>gender</th>\n",
              "    </tr>\n",
              "  </thead>\n",
              "  <tbody>\n",
              "    <tr>\n",
              "      <th>0</th>\n",
              "      <td>u0</td>\n",
              "      <td>f</td>\n",
              "    </tr>\n",
              "    <tr>\n",
              "      <th>1</th>\n",
              "      <td>u1</td>\n",
              "      <td>?</td>\n",
              "    </tr>\n",
              "    <tr>\n",
              "      <th>2</th>\n",
              "      <td>u2</td>\n",
              "      <td>m</td>\n",
              "    </tr>\n",
              "    <tr>\n",
              "      <th>3</th>\n",
              "      <td>u3</td>\n",
              "      <td>?</td>\n",
              "    </tr>\n",
              "    <tr>\n",
              "      <th>4</th>\n",
              "      <td>u4</td>\n",
              "      <td>m</td>\n",
              "    </tr>\n",
              "  </tbody>\n",
              "</table>\n",
              "</div>"
            ],
            "text/plain": [
              "  character_id gender\n",
              "0           u0      f\n",
              "1           u1      ?\n",
              "2           u2      m\n",
              "3           u3      ?\n",
              "4           u4      m"
            ]
          },
          "metadata": {
            "tags": []
          },
          "execution_count": 24
        }
      ]
    },
    {
      "cell_type": "code",
      "metadata": {
        "id": "f2nJOMgLGEtK",
        "colab_type": "code",
        "colab": {
          "base_uri": "https://localhost:8080/",
          "height": 204
        },
        "outputId": "236bd021-e70e-4d02-c675-b52f471d74e8"
      },
      "source": [
        "first_char = pd.merge(conversations, char_shorten, left_on='character_id_first',right_on='character_id')\n",
        "if first_char.character_id_first.equals(first_char.character_id):\n",
        "  first_char = first_char.drop(columns=['character_id'])\n",
        "  first_char = first_char.rename(columns={\"gender\":\"gender_first\"})\n",
        "first_char.head()"
      ],
      "execution_count": 25,
      "outputs": [
        {
          "output_type": "execute_result",
          "data": {
            "text/html": [
              "<div>\n",
              "<style scoped>\n",
              "    .dataframe tbody tr th:only-of-type {\n",
              "        vertical-align: middle;\n",
              "    }\n",
              "\n",
              "    .dataframe tbody tr th {\n",
              "        vertical-align: top;\n",
              "    }\n",
              "\n",
              "    .dataframe thead th {\n",
              "        text-align: right;\n",
              "    }\n",
              "</style>\n",
              "<table border=\"1\" class=\"dataframe\">\n",
              "  <thead>\n",
              "    <tr style=\"text-align: right;\">\n",
              "      <th></th>\n",
              "      <th>character_id_first</th>\n",
              "      <th>character_id_second</th>\n",
              "      <th>movie_id</th>\n",
              "      <th>list_of_text</th>\n",
              "      <th>gender_first</th>\n",
              "    </tr>\n",
              "  </thead>\n",
              "  <tbody>\n",
              "    <tr>\n",
              "      <th>0</th>\n",
              "      <td>u0</td>\n",
              "      <td>u2</td>\n",
              "      <td>m0</td>\n",
              "      <td>['L194', 'L195', 'L196', 'L197']</td>\n",
              "      <td>f</td>\n",
              "    </tr>\n",
              "    <tr>\n",
              "      <th>1</th>\n",
              "      <td>u0</td>\n",
              "      <td>u2</td>\n",
              "      <td>m0</td>\n",
              "      <td>['L198', 'L199']</td>\n",
              "      <td>f</td>\n",
              "    </tr>\n",
              "    <tr>\n",
              "      <th>2</th>\n",
              "      <td>u0</td>\n",
              "      <td>u2</td>\n",
              "      <td>m0</td>\n",
              "      <td>['L200', 'L201', 'L202', 'L203']</td>\n",
              "      <td>f</td>\n",
              "    </tr>\n",
              "    <tr>\n",
              "      <th>3</th>\n",
              "      <td>u0</td>\n",
              "      <td>u2</td>\n",
              "      <td>m0</td>\n",
              "      <td>['L204', 'L205', 'L206']</td>\n",
              "      <td>f</td>\n",
              "    </tr>\n",
              "    <tr>\n",
              "      <th>4</th>\n",
              "      <td>u0</td>\n",
              "      <td>u2</td>\n",
              "      <td>m0</td>\n",
              "      <td>['L207', 'L208']</td>\n",
              "      <td>f</td>\n",
              "    </tr>\n",
              "  </tbody>\n",
              "</table>\n",
              "</div>"
            ],
            "text/plain": [
              "  character_id_first character_id_second movie_id  \\\n",
              "0                 u0                  u2       m0   \n",
              "1                 u0                  u2       m0   \n",
              "2                 u0                  u2       m0   \n",
              "3                 u0                  u2       m0   \n",
              "4                 u0                  u2       m0   \n",
              "\n",
              "                       list_of_text gender_first  \n",
              "0  ['L194', 'L195', 'L196', 'L197']            f  \n",
              "1                  ['L198', 'L199']            f  \n",
              "2  ['L200', 'L201', 'L202', 'L203']            f  \n",
              "3          ['L204', 'L205', 'L206']            f  \n",
              "4                  ['L207', 'L208']            f  "
            ]
          },
          "metadata": {
            "tags": []
          },
          "execution_count": 25
        }
      ]
    },
    {
      "cell_type": "code",
      "metadata": {
        "id": "NuzdXWA9H4I9",
        "colab_type": "code",
        "colab": {
          "base_uri": "https://localhost:8080/",
          "height": 238
        },
        "outputId": "694b7e29-00fa-44ce-b919-2975a2b01862"
      },
      "source": [
        "first_second = pd.merge(first_char, char_shorten, left_on='character_id_second',right_on='character_id')\n",
        "if first_second.character_id_second.equals(first_second.character_id):\n",
        "  first_second = first_second.drop(columns=['character_id'])\n",
        "  first_second = first_second.rename(columns={\"gender\":\"gender_second\"})\n",
        "first_second.head()"
      ],
      "execution_count": 26,
      "outputs": [
        {
          "output_type": "execute_result",
          "data": {
            "text/html": [
              "<div>\n",
              "<style scoped>\n",
              "    .dataframe tbody tr th:only-of-type {\n",
              "        vertical-align: middle;\n",
              "    }\n",
              "\n",
              "    .dataframe tbody tr th {\n",
              "        vertical-align: top;\n",
              "    }\n",
              "\n",
              "    .dataframe thead th {\n",
              "        text-align: right;\n",
              "    }\n",
              "</style>\n",
              "<table border=\"1\" class=\"dataframe\">\n",
              "  <thead>\n",
              "    <tr style=\"text-align: right;\">\n",
              "      <th></th>\n",
              "      <th>character_id_first</th>\n",
              "      <th>character_id_second</th>\n",
              "      <th>movie_id</th>\n",
              "      <th>list_of_text</th>\n",
              "      <th>gender_first</th>\n",
              "      <th>gender_second</th>\n",
              "    </tr>\n",
              "  </thead>\n",
              "  <tbody>\n",
              "    <tr>\n",
              "      <th>0</th>\n",
              "      <td>u0</td>\n",
              "      <td>u2</td>\n",
              "      <td>m0</td>\n",
              "      <td>['L194', 'L195', 'L196', 'L197']</td>\n",
              "      <td>f</td>\n",
              "      <td>m</td>\n",
              "    </tr>\n",
              "    <tr>\n",
              "      <th>1</th>\n",
              "      <td>u0</td>\n",
              "      <td>u2</td>\n",
              "      <td>m0</td>\n",
              "      <td>['L198', 'L199']</td>\n",
              "      <td>f</td>\n",
              "      <td>m</td>\n",
              "    </tr>\n",
              "    <tr>\n",
              "      <th>2</th>\n",
              "      <td>u0</td>\n",
              "      <td>u2</td>\n",
              "      <td>m0</td>\n",
              "      <td>['L200', 'L201', 'L202', 'L203']</td>\n",
              "      <td>f</td>\n",
              "      <td>m</td>\n",
              "    </tr>\n",
              "    <tr>\n",
              "      <th>3</th>\n",
              "      <td>u0</td>\n",
              "      <td>u2</td>\n",
              "      <td>m0</td>\n",
              "      <td>['L204', 'L205', 'L206']</td>\n",
              "      <td>f</td>\n",
              "      <td>m</td>\n",
              "    </tr>\n",
              "    <tr>\n",
              "      <th>4</th>\n",
              "      <td>u0</td>\n",
              "      <td>u2</td>\n",
              "      <td>m0</td>\n",
              "      <td>['L207', 'L208']</td>\n",
              "      <td>f</td>\n",
              "      <td>m</td>\n",
              "    </tr>\n",
              "  </tbody>\n",
              "</table>\n",
              "</div>"
            ],
            "text/plain": [
              "  character_id_first character_id_second movie_id  \\\n",
              "0                 u0                  u2       m0   \n",
              "1                 u0                  u2       m0   \n",
              "2                 u0                  u2       m0   \n",
              "3                 u0                  u2       m0   \n",
              "4                 u0                  u2       m0   \n",
              "\n",
              "                       list_of_text gender_first gender_second  \n",
              "0  ['L194', 'L195', 'L196', 'L197']            f             m  \n",
              "1                  ['L198', 'L199']            f             m  \n",
              "2  ['L200', 'L201', 'L202', 'L203']            f             m  \n",
              "3          ['L204', 'L205', 'L206']            f             m  \n",
              "4                  ['L207', 'L208']            f             m  "
            ]
          },
          "metadata": {
            "tags": []
          },
          "execution_count": 26
        }
      ]
    },
    {
      "cell_type": "code",
      "metadata": {
        "id": "JlswZs15ICSO",
        "colab_type": "code",
        "colab": {
          "base_uri": "https://localhost:8080/",
          "height": 51
        },
        "outputId": "9a995eeb-fe12-40ff-8064-755dd37b84e1"
      },
      "source": [
        "print(len(first_second))\n",
        "first_second = first_second[(first_second.gender_first != '?') &(first_second.gender_second != '?')]\n",
        "print(len(first_second))"
      ],
      "execution_count": 27,
      "outputs": [
        {
          "output_type": "stream",
          "text": [
            "83097\n",
            "52038\n"
          ],
          "name": "stdout"
        }
      ]
    },
    {
      "cell_type": "code",
      "metadata": {
        "id": "eRE6-um7ITTx",
        "colab_type": "code",
        "colab": {
          "base_uri": "https://localhost:8080/",
          "height": 238
        },
        "outputId": "0c563eb1-57b2-4ba2-c707-ead021deb4e8"
      },
      "source": [
        "first_second.head()"
      ],
      "execution_count": 28,
      "outputs": [
        {
          "output_type": "execute_result",
          "data": {
            "text/html": [
              "<div>\n",
              "<style scoped>\n",
              "    .dataframe tbody tr th:only-of-type {\n",
              "        vertical-align: middle;\n",
              "    }\n",
              "\n",
              "    .dataframe tbody tr th {\n",
              "        vertical-align: top;\n",
              "    }\n",
              "\n",
              "    .dataframe thead th {\n",
              "        text-align: right;\n",
              "    }\n",
              "</style>\n",
              "<table border=\"1\" class=\"dataframe\">\n",
              "  <thead>\n",
              "    <tr style=\"text-align: right;\">\n",
              "      <th></th>\n",
              "      <th>character_id_first</th>\n",
              "      <th>character_id_second</th>\n",
              "      <th>movie_id</th>\n",
              "      <th>list_of_text</th>\n",
              "      <th>gender_first</th>\n",
              "      <th>gender_second</th>\n",
              "    </tr>\n",
              "  </thead>\n",
              "  <tbody>\n",
              "    <tr>\n",
              "      <th>0</th>\n",
              "      <td>u0</td>\n",
              "      <td>u2</td>\n",
              "      <td>m0</td>\n",
              "      <td>['L194', 'L195', 'L196', 'L197']</td>\n",
              "      <td>f</td>\n",
              "      <td>m</td>\n",
              "    </tr>\n",
              "    <tr>\n",
              "      <th>1</th>\n",
              "      <td>u0</td>\n",
              "      <td>u2</td>\n",
              "      <td>m0</td>\n",
              "      <td>['L198', 'L199']</td>\n",
              "      <td>f</td>\n",
              "      <td>m</td>\n",
              "    </tr>\n",
              "    <tr>\n",
              "      <th>2</th>\n",
              "      <td>u0</td>\n",
              "      <td>u2</td>\n",
              "      <td>m0</td>\n",
              "      <td>['L200', 'L201', 'L202', 'L203']</td>\n",
              "      <td>f</td>\n",
              "      <td>m</td>\n",
              "    </tr>\n",
              "    <tr>\n",
              "      <th>3</th>\n",
              "      <td>u0</td>\n",
              "      <td>u2</td>\n",
              "      <td>m0</td>\n",
              "      <td>['L204', 'L205', 'L206']</td>\n",
              "      <td>f</td>\n",
              "      <td>m</td>\n",
              "    </tr>\n",
              "    <tr>\n",
              "      <th>4</th>\n",
              "      <td>u0</td>\n",
              "      <td>u2</td>\n",
              "      <td>m0</td>\n",
              "      <td>['L207', 'L208']</td>\n",
              "      <td>f</td>\n",
              "      <td>m</td>\n",
              "    </tr>\n",
              "  </tbody>\n",
              "</table>\n",
              "</div>"
            ],
            "text/plain": [
              "  character_id_first character_id_second movie_id  \\\n",
              "0                 u0                  u2       m0   \n",
              "1                 u0                  u2       m0   \n",
              "2                 u0                  u2       m0   \n",
              "3                 u0                  u2       m0   \n",
              "4                 u0                  u2       m0   \n",
              "\n",
              "                       list_of_text gender_first gender_second  \n",
              "0  ['L194', 'L195', 'L196', 'L197']            f             m  \n",
              "1                  ['L198', 'L199']            f             m  \n",
              "2  ['L200', 'L201', 'L202', 'L203']            f             m  \n",
              "3          ['L204', 'L205', 'L206']            f             m  \n",
              "4                  ['L207', 'L208']            f             m  "
            ]
          },
          "metadata": {
            "tags": []
          },
          "execution_count": 28
        }
      ]
    },
    {
      "cell_type": "code",
      "metadata": {
        "id": "ilSQbElfLqHm",
        "colab_type": "code",
        "colab": {
          "base_uri": "https://localhost:8080/",
          "height": 394
        },
        "outputId": "33c2c8f9-a798-4e3b-97f6-6554ac0cae5e"
      },
      "source": [
        "fs_movie = pd.merge(first_second, metadata, on='movie_id')\n",
        "fs_movie.head()"
      ],
      "execution_count": 29,
      "outputs": [
        {
          "output_type": "execute_result",
          "data": {
            "text/html": [
              "<div>\n",
              "<style scoped>\n",
              "    .dataframe tbody tr th:only-of-type {\n",
              "        vertical-align: middle;\n",
              "    }\n",
              "\n",
              "    .dataframe tbody tr th {\n",
              "        vertical-align: top;\n",
              "    }\n",
              "\n",
              "    .dataframe thead th {\n",
              "        text-align: right;\n",
              "    }\n",
              "</style>\n",
              "<table border=\"1\" class=\"dataframe\">\n",
              "  <thead>\n",
              "    <tr style=\"text-align: right;\">\n",
              "      <th></th>\n",
              "      <th>character_id_first</th>\n",
              "      <th>character_id_second</th>\n",
              "      <th>movie_id</th>\n",
              "      <th>list_of_text</th>\n",
              "      <th>gender_first</th>\n",
              "      <th>gender_second</th>\n",
              "      <th>movie_title</th>\n",
              "      <th>release_year</th>\n",
              "      <th>avg_rating</th>\n",
              "      <th>num_votes</th>\n",
              "      <th>genres</th>\n",
              "    </tr>\n",
              "  </thead>\n",
              "  <tbody>\n",
              "    <tr>\n",
              "      <th>0</th>\n",
              "      <td>u0</td>\n",
              "      <td>u2</td>\n",
              "      <td>m0</td>\n",
              "      <td>['L194', 'L195', 'L196', 'L197']</td>\n",
              "      <td>f</td>\n",
              "      <td>m</td>\n",
              "      <td>10 things i hate about you</td>\n",
              "      <td>1999</td>\n",
              "      <td>6.9</td>\n",
              "      <td>62847</td>\n",
              "      <td>['comedy', 'romance']</td>\n",
              "    </tr>\n",
              "    <tr>\n",
              "      <th>1</th>\n",
              "      <td>u0</td>\n",
              "      <td>u2</td>\n",
              "      <td>m0</td>\n",
              "      <td>['L198', 'L199']</td>\n",
              "      <td>f</td>\n",
              "      <td>m</td>\n",
              "      <td>10 things i hate about you</td>\n",
              "      <td>1999</td>\n",
              "      <td>6.9</td>\n",
              "      <td>62847</td>\n",
              "      <td>['comedy', 'romance']</td>\n",
              "    </tr>\n",
              "    <tr>\n",
              "      <th>2</th>\n",
              "      <td>u0</td>\n",
              "      <td>u2</td>\n",
              "      <td>m0</td>\n",
              "      <td>['L200', 'L201', 'L202', 'L203']</td>\n",
              "      <td>f</td>\n",
              "      <td>m</td>\n",
              "      <td>10 things i hate about you</td>\n",
              "      <td>1999</td>\n",
              "      <td>6.9</td>\n",
              "      <td>62847</td>\n",
              "      <td>['comedy', 'romance']</td>\n",
              "    </tr>\n",
              "    <tr>\n",
              "      <th>3</th>\n",
              "      <td>u0</td>\n",
              "      <td>u2</td>\n",
              "      <td>m0</td>\n",
              "      <td>['L204', 'L205', 'L206']</td>\n",
              "      <td>f</td>\n",
              "      <td>m</td>\n",
              "      <td>10 things i hate about you</td>\n",
              "      <td>1999</td>\n",
              "      <td>6.9</td>\n",
              "      <td>62847</td>\n",
              "      <td>['comedy', 'romance']</td>\n",
              "    </tr>\n",
              "    <tr>\n",
              "      <th>4</th>\n",
              "      <td>u0</td>\n",
              "      <td>u2</td>\n",
              "      <td>m0</td>\n",
              "      <td>['L207', 'L208']</td>\n",
              "      <td>f</td>\n",
              "      <td>m</td>\n",
              "      <td>10 things i hate about you</td>\n",
              "      <td>1999</td>\n",
              "      <td>6.9</td>\n",
              "      <td>62847</td>\n",
              "      <td>['comedy', 'romance']</td>\n",
              "    </tr>\n",
              "  </tbody>\n",
              "</table>\n",
              "</div>"
            ],
            "text/plain": [
              "  character_id_first character_id_second movie_id  \\\n",
              "0                 u0                  u2       m0   \n",
              "1                 u0                  u2       m0   \n",
              "2                 u0                  u2       m0   \n",
              "3                 u0                  u2       m0   \n",
              "4                 u0                  u2       m0   \n",
              "\n",
              "                       list_of_text gender_first gender_second  \\\n",
              "0  ['L194', 'L195', 'L196', 'L197']            f             m   \n",
              "1                  ['L198', 'L199']            f             m   \n",
              "2  ['L200', 'L201', 'L202', 'L203']            f             m   \n",
              "3          ['L204', 'L205', 'L206']            f             m   \n",
              "4                  ['L207', 'L208']            f             m   \n",
              "\n",
              "                  movie_title  release_year  avg_rating  num_votes  \\\n",
              "0  10 things i hate about you          1999         6.9      62847   \n",
              "1  10 things i hate about you          1999         6.9      62847   \n",
              "2  10 things i hate about you          1999         6.9      62847   \n",
              "3  10 things i hate about you          1999         6.9      62847   \n",
              "4  10 things i hate about you          1999         6.9      62847   \n",
              "\n",
              "                  genres  \n",
              "0  ['comedy', 'romance']  \n",
              "1  ['comedy', 'romance']  \n",
              "2  ['comedy', 'romance']  \n",
              "3  ['comedy', 'romance']  \n",
              "4  ['comedy', 'romance']  "
            ]
          },
          "metadata": {
            "tags": []
          },
          "execution_count": 29
        }
      ]
    },
    {
      "cell_type": "code",
      "metadata": {
        "id": "BUtJ-IS9lEcL",
        "colab_type": "code",
        "colab": {
          "base_uri": "https://localhost:8080/",
          "height": 34
        },
        "outputId": "8126dbac-1fb1-4ee8-9d70-49f2c0fd0130"
      },
      "source": [
        "t = 0\n",
        "for i in range(len(fs_movie)):\n",
        "  tmp = fs_movie.genres[i]\n",
        "  if 'war' in tmp: t+= 1\n",
        "print(t)"
      ],
      "execution_count": 30,
      "outputs": [
        {
          "output_type": "stream",
          "text": [
            "1618\n"
          ],
          "name": "stdout"
        }
      ]
    },
    {
      "cell_type": "code",
      "metadata": {
        "id": "RyzFmpjglUZ9",
        "colab_type": "code",
        "colab": {
          "base_uri": "https://localhost:8080/",
          "height": 34
        },
        "outputId": "3cfecf0f-7b06-4176-9b1f-0cbe8c6e32f7"
      },
      "source": [
        "len(set(fs_movie.movie_id))"
      ],
      "execution_count": 31,
      "outputs": [
        {
          "output_type": "execute_result",
          "data": {
            "text/plain": [
              "591"
            ]
          },
          "metadata": {
            "tags": []
          },
          "execution_count": 31
        }
      ]
    },
    {
      "cell_type": "code",
      "metadata": {
        "id": "GdA9iufplbGP",
        "colab_type": "code",
        "colab": {
          "base_uri": "https://localhost:8080/",
          "height": 34
        },
        "outputId": "8c27272e-011d-4293-85dc-b63fd24a03ca"
      },
      "source": [
        "len(fs_movie.genres)"
      ],
      "execution_count": 32,
      "outputs": [
        {
          "output_type": "execute_result",
          "data": {
            "text/plain": [
              "52038"
            ]
          },
          "metadata": {
            "tags": []
          },
          "execution_count": 32
        }
      ]
    },
    {
      "cell_type": "code",
      "metadata": {
        "id": "Vx6S2U942UAe",
        "colab_type": "code",
        "colab": {
          "base_uri": "https://localhost:8080/",
          "height": 545
        },
        "outputId": "e0dc5776-c4d6-44b2-bb58-7c56bbed0991"
      },
      "source": [
        "no = {}\n",
        "for i, name in enumerate(genres):\n",
        "  tmp = set(fs_movie[fs_movie.genres.str.contains(name)].movie_id)\n",
        "  if tmp:\n",
        "    no[name] = len(tmp)\n",
        "print(no)\n",
        "ax = plt.subplots(figsize=(10,7))\n",
        "plt.subplots_adjust(left=0.06, right=0.78, bottom=0.18, top=0.95)\n",
        "plt.bar(range(len(no)), no.values(), color = '#a3acff', edgecolor='white', width=0.85)\n",
        "plt.xticks(range(len(no)), no.keys(),rotation=90)\n",
        "plt.ylabel('Proportion of conversation types')\n",
        "#plt.title('Conversation initiator and responder (#=52038)')\n",
        "#plt.savefig('/content/gdrive/My Drive/EMDS/Hypo2.png')\n",
        "plt.show()"
      ],
      "execution_count": 33,
      "outputs": [
        {
          "output_type": "stream",
          "text": [
            "{'action': 148, 'romance': 130, 'western': 12, 'history': 16, 'horror': 93, 'sport': 8, 'short': 5, 'war': 21, 'fantasy': 70, 'musical': 7, 'biography': 24, 'adult': 1, 'comedy': 157, 'drama': 310, 'family': 14, 'adventure': 102, 'thriller': 257, 'animation': 15, 'crime': 140, 'music': 19, 'documentary': 2, 'mystery': 97}\n"
          ],
          "name": "stdout"
        },
        {
          "output_type": "display_data",
          "data": {
            "image/png": "[encoded data removed]",
            "text/plain": [
              "<Figure size 720x504 with 1 Axes>"
            ]
          },
          "metadata": {
            "tags": []
          }
        }
      ]
    },
    {
      "cell_type": "code",
      "metadata": {
        "id": "Ke5CjvtR2qZa",
        "colab_type": "code",
        "colab": {
          "base_uri": "https://localhost:8080/",
          "height": 394
        },
        "outputId": "6e59dd2e-4e29-48bb-bde1-64781270841d"
      },
      "source": [
        "fs_movie.head()"
      ],
      "execution_count": 65,
      "outputs": [
        {
          "output_type": "execute_result",
          "data": {
            "text/html": [
              "<div>\n",
              "<style scoped>\n",
              "    .dataframe tbody tr th:only-of-type {\n",
              "        vertical-align: middle;\n",
              "    }\n",
              "\n",
              "    .dataframe tbody tr th {\n",
              "        vertical-align: top;\n",
              "    }\n",
              "\n",
              "    .dataframe thead th {\n",
              "        text-align: right;\n",
              "    }\n",
              "</style>\n",
              "<table border=\"1\" class=\"dataframe\">\n",
              "  <thead>\n",
              "    <tr style=\"text-align: right;\">\n",
              "      <th></th>\n",
              "      <th>character_id_first</th>\n",
              "      <th>character_id_second</th>\n",
              "      <th>movie_id</th>\n",
              "      <th>list_of_text</th>\n",
              "      <th>gender_first</th>\n",
              "      <th>gender_second</th>\n",
              "      <th>movie_title</th>\n",
              "      <th>release_year</th>\n",
              "      <th>avg_rating</th>\n",
              "      <th>num_votes</th>\n",
              "      <th>genres</th>\n",
              "    </tr>\n",
              "  </thead>\n",
              "  <tbody>\n",
              "    <tr>\n",
              "      <th>0</th>\n",
              "      <td>u0</td>\n",
              "      <td>u2</td>\n",
              "      <td>m0</td>\n",
              "      <td>['L194', 'L195', 'L196', 'L197']</td>\n",
              "      <td>f</td>\n",
              "      <td>m</td>\n",
              "      <td>10 things i hate about you</td>\n",
              "      <td>1999</td>\n",
              "      <td>6.9</td>\n",
              "      <td>62847</td>\n",
              "      <td>['comedy', 'romance']</td>\n",
              "    </tr>\n",
              "    <tr>\n",
              "      <th>1</th>\n",
              "      <td>u0</td>\n",
              "      <td>u2</td>\n",
              "      <td>m0</td>\n",
              "      <td>['L198', 'L199']</td>\n",
              "      <td>f</td>\n",
              "      <td>m</td>\n",
              "      <td>10 things i hate about you</td>\n",
              "      <td>1999</td>\n",
              "      <td>6.9</td>\n",
              "      <td>62847</td>\n",
              "      <td>['comedy', 'romance']</td>\n",
              "    </tr>\n",
              "    <tr>\n",
              "      <th>2</th>\n",
              "      <td>u0</td>\n",
              "      <td>u2</td>\n",
              "      <td>m0</td>\n",
              "      <td>['L200', 'L201', 'L202', 'L203']</td>\n",
              "      <td>f</td>\n",
              "      <td>m</td>\n",
              "      <td>10 things i hate about you</td>\n",
              "      <td>1999</td>\n",
              "      <td>6.9</td>\n",
              "      <td>62847</td>\n",
              "      <td>['comedy', 'romance']</td>\n",
              "    </tr>\n",
              "    <tr>\n",
              "      <th>3</th>\n",
              "      <td>u0</td>\n",
              "      <td>u2</td>\n",
              "      <td>m0</td>\n",
              "      <td>['L204', 'L205', 'L206']</td>\n",
              "      <td>f</td>\n",
              "      <td>m</td>\n",
              "      <td>10 things i hate about you</td>\n",
              "      <td>1999</td>\n",
              "      <td>6.9</td>\n",
              "      <td>62847</td>\n",
              "      <td>['comedy', 'romance']</td>\n",
              "    </tr>\n",
              "    <tr>\n",
              "      <th>4</th>\n",
              "      <td>u0</td>\n",
              "      <td>u2</td>\n",
              "      <td>m0</td>\n",
              "      <td>['L207', 'L208']</td>\n",
              "      <td>f</td>\n",
              "      <td>m</td>\n",
              "      <td>10 things i hate about you</td>\n",
              "      <td>1999</td>\n",
              "      <td>6.9</td>\n",
              "      <td>62847</td>\n",
              "      <td>['comedy', 'romance']</td>\n",
              "    </tr>\n",
              "  </tbody>\n",
              "</table>\n",
              "</div>"
            ],
            "text/plain": [
              "  character_id_first character_id_second movie_id  \\\n",
              "0                 u0                  u2       m0   \n",
              "1                 u0                  u2       m0   \n",
              "2                 u0                  u2       m0   \n",
              "3                 u0                  u2       m0   \n",
              "4                 u0                  u2       m0   \n",
              "\n",
              "                       list_of_text gender_first gender_second  \\\n",
              "0  ['L194', 'L195', 'L196', 'L197']            f             m   \n",
              "1                  ['L198', 'L199']            f             m   \n",
              "2  ['L200', 'L201', 'L202', 'L203']            f             m   \n",
              "3          ['L204', 'L205', 'L206']            f             m   \n",
              "4                  ['L207', 'L208']            f             m   \n",
              "\n",
              "                  movie_title  release_year  avg_rating  num_votes  \\\n",
              "0  10 things i hate about you          1999         6.9      62847   \n",
              "1  10 things i hate about you          1999         6.9      62847   \n",
              "2  10 things i hate about you          1999         6.9      62847   \n",
              "3  10 things i hate about you          1999         6.9      62847   \n",
              "4  10 things i hate about you          1999         6.9      62847   \n",
              "\n",
              "                  genres  \n",
              "0  ['comedy', 'romance']  \n",
              "1  ['comedy', 'romance']  \n",
              "2  ['comedy', 'romance']  \n",
              "3  ['comedy', 'romance']  \n",
              "4  ['comedy', 'romance']  "
            ]
          },
          "metadata": {
            "tags": []
          },
          "execution_count": 65
        }
      ]
    },
    {
      "cell_type": "code",
      "metadata": {
        "id": "IQmjbBPOnJjW",
        "colab_type": "code",
        "colab": {
          "base_uri": "https://localhost:8080/",
          "height": 452
        },
        "outputId": "ea8bb17f-588b-4306-bd49-ef8095cf52b6"
      },
      "source": [
        "ax = plt.subplots(figsize=(10,7))\n",
        "plt.subplots_adjust(left=0.06, right=0.78, bottom=0.18, top=0.95)\n",
        "plt.hist(fs_movie.release_year)\n",
        "#plt.bar(range(len(no)), no.values(), color = '#a3acff', edgecolor='white', width=0.85)\n",
        "#plt.xticks(range(len(no)), no.keys(),rotation=90)\n",
        "#plt.ylabel('Proportion of conversation types')\n",
        "plt.title('Conversation initiator and responder (#=52038)')\n",
        "#plt.savefig('/content/gdrive/My Drive/EMDS/Hypo2.png')\n",
        "plt.show()"
      ],
      "execution_count": 66,
      "outputs": [
        {
          "output_type": "display_data",
          "data": {
            "image/png": "[encoded data removed]",
            "text/plain": [
              "<Figure size 720x504 with 1 Axes>"
            ]
          },
          "metadata": {
            "tags": []
          }
        }
      ]
    },
    {
      "cell_type": "code",
      "metadata": {
        "id": "zTNALGoG1hz5",
        "colab_type": "code",
        "colab": {
          "base_uri": "https://localhost:8080/",
          "height": 34
        },
        "outputId": "41e8cad5-bcfe-4b7d-815e-a9788caf8877"
      },
      "source": [
        "set(fs_movie[fs_movie.genres.str.contains('adult')].movie_title)"
      ],
      "execution_count": 34,
      "outputs": [
        {
          "output_type": "execute_result",
          "data": {
            "text/plain": [
              "{'drop dead gorgeous'}"
            ]
          },
          "metadata": {
            "tags": []
          },
          "execution_count": 34
        }
      ]
    },
    {
      "cell_type": "code",
      "metadata": {
        "id": "a2T46bGtk-T4",
        "colab_type": "code",
        "colab": {
          "base_uri": "https://localhost:8080/",
          "height": 119
        },
        "outputId": "76dbb4aa-281c-46ec-bcfc-bc21b46dc264"
      },
      "source": [
        "fs_movie.genres.str.contains('war', re.IGNORECASE).groupby([fs_movie.gender_first.str.lower(),fs_movie.gender_second.str.lower()]).sum()"
      ],
      "execution_count": 35,
      "outputs": [
        {
          "output_type": "execute_result",
          "data": {
            "text/plain": [
              "gender_first  gender_second\n",
              "f             f                  14.0\n",
              "              m                 251.0\n",
              "m             f                 293.0\n",
              "              m                1060.0\n",
              "Name: genres, dtype: float64"
            ]
          },
          "metadata": {
            "tags": []
          },
          "execution_count": 35
        }
      ]
    },
    {
      "cell_type": "code",
      "metadata": {
        "id": "ohFbJ7siMoar",
        "colab_type": "code",
        "colab": {}
      },
      "source": [
        "ff, fm, mf, mm = [],[],[],[]\n",
        "for i in genres:\n",
        "  # add all the Trues, so count the ones contain genre\n",
        "  tmp = fs_movie.genres.str.contains(i, re.IGNORECASE).groupby([fs_movie.gender_first.str.lower(),fs_movie.gender_second.str.lower()]).sum()\n",
        "  if tmp[0]:\n",
        "    ff.append(tmp[0])\n",
        "  else:\n",
        "    ff.append(0)\n",
        "  if tmp[1]:\n",
        "    fm.append(tmp[1])\n",
        "  else:\n",
        "    fm.append(0)\n",
        "  if tmp[2]:\n",
        "    mf.append(tmp[2])\n",
        "  else:\n",
        "    mf.append(0)\n",
        "  if tmp[3]:\n",
        "    mm.append(tmp[3])\n",
        "  else:\n",
        "    mm.append(0)"
      ],
      "execution_count": 0,
      "outputs": []
    },
    {
      "cell_type": "markdown",
      "metadata": {
        "id": "NfJ5mmSaxi1F",
        "colab_type": "text"
      },
      "source": [
        "### Plots"
      ]
    },
    {
      "cell_type": "code",
      "metadata": {
        "id": "j2ZFm7r5L7kq",
        "colab_type": "code",
        "colab": {
          "base_uri": "https://localhost:8080/",
          "height": 508
        },
        "outputId": "9c1cf9d2-dac4-4a03-d272-9fb4ff3bdcd5"
      },
      "source": [
        "ff_ratio, fm_ratio, mf_ratio, mm_ratio = [],[],[],[]\n",
        "total_ff, total_fm, total_mf, total_mm = 0, 0, 0, 0\n",
        "x = []\n",
        "for i, name in enumerate(genres):\n",
        "  tmp = ff[i]+fm[i]+mf[i]+mm[i]\n",
        "  #print(tmp)\n",
        "  if tmp == 0: continue\n",
        "  x.append(name)\n",
        "  ff_ratio.append(ff[i]/tmp)\n",
        "  fm_ratio.append(fm[i]/tmp)\n",
        "  mf_ratio.append(mf[i]/tmp)\n",
        "  mm_ratio.append(mm[i]/tmp)\n",
        "  total_ff += ff[i]\n",
        "  total_fm += fm[i]\n",
        "  total_mf += mf[i]\n",
        "  total_mm += mm[i]\n",
        "  \n",
        "bottom_fm = np.add(mm_ratio, mf_ratio)\n",
        "bottom_ff = np.add(bottom_fm, fm_ratio)\n",
        "ax = plt.subplots(figsize=(10,7))\n",
        "plt.subplots_adjust(left=0.06, right=0.78, bottom=0.18, top=0.95)\n",
        "plt.bar(range(len(x)), mm_ratio, label='male-male', color = '#a3acff', edgecolor='white', width=0.85)\n",
        "plt.bar(range(len(x)), mf_ratio, label='male-female', bottom=mm_ratio, color=\"#D8BFD8\", edgecolor='white', width=0.85)\n",
        "plt.bar(range(len(x)), fm_ratio, label='female-male', bottom=bottom_fm, color=\"#FFD8CB\", edgecolor='white', width=0.85)\n",
        "plt.bar(range(len(x)), ff_ratio, label='female-female', bottom=bottom_ff, color=\"#f9bc86\", edgecolor='white', width=0.85)\n",
        "plt.xlim(-1,22)\n",
        "plt.hlines((total_mm + total_mf)/(total_mm + total_mf+total_fm+total_ff), -1,22,colors='k', \n",
        "           linestyles='--', label='Averaged male initiate')\n",
        "plt.legend(loc='center left', bbox_to_anchor=(1, 0.5))\n",
        "plt.xticks(range(len(x)), x,rotation=90)\n",
        "plt.ylabel('Proportion of conversation types')\n",
        "plt.title('Conversation initiator and responder (#=52038)')\n",
        "plt.savefig('/content/gdrive/My Drive/EMDS/Hypo2.png')\n",
        "plt.show()"
      ],
      "execution_count": 37,
      "outputs": [
        {
          "output_type": "display_data",
          "data": {
            "image/png": "[encoded data removed]",
            "text/plain": [
              "<Figure size 720x504 with 1 Axes>"
            ]
          },
          "metadata": {
            "tags": []
          }
        }
      ]
    },
    {
      "cell_type": "markdown",
      "metadata": {
        "id": "PxA-dM57JPPk",
        "colab_type": "text"
      },
      "source": [
        "1. result similar to previous plots, general male starter\n",
        "2. some have no female-female conversation: history, adventure, war, animation.\n",
        "3. not expected: documentary, female initiators.\n",
        "4. short: female lead, no male-female\n",
        "\n",
        "举个🌰！"
      ]
    },
    {
      "cell_type": "code",
      "metadata": {
        "id": "HW8iNvoIquXp",
        "colab_type": "code",
        "colab": {
          "base_uri": "https://localhost:8080/",
          "height": 34
        },
        "outputId": "2f90a972-bd85-433c-a2d2-6dcd17387ed5"
      },
      "source": [
        "record = np.vstack((fm_ratio, mf_ratio)).T\n",
        "record[0]"
      ],
      "execution_count": 73,
      "outputs": [
        {
          "output_type": "execute_result",
          "data": {
            "text/plain": [
              "array([0.22446988, 0.24656197])"
            ]
          },
          "metadata": {
            "tags": []
          },
          "execution_count": 73
        }
      ]
    },
    {
      "cell_type": "code",
      "metadata": {
        "id": "eiE_qi7Jqkga",
        "colab_type": "code",
        "colab": {}
      },
      "source": [
        "np.savetxt('/content/gdrive/My Drive/EMDS/initiator.txt', record)"
      ],
      "execution_count": 0,
      "outputs": []
    },
    {
      "cell_type": "code",
      "metadata": {
        "id": "s1l-02dpM2hC",
        "colab_type": "code",
        "colab": {
          "base_uri": "https://localhost:8080/",
          "height": 325
        },
        "outputId": "b33645b5-9300-4a57-b49e-3eb28ed708f3"
      },
      "source": [
        "ax = plt.subplot(111)\n",
        "w = 0.2\n",
        "ax.bar(np.subtract(range(len(x)),1.5*w), ff_ratio, label='female-female',width=w,color='#f9bc86', edgecolor='white',align='center')\n",
        "ax.bar(np.subtract(range(len(x)),0.5*w), fm_ratio, label='female-male',width=w,color=\"#FFD8CB\", edgecolor='white',align='center')\n",
        "ax.bar(np.add(range(len(x)),0.5*w), mf_ratio, label='male-female',width=w,color=\"#D8BFD8\", edgecolor='white',align='center')\n",
        "ax.bar(np.add(range(len(x)),1.5*w), mm_ratio,label='male-male',width=w,color='#a3acff', edgecolor='white',align='center')\n",
        "#ax.autoscale(tight=True)\n",
        "plt.legend(loc='center left', bbox_to_anchor=(1, 0.5))\n",
        "plt.xticks(range(len(x)), x,rotation=90)\n",
        "plt.ylabel('Conversation distribution(%)')\n",
        "plt.show()"
      ],
      "execution_count": 38,
      "outputs": [
        {
          "output_type": "display_data",
          "data": {
            "image/png": "[encoded data removed]",
            "text/plain": [
              "<Figure size 432x288 with 1 Axes>"
            ]
          },
          "metadata": {
            "tags": []
          }
        }
      ]
    },
    {
      "cell_type": "markdown",
      "metadata": {
        "id": "f7Jn4MzNwxiZ",
        "colab_type": "text"
      },
      "source": [
        "### Discussion\n",
        "history is really his story...."
      ]
    },
    {
      "cell_type": "code",
      "metadata": {
        "id": "4ce19RaiMbgy",
        "colab_type": "code",
        "colab": {
          "base_uri": "https://localhost:8080/",
          "height": 68
        },
        "outputId": "f753f938-8c28-4839-a94e-e18b562c9039"
      },
      "source": [
        "np.greater(mf, ff)"
      ],
      "execution_count": 39,
      "outputs": [
        {
          "output_type": "execute_result",
          "data": {
            "text/plain": [
              "array([ True,  True, False,  True, False,  True,  True,  True, False,\n",
              "        True,  True,  True,  True, False,  True,  True,  True,  True,\n",
              "        True,  True,  True,  True, False,  True])"
            ]
          },
          "metadata": {
            "tags": []
          },
          "execution_count": 39
        }
      ]
    },
    {
      "cell_type": "code",
      "metadata": {
        "id": "7v4QwOgev3bO",
        "colab_type": "code",
        "colab": {
          "base_uri": "https://localhost:8080/",
          "height": 187
        },
        "outputId": "f85698cf-1a80-46a2-b623-63584ead2693"
      },
      "source": [
        "for i in range(10):\n",
        "  print(mm[i], mf[i], fm[i], ff[i])"
      ],
      "execution_count": 40,
      "outputs": [
        {
          "output_type": "stream",
          "text": [
            "5749.0 2779.0 2530.0 213.0\n",
            "4404.0 3952.0 4677.0 968.0\n",
            "0 0 0 0\n",
            "678.0 126.0 241.0 87.0\n",
            "0 0 0 0\n",
            "787.0 202.0 123.0 0\n",
            "2002.0 1636.0 1903.0 743.0\n",
            "368.0 111.0 295.0 56.0\n",
            "79.0 0 77.0 12.0\n",
            "1060.0 293.0 251.0 14.0\n"
          ],
          "name": "stdout"
        }
      ]
    },
    {
      "cell_type": "markdown",
      "metadata": {
        "id": "ocfTDiv3yAZT",
        "colab_type": "text"
      },
      "source": [
        "# Hypo 3\n",
        "#女/#男 ~ rating; 女性台词长度/男性台词长度 ~ rating\n",
        "\n",
        "男性主导电影评分更高"
      ]
    },
    {
      "cell_type": "code",
      "metadata": {
        "id": "GqC_qzW8cC65",
        "colab_type": "code",
        "colab": {
          "base_uri": "https://localhost:8080/",
          "height": 428
        },
        "outputId": "028d6d1a-41ac-47b2-e29b-041e5f6790fe"
      },
      "source": [
        "movie_character_line.head()"
      ],
      "execution_count": 41,
      "outputs": [
        {
          "output_type": "execute_result",
          "data": {
            "text/html": [
              "<div>\n",
              "<style scoped>\n",
              "    .dataframe tbody tr th:only-of-type {\n",
              "        vertical-align: middle;\n",
              "    }\n",
              "\n",
              "    .dataframe tbody tr th {\n",
              "        vertical-align: top;\n",
              "    }\n",
              "\n",
              "    .dataframe thead th {\n",
              "        text-align: right;\n",
              "    }\n",
              "</style>\n",
              "<table border=\"1\" class=\"dataframe\">\n",
              "  <thead>\n",
              "    <tr style=\"text-align: right;\">\n",
              "      <th></th>\n",
              "      <th>movie_id</th>\n",
              "      <th>movie_title</th>\n",
              "      <th>release_year</th>\n",
              "      <th>avg_rating</th>\n",
              "      <th>num_votes</th>\n",
              "      <th>genres</th>\n",
              "      <th>character_id</th>\n",
              "      <th>character_name</th>\n",
              "      <th>gender</th>\n",
              "      <th>position_in_credits</th>\n",
              "      <th>line_id</th>\n",
              "      <th>characher_name</th>\n",
              "      <th>line_text</th>\n",
              "      <th>no_words</th>\n",
              "    </tr>\n",
              "  </thead>\n",
              "  <tbody>\n",
              "    <tr>\n",
              "      <th>0</th>\n",
              "      <td>m0</td>\n",
              "      <td>10 things i hate about you</td>\n",
              "      <td>1999</td>\n",
              "      <td>6.9</td>\n",
              "      <td>62847</td>\n",
              "      <td>['comedy', 'romance']</td>\n",
              "      <td>u0</td>\n",
              "      <td>BIANCA</td>\n",
              "      <td>f</td>\n",
              "      <td>4</td>\n",
              "      <td>L1007</td>\n",
              "      <td>BIANCA</td>\n",
              "      <td>Let go!</td>\n",
              "      <td>2</td>\n",
              "    </tr>\n",
              "    <tr>\n",
              "      <th>1</th>\n",
              "      <td>m0</td>\n",
              "      <td>10 things i hate about you</td>\n",
              "      <td>1999</td>\n",
              "      <td>6.9</td>\n",
              "      <td>62847</td>\n",
              "      <td>['comedy', 'romance']</td>\n",
              "      <td>u0</td>\n",
              "      <td>BIANCA</td>\n",
              "      <td>f</td>\n",
              "      <td>4</td>\n",
              "      <td>L1009</td>\n",
              "      <td>BIANCA</td>\n",
              "      <td>I just wanted --</td>\n",
              "      <td>4</td>\n",
              "    </tr>\n",
              "    <tr>\n",
              "      <th>2</th>\n",
              "      <td>m0</td>\n",
              "      <td>10 things i hate about you</td>\n",
              "      <td>1999</td>\n",
              "      <td>6.9</td>\n",
              "      <td>62847</td>\n",
              "      <td>['comedy', 'romance']</td>\n",
              "      <td>u0</td>\n",
              "      <td>BIANCA</td>\n",
              "      <td>f</td>\n",
              "      <td>4</td>\n",
              "      <td>L1011</td>\n",
              "      <td>BIANCA</td>\n",
              "      <td>No! I just wanted</td>\n",
              "      <td>4</td>\n",
              "    </tr>\n",
              "    <tr>\n",
              "      <th>3</th>\n",
              "      <td>m0</td>\n",
              "      <td>10 things i hate about you</td>\n",
              "      <td>1999</td>\n",
              "      <td>6.9</td>\n",
              "      <td>62847</td>\n",
              "      <td>['comedy', 'romance']</td>\n",
              "      <td>u0</td>\n",
              "      <td>BIANCA</td>\n",
              "      <td>f</td>\n",
              "      <td>4</td>\n",
              "      <td>L1021</td>\n",
              "      <td>BIANCA</td>\n",
              "      <td>Is that woman a complete fruit-loop or is it ...</td>\n",
              "      <td>11</td>\n",
              "    </tr>\n",
              "    <tr>\n",
              "      <th>4</th>\n",
              "      <td>m0</td>\n",
              "      <td>10 things i hate about you</td>\n",
              "      <td>1999</td>\n",
              "      <td>6.9</td>\n",
              "      <td>62847</td>\n",
              "      <td>['comedy', 'romance']</td>\n",
              "      <td>u0</td>\n",
              "      <td>BIANCA</td>\n",
              "      <td>f</td>\n",
              "      <td>4</td>\n",
              "      <td>L1045</td>\n",
              "      <td>BIANCA</td>\n",
              "      <td>They do not!</td>\n",
              "      <td>3</td>\n",
              "    </tr>\n",
              "  </tbody>\n",
              "</table>\n",
              "</div>"
            ],
            "text/plain": [
              "  movie_id                 movie_title  release_year  avg_rating  num_votes  \\\n",
              "0       m0  10 things i hate about you          1999         6.9      62847   \n",
              "1       m0  10 things i hate about you          1999         6.9      62847   \n",
              "2       m0  10 things i hate about you          1999         6.9      62847   \n",
              "3       m0  10 things i hate about you          1999         6.9      62847   \n",
              "4       m0  10 things i hate about you          1999         6.9      62847   \n",
              "\n",
              "                  genres character_id character_name gender  \\\n",
              "0  ['comedy', 'romance']           u0         BIANCA      f   \n",
              "1  ['comedy', 'romance']           u0         BIANCA      f   \n",
              "2  ['comedy', 'romance']           u0         BIANCA      f   \n",
              "3  ['comedy', 'romance']           u0         BIANCA      f   \n",
              "4  ['comedy', 'romance']           u0         BIANCA      f   \n",
              "\n",
              "  position_in_credits line_id characher_name  \\\n",
              "0                   4   L1007       BIANCA     \n",
              "1                   4   L1009       BIANCA     \n",
              "2                   4   L1011       BIANCA     \n",
              "3                   4   L1021       BIANCA     \n",
              "4                   4   L1045       BIANCA     \n",
              "\n",
              "                                           line_text  no_words  \n",
              "0                                            Let go!         2  \n",
              "1                                   I just wanted --         4  \n",
              "2                                  No! I just wanted         4  \n",
              "3   Is that woman a complete fruit-loop or is it ...        11  \n",
              "4                                       They do not!         3  "
            ]
          },
          "metadata": {
            "tags": []
          },
          "execution_count": 41
        }
      ]
    },
    {
      "cell_type": "code",
      "metadata": {
        "id": "Q95bFh-k0p-a",
        "colab_type": "code",
        "colab": {
          "base_uri": "https://localhost:8080/",
          "height": 136
        },
        "outputId": "fa643d73-b421-42d1-e848-4b02dcc9512c"
      },
      "source": [
        "test = movie_character_line.groupby([movie_character_line.movie_id,movie_character_line.gender.str.lower()]).size()\n",
        "test.head()"
      ],
      "execution_count": 42,
      "outputs": [
        {
          "output_type": "execute_result",
          "data": {
            "text/plain": [
              "movie_id  gender\n",
              "m0        f         278\n",
              "          m         359\n",
              "m1        m         143\n",
              "m10       f         104\n",
              "          m         441\n",
              "dtype: int64"
            ]
          },
          "metadata": {
            "tags": []
          },
          "execution_count": 42
        }
      ]
    },
    {
      "cell_type": "code",
      "metadata": {
        "id": "qzO-o6XDCwzq",
        "colab_type": "code",
        "colab": {
          "base_uri": "https://localhost:8080/",
          "height": 34
        },
        "outputId": "9cd46548-cadc-4605-f4d9-17b13ed6c178"
      },
      "source": [
        "np.shape(test)"
      ],
      "execution_count": 43,
      "outputs": [
        {
          "output_type": "execute_result",
          "data": {
            "text/plain": [
              "(1119,)"
            ]
          },
          "metadata": {
            "tags": []
          },
          "execution_count": 43
        }
      ]
    },
    {
      "cell_type": "code",
      "metadata": {
        "id": "9-K-5rYw_wOz",
        "colab_type": "code",
        "colab": {
          "base_uri": "https://localhost:8080/",
          "height": 235
        },
        "outputId": "d8726e38-45fa-4d7b-a823-df5d62f8e905"
      },
      "source": [
        "test2=test.unstack(level=1)\n",
        "test2.head()"
      ],
      "execution_count": 44,
      "outputs": [
        {
          "output_type": "execute_result",
          "data": {
            "text/html": [
              "<div>\n",
              "<style scoped>\n",
              "    .dataframe tbody tr th:only-of-type {\n",
              "        vertical-align: middle;\n",
              "    }\n",
              "\n",
              "    .dataframe tbody tr th {\n",
              "        vertical-align: top;\n",
              "    }\n",
              "\n",
              "    .dataframe thead th {\n",
              "        text-align: right;\n",
              "    }\n",
              "</style>\n",
              "<table border=\"1\" class=\"dataframe\">\n",
              "  <thead>\n",
              "    <tr style=\"text-align: right;\">\n",
              "      <th>gender</th>\n",
              "      <th>f</th>\n",
              "      <th>m</th>\n",
              "    </tr>\n",
              "    <tr>\n",
              "      <th>movie_id</th>\n",
              "      <th></th>\n",
              "      <th></th>\n",
              "    </tr>\n",
              "  </thead>\n",
              "  <tbody>\n",
              "    <tr>\n",
              "      <th>m0</th>\n",
              "      <td>278.0</td>\n",
              "      <td>359.0</td>\n",
              "    </tr>\n",
              "    <tr>\n",
              "      <th>m1</th>\n",
              "      <td>NaN</td>\n",
              "      <td>143.0</td>\n",
              "    </tr>\n",
              "    <tr>\n",
              "      <th>m10</th>\n",
              "      <td>104.0</td>\n",
              "      <td>441.0</td>\n",
              "    </tr>\n",
              "    <tr>\n",
              "      <th>m100</th>\n",
              "      <td>149.0</td>\n",
              "      <td>776.0</td>\n",
              "    </tr>\n",
              "    <tr>\n",
              "      <th>m101</th>\n",
              "      <td>42.0</td>\n",
              "      <td>452.0</td>\n",
              "    </tr>\n",
              "  </tbody>\n",
              "</table>\n",
              "</div>"
            ],
            "text/plain": [
              "gender        f      m\n",
              "movie_id              \n",
              "m0        278.0  359.0\n",
              "m1          NaN  143.0\n",
              "m10       104.0  441.0\n",
              "m100      149.0  776.0\n",
              "m101       42.0  452.0"
            ]
          },
          "metadata": {
            "tags": []
          },
          "execution_count": 44
        }
      ]
    },
    {
      "cell_type": "code",
      "metadata": {
        "id": "LdN2gbT4-Dvy",
        "colab_type": "code",
        "colab": {}
      },
      "source": [
        "#test2.index"
      ],
      "execution_count": 0,
      "outputs": []
    },
    {
      "cell_type": "code",
      "metadata": {
        "id": "LtJsUVQCDDZJ",
        "colab_type": "code",
        "colab": {}
      },
      "source": [
        "# test2.f['m0']\n",
        "# 'm0' in test2.index\n",
        "# test2.loc['m0'].sum()"
      ],
      "execution_count": 0,
      "outputs": []
    },
    {
      "cell_type": "code",
      "metadata": {
        "id": "fV8aSigjch04",
        "colab_type": "code",
        "colab": {
          "base_uri": "https://localhost:8080/",
          "height": 235
        },
        "outputId": "c03dd323-2c5b-4898-aa8e-07def00e1972"
      },
      "source": [
        "test2 = test2.fillna(0)\n",
        "ratio = []\n",
        "for i in test2.index:\n",
        "#   if test2.f[i]<1:\n",
        "#     print('no')\n",
        "#     ratio.append(0.0)\n",
        "#   elif not test2.m[i]:\n",
        "#     ratio.append(1.0)\n",
        "#   else:\n",
        "  ratio.append(test2.f[i]/test2.loc[i].sum())\n",
        "#print(ratio)\n",
        "test2['line_ratio'] = ratio\n",
        "test2.head()"
      ],
      "execution_count": 47,
      "outputs": [
        {
          "output_type": "execute_result",
          "data": {
            "text/html": [
              "<div>\n",
              "<style scoped>\n",
              "    .dataframe tbody tr th:only-of-type {\n",
              "        vertical-align: middle;\n",
              "    }\n",
              "\n",
              "    .dataframe tbody tr th {\n",
              "        vertical-align: top;\n",
              "    }\n",
              "\n",
              "    .dataframe thead th {\n",
              "        text-align: right;\n",
              "    }\n",
              "</style>\n",
              "<table border=\"1\" class=\"dataframe\">\n",
              "  <thead>\n",
              "    <tr style=\"text-align: right;\">\n",
              "      <th>gender</th>\n",
              "      <th>f</th>\n",
              "      <th>m</th>\n",
              "      <th>line_ratio</th>\n",
              "    </tr>\n",
              "    <tr>\n",
              "      <th>movie_id</th>\n",
              "      <th></th>\n",
              "      <th></th>\n",
              "      <th></th>\n",
              "    </tr>\n",
              "  </thead>\n",
              "  <tbody>\n",
              "    <tr>\n",
              "      <th>m0</th>\n",
              "      <td>278.0</td>\n",
              "      <td>359.0</td>\n",
              "      <td>0.436421</td>\n",
              "    </tr>\n",
              "    <tr>\n",
              "      <th>m1</th>\n",
              "      <td>0.0</td>\n",
              "      <td>143.0</td>\n",
              "      <td>0.000000</td>\n",
              "    </tr>\n",
              "    <tr>\n",
              "      <th>m10</th>\n",
              "      <td>104.0</td>\n",
              "      <td>441.0</td>\n",
              "      <td>0.190826</td>\n",
              "    </tr>\n",
              "    <tr>\n",
              "      <th>m100</th>\n",
              "      <td>149.0</td>\n",
              "      <td>776.0</td>\n",
              "      <td>0.161081</td>\n",
              "    </tr>\n",
              "    <tr>\n",
              "      <th>m101</th>\n",
              "      <td>42.0</td>\n",
              "      <td>452.0</td>\n",
              "      <td>0.085020</td>\n",
              "    </tr>\n",
              "  </tbody>\n",
              "</table>\n",
              "</div>"
            ],
            "text/plain": [
              "gender        f      m  line_ratio\n",
              "movie_id                          \n",
              "m0        278.0  359.0    0.436421\n",
              "m1          0.0  143.0    0.000000\n",
              "m10       104.0  441.0    0.190826\n",
              "m100      149.0  776.0    0.161081\n",
              "m101       42.0  452.0    0.085020"
            ]
          },
          "metadata": {
            "tags": []
          },
          "execution_count": 47
        }
      ]
    },
    {
      "cell_type": "code",
      "metadata": {
        "id": "yt7fiI0eh920",
        "colab_type": "code",
        "colab": {}
      },
      "source": [
        "#len(ratio)"
      ],
      "execution_count": 0,
      "outputs": []
    },
    {
      "cell_type": "code",
      "metadata": {
        "id": "SigDoqulFs9S",
        "colab_type": "code",
        "colab": {}
      },
      "source": [
        "test2 = test2.join(metadata.set_index('movie_id'), how='left', on='movie_id')"
      ],
      "execution_count": 0,
      "outputs": []
    },
    {
      "cell_type": "code",
      "metadata": {
        "id": "xTglmhQeGMS5",
        "colab_type": "code",
        "colab": {
          "base_uri": "https://localhost:8080/",
          "height": 354
        },
        "outputId": "a41ba820-e69e-4d1a-eb8f-90c631f26bbe"
      },
      "source": [
        "test2.head()"
      ],
      "execution_count": 50,
      "outputs": [
        {
          "output_type": "execute_result",
          "data": {
            "text/html": [
              "<div>\n",
              "<style scoped>\n",
              "    .dataframe tbody tr th:only-of-type {\n",
              "        vertical-align: middle;\n",
              "    }\n",
              "\n",
              "    .dataframe tbody tr th {\n",
              "        vertical-align: top;\n",
              "    }\n",
              "\n",
              "    .dataframe thead th {\n",
              "        text-align: right;\n",
              "    }\n",
              "</style>\n",
              "<table border=\"1\" class=\"dataframe\">\n",
              "  <thead>\n",
              "    <tr style=\"text-align: right;\">\n",
              "      <th></th>\n",
              "      <th>f</th>\n",
              "      <th>m</th>\n",
              "      <th>line_ratio</th>\n",
              "      <th>movie_title</th>\n",
              "      <th>release_year</th>\n",
              "      <th>avg_rating</th>\n",
              "      <th>num_votes</th>\n",
              "      <th>genres</th>\n",
              "    </tr>\n",
              "    <tr>\n",
              "      <th>movie_id</th>\n",
              "      <th></th>\n",
              "      <th></th>\n",
              "      <th></th>\n",
              "      <th></th>\n",
              "      <th></th>\n",
              "      <th></th>\n",
              "      <th></th>\n",
              "      <th></th>\n",
              "    </tr>\n",
              "  </thead>\n",
              "  <tbody>\n",
              "    <tr>\n",
              "      <th>m0</th>\n",
              "      <td>278.0</td>\n",
              "      <td>359.0</td>\n",
              "      <td>0.436421</td>\n",
              "      <td>10 things i hate about you</td>\n",
              "      <td>1999</td>\n",
              "      <td>6.9</td>\n",
              "      <td>62847</td>\n",
              "      <td>['comedy', 'romance']</td>\n",
              "    </tr>\n",
              "    <tr>\n",
              "      <th>m1</th>\n",
              "      <td>0.0</td>\n",
              "      <td>143.0</td>\n",
              "      <td>0.000000</td>\n",
              "      <td>1492: conquest of paradise</td>\n",
              "      <td>1992</td>\n",
              "      <td>6.2</td>\n",
              "      <td>10421</td>\n",
              "      <td>['adventure', 'biography', 'drama', 'history']</td>\n",
              "    </tr>\n",
              "    <tr>\n",
              "      <th>m10</th>\n",
              "      <td>104.0</td>\n",
              "      <td>441.0</td>\n",
              "      <td>0.190826</td>\n",
              "      <td>affliction</td>\n",
              "      <td>1997</td>\n",
              "      <td>6.9</td>\n",
              "      <td>7252</td>\n",
              "      <td>['drama', 'mystery', 'thriller']</td>\n",
              "    </tr>\n",
              "    <tr>\n",
              "      <th>m100</th>\n",
              "      <td>149.0</td>\n",
              "      <td>776.0</td>\n",
              "      <td>0.161081</td>\n",
              "      <td>innerspace</td>\n",
              "      <td>1987</td>\n",
              "      <td>6.5</td>\n",
              "      <td>16854</td>\n",
              "      <td>['action', 'adventure', 'comedy', 'crime', 'sc...</td>\n",
              "    </tr>\n",
              "    <tr>\n",
              "      <th>m101</th>\n",
              "      <td>42.0</td>\n",
              "      <td>452.0</td>\n",
              "      <td>0.085020</td>\n",
              "      <td>the insider</td>\n",
              "      <td>1999</td>\n",
              "      <td>8.0</td>\n",
              "      <td>69660</td>\n",
              "      <td>['biography', 'drama', 'thriller']</td>\n",
              "    </tr>\n",
              "  </tbody>\n",
              "</table>\n",
              "</div>"
            ],
            "text/plain": [
              "              f      m  line_ratio                 movie_title  release_year  \\\n",
              "movie_id                                                                       \n",
              "m0        278.0  359.0    0.436421  10 things i hate about you          1999   \n",
              "m1          0.0  143.0    0.000000  1492: conquest of paradise          1992   \n",
              "m10       104.0  441.0    0.190826                  affliction          1997   \n",
              "m100      149.0  776.0    0.161081                  innerspace          1987   \n",
              "m101       42.0  452.0    0.085020                 the insider          1999   \n",
              "\n",
              "          avg_rating  num_votes  \\\n",
              "movie_id                          \n",
              "m0               6.9      62847   \n",
              "m1               6.2      10421   \n",
              "m10              6.9       7252   \n",
              "m100             6.5      16854   \n",
              "m101             8.0      69660   \n",
              "\n",
              "                                                     genres  \n",
              "movie_id                                                     \n",
              "m0                                    ['comedy', 'romance']  \n",
              "m1           ['adventure', 'biography', 'drama', 'history']  \n",
              "m10                        ['drama', 'mystery', 'thriller']  \n",
              "m100      ['action', 'adventure', 'comedy', 'crime', 'sc...  \n",
              "m101                     ['biography', 'drama', 'thriller']  "
            ]
          },
          "metadata": {
            "tags": []
          },
          "execution_count": 50
        }
      ]
    },
    {
      "cell_type": "markdown",
      "metadata": {
        "id": "YFq6_ErBf0Gr",
        "colab_type": "text"
      },
      "source": [
        "## 3.1. female presence vs. movie rating"
      ]
    },
    {
      "cell_type": "code",
      "metadata": {
        "id": "EkCso4CuGUnF",
        "colab_type": "code",
        "colab": {
          "base_uri": "https://localhost:8080/",
          "height": 68
        },
        "outputId": "e33702f7-d923-49c0-f38b-7ef49918bcac"
      },
      "source": [
        "test2 = test2.dropna(how='any')\n",
        "print(np.shape(test2))\n",
        "np.corrcoef(test2.line_ratio, test2.avg_rating)"
      ],
      "execution_count": 51,
      "outputs": [
        {
          "output_type": "stream",
          "text": [
            "(600, 8)\n"
          ],
          "name": "stdout"
        },
        {
          "output_type": "execute_result",
          "data": {
            "text/plain": [
              "array([[ 1.        , -0.15856239],\n",
              "       [-0.15856239,  1.        ]])"
            ]
          },
          "metadata": {
            "tags": []
          },
          "execution_count": 51
        }
      ]
    },
    {
      "cell_type": "code",
      "metadata": {
        "id": "Lcf-GSJ9HRZA",
        "colab_type": "code",
        "colab": {
          "base_uri": "https://localhost:8080/",
          "height": 51
        },
        "outputId": "d4cd623a-2273-4299-d0ee-73d04703ba9e"
      },
      "source": [
        "np.corrcoef(test2.m, test2.avg_rating)"
      ],
      "execution_count": 52,
      "outputs": [
        {
          "output_type": "execute_result",
          "data": {
            "text/plain": [
              "array([[1.       , 0.2260272],\n",
              "       [0.2260272, 1.       ]])"
            ]
          },
          "metadata": {
            "tags": []
          },
          "execution_count": 52
        }
      ]
    },
    {
      "cell_type": "code",
      "metadata": {
        "id": "0Tt4ufOmHXhZ",
        "colab_type": "code",
        "colab": {
          "base_uri": "https://localhost:8080/",
          "height": 51
        },
        "outputId": "001c0c5d-f23e-41fa-8be7-c8221a059ab1"
      },
      "source": [
        "np.corrcoef(test2.f, test2.avg_rating)"
      ],
      "execution_count": 53,
      "outputs": [
        {
          "output_type": "execute_result",
          "data": {
            "text/plain": [
              "array([[1.        , 0.01800556],\n",
              "       [0.01800556, 1.        ]])"
            ]
          },
          "metadata": {
            "tags": []
          },
          "execution_count": 53
        }
      ]
    },
    {
      "cell_type": "markdown",
      "metadata": {
        "id": "D5knWL1SfqPk",
        "colab_type": "text"
      },
      "source": [
        "### Plots"
      ]
    },
    {
      "cell_type": "code",
      "metadata": {
        "id": "iUqzxFj5G-Hz",
        "colab_type": "code",
        "colab": {
          "base_uri": "https://localhost:8080/",
          "height": 283
        },
        "outputId": "4c627bba-0e58-4768-9f47-92225252137e"
      },
      "source": [
        "plt.scatter(test2.line_ratio, test2.avg_rating)\n",
        "plt.xlabel('Female presence')\n",
        "plt.ylabel('Movie rating')\n",
        "plt.show()"
      ],
      "execution_count": 54,
      "outputs": [
        {
          "output_type": "display_data",
          "data": {
            "image/png": "[encoded data removed]",
            "text/plain": [
              "<Figure size 432x288 with 1 Axes>"
            ]
          },
          "metadata": {
            "tags": []
          }
        }
      ]
    },
    {
      "cell_type": "code",
      "metadata": {
        "id": "YuOnbtyAH6ZH",
        "colab_type": "code",
        "colab": {
          "base_uri": "https://localhost:8080/",
          "height": 317
        },
        "outputId": "77d7a54b-60ca-4f1c-8e12-17ea06ce2bb9"
      },
      "source": [
        "print(np.corrcoef(test2.line_ratio, test2.num_votes))\n",
        "plt.scatter(test2.line_ratio, test2.num_votes)\n",
        "plt.xlabel('Female presence')\n",
        "plt.ylabel('Number of votes')\n",
        "plt.show()"
      ],
      "execution_count": 55,
      "outputs": [
        {
          "output_type": "stream",
          "text": [
            "[[ 1.         -0.16785759]\n",
            " [-0.16785759  1.        ]]\n"
          ],
          "name": "stdout"
        },
        {
          "output_type": "display_data",
          "data": {
            "image/png": "[encoded data removed]",
            "text/plain": [
              "<Figure size 432x288 with 1 Axes>"
            ]
          },
          "metadata": {
            "tags": []
          }
        }
      ]
    },
    {
      "cell_type": "code",
      "metadata": {
        "id": "9utpHw1UIKK4",
        "colab_type": "code",
        "colab": {
          "base_uri": "https://localhost:8080/",
          "height": 283
        },
        "outputId": "cf10c4ff-6bb6-49de-cf12-e497cf9853c9"
      },
      "source": [
        "plt.scatter(test2.avg_rating, test2.num_votes)\n",
        "plt.xlabel('Movie rating')\n",
        "plt.ylabel('Number of votes')\n",
        "plt.savefig('/content/gdrive/My Drive/EMDS/rating_votes.png')\n",
        "plt.show()"
      ],
      "execution_count": 56,
      "outputs": [
        {
          "output_type": "display_data",
          "data": {
            "image/png": "[encoded data removed]",
            "text/plain": [
              "<Figure size 432x288 with 1 Axes>"
            ]
          },
          "metadata": {
            "tags": []
          }
        }
      ]
    },
    {
      "cell_type": "code",
      "metadata": {
        "id": "WBY_aS_EcK5A",
        "colab_type": "code",
        "colab": {
          "base_uri": "https://localhost:8080/",
          "height": 295
        },
        "outputId": "c2a48fad-acfc-426f-a68a-afb18be9a15f"
      },
      "source": [
        "plt.hist(test2.line_ratio,bins=10,facecolor='#4682B4',edgecolor='white')\n",
        "plt.xlabel('Female presence')\n",
        "plt.ylabel('Count of movies')\n",
        "plt.title('Distribution of female presence (600 movies)')\n",
        "plt.savefig('/content/gdrive/My Drive/EMDS/Hypo3_dist.png')\n",
        "plt.show()"
      ],
      "execution_count": 57,
      "outputs": [
        {
          "output_type": "display_data",
          "data": {
            "image/png": "[encoded data removed]",
            "text/plain": [
              "<Figure size 432x288 with 1 Axes>"
            ]
          },
          "metadata": {
            "tags": []
          }
        }
      ]
    },
    {
      "cell_type": "code",
      "metadata": {
        "id": "Qsa7Egs0HiS9",
        "colab_type": "code",
        "colab": {
          "base_uri": "https://localhost:8080/",
          "height": 283
        },
        "outputId": "b9988093-d5cf-447b-8cd2-84c32a621e5c"
      },
      "source": [
        "ratio_mean = test2.line_ratio.groupby(test2.avg_rating.apply(int)).mean()\n",
        "ratio_count = test2.line_ratio.groupby(test2.avg_rating.apply(int)).count()\n",
        "ratio_std = test2.line_ratio.groupby(test2.avg_rating.apply(int)).std()\n",
        "#plt.plot(range(2,10),ratio_mean)\n",
        "total_mean = test2.line_ratio.mean()\n",
        "total_error = test2.line_ratio.std()/np.sqrt(len(test2))\n",
        "plt.hlines(total_mean, 1, 10, color='k', linestyle='--')\n",
        "plt.fill_between(range(1,11), total_mean-total_error, total_mean+total_error, \n",
        "                 edgecolor = 'grey', facecolor = 'grey', alpha = 0.4)\n",
        "plt.errorbar(range(2,10),ratio_mean, yerr=ratio_std/np.sqrt(ratio_count),marker='.',capsize=3)\n",
        "plt.xlim(1.5,9.5)\n",
        "plt.text(2, 0.24,'Averaged female presence')\n",
        "#plt.legend()\n",
        "plt.ylabel('Female presence')\n",
        "plt.xlabel('Movie ratings')\n",
        "plt.savefig('/content/gdrive/My Drive/EMDS/Hypo3.png')\n",
        "plt.show()"
      ],
      "execution_count": 58,
      "outputs": [
        {
          "output_type": "display_data",
          "data": {
            "image/png": "[encoded data removed]",
            "text/plain": [
              "<Figure size 432x288 with 1 Axes>"
            ]
          },
          "metadata": {
            "tags": []
          }
        }
      ]
    },
    {
      "cell_type": "markdown",
      "metadata": {
        "id": "umeN7EtAiRtE",
        "colab_type": "text"
      },
      "source": [
        "## 3.2. genre or year dependence?"
      ]
    },
    {
      "cell_type": "code",
      "metadata": {
        "id": "ue2JkwLD3mHt",
        "colab_type": "code",
        "colab": {
          "base_uri": "https://localhost:8080/",
          "height": 354
        },
        "outputId": "4f812a55-64d7-45d4-c665-410ac813f9d1"
      },
      "source": [
        "test2.head()"
      ],
      "execution_count": 59,
      "outputs": [
        {
          "output_type": "execute_result",
          "data": {
            "text/html": [
              "<div>\n",
              "<style scoped>\n",
              "    .dataframe tbody tr th:only-of-type {\n",
              "        vertical-align: middle;\n",
              "    }\n",
              "\n",
              "    .dataframe tbody tr th {\n",
              "        vertical-align: top;\n",
              "    }\n",
              "\n",
              "    .dataframe thead th {\n",
              "        text-align: right;\n",
              "    }\n",
              "</style>\n",
              "<table border=\"1\" class=\"dataframe\">\n",
              "  <thead>\n",
              "    <tr style=\"text-align: right;\">\n",
              "      <th></th>\n",
              "      <th>f</th>\n",
              "      <th>m</th>\n",
              "      <th>line_ratio</th>\n",
              "      <th>movie_title</th>\n",
              "      <th>release_year</th>\n",
              "      <th>avg_rating</th>\n",
              "      <th>num_votes</th>\n",
              "      <th>genres</th>\n",
              "    </tr>\n",
              "    <tr>\n",
              "      <th>movie_id</th>\n",
              "      <th></th>\n",
              "      <th></th>\n",
              "      <th></th>\n",
              "      <th></th>\n",
              "      <th></th>\n",
              "      <th></th>\n",
              "      <th></th>\n",
              "      <th></th>\n",
              "    </tr>\n",
              "  </thead>\n",
              "  <tbody>\n",
              "    <tr>\n",
              "      <th>m0</th>\n",
              "      <td>278.0</td>\n",
              "      <td>359.0</td>\n",
              "      <td>0.436421</td>\n",
              "      <td>10 things i hate about you</td>\n",
              "      <td>1999</td>\n",
              "      <td>6.9</td>\n",
              "      <td>62847</td>\n",
              "      <td>['comedy', 'romance']</td>\n",
              "    </tr>\n",
              "    <tr>\n",
              "      <th>m1</th>\n",
              "      <td>0.0</td>\n",
              "      <td>143.0</td>\n",
              "      <td>0.000000</td>\n",
              "      <td>1492: conquest of paradise</td>\n",
              "      <td>1992</td>\n",
              "      <td>6.2</td>\n",
              "      <td>10421</td>\n",
              "      <td>['adventure', 'biography', 'drama', 'history']</td>\n",
              "    </tr>\n",
              "    <tr>\n",
              "      <th>m10</th>\n",
              "      <td>104.0</td>\n",
              "      <td>441.0</td>\n",
              "      <td>0.190826</td>\n",
              "      <td>affliction</td>\n",
              "      <td>1997</td>\n",
              "      <td>6.9</td>\n",
              "      <td>7252</td>\n",
              "      <td>['drama', 'mystery', 'thriller']</td>\n",
              "    </tr>\n",
              "    <tr>\n",
              "      <th>m100</th>\n",
              "      <td>149.0</td>\n",
              "      <td>776.0</td>\n",
              "      <td>0.161081</td>\n",
              "      <td>innerspace</td>\n",
              "      <td>1987</td>\n",
              "      <td>6.5</td>\n",
              "      <td>16854</td>\n",
              "      <td>['action', 'adventure', 'comedy', 'crime', 'sc...</td>\n",
              "    </tr>\n",
              "    <tr>\n",
              "      <th>m101</th>\n",
              "      <td>42.0</td>\n",
              "      <td>452.0</td>\n",
              "      <td>0.085020</td>\n",
              "      <td>the insider</td>\n",
              "      <td>1999</td>\n",
              "      <td>8.0</td>\n",
              "      <td>69660</td>\n",
              "      <td>['biography', 'drama', 'thriller']</td>\n",
              "    </tr>\n",
              "  </tbody>\n",
              "</table>\n",
              "</div>"
            ],
            "text/plain": [
              "              f      m  line_ratio                 movie_title  release_year  \\\n",
              "movie_id                                                                       \n",
              "m0        278.0  359.0    0.436421  10 things i hate about you          1999   \n",
              "m1          0.0  143.0    0.000000  1492: conquest of paradise          1992   \n",
              "m10       104.0  441.0    0.190826                  affliction          1997   \n",
              "m100      149.0  776.0    0.161081                  innerspace          1987   \n",
              "m101       42.0  452.0    0.085020                 the insider          1999   \n",
              "\n",
              "          avg_rating  num_votes  \\\n",
              "movie_id                          \n",
              "m0               6.9      62847   \n",
              "m1               6.2      10421   \n",
              "m10              6.9       7252   \n",
              "m100             6.5      16854   \n",
              "m101             8.0      69660   \n",
              "\n",
              "                                                     genres  \n",
              "movie_id                                                     \n",
              "m0                                    ['comedy', 'romance']  \n",
              "m1           ['adventure', 'biography', 'drama', 'history']  \n",
              "m10                        ['drama', 'mystery', 'thriller']  \n",
              "m100      ['action', 'adventure', 'comedy', 'crime', 'sc...  \n",
              "m101                     ['biography', 'drama', 'thriller']  "
            ]
          },
          "metadata": {
            "tags": []
          },
          "execution_count": 59
        }
      ]
    },
    {
      "cell_type": "code",
      "metadata": {
        "id": "krs5GnbgH1jo",
        "colab_type": "code",
        "colab": {
          "base_uri": "https://localhost:8080/",
          "height": 535
        },
        "outputId": "6a1c2cf2-1541-46a4-8336-21e02b0b3326"
      },
      "source": [
        "no = {}\n",
        "for i, name in enumerate(genres):\n",
        "  tmp = set(test2[test2.genres.str.contains(name)].movie_title)\n",
        "  if tmp:\n",
        "    no[name] = len(tmp)\n",
        "print(no)\n",
        "ax = plt.subplots(figsize=(10,7))\n",
        "plt.subplots_adjust(left=0.08, right=0.95, bottom=0.2, top=0.95)\n",
        "plt.bar(range(len(no)), no.values(), color = '#a3acff', edgecolor='white', width=0.85)\n",
        "plt.xticks(range(len(no)), no.keys(),rotation=90)\n",
        "plt.ylabel('Count of movies')\n",
        "plt.title('Genre distribution (#=600)')\n",
        "plt.savefig('/content/gdrive/My Drive/EMDS/genre_dist.png')\n",
        "plt.show()"
      ],
      "execution_count": 60,
      "outputs": [
        {
          "output_type": "stream",
          "text": [
            "{'action': 150, 'romance': 130, 'western': 12, 'history': 18, 'horror': 94, 'sport': 8, 'short': 5, 'war': 22, 'fantasy': 71, 'musical': 8, 'biography': 24, 'adult': 1, 'comedy': 157, 'drama': 313, 'family': 15, 'adventure': 104, 'thriller': 260, 'animation': 16, 'crime': 141, 'music': 20, 'documentary': 3, 'mystery': 98}\n"
          ],
          "name": "stdout"
        },
        {
          "output_type": "display_data",
          "data": {
            "image/png": "[encoded data removed]",
            "text/plain": [
              "<Figure size 720x504 with 1 Axes>"
            ]
          },
          "metadata": {
            "tags": []
          }
        }
      ]
    },
    {
      "cell_type": "code",
      "metadata": {
        "id": "-VRlu1g5oBay",
        "colab_type": "code",
        "colab": {
          "base_uri": "https://localhost:8080/",
          "height": 354
        },
        "outputId": "6460c636-9507-4732-9262-9b747acb205d"
      },
      "source": [
        "test2.head()"
      ],
      "execution_count": 67,
      "outputs": [
        {
          "output_type": "execute_result",
          "data": {
            "text/html": [
              "<div>\n",
              "<style scoped>\n",
              "    .dataframe tbody tr th:only-of-type {\n",
              "        vertical-align: middle;\n",
              "    }\n",
              "\n",
              "    .dataframe tbody tr th {\n",
              "        vertical-align: top;\n",
              "    }\n",
              "\n",
              "    .dataframe thead th {\n",
              "        text-align: right;\n",
              "    }\n",
              "</style>\n",
              "<table border=\"1\" class=\"dataframe\">\n",
              "  <thead>\n",
              "    <tr style=\"text-align: right;\">\n",
              "      <th></th>\n",
              "      <th>f</th>\n",
              "      <th>m</th>\n",
              "      <th>line_ratio</th>\n",
              "      <th>movie_title</th>\n",
              "      <th>release_year</th>\n",
              "      <th>avg_rating</th>\n",
              "      <th>num_votes</th>\n",
              "      <th>genres</th>\n",
              "    </tr>\n",
              "    <tr>\n",
              "      <th>movie_id</th>\n",
              "      <th></th>\n",
              "      <th></th>\n",
              "      <th></th>\n",
              "      <th></th>\n",
              "      <th></th>\n",
              "      <th></th>\n",
              "      <th></th>\n",
              "      <th></th>\n",
              "    </tr>\n",
              "  </thead>\n",
              "  <tbody>\n",
              "    <tr>\n",
              "      <th>m0</th>\n",
              "      <td>278.0</td>\n",
              "      <td>359.0</td>\n",
              "      <td>0.436421</td>\n",
              "      <td>10 things i hate about you</td>\n",
              "      <td>1999</td>\n",
              "      <td>6.9</td>\n",
              "      <td>62847</td>\n",
              "      <td>['comedy', 'romance']</td>\n",
              "    </tr>\n",
              "    <tr>\n",
              "      <th>m1</th>\n",
              "      <td>0.0</td>\n",
              "      <td>143.0</td>\n",
              "      <td>0.000000</td>\n",
              "      <td>1492: conquest of paradise</td>\n",
              "      <td>1992</td>\n",
              "      <td>6.2</td>\n",
              "      <td>10421</td>\n",
              "      <td>['adventure', 'biography', 'drama', 'history']</td>\n",
              "    </tr>\n",
              "    <tr>\n",
              "      <th>m10</th>\n",
              "      <td>104.0</td>\n",
              "      <td>441.0</td>\n",
              "      <td>0.190826</td>\n",
              "      <td>affliction</td>\n",
              "      <td>1997</td>\n",
              "      <td>6.9</td>\n",
              "      <td>7252</td>\n",
              "      <td>['drama', 'mystery', 'thriller']</td>\n",
              "    </tr>\n",
              "    <tr>\n",
              "      <th>m100</th>\n",
              "      <td>149.0</td>\n",
              "      <td>776.0</td>\n",
              "      <td>0.161081</td>\n",
              "      <td>innerspace</td>\n",
              "      <td>1987</td>\n",
              "      <td>6.5</td>\n",
              "      <td>16854</td>\n",
              "      <td>['action', 'adventure', 'comedy', 'crime', 'sc...</td>\n",
              "    </tr>\n",
              "    <tr>\n",
              "      <th>m101</th>\n",
              "      <td>42.0</td>\n",
              "      <td>452.0</td>\n",
              "      <td>0.085020</td>\n",
              "      <td>the insider</td>\n",
              "      <td>1999</td>\n",
              "      <td>8.0</td>\n",
              "      <td>69660</td>\n",
              "      <td>['biography', 'drama', 'thriller']</td>\n",
              "    </tr>\n",
              "  </tbody>\n",
              "</table>\n",
              "</div>"
            ],
            "text/plain": [
              "              f      m  line_ratio                 movie_title  release_year  \\\n",
              "movie_id                                                                       \n",
              "m0        278.0  359.0    0.436421  10 things i hate about you          1999   \n",
              "m1          0.0  143.0    0.000000  1492: conquest of paradise          1992   \n",
              "m10       104.0  441.0    0.190826                  affliction          1997   \n",
              "m100      149.0  776.0    0.161081                  innerspace          1987   \n",
              "m101       42.0  452.0    0.085020                 the insider          1999   \n",
              "\n",
              "          avg_rating  num_votes  \\\n",
              "movie_id                          \n",
              "m0               6.9      62847   \n",
              "m1               6.2      10421   \n",
              "m10              6.9       7252   \n",
              "m100             6.5      16854   \n",
              "m101             8.0      69660   \n",
              "\n",
              "                                                     genres  \n",
              "movie_id                                                     \n",
              "m0                                    ['comedy', 'romance']  \n",
              "m1           ['adventure', 'biography', 'drama', 'history']  \n",
              "m10                        ['drama', 'mystery', 'thriller']  \n",
              "m100      ['action', 'adventure', 'comedy', 'crime', 'sc...  \n",
              "m101                     ['biography', 'drama', 'thriller']  "
            ]
          },
          "metadata": {
            "tags": []
          },
          "execution_count": 67
        }
      ]
    },
    {
      "cell_type": "code",
      "metadata": {
        "id": "5wN1L72voMHs",
        "colab_type": "code",
        "colab": {
          "base_uri": "https://localhost:8080/",
          "height": 34
        },
        "outputId": "8e58d2af-cc78-4cc7-a17d-d95b9aafa297"
      },
      "source": [
        "len(test2)"
      ],
      "execution_count": 68,
      "outputs": [
        {
          "output_type": "execute_result",
          "data": {
            "text/plain": [
              "600"
            ]
          },
          "metadata": {
            "tags": []
          },
          "execution_count": 68
        }
      ]
    },
    {
      "cell_type": "code",
      "metadata": {
        "id": "KdAL6vQ-oIRm",
        "colab_type": "code",
        "colab": {}
      },
      "source": [
        "count = test2.groupby((test2.release_year.apply(int)//10)*10,as_index=True).count()\n",
        "\n",
        "print(count)\n",
        "ax = plt.subplots(figsize=(10,7))\n",
        "plt.subplots_adjust(left=0.08, right=0.95, bottom=0.2, top=0.95)\n",
        "plt.bar(range(len(count)), count, color = '#a3acff', edgecolor='white', width=0.85)\n",
        "#plt.xticks(range(len(no)), no.keys(),rotation=90)\n",
        "plt.ylabel('Count of movies')\n",
        "plt.title('Year distribution (#=600)')\n",
        "#plt.savefig('/content/gdrive/My Drive/EMDS/genre_dist.png')\n",
        "plt.show()"
      ],
      "execution_count": 0,
      "outputs": []
    },
    {
      "cell_type": "code",
      "metadata": {
        "id": "8g6iyqUkH1gQ",
        "colab_type": "code",
        "colab": {}
      },
      "source": [
        "# select genres with count>50\n",
        "mystery = test2[test2.genres.str.contains('mystery')]\n",
        "comedy = test2[test2.genres.str.contains('comedy')]\n",
        "fantasy = test2[test2.genres.str.contains('fantasy')]\n",
        "horror = test2[test2.genres.str.contains('horror')]\n",
        "adventure = test2[test2.genres.str.contains('adventure')]\n",
        "drama = test2[test2.genres.str.contains('drama')]\n",
        "crime = test2[test2.genres.str.contains('crime')]\n",
        "thriller = test2[test2.genres.str.contains('thriller')]\n",
        "romance = test2[test2.genres.str.contains('romance')]\n",
        "action = test2[test2.genres.str.contains('action')]\n",
        "selected = [mystery,comedy,fantasy,horror,adventure,drama,crime,thriller,romance,action]"
      ],
      "execution_count": 0,
      "outputs": []
    },
    {
      "cell_type": "code",
      "metadata": {
        "id": "KsGb_wjsH1c7",
        "colab_type": "code",
        "colab": {
          "base_uri": "https://localhost:8080/",
          "height": 459
        },
        "outputId": "cb997bc3-4f9e-48c9-b65b-142eb61b5631"
      },
      "source": [
        "from matplotlib.pyplot import cm\n",
        "n = len(selected)\n",
        "color=cm.rainbow(np.linspace(0,1,n))\n",
        "#ax = plt.subplots\n",
        "for i,c in zip(range(n),color):\n",
        "  plt.scatter(selected[i].line_ratio, selected[i].avg_rating,c=c)\n",
        "plt.show()"
      ],
      "execution_count": 62,
      "outputs": [
        {
          "output_type": "stream",
          "text": [
            "'c' argument looks like a single numeric RGB or RGBA sequence, which should be avoided as value-mapping will have precedence in case its length matches with 'x' & 'y'.  Please use a 2-D array with a single row if you really want to specify the same RGB or RGBA value for all points.\n",
            "'c' argument looks like a single numeric RGB or RGBA sequence, which should be avoided as value-mapping will have precedence in case its length matches with 'x' & 'y'.  Please use a 2-D array with a single row if you really want to specify the same RGB or RGBA value for all points.\n",
            "'c' argument looks like a single numeric RGB or RGBA sequence, which should be avoided as value-mapping will have precedence in case its length matches with 'x' & 'y'.  Please use a 2-D array with a single row if you really want to specify the same RGB or RGBA value for all points.\n",
            "'c' argument looks like a single numeric RGB or RGBA sequence, which should be avoided as value-mapping will have precedence in case its length matches with 'x' & 'y'.  Please use a 2-D array with a single row if you really want to specify the same RGB or RGBA value for all points.\n",
            "'c' argument looks like a single numeric RGB or RGBA sequence, which should be avoided as value-mapping will have precedence in case its length matches with 'x' & 'y'.  Please use a 2-D array with a single row if you really want to specify the same RGB or RGBA value for all points.\n",
            "'c' argument looks like a single numeric RGB or RGBA sequence, which should be avoided as value-mapping will have precedence in case its length matches with 'x' & 'y'.  Please use a 2-D array with a single row if you really want to specify the same RGB or RGBA value for all points.\n",
            "'c' argument looks like a single numeric RGB or RGBA sequence, which should be avoided as value-mapping will have precedence in case its length matches with 'x' & 'y'.  Please use a 2-D array with a single row if you really want to specify the same RGB or RGBA value for all points.\n",
            "'c' argument looks like a single numeric RGB or RGBA sequence, which should be avoided as value-mapping will have precedence in case its length matches with 'x' & 'y'.  Please use a 2-D array with a single row if you really want to specify the same RGB or RGBA value for all points.\n",
            "'c' argument looks like a single numeric RGB or RGBA sequence, which should be avoided as value-mapping will have precedence in case its length matches with 'x' & 'y'.  Please use a 2-D array with a single row if you really want to specify the same RGB or RGBA value for all points.\n",
            "'c' argument looks like a single numeric RGB or RGBA sequence, which should be avoided as value-mapping will have precedence in case its length matches with 'x' & 'y'.  Please use a 2-D array with a single row if you really want to specify the same RGB or RGBA value for all points.\n"
          ],
          "name": "stderr"
        },
        {
          "output_type": "display_data",
          "data": {
            "image/png": "[encoded data removed]",
            "text/plain": [
              "<Figure size 432x288 with 1 Axes>"
            ]
          },
          "metadata": {
            "tags": []
          }
        }
      ]
    },
    {
      "cell_type": "code",
      "metadata": {
        "id": "-F-JEKrD_1Ku",
        "colab_type": "code",
        "colab": {
          "base_uri": "https://localhost:8080/",
          "height": 283
        },
        "outputId": "41bb7311-e590-4c92-9c96-843761c2d2e0"
      },
      "source": [
        "selected = [drama, romance, action]\n",
        "labels = ['drama','romance','action']\n",
        "color = ['grey','#f9bc86', '#a3acff']\n",
        "n = len(selected)\n",
        "#ax = plt.subplots\n",
        "for i,c in zip(range(n),color):\n",
        "  plt.scatter(selected[i].line_ratio, selected[i].avg_rating,c=c, label=labels[i],alpha=0.8)\n",
        "plt.legend()\n",
        "plt.xlabel('Female presence')\n",
        "plt.ylabel('Movie ratings')\n",
        "plt.savefig('/content/gdrive/My Drive/EMDS/Hypo3_selectedGenre.png')\n",
        "plt.show()"
      ],
      "execution_count": 63,
      "outputs": [
        {
          "output_type": "display_data",
          "data": {
            "image/png": "[encoded data removed]",
            "text/plain": [
              "<Figure size 432x288 with 1 Axes>"
            ]
          },
          "metadata": {
            "tags": []
          }
        }
      ]
    },
    {
      "cell_type": "code",
      "metadata": {
        "id": "QcOYcMMnH6hI",
        "colab_type": "code",
        "colab": {
          "base_uri": "https://localhost:8080/",
          "height": 273
        },
        "outputId": "8b7f4447-3d33-4738-85ce-78e5a30cd350"
      },
      "source": [
        "selected = [drama, romance, action]\n",
        "labels = ['drama','romance','action']\n",
        "import matplotlib.pyplot as plt\n",
        "fig = plt.figure(figsize=(7,3))\n",
        "Figure = gridspec.GridSpec(1, 3)\n",
        "plt.subplots_adjust(left = 0.08, bottom = 0.18, right = 0.98, top = 0.92, wspace = 0.01, hspace = 0.01)\n",
        "for i in range(3):\n",
        "  ax = plt.subplot(Figure[i])\n",
        "  ax.hist2d(selected[i].line_ratio, selected[i].avg_rating, bins=(7,7),cmap=plt.cm.BuPu)\n",
        "  plt.title(labels[i])\n",
        "  \n",
        "  plt.xlim(0.01,1)\n",
        "  plt.ylim(2,10)\n",
        "  plt.xlabel('Female presence')\n",
        "  if i==0:\n",
        "    plt.ylabel('Movie ratings')\n",
        "  plt.savefig('/content/gdrive/My Drive/EMDS/Hypo3_selectedGenre_2.png')"
      ],
      "execution_count": 64,
      "outputs": [
        {
          "output_type": "error",
          "ename": "NameError",
          "evalue": "ignored",
          "traceback": [
            "\u001b[0;31m---------------------------------------------------------------------------\u001b[0m",
            "\u001b[0;31mNameError\u001b[0m                                 Traceback (most recent call last)",
            "\u001b[0;32m<ipython-input-64-c55409c66ecf>\u001b[0m in \u001b[0;36m<module>\u001b[0;34m()\u001b[0m\n\u001b[1;32m      3\u001b[0m \u001b[0;32mimport\u001b[0m \u001b[0mmatplotlib\u001b[0m\u001b[0;34m.\u001b[0m\u001b[0mpyplot\u001b[0m \u001b[0;32mas\u001b[0m \u001b[0mplt\u001b[0m\u001b[0;34m\u001b[0m\u001b[0;34m\u001b[0m\u001b[0m\n\u001b[1;32m      4\u001b[0m \u001b[0mfig\u001b[0m \u001b[0;34m=\u001b[0m \u001b[0mplt\u001b[0m\u001b[0;34m.\u001b[0m\u001b[0mfigure\u001b[0m\u001b[0;34m(\u001b[0m\u001b[0mfigsize\u001b[0m\u001b[0;34m=\u001b[0m\u001b[0;34m(\u001b[0m\u001b[0;36m7\u001b[0m\u001b[0;34m,\u001b[0m\u001b[0;36m3\u001b[0m\u001b[0;34m)\u001b[0m\u001b[0;34m)\u001b[0m\u001b[0;34m\u001b[0m\u001b[0;34m\u001b[0m\u001b[0m\n\u001b[0;32m----> 5\u001b[0;31m \u001b[0mFigure\u001b[0m \u001b[0;34m=\u001b[0m \u001b[0mgridspec\u001b[0m\u001b[0;34m.\u001b[0m\u001b[0mGridSpec\u001b[0m\u001b[0;34m(\u001b[0m\u001b[0;36m1\u001b[0m\u001b[0;34m,\u001b[0m \u001b[0;36m3\u001b[0m\u001b[0;34m)\u001b[0m\u001b[0;34m\u001b[0m\u001b[0;34m\u001b[0m\u001b[0m\n\u001b[0m\u001b[1;32m      6\u001b[0m \u001b[0mplt\u001b[0m\u001b[0;34m.\u001b[0m\u001b[0msubplots_adjust\u001b[0m\u001b[0;34m(\u001b[0m\u001b[0mleft\u001b[0m \u001b[0;34m=\u001b[0m \u001b[0;36m0.08\u001b[0m\u001b[0;34m,\u001b[0m \u001b[0mbottom\u001b[0m \u001b[0;34m=\u001b[0m \u001b[0;36m0.18\u001b[0m\u001b[0;34m,\u001b[0m \u001b[0mright\u001b[0m \u001b[0;34m=\u001b[0m \u001b[0;36m0.98\u001b[0m\u001b[0;34m,\u001b[0m \u001b[0mtop\u001b[0m \u001b[0;34m=\u001b[0m \u001b[0;36m0.92\u001b[0m\u001b[0;34m,\u001b[0m \u001b[0mwspace\u001b[0m \u001b[0;34m=\u001b[0m \u001b[0;36m0.01\u001b[0m\u001b[0;34m,\u001b[0m \u001b[0mhspace\u001b[0m \u001b[0;34m=\u001b[0m \u001b[0;36m0.01\u001b[0m\u001b[0;34m)\u001b[0m\u001b[0;34m\u001b[0m\u001b[0;34m\u001b[0m\u001b[0m\n\u001b[1;32m      7\u001b[0m \u001b[0;32mfor\u001b[0m \u001b[0mi\u001b[0m \u001b[0;32min\u001b[0m \u001b[0mrange\u001b[0m\u001b[0;34m(\u001b[0m\u001b[0;36m3\u001b[0m\u001b[0;34m)\u001b[0m\u001b[0;34m:\u001b[0m\u001b[0;34m\u001b[0m\u001b[0;34m\u001b[0m\u001b[0m\n",
            "\u001b[0;31mNameError\u001b[0m: name 'gridspec' is not defined"
          ]
        },
        {
          "output_type": "display_data",
          "data": {
            "text/plain": [
              "<Figure size 504x216 with 0 Axes>"
            ]
          },
          "metadata": {
            "tags": []
          }
        }
      ]
    },
    {
      "cell_type": "code",
      "metadata": {
        "id": "FAw0ENLXIQZr",
        "colab_type": "code",
        "colab": {}
      },
      "source": [
        ""
      ],
      "execution_count": 0,
      "outputs": []
    }
  ]
}